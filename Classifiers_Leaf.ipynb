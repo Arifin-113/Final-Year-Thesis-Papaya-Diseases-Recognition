{
 "cells": [
  {
   "cell_type": "code",
   "execution_count": 29,
   "metadata": {},
   "outputs": [],
   "source": [
    "import numpy as np\n",
    "import pandas as pd\n",
    "import matplotlib.pyplot as plt\n",
    "import seaborn as sns\n",
    "from sklearn.metrics import accuracy_score\n",
    "from sklearn.metrics import plot_confusion_matrix\n",
    "from sklearn.model_selection import cross_val_score\n",
    "from sklearn.utils import shuffle"
   ]
  },
  {
   "cell_type": "code",
   "execution_count": 30,
   "metadata": {},
   "outputs": [
    {
     "data": {
      "text/html": [
       "<div>\n",
       "<style scoped>\n",
       "    .dataframe tbody tr th:only-of-type {\n",
       "        vertical-align: middle;\n",
       "    }\n",
       "\n",
       "    .dataframe tbody tr th {\n",
       "        vertical-align: top;\n",
       "    }\n",
       "\n",
       "    .dataframe thead th {\n",
       "        text-align: right;\n",
       "    }\n",
       "</style>\n",
       "<table border=\"1\" class=\"dataframe\">\n",
       "  <thead>\n",
       "    <tr style=\"text-align: right;\">\n",
       "      <th></th>\n",
       "      <th>Unnamed: 0</th>\n",
       "      <th>0</th>\n",
       "      <th>1</th>\n",
       "      <th>2</th>\n",
       "      <th>3</th>\n",
       "      <th>4</th>\n",
       "      <th>5</th>\n",
       "      <th>6</th>\n",
       "      <th>7</th>\n",
       "      <th>8</th>\n",
       "      <th>9</th>\n",
       "      <th>10</th>\n",
       "      <th>11</th>\n",
       "      <th>12</th>\n",
       "      <th>13</th>\n",
       "      <th>14</th>\n",
       "      <th>15</th>\n",
       "      <th>16</th>\n",
       "    </tr>\n",
       "  </thead>\n",
       "  <tbody>\n",
       "    <tr>\n",
       "      <th>103</th>\n",
       "      <td>39</td>\n",
       "      <td>1.993949</td>\n",
       "      <td>3.640907</td>\n",
       "      <td>2.702803</td>\n",
       "      <td>4.022807</td>\n",
       "      <td>0.657975</td>\n",
       "      <td>0.581988</td>\n",
       "      <td>0.631289</td>\n",
       "      <td>0.562761</td>\n",
       "      <td>0.150830</td>\n",
       "      <td>0.134839</td>\n",
       "      <td>0.147268</td>\n",
       "      <td>0.130857</td>\n",
       "      <td>0.928711</td>\n",
       "      <td>0.869994</td>\n",
       "      <td>0.903679</td>\n",
       "      <td>0.856364</td>\n",
       "      <td>Leaf Papaya Ringspot</td>\n",
       "    </tr>\n",
       "    <tr>\n",
       "      <th>120</th>\n",
       "      <td>56</td>\n",
       "      <td>1.786397</td>\n",
       "      <td>4.390327</td>\n",
       "      <td>3.622748</td>\n",
       "      <td>4.135456</td>\n",
       "      <td>0.692810</td>\n",
       "      <td>0.583520</td>\n",
       "      <td>0.612250</td>\n",
       "      <td>0.591506</td>\n",
       "      <td>0.187325</td>\n",
       "      <td>0.163891</td>\n",
       "      <td>0.169678</td>\n",
       "      <td>0.165400</td>\n",
       "      <td>0.950327</td>\n",
       "      <td>0.877622</td>\n",
       "      <td>0.899181</td>\n",
       "      <td>0.884728</td>\n",
       "      <td>Leaf Papaya Ringspot</td>\n",
       "    </tr>\n",
       "    <tr>\n",
       "      <th>278</th>\n",
       "      <td>22</td>\n",
       "      <td>2.959023</td>\n",
       "      <td>3.611396</td>\n",
       "      <td>1.636382</td>\n",
       "      <td>3.936071</td>\n",
       "      <td>0.666880</td>\n",
       "      <td>0.620035</td>\n",
       "      <td>0.756755</td>\n",
       "      <td>0.620763</td>\n",
       "      <td>0.155867</td>\n",
       "      <td>0.143528</td>\n",
       "      <td>0.182669</td>\n",
       "      <td>0.143963</td>\n",
       "      <td>0.893354</td>\n",
       "      <td>0.869573</td>\n",
       "      <td>0.941074</td>\n",
       "      <td>0.857820</td>\n",
       "      <td>Papaya Leaf Curl</td>\n",
       "    </tr>\n",
       "    <tr>\n",
       "      <th>12</th>\n",
       "      <td>12</td>\n",
       "      <td>0.261351</td>\n",
       "      <td>0.474218</td>\n",
       "      <td>0.358854</td>\n",
       "      <td>0.492226</td>\n",
       "      <td>0.932842</td>\n",
       "      <td>0.912115</td>\n",
       "      <td>0.914571</td>\n",
       "      <td>0.903768</td>\n",
       "      <td>0.512180</td>\n",
       "      <td>0.504653</td>\n",
       "      <td>0.506784</td>\n",
       "      <td>0.502214</td>\n",
       "      <td>0.990902</td>\n",
       "      <td>0.983543</td>\n",
       "      <td>0.987513</td>\n",
       "      <td>0.982920</td>\n",
       "      <td>Papaya Fresh Leaf</td>\n",
       "    </tr>\n",
       "    <tr>\n",
       "      <th>43</th>\n",
       "      <td>43</td>\n",
       "      <td>0.739936</td>\n",
       "      <td>1.205736</td>\n",
       "      <td>0.637561</td>\n",
       "      <td>1.118047</td>\n",
       "      <td>0.893360</td>\n",
       "      <td>0.873511</td>\n",
       "      <td>0.902203</td>\n",
       "      <td>0.876475</td>\n",
       "      <td>0.634146</td>\n",
       "      <td>0.628025</td>\n",
       "      <td>0.635275</td>\n",
       "      <td>0.627923</td>\n",
       "      <td>0.977790</td>\n",
       "      <td>0.963899</td>\n",
       "      <td>0.980863</td>\n",
       "      <td>0.966524</td>\n",
       "      <td>Papaya Fresh Leaf</td>\n",
       "    </tr>\n",
       "  </tbody>\n",
       "</table>\n",
       "</div>"
      ],
      "text/plain": [
       "     Unnamed: 0         0         1         2         3         4         5  \\\n",
       "103          39  1.993949  3.640907  2.702803  4.022807  0.657975  0.581988   \n",
       "120          56  1.786397  4.390327  3.622748  4.135456  0.692810  0.583520   \n",
       "278          22  2.959023  3.611396  1.636382  3.936071  0.666880  0.620035   \n",
       "12           12  0.261351  0.474218  0.358854  0.492226  0.932842  0.912115   \n",
       "43           43  0.739936  1.205736  0.637561  1.118047  0.893360  0.873511   \n",
       "\n",
       "            6         7         8         9        10        11        12  \\\n",
       "103  0.631289  0.562761  0.150830  0.134839  0.147268  0.130857  0.928711   \n",
       "120  0.612250  0.591506  0.187325  0.163891  0.169678  0.165400  0.950327   \n",
       "278  0.756755  0.620763  0.155867  0.143528  0.182669  0.143963  0.893354   \n",
       "12   0.914571  0.903768  0.512180  0.504653  0.506784  0.502214  0.990902   \n",
       "43   0.902203  0.876475  0.634146  0.628025  0.635275  0.627923  0.977790   \n",
       "\n",
       "           13        14        15                    16  \n",
       "103  0.869994  0.903679  0.856364  Leaf Papaya Ringspot  \n",
       "120  0.877622  0.899181  0.884728  Leaf Papaya Ringspot  \n",
       "278  0.869573  0.941074  0.857820      Papaya Leaf Curl  \n",
       "12   0.983543  0.987513  0.982920     Papaya Fresh Leaf  \n",
       "43   0.963899  0.980863  0.966524     Papaya Fresh Leaf  "
      ]
     },
     "execution_count": 30,
     "metadata": {},
     "output_type": "execute_result"
    }
   ],
   "source": [
    "path = r\"C:\\Users\\Arifin\\Downloads\\papaya\\Combined_Leaf.csv\"\n",
    "df = pd.read_csv(path)\n",
    "df = shuffle(df)\n",
    "df.head()"
   ]
  },
  {
   "cell_type": "code",
   "execution_count": 31,
   "metadata": {},
   "outputs": [
    {
     "data": {
      "text/plain": [
       "(290, 18)"
      ]
     },
     "execution_count": 31,
     "metadata": {},
     "output_type": "execute_result"
    }
   ],
   "source": [
    "df.shape"
   ]
  },
  {
   "cell_type": "code",
   "execution_count": 32,
   "metadata": {},
   "outputs": [
    {
     "data": {
      "text/html": [
       "<div>\n",
       "<style scoped>\n",
       "    .dataframe tbody tr th:only-of-type {\n",
       "        vertical-align: middle;\n",
       "    }\n",
       "\n",
       "    .dataframe tbody tr th {\n",
       "        vertical-align: top;\n",
       "    }\n",
       "\n",
       "    .dataframe thead th {\n",
       "        text-align: right;\n",
       "    }\n",
       "</style>\n",
       "<table border=\"1\" class=\"dataframe\">\n",
       "  <thead>\n",
       "    <tr style=\"text-align: right;\">\n",
       "      <th></th>\n",
       "      <th>Unnamed: 0</th>\n",
       "      <th>0</th>\n",
       "      <th>1</th>\n",
       "      <th>2</th>\n",
       "      <th>3</th>\n",
       "      <th>4</th>\n",
       "      <th>5</th>\n",
       "      <th>6</th>\n",
       "      <th>7</th>\n",
       "      <th>8</th>\n",
       "      <th>9</th>\n",
       "      <th>10</th>\n",
       "      <th>11</th>\n",
       "      <th>12</th>\n",
       "      <th>13</th>\n",
       "      <th>14</th>\n",
       "      <th>15</th>\n",
       "    </tr>\n",
       "  </thead>\n",
       "  <tbody>\n",
       "    <tr>\n",
       "      <th>count</th>\n",
       "      <td>290.000000</td>\n",
       "      <td>290.000000</td>\n",
       "      <td>290.000000</td>\n",
       "      <td>290.000000</td>\n",
       "      <td>290.000000</td>\n",
       "      <td>290.000000</td>\n",
       "      <td>290.000000</td>\n",
       "      <td>290.000000</td>\n",
       "      <td>290.000000</td>\n",
       "      <td>290.000000</td>\n",
       "      <td>290.000000</td>\n",
       "      <td>290.000000</td>\n",
       "      <td>290.000000</td>\n",
       "      <td>290.000000</td>\n",
       "      <td>290.000000</td>\n",
       "      <td>290.000000</td>\n",
       "      <td>290.000000</td>\n",
       "    </tr>\n",
       "    <tr>\n",
       "      <th>mean</th>\n",
       "      <td>30.055172</td>\n",
       "      <td>2.730053</td>\n",
       "      <td>4.004278</td>\n",
       "      <td>2.708280</td>\n",
       "      <td>4.037056</td>\n",
       "      <td>0.724608</td>\n",
       "      <td>0.673031</td>\n",
       "      <td>0.725979</td>\n",
       "      <td>0.672046</td>\n",
       "      <td>0.304381</td>\n",
       "      <td>0.289274</td>\n",
       "      <td>0.304638</td>\n",
       "      <td>0.289224</td>\n",
       "      <td>0.887507</td>\n",
       "      <td>0.836804</td>\n",
       "      <td>0.889513</td>\n",
       "      <td>0.835418</td>\n",
       "    </tr>\n",
       "    <tr>\n",
       "      <th>std</th>\n",
       "      <td>18.916235</td>\n",
       "      <td>1.569669</td>\n",
       "      <td>2.037242</td>\n",
       "      <td>1.526318</td>\n",
       "      <td>2.045037</td>\n",
       "      <td>0.125969</td>\n",
       "      <td>0.137457</td>\n",
       "      <td>0.122049</td>\n",
       "      <td>0.137917</td>\n",
       "      <td>0.177709</td>\n",
       "      <td>0.176843</td>\n",
       "      <td>0.176173</td>\n",
       "      <td>0.177148</td>\n",
       "      <td>0.072311</td>\n",
       "      <td>0.094296</td>\n",
       "      <td>0.071455</td>\n",
       "      <td>0.095235</td>\n",
       "    </tr>\n",
       "    <tr>\n",
       "      <th>min</th>\n",
       "      <td>0.000000</td>\n",
       "      <td>0.237760</td>\n",
       "      <td>0.412626</td>\n",
       "      <td>0.263710</td>\n",
       "      <td>0.422268</td>\n",
       "      <td>0.443385</td>\n",
       "      <td>0.418674</td>\n",
       "      <td>0.441471</td>\n",
       "      <td>0.407525</td>\n",
       "      <td>0.108920</td>\n",
       "      <td>0.097947</td>\n",
       "      <td>0.100415</td>\n",
       "      <td>0.095287</td>\n",
       "      <td>0.613236</td>\n",
       "      <td>0.515019</td>\n",
       "      <td>0.635982</td>\n",
       "      <td>0.482207</td>\n",
       "    </tr>\n",
       "    <tr>\n",
       "      <th>25%</th>\n",
       "      <td>14.000000</td>\n",
       "      <td>1.511776</td>\n",
       "      <td>2.347028</td>\n",
       "      <td>1.536336</td>\n",
       "      <td>2.381453</td>\n",
       "      <td>0.620249</td>\n",
       "      <td>0.551028</td>\n",
       "      <td>0.623504</td>\n",
       "      <td>0.550100</td>\n",
       "      <td>0.145027</td>\n",
       "      <td>0.132160</td>\n",
       "      <td>0.147435</td>\n",
       "      <td>0.131843</td>\n",
       "      <td>0.842035</td>\n",
       "      <td>0.782129</td>\n",
       "      <td>0.849238</td>\n",
       "      <td>0.778329</td>\n",
       "    </tr>\n",
       "    <tr>\n",
       "      <th>50%</th>\n",
       "      <td>28.500000</td>\n",
       "      <td>2.568490</td>\n",
       "      <td>3.994302</td>\n",
       "      <td>2.619669</td>\n",
       "      <td>4.028658</td>\n",
       "      <td>0.720309</td>\n",
       "      <td>0.655138</td>\n",
       "      <td>0.717382</td>\n",
       "      <td>0.656673</td>\n",
       "      <td>0.201670</td>\n",
       "      <td>0.190792</td>\n",
       "      <td>0.207620</td>\n",
       "      <td>0.189852</td>\n",
       "      <td>0.891392</td>\n",
       "      <td>0.834174</td>\n",
       "      <td>0.893543</td>\n",
       "      <td>0.830536</td>\n",
       "    </tr>\n",
       "    <tr>\n",
       "      <th>75%</th>\n",
       "      <td>45.000000</td>\n",
       "      <td>3.809509</td>\n",
       "      <td>5.358035</td>\n",
       "      <td>3.821864</td>\n",
       "      <td>5.468900</td>\n",
       "      <td>0.830649</td>\n",
       "      <td>0.784447</td>\n",
       "      <td>0.828506</td>\n",
       "      <td>0.785288</td>\n",
       "      <td>0.474007</td>\n",
       "      <td>0.450429</td>\n",
       "      <td>0.469585</td>\n",
       "      <td>0.449702</td>\n",
       "      <td>0.945178</td>\n",
       "      <td>0.913080</td>\n",
       "      <td>0.953990</td>\n",
       "      <td>0.913202</td>\n",
       "    </tr>\n",
       "    <tr>\n",
       "      <th>max</th>\n",
       "      <td>72.000000</td>\n",
       "      <td>7.715732</td>\n",
       "      <td>10.384667</td>\n",
       "      <td>7.749449</td>\n",
       "      <td>10.185467</td>\n",
       "      <td>0.945703</td>\n",
       "      <td>0.921877</td>\n",
       "      <td>0.939214</td>\n",
       "      <td>0.924708</td>\n",
       "      <td>0.771433</td>\n",
       "      <td>0.765493</td>\n",
       "      <td>0.768943</td>\n",
       "      <td>0.765491</td>\n",
       "      <td>0.991926</td>\n",
       "      <td>0.986406</td>\n",
       "      <td>0.992110</td>\n",
       "      <td>0.988026</td>\n",
       "    </tr>\n",
       "  </tbody>\n",
       "</table>\n",
       "</div>"
      ],
      "text/plain": [
       "       Unnamed: 0           0           1           2           3           4  \\\n",
       "count  290.000000  290.000000  290.000000  290.000000  290.000000  290.000000   \n",
       "mean    30.055172    2.730053    4.004278    2.708280    4.037056    0.724608   \n",
       "std     18.916235    1.569669    2.037242    1.526318    2.045037    0.125969   \n",
       "min      0.000000    0.237760    0.412626    0.263710    0.422268    0.443385   \n",
       "25%     14.000000    1.511776    2.347028    1.536336    2.381453    0.620249   \n",
       "50%     28.500000    2.568490    3.994302    2.619669    4.028658    0.720309   \n",
       "75%     45.000000    3.809509    5.358035    3.821864    5.468900    0.830649   \n",
       "max     72.000000    7.715732   10.384667    7.749449   10.185467    0.945703   \n",
       "\n",
       "                5           6           7           8           9          10  \\\n",
       "count  290.000000  290.000000  290.000000  290.000000  290.000000  290.000000   \n",
       "mean     0.673031    0.725979    0.672046    0.304381    0.289274    0.304638   \n",
       "std      0.137457    0.122049    0.137917    0.177709    0.176843    0.176173   \n",
       "min      0.418674    0.441471    0.407525    0.108920    0.097947    0.100415   \n",
       "25%      0.551028    0.623504    0.550100    0.145027    0.132160    0.147435   \n",
       "50%      0.655138    0.717382    0.656673    0.201670    0.190792    0.207620   \n",
       "75%      0.784447    0.828506    0.785288    0.474007    0.450429    0.469585   \n",
       "max      0.921877    0.939214    0.924708    0.771433    0.765493    0.768943   \n",
       "\n",
       "               11          12          13          14          15  \n",
       "count  290.000000  290.000000  290.000000  290.000000  290.000000  \n",
       "mean     0.289224    0.887507    0.836804    0.889513    0.835418  \n",
       "std      0.177148    0.072311    0.094296    0.071455    0.095235  \n",
       "min      0.095287    0.613236    0.515019    0.635982    0.482207  \n",
       "25%      0.131843    0.842035    0.782129    0.849238    0.778329  \n",
       "50%      0.189852    0.891392    0.834174    0.893543    0.830536  \n",
       "75%      0.449702    0.945178    0.913080    0.953990    0.913202  \n",
       "max      0.765491    0.991926    0.986406    0.992110    0.988026  "
      ]
     },
     "execution_count": 32,
     "metadata": {},
     "output_type": "execute_result"
    }
   ],
   "source": [
    "df.describe()"
   ]
  },
  {
   "cell_type": "code",
   "execution_count": 33,
   "metadata": {},
   "outputs": [],
   "source": [
    "df = df.rename(columns={'16': 'Class'})\n",
    "X = df.drop('Class',axis=1)\n",
    "y = df['Class']"
   ]
  },
  {
   "cell_type": "code",
   "execution_count": 34,
   "metadata": {},
   "outputs": [
    {
     "name": "stdout",
     "output_type": "stream",
     "text": [
      "<class 'pandas.core.frame.DataFrame'>\n",
      "Int64Index: 290 entries, 103 to 190\n",
      "Data columns (total 18 columns):\n",
      " #   Column      Non-Null Count  Dtype  \n",
      "---  ------      --------------  -----  \n",
      " 0   Unnamed: 0  290 non-null    int64  \n",
      " 1   0           290 non-null    float64\n",
      " 2   1           290 non-null    float64\n",
      " 3   2           290 non-null    float64\n",
      " 4   3           290 non-null    float64\n",
      " 5   4           290 non-null    float64\n",
      " 6   5           290 non-null    float64\n",
      " 7   6           290 non-null    float64\n",
      " 8   7           290 non-null    float64\n",
      " 9   8           290 non-null    float64\n",
      " 10  9           290 non-null    float64\n",
      " 11  10          290 non-null    float64\n",
      " 12  11          290 non-null    float64\n",
      " 13  12          290 non-null    float64\n",
      " 14  13          290 non-null    float64\n",
      " 15  14          290 non-null    float64\n",
      " 16  15          290 non-null    float64\n",
      " 17  Class       290 non-null    object \n",
      "dtypes: float64(16), int64(1), object(1)\n",
      "memory usage: 43.0+ KB\n"
     ]
    }
   ],
   "source": [
    "df.info()"
   ]
  },
  {
   "cell_type": "code",
   "execution_count": 35,
   "metadata": {},
   "outputs": [
    {
     "data": {
      "text/plain": [
       "Text(0.5, 1.0, 'Correlation between different fearures')"
      ]
     },
     "execution_count": 35,
     "metadata": {},
     "output_type": "execute_result"
    },
    {
     "data": {
      "image/png": "[encoded data removed]",
      "text/plain": [
       "<Figure size 720x720 with 2 Axes>"
      ]
     },
     "metadata": {
      "needs_background": "light"
     },
     "output_type": "display_data"
    }
   ],
   "source": [
    "correlation = df.corr()\n",
    "plt.figure(figsize=(10,10))\n",
    "sns.heatmap(correlation, vmax=1, square=True,annot=True,cmap='viridis')\n",
    "\n",
    "plt.title('Correlation between different fearures')"
   ]
  },
  {
   "cell_type": "code",
   "execution_count": 36,
   "metadata": {},
   "outputs": [
    {
     "data": {
      "text/html": [
       "<div>\n",
       "<style scoped>\n",
       "    .dataframe tbody tr th:only-of-type {\n",
       "        vertical-align: middle;\n",
       "    }\n",
       "\n",
       "    .dataframe tbody tr th {\n",
       "        vertical-align: top;\n",
       "    }\n",
       "\n",
       "    .dataframe thead th {\n",
       "        text-align: right;\n",
       "    }\n",
       "</style>\n",
       "<table border=\"1\" class=\"dataframe\">\n",
       "  <thead>\n",
       "    <tr style=\"text-align: right;\">\n",
       "      <th></th>\n",
       "      <th>Unnamed: 0</th>\n",
       "      <th>0</th>\n",
       "      <th>1</th>\n",
       "      <th>2</th>\n",
       "      <th>3</th>\n",
       "      <th>4</th>\n",
       "      <th>5</th>\n",
       "      <th>6</th>\n",
       "      <th>7</th>\n",
       "      <th>8</th>\n",
       "      <th>9</th>\n",
       "      <th>10</th>\n",
       "      <th>11</th>\n",
       "      <th>12</th>\n",
       "      <th>13</th>\n",
       "      <th>14</th>\n",
       "      <th>15</th>\n",
       "    </tr>\n",
       "  </thead>\n",
       "  <tbody>\n",
       "    <tr>\n",
       "      <th>103</th>\n",
       "      <td>39</td>\n",
       "      <td>1.993949</td>\n",
       "      <td>3.640907</td>\n",
       "      <td>2.702803</td>\n",
       "      <td>4.022807</td>\n",
       "      <td>0.657975</td>\n",
       "      <td>0.581988</td>\n",
       "      <td>0.631289</td>\n",
       "      <td>0.562761</td>\n",
       "      <td>0.150830</td>\n",
       "      <td>0.134839</td>\n",
       "      <td>0.147268</td>\n",
       "      <td>0.130857</td>\n",
       "      <td>0.928711</td>\n",
       "      <td>0.869994</td>\n",
       "      <td>0.903679</td>\n",
       "      <td>0.856364</td>\n",
       "    </tr>\n",
       "    <tr>\n",
       "      <th>120</th>\n",
       "      <td>56</td>\n",
       "      <td>1.786397</td>\n",
       "      <td>4.390327</td>\n",
       "      <td>3.622748</td>\n",
       "      <td>4.135456</td>\n",
       "      <td>0.692810</td>\n",
       "      <td>0.583520</td>\n",
       "      <td>0.612250</td>\n",
       "      <td>0.591506</td>\n",
       "      <td>0.187325</td>\n",
       "      <td>0.163891</td>\n",
       "      <td>0.169678</td>\n",
       "      <td>0.165400</td>\n",
       "      <td>0.950327</td>\n",
       "      <td>0.877622</td>\n",
       "      <td>0.899181</td>\n",
       "      <td>0.884728</td>\n",
       "    </tr>\n",
       "    <tr>\n",
       "      <th>278</th>\n",
       "      <td>22</td>\n",
       "      <td>2.959023</td>\n",
       "      <td>3.611396</td>\n",
       "      <td>1.636382</td>\n",
       "      <td>3.936071</td>\n",
       "      <td>0.666880</td>\n",
       "      <td>0.620035</td>\n",
       "      <td>0.756755</td>\n",
       "      <td>0.620763</td>\n",
       "      <td>0.155867</td>\n",
       "      <td>0.143528</td>\n",
       "      <td>0.182669</td>\n",
       "      <td>0.143963</td>\n",
       "      <td>0.893354</td>\n",
       "      <td>0.869573</td>\n",
       "      <td>0.941074</td>\n",
       "      <td>0.857820</td>\n",
       "    </tr>\n",
       "    <tr>\n",
       "      <th>12</th>\n",
       "      <td>12</td>\n",
       "      <td>0.261351</td>\n",
       "      <td>0.474218</td>\n",
       "      <td>0.358854</td>\n",
       "      <td>0.492226</td>\n",
       "      <td>0.932842</td>\n",
       "      <td>0.912115</td>\n",
       "      <td>0.914571</td>\n",
       "      <td>0.903768</td>\n",
       "      <td>0.512180</td>\n",
       "      <td>0.504653</td>\n",
       "      <td>0.506784</td>\n",
       "      <td>0.502214</td>\n",
       "      <td>0.990902</td>\n",
       "      <td>0.983543</td>\n",
       "      <td>0.987513</td>\n",
       "      <td>0.982920</td>\n",
       "    </tr>\n",
       "    <tr>\n",
       "      <th>43</th>\n",
       "      <td>43</td>\n",
       "      <td>0.739936</td>\n",
       "      <td>1.205736</td>\n",
       "      <td>0.637561</td>\n",
       "      <td>1.118047</td>\n",
       "      <td>0.893360</td>\n",
       "      <td>0.873511</td>\n",
       "      <td>0.902203</td>\n",
       "      <td>0.876475</td>\n",
       "      <td>0.634146</td>\n",
       "      <td>0.628025</td>\n",
       "      <td>0.635275</td>\n",
       "      <td>0.627923</td>\n",
       "      <td>0.977790</td>\n",
       "      <td>0.963899</td>\n",
       "      <td>0.980863</td>\n",
       "      <td>0.966524</td>\n",
       "    </tr>\n",
       "  </tbody>\n",
       "</table>\n",
       "</div>"
      ],
      "text/plain": [
       "     Unnamed: 0         0         1         2         3         4         5  \\\n",
       "103          39  1.993949  3.640907  2.702803  4.022807  0.657975  0.581988   \n",
       "120          56  1.786397  4.390327  3.622748  4.135456  0.692810  0.583520   \n",
       "278          22  2.959023  3.611396  1.636382  3.936071  0.666880  0.620035   \n",
       "12           12  0.261351  0.474218  0.358854  0.492226  0.932842  0.912115   \n",
       "43           43  0.739936  1.205736  0.637561  1.118047  0.893360  0.873511   \n",
       "\n",
       "            6         7         8         9        10        11        12  \\\n",
       "103  0.631289  0.562761  0.150830  0.134839  0.147268  0.130857  0.928711   \n",
       "120  0.612250  0.591506  0.187325  0.163891  0.169678  0.165400  0.950327   \n",
       "278  0.756755  0.620763  0.155867  0.143528  0.182669  0.143963  0.893354   \n",
       "12   0.914571  0.903768  0.512180  0.504653  0.506784  0.502214  0.990902   \n",
       "43   0.902203  0.876475  0.634146  0.628025  0.635275  0.627923  0.977790   \n",
       "\n",
       "           13        14        15  \n",
       "103  0.869994  0.903679  0.856364  \n",
       "120  0.877622  0.899181  0.884728  \n",
       "278  0.869573  0.941074  0.857820  \n",
       "12   0.983543  0.987513  0.982920  \n",
       "43   0.963899  0.980863  0.966524  "
      ]
     },
     "execution_count": 36,
     "metadata": {},
     "output_type": "execute_result"
    }
   ],
   "source": [
    "X.head()"
   ]
  },
  {
   "cell_type": "code",
   "execution_count": 37,
   "metadata": {},
   "outputs": [
    {
     "data": {
      "text/plain": [
       "103    Leaf Papaya Ringspot\n",
       "120    Leaf Papaya Ringspot\n",
       "278        Papaya Leaf Curl\n",
       "12        Papaya Fresh Leaf\n",
       "43        Papaya Fresh Leaf\n",
       "Name: Class, dtype: object"
      ]
     },
     "execution_count": 37,
     "metadata": {},
     "output_type": "execute_result"
    }
   ],
   "source": [
    "y.head()"
   ]
  },
  {
   "cell_type": "markdown",
   "metadata": {},
   "source": [
    "# Feature Scaling"
   ]
  },
  {
   "cell_type": "code",
   "execution_count": 38,
   "metadata": {},
   "outputs": [],
   "source": [
    "from sklearn.preprocessing import StandardScaler,RobustScaler,MinMaxScaler,MaxAbsScaler\n",
    "  \n",
    "scaler = MaxAbsScaler()\n",
    "\n",
    "X = scaler.fit_transform(X)\n",
    "\n",
    "X = pd.DataFrame(X)"
   ]
  },
  {
   "cell_type": "code",
   "execution_count": 39,
   "metadata": {},
   "outputs": [
    {
     "data": {
      "text/html": [
       "<div>\n",
       "<style scoped>\n",
       "    .dataframe tbody tr th:only-of-type {\n",
       "        vertical-align: middle;\n",
       "    }\n",
       "\n",
       "    .dataframe tbody tr th {\n",
       "        vertical-align: top;\n",
       "    }\n",
       "\n",
       "    .dataframe thead th {\n",
       "        text-align: right;\n",
       "    }\n",
       "</style>\n",
       "<table border=\"1\" class=\"dataframe\">\n",
       "  <thead>\n",
       "    <tr style=\"text-align: right;\">\n",
       "      <th></th>\n",
       "      <th>0</th>\n",
       "      <th>1</th>\n",
       "      <th>2</th>\n",
       "      <th>3</th>\n",
       "      <th>4</th>\n",
       "      <th>5</th>\n",
       "      <th>6</th>\n",
       "      <th>7</th>\n",
       "      <th>8</th>\n",
       "      <th>9</th>\n",
       "      <th>10</th>\n",
       "      <th>11</th>\n",
       "      <th>12</th>\n",
       "      <th>13</th>\n",
       "      <th>14</th>\n",
       "      <th>15</th>\n",
       "      <th>16</th>\n",
       "    </tr>\n",
       "  </thead>\n",
       "  <tbody>\n",
       "    <tr>\n",
       "      <th>0</th>\n",
       "      <td>0.541667</td>\n",
       "      <td>0.258426</td>\n",
       "      <td>0.350604</td>\n",
       "      <td>0.348774</td>\n",
       "      <td>0.394956</td>\n",
       "      <td>0.695752</td>\n",
       "      <td>0.631307</td>\n",
       "      <td>0.672146</td>\n",
       "      <td>0.608583</td>\n",
       "      <td>0.195520</td>\n",
       "      <td>0.176146</td>\n",
       "      <td>0.191520</td>\n",
       "      <td>0.170945</td>\n",
       "      <td>0.936270</td>\n",
       "      <td>0.881984</td>\n",
       "      <td>0.910866</td>\n",
       "      <td>0.866742</td>\n",
       "    </tr>\n",
       "    <tr>\n",
       "      <th>1</th>\n",
       "      <td>0.777778</td>\n",
       "      <td>0.231527</td>\n",
       "      <td>0.422770</td>\n",
       "      <td>0.467485</td>\n",
       "      <td>0.406015</td>\n",
       "      <td>0.732587</td>\n",
       "      <td>0.632969</td>\n",
       "      <td>0.651874</td>\n",
       "      <td>0.639668</td>\n",
       "      <td>0.242828</td>\n",
       "      <td>0.214098</td>\n",
       "      <td>0.220664</td>\n",
       "      <td>0.216071</td>\n",
       "      <td>0.958062</td>\n",
       "      <td>0.889717</td>\n",
       "      <td>0.906332</td>\n",
       "      <td>0.895450</td>\n",
       "    </tr>\n",
       "    <tr>\n",
       "      <th>2</th>\n",
       "      <td>0.305556</td>\n",
       "      <td>0.383505</td>\n",
       "      <td>0.347762</td>\n",
       "      <td>0.211161</td>\n",
       "      <td>0.386440</td>\n",
       "      <td>0.705169</td>\n",
       "      <td>0.672578</td>\n",
       "      <td>0.805733</td>\n",
       "      <td>0.671307</td>\n",
       "      <td>0.202049</td>\n",
       "      <td>0.187497</td>\n",
       "      <td>0.237558</td>\n",
       "      <td>0.188065</td>\n",
       "      <td>0.900625</td>\n",
       "      <td>0.881557</td>\n",
       "      <td>0.948558</td>\n",
       "      <td>0.868216</td>\n",
       "    </tr>\n",
       "    <tr>\n",
       "      <th>3</th>\n",
       "      <td>0.166667</td>\n",
       "      <td>0.033872</td>\n",
       "      <td>0.045665</td>\n",
       "      <td>0.046307</td>\n",
       "      <td>0.048326</td>\n",
       "      <td>0.986401</td>\n",
       "      <td>0.989410</td>\n",
       "      <td>0.973762</td>\n",
       "      <td>0.977354</td>\n",
       "      <td>0.663933</td>\n",
       "      <td>0.659252</td>\n",
       "      <td>0.659066</td>\n",
       "      <td>0.656067</td>\n",
       "      <td>0.998967</td>\n",
       "      <td>0.997098</td>\n",
       "      <td>0.995367</td>\n",
       "      <td>0.994832</td>\n",
       "    </tr>\n",
       "    <tr>\n",
       "      <th>4</th>\n",
       "      <td>0.597222</td>\n",
       "      <td>0.095900</td>\n",
       "      <td>0.116107</td>\n",
       "      <td>0.082272</td>\n",
       "      <td>0.109769</td>\n",
       "      <td>0.944652</td>\n",
       "      <td>0.947534</td>\n",
       "      <td>0.960593</td>\n",
       "      <td>0.947840</td>\n",
       "      <td>0.822037</td>\n",
       "      <td>0.820419</td>\n",
       "      <td>0.826166</td>\n",
       "      <td>0.820288</td>\n",
       "      <td>0.985749</td>\n",
       "      <td>0.977182</td>\n",
       "      <td>0.988664</td>\n",
       "      <td>0.978237</td>\n",
       "    </tr>\n",
       "  </tbody>\n",
       "</table>\n",
       "</div>"
      ],
      "text/plain": [
       "         0         1         2         3         4         5         6   \\\n",
       "0  0.541667  0.258426  0.350604  0.348774  0.394956  0.695752  0.631307   \n",
       "1  0.777778  0.231527  0.422770  0.467485  0.406015  0.732587  0.632969   \n",
       "2  0.305556  0.383505  0.347762  0.211161  0.386440  0.705169  0.672578   \n",
       "3  0.166667  0.033872  0.045665  0.046307  0.048326  0.986401  0.989410   \n",
       "4  0.597222  0.095900  0.116107  0.082272  0.109769  0.944652  0.947534   \n",
       "\n",
       "         7         8         9         10        11        12        13  \\\n",
       "0  0.672146  0.608583  0.195520  0.176146  0.191520  0.170945  0.936270   \n",
       "1  0.651874  0.639668  0.242828  0.214098  0.220664  0.216071  0.958062   \n",
       "2  0.805733  0.671307  0.202049  0.187497  0.237558  0.188065  0.900625   \n",
       "3  0.973762  0.977354  0.663933  0.659252  0.659066  0.656067  0.998967   \n",
       "4  0.960593  0.947840  0.822037  0.820419  0.826166  0.820288  0.985749   \n",
       "\n",
       "         14        15        16  \n",
       "0  0.881984  0.910866  0.866742  \n",
       "1  0.889717  0.906332  0.895450  \n",
       "2  0.881557  0.948558  0.868216  \n",
       "3  0.997098  0.995367  0.994832  \n",
       "4  0.977182  0.988664  0.978237  "
      ]
     },
     "execution_count": 39,
     "metadata": {},
     "output_type": "execute_result"
    }
   ],
   "source": [
    "X.head()"
   ]
  },
  {
   "cell_type": "code",
   "execution_count": 40,
   "metadata": {},
   "outputs": [
    {
     "data": {
      "text/plain": [
       "((217, 17), (73, 17))"
      ]
     },
     "execution_count": 40,
     "metadata": {},
     "output_type": "execute_result"
    }
   ],
   "source": [
    "from sklearn.model_selection import train_test_split\n",
    "  \n",
    "X_train, X_test, y_train, y_test = train_test_split(\n",
    "      X, y , test_size = 0.25, random_state=None)\n",
    "\n",
    "X_train.shape, X_test.shape\n"
   ]
  },
  {
   "cell_type": "code",
   "execution_count": 41,
   "metadata": {},
   "outputs": [
    {
     "data": {
      "text/html": [
       "<div>\n",
       "<style scoped>\n",
       "    .dataframe tbody tr th:only-of-type {\n",
       "        vertical-align: middle;\n",
       "    }\n",
       "\n",
       "    .dataframe tbody tr th {\n",
       "        vertical-align: top;\n",
       "    }\n",
       "\n",
       "    .dataframe thead th {\n",
       "        text-align: right;\n",
       "    }\n",
       "</style>\n",
       "<table border=\"1\" class=\"dataframe\">\n",
       "  <thead>\n",
       "    <tr style=\"text-align: right;\">\n",
       "      <th></th>\n",
       "      <th>0</th>\n",
       "      <th>1</th>\n",
       "      <th>2</th>\n",
       "      <th>3</th>\n",
       "      <th>4</th>\n",
       "      <th>5</th>\n",
       "      <th>6</th>\n",
       "      <th>7</th>\n",
       "      <th>8</th>\n",
       "      <th>9</th>\n",
       "      <th>10</th>\n",
       "      <th>11</th>\n",
       "      <th>12</th>\n",
       "      <th>13</th>\n",
       "      <th>14</th>\n",
       "      <th>15</th>\n",
       "      <th>16</th>\n",
       "    </tr>\n",
       "  </thead>\n",
       "  <tbody>\n",
       "    <tr>\n",
       "      <th>128</th>\n",
       "      <td>0.583333</td>\n",
       "      <td>0.171386</td>\n",
       "      <td>0.199225</td>\n",
       "      <td>0.146368</td>\n",
       "      <td>0.203507</td>\n",
       "      <td>0.851930</td>\n",
       "      <td>0.836153</td>\n",
       "      <td>0.867269</td>\n",
       "      <td>0.838027</td>\n",
       "      <td>0.516217</td>\n",
       "      <td>0.504772</td>\n",
       "      <td>0.517576</td>\n",
       "      <td>0.505182</td>\n",
       "      <td>0.975415</td>\n",
       "      <td>0.962347</td>\n",
       "      <td>0.979883</td>\n",
       "      <td>0.960672</td>\n",
       "    </tr>\n",
       "    <tr>\n",
       "      <th>33</th>\n",
       "      <td>0.222222</td>\n",
       "      <td>0.195774</td>\n",
       "      <td>0.314704</td>\n",
       "      <td>0.263904</td>\n",
       "      <td>0.254366</td>\n",
       "      <td>0.776406</td>\n",
       "      <td>0.681736</td>\n",
       "      <td>0.725496</td>\n",
       "      <td>0.709761</td>\n",
       "      <td>0.257845</td>\n",
       "      <td>0.222044</td>\n",
       "      <td>0.239147</td>\n",
       "      <td>0.229746</td>\n",
       "      <td>0.935126</td>\n",
       "      <td>0.854562</td>\n",
       "      <td>0.909073</td>\n",
       "      <td>0.886124</td>\n",
       "    </tr>\n",
       "    <tr>\n",
       "      <th>116</th>\n",
       "      <td>0.138889</td>\n",
       "      <td>0.808622</td>\n",
       "      <td>0.722210</td>\n",
       "      <td>0.655227</td>\n",
       "      <td>0.702472</td>\n",
       "      <td>0.804076</td>\n",
       "      <td>0.787058</td>\n",
       "      <td>0.844071</td>\n",
       "      <td>0.794898</td>\n",
       "      <td>0.581773</td>\n",
       "      <td>0.565715</td>\n",
       "      <td>0.603630</td>\n",
       "      <td>0.571072</td>\n",
       "      <td>0.768735</td>\n",
       "      <td>0.724410</td>\n",
       "      <td>0.813287</td>\n",
       "      <td>0.736506</td>\n",
       "    </tr>\n",
       "    <tr>\n",
       "      <th>75</th>\n",
       "      <td>0.611111</td>\n",
       "      <td>0.395741</td>\n",
       "      <td>0.382383</td>\n",
       "      <td>0.340323</td>\n",
       "      <td>0.426260</td>\n",
       "      <td>0.640135</td>\n",
       "      <td>0.617056</td>\n",
       "      <td>0.680871</td>\n",
       "      <td>0.607033</td>\n",
       "      <td>0.187699</td>\n",
       "      <td>0.178058</td>\n",
       "      <td>0.198320</td>\n",
       "      <td>0.176585</td>\n",
       "      <td>0.881518</td>\n",
       "      <td>0.848161</td>\n",
       "      <td>0.898690</td>\n",
       "      <td>0.831359</td>\n",
       "    </tr>\n",
       "    <tr>\n",
       "      <th>9</th>\n",
       "      <td>0.208333</td>\n",
       "      <td>0.224651</td>\n",
       "      <td>0.250341</td>\n",
       "      <td>0.133102</td>\n",
       "      <td>0.227753</td>\n",
       "      <td>0.718324</td>\n",
       "      <td>0.677396</td>\n",
       "      <td>0.819791</td>\n",
       "      <td>0.691247</td>\n",
       "      <td>0.225915</td>\n",
       "      <td>0.210367</td>\n",
       "      <td>0.263068</td>\n",
       "      <td>0.213135</td>\n",
       "      <td>0.942349</td>\n",
       "      <td>0.914394</td>\n",
       "      <td>0.968707</td>\n",
       "      <td>0.923565</td>\n",
       "    </tr>\n",
       "  </tbody>\n",
       "</table>\n",
       "</div>"
      ],
      "text/plain": [
       "           0         1         2         3         4         5         6   \\\n",
       "128  0.583333  0.171386  0.199225  0.146368  0.203507  0.851930  0.836153   \n",
       "33   0.222222  0.195774  0.314704  0.263904  0.254366  0.776406  0.681736   \n",
       "116  0.138889  0.808622  0.722210  0.655227  0.702472  0.804076  0.787058   \n",
       "75   0.611111  0.395741  0.382383  0.340323  0.426260  0.640135  0.617056   \n",
       "9    0.208333  0.224651  0.250341  0.133102  0.227753  0.718324  0.677396   \n",
       "\n",
       "           7         8         9         10        11        12        13  \\\n",
       "128  0.867269  0.838027  0.516217  0.504772  0.517576  0.505182  0.975415   \n",
       "33   0.725496  0.709761  0.257845  0.222044  0.239147  0.229746  0.935126   \n",
       "116  0.844071  0.794898  0.581773  0.565715  0.603630  0.571072  0.768735   \n",
       "75   0.680871  0.607033  0.187699  0.178058  0.198320  0.176585  0.881518   \n",
       "9    0.819791  0.691247  0.225915  0.210367  0.263068  0.213135  0.942349   \n",
       "\n",
       "           14        15        16  \n",
       "128  0.962347  0.979883  0.960672  \n",
       "33   0.854562  0.909073  0.886124  \n",
       "116  0.724410  0.813287  0.736506  \n",
       "75   0.848161  0.898690  0.831359  \n",
       "9    0.914394  0.968707  0.923565  "
      ]
     },
     "execution_count": 41,
     "metadata": {},
     "output_type": "execute_result"
    }
   ],
   "source": [
    "X_train.head()"
   ]
  },
  {
   "cell_type": "markdown",
   "metadata": {},
   "source": [
    "# Model training"
   ]
  },
  {
   "cell_type": "markdown",
   "metadata": {},
   "source": [
    "## KNN"
   ]
  },
  {
   "cell_type": "code",
   "execution_count": 42,
   "metadata": {},
   "outputs": [
    {
     "data": {
      "image/png": "[encoded data removed]",
      "text/plain": [
       "<Figure size 432x288 with 2 Axes>"
      ]
     },
     "metadata": {
      "needs_background": "light"
     },
     "output_type": "display_data"
    }
   ],
   "source": [
    "# Remember that we are trying to come up\n",
    "# with a model to predict whether\n",
    "# someone will TARGET CLASS or not.\n",
    "# We'll start with k = 1.\n",
    "\n",
    "from sklearn.neighbors import KNeighborsClassifier\n",
    "  \n",
    "knn = KNeighborsClassifier(n_neighbors = 1)\n",
    "  \n",
    "knn.fit(X_train, y_train)\n",
    "pred = knn.predict(X_test)\n",
    "\n",
    "plot_confusion_matrix(knn, X_test, y_test)\n",
    "plt.xticks(rotation = 90)\n",
    "plt.show()\n",
    "\n",
    "# Predictions and Evaluations\n",
    "# Let's evaluate our KNN model ! \n"
   ]
  },
  {
   "cell_type": "code",
   "execution_count": 43,
   "metadata": {},
   "outputs": [
    {
     "name": "stdout",
     "output_type": "stream",
     "text": [
      "                            precision    recall  f1-score   support\n",
      "\n",
      "    Leaf Papaya Black Spot       0.42      0.42      0.42        12\n",
      "Leaf Papaya Powdery Mildew       1.00      1.00      1.00        14\n",
      "      Leaf Papaya Ringspot       0.53      0.59      0.56        17\n",
      "         Papaya Fresh Leaf       0.77      1.00      0.87        17\n",
      "          Papaya Leaf Curl       0.17      0.08      0.11        13\n",
      "\n",
      "                  accuracy                           0.64        73\n",
      "                 macro avg       0.58      0.62      0.59        73\n",
      "              weighted avg       0.59      0.64      0.61        73\n",
      "\n"
     ]
    }
   ],
   "source": [
    "from sklearn.metrics import classification_report  \n",
    "print(classification_report(y_test, pred))\n"
   ]
  },
  {
   "cell_type": "code",
   "execution_count": 44,
   "metadata": {},
   "outputs": [],
   "source": [
    "from sklearn import metrics\n",
    "error_rate = []\n",
    "scores = []\n",
    "\n",
    "k=50\n",
    "max_accuracy=0\n",
    "best_k=1\n",
    "\n",
    "for i in range(1, k):\n",
    "      \n",
    "    knn = KNeighborsClassifier(n_neighbors = i)\n",
    "    knn.fit(X_train, y_train)\n",
    "    pred_i = knn.predict(X_test)\n",
    "    error_rate.append(np.mean(pred_i != y_test))\n",
    "    y_predict = knn.predict(X_test)\n",
    "    curr_accuracy=metrics.accuracy_score(y_test,y_predict)\n",
    "    if curr_accuracy>max_accuracy:\n",
    "        max_accuracy=curr_accuracy\n",
    "        best_k=i\n",
    "    scores.append(curr_accuracy)\n",
    "  \n"
   ]
  },
  {
   "cell_type": "code",
   "execution_count": 45,
   "metadata": {},
   "outputs": [
    {
     "data": {
      "text/plain": [
       "Text(0, 0.5, 'Error Rate')"
      ]
     },
     "execution_count": 45,
     "metadata": {},
     "output_type": "execute_result"
    },
    {
     "data": {
      "image/png": "[encoded data removed]",
      "text/plain": [
       "<Figure size 720x432 with 1 Axes>"
      ]
     },
     "metadata": {
      "needs_background": "light"
     },
     "output_type": "display_data"
    }
   ],
   "source": [
    "plt.figure(figsize =(10, 6))\n",
    "plt.plot(range(1, k), error_rate, color ='blue',\n",
    "                linestyle ='dashed', marker ='o',\n",
    "         markerfacecolor ='red', markersize = 10)\n",
    "  \n",
    "plt.title('Error Rate vs. K Value')\n",
    "plt.xlabel('K')\n",
    "plt.ylabel('Error Rate')"
   ]
  },
  {
   "cell_type": "code",
   "execution_count": 46,
   "metadata": {},
   "outputs": [
    {
     "data": {
      "text/plain": [
       "Text(0, 0.5, 'Accuracy')"
      ]
     },
     "execution_count": 46,
     "metadata": {},
     "output_type": "execute_result"
    },
    {
     "data": {
      "image/png": "[encoded data removed]",
      "text/plain": [
       "<Figure size 432x288 with 1 Axes>"
      ]
     },
     "metadata": {
      "needs_background": "light"
     },
     "output_type": "display_data"
    }
   ],
   "source": [
    "plt.plot(np.arange(1,k),scores)\n",
    "plt.title('Varition of accuracy with K value')\n",
    "plt.xlabel('K values')\n",
    "plt.ylabel('Accuracy')"
   ]
  },
  {
   "cell_type": "code",
   "execution_count": 47,
   "metadata": {},
   "outputs": [
    {
     "name": "stdout",
     "output_type": "stream",
     "text": [
      "                            precision    recall  f1-score   support\n",
      "\n",
      "    Leaf Papaya Black Spot       0.53      0.67      0.59        12\n",
      "Leaf Papaya Powdery Mildew       1.00      1.00      1.00        14\n",
      "      Leaf Papaya Ringspot       0.67      0.71      0.69        17\n",
      "         Papaya Fresh Leaf       0.89      1.00      0.94        17\n",
      "          Papaya Leaf Curl       0.86      0.46      0.60        13\n",
      "\n",
      "                  accuracy                           0.78        73\n",
      "                 macro avg       0.79      0.77      0.76        73\n",
      "              weighted avg       0.80      0.78      0.78        73\n",
      "\n",
      "Accuracy for k = 16 is 78.08219178082192%\n"
     ]
    }
   ],
   "source": [
    "knn = KNeighborsClassifier(n_neighbors = best_k)\n",
    "  \n",
    "knn.fit(X_train, y_train)\n",
    "pred = knn.predict(X_test)\n",
    "from sklearn.metrics import classification_report  \n",
    "print(classification_report(y_test, pred))\n",
    "\n",
    "print(\"Accuracy for k = {} is {}%\".format(best_k,max_accuracy*100))"
   ]
  },
  {
   "cell_type": "markdown",
   "metadata": {},
   "source": [
    "## SVM"
   ]
  },
  {
   "cell_type": "code",
   "execution_count": 48,
   "metadata": {},
   "outputs": [
    {
     "name": "stdout",
     "output_type": "stream",
     "text": [
      "best hyperlink parameters\n",
      "{'C': 5, 'kernel': 'poly'}\n",
      "Accuracy Score:\n",
      "                            precision    recall  f1-score   support\n",
      "\n",
      "    Leaf Papaya Black Spot       0.33      0.33      0.33        12\n",
      "Leaf Papaya Powdery Mildew       1.00      1.00      1.00        14\n",
      "      Leaf Papaya Ringspot       0.70      0.82      0.76        17\n",
      "         Papaya Fresh Leaf       0.89      1.00      0.94        17\n",
      "          Papaya Leaf Curl       0.62      0.38      0.48        13\n",
      "\n",
      "                  accuracy                           0.74        73\n",
      "                 macro avg       0.71      0.71      0.70        73\n",
      "              weighted avg       0.73      0.74      0.73        73\n",
      "\n"
     ]
    }
   ],
   "source": [
    "from sklearn.svm import SVC\n",
    "svm_model= SVC()\n",
    "tuned_parameters = {\n",
    " 'C': (np.arange(1,30)) , 'kernel': ['linear'],\n",
    " 'C': (np.arange(1,30)) ,  'kernel': ['rbf'],\n",
    " 'C':(np.arange(1,30)) , 'kernel':['poly']\n",
    "                   }\n",
    "from sklearn.model_selection import GridSearchCV\n",
    "\n",
    "model_svm = GridSearchCV(svm_model, tuned_parameters,cv=10,scoring='accuracy')\n",
    "\n",
    "model_svm.fit(X_train,y_train)\n",
    "print('best hyperlink parameters')\n",
    "print(model_svm.best_params_)\n",
    "y_pred= model_svm.predict(X_test)\n",
    "print('Accuracy Score:')\n",
    "\n",
    "print(classification_report(y_test, y_pred))"
   ]
  },
  {
   "cell_type": "code",
   "execution_count": 49,
   "metadata": {},
   "outputs": [
    {
     "name": "stdout",
     "output_type": "stream",
     "text": [
      "Model accuracy score: 73.9726%\n"
     ]
    }
   ],
   "source": [
    "print('Model accuracy score: {0:0.4f}%'. format(accuracy_score(y_pred,y_test)*100))"
   ]
  },
  {
   "cell_type": "markdown",
   "metadata": {},
   "source": [
    "## Naive Bayes"
   ]
  },
  {
   "cell_type": "code",
   "execution_count": 50,
   "metadata": {},
   "outputs": [
    {
     "name": "stdout",
     "output_type": "stream",
     "text": [
      "                            precision    recall  f1-score   support\n",
      "\n",
      "    Leaf Papaya Black Spot       0.44      0.33      0.38        12\n",
      "Leaf Papaya Powdery Mildew       1.00      1.00      1.00        14\n",
      "      Leaf Papaya Ringspot       0.57      0.71      0.63        17\n",
      "         Papaya Fresh Leaf       0.81      1.00      0.89        17\n",
      "          Papaya Leaf Curl       0.62      0.38      0.48        13\n",
      "\n",
      "                  accuracy                           0.71        73\n",
      "                 macro avg       0.69      0.68      0.68        73\n",
      "              weighted avg       0.70      0.71      0.69        73\n",
      "\n"
     ]
    }
   ],
   "source": [
    "from sklearn.naive_bayes import GaussianNB,CategoricalNB\n",
    "\n",
    "# instantiate the model\n",
    "gnb = GaussianNB()\n",
    "\n",
    "# fit the model\n",
    "gnb.fit(X_train, y_train)\n",
    "y_pred = gnb.predict(X_test)\n",
    "print(classification_report(y_test, y_pred))\n",
    "\n"
   ]
  },
  {
   "cell_type": "code",
   "execution_count": 51,
   "metadata": {},
   "outputs": [
    {
     "name": "stdout",
     "output_type": "stream",
     "text": [
      "Model accuracy score: 71.2329%\n"
     ]
    }
   ],
   "source": [
    "print('Model accuracy score: {0:0.4f}%'. format(accuracy_score(y_test, y_pred)*100))"
   ]
  },
  {
   "cell_type": "markdown",
   "metadata": {},
   "source": [
    "## Logistic regression"
   ]
  },
  {
   "cell_type": "code",
   "execution_count": 52,
   "metadata": {},
   "outputs": [
    {
     "name": "stdout",
     "output_type": "stream",
     "text": [
      "                            precision    recall  f1-score   support\n",
      "\n",
      "    Leaf Papaya Black Spot       0.44      0.33      0.38        12\n",
      "Leaf Papaya Powdery Mildew       1.00      1.00      1.00        14\n",
      "      Leaf Papaya Ringspot       0.57      0.71      0.63        17\n",
      "         Papaya Fresh Leaf       0.81      1.00      0.89        17\n",
      "          Papaya Leaf Curl       0.62      0.38      0.48        13\n",
      "\n",
      "                  accuracy                           0.71        73\n",
      "                 macro avg       0.69      0.68      0.68        73\n",
      "              weighted avg       0.70      0.71      0.69        73\n",
      "\n"
     ]
    }
   ],
   "source": [
    "from sklearn.linear_model import LogisticRegression\n",
    "\n",
    "lr = LogisticRegression(solver='lbfgs', max_iter=1000)\n",
    "\n",
    "# fit the model\n",
    "lr.fit(X_train, y_train)\n",
    "y_pred = gnb.predict(X_test)\n",
    "\n",
    "print(classification_report(y_test, y_pred))\n"
   ]
  },
  {
   "cell_type": "code",
   "execution_count": 53,
   "metadata": {},
   "outputs": [
    {
     "name": "stdout",
     "output_type": "stream",
     "text": [
      "Model accuracy score: 71.2329%\n"
     ]
    }
   ],
   "source": [
    "print('Model accuracy score: {0:0.4f}%'. format(accuracy_score(y_test, y_pred)*100))"
   ]
  },
  {
   "cell_type": "markdown",
   "metadata": {},
   "source": [
    "# K-Fold Cross Validation"
   ]
  },
  {
   "cell_type": "code",
   "execution_count": 54,
   "metadata": {},
   "outputs": [
    {
     "name": "stdout",
     "output_type": "stream",
     "text": [
      "Fold:1, Train set: 217, Test set:73\n",
      "Fold:2, Train set: 217, Test set:73\n",
      "Fold:3, Train set: 218, Test set:72\n",
      "Fold:4, Train set: 218, Test set:72\n"
     ]
    }
   ],
   "source": [
    "from sklearn.model_selection import KFold, StratifiedKFold\n",
    "\n",
    "kf = StratifiedKFold(n_splits=4, shuffle=True, random_state=42)\n",
    "\n",
    "cnt = 1\n",
    "# split()  method generate indices to split data into training and test set.\n",
    "for train_index, test_index in kf.split(X, y):\n",
    "    print(f'Fold:{cnt}, Train set: {len(train_index)}, Test set:{len(test_index)}')\n",
    "    cnt += 1\n"
   ]
  },
  {
   "cell_type": "code",
   "execution_count": 55,
   "metadata": {},
   "outputs": [
    {
     "name": "stdout",
     "output_type": "stream",
     "text": [
      "Scores for each fold are:\n",
      "[0.63013699 0.64383562 0.63888889 0.68055556]\n",
      "Model accuracy score for Logistic Regression: 64.8354%\n"
     ]
    }
   ],
   "source": [
    "score = cross_val_score(lr, X, y, cv= kf, scoring=\"accuracy\")\n",
    "print('Scores for each fold are:')\n",
    "print(score)\n",
    "print('Model accuracy score for Logistic Regression: {0:0.4f}%'.format(score.mean()*100))"
   ]
  },
  {
   "cell_type": "code",
   "execution_count": 56,
   "metadata": {},
   "outputs": [
    {
     "name": "stdout",
     "output_type": "stream",
     "text": [
      "Scores for each fold are:\n",
      "[0.61643836 0.64383562 0.625      0.51388889]\n",
      "Model accuracy score for Gaussian Naive Bayes: 59.9791%\n"
     ]
    }
   ],
   "source": [
    "score = cross_val_score(gnb, X, y, cv= kf, scoring=\"accuracy\")\n",
    "print('Scores for each fold are:')\n",
    "print(score)\n",
    "print('Model accuracy score for Gaussian Naive Bayes: {0:0.4f}%'.format(score.mean()*100))"
   ]
  }
 ],
 "metadata": {
  "kernelspec": {
   "display_name": "Python 3",
   "language": "python",
   "name": "python3"
  },
  "language_info": {
   "codemirror_mode": {
    "name": "ipython",
    "version": 3
   },
   "file_extension": ".py",
   "mimetype": "text/x-python",
   "name": "python",
   "nbconvert_exporter": "python",
   "pygments_lexer": "ipython3",
   "version": "3.7.3"
  }
 },
 "nbformat": 4,
 "nbformat_minor": 4
}
