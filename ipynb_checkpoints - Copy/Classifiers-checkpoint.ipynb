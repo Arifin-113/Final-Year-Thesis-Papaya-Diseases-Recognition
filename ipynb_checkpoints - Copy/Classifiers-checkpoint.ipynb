{
 "cells": [
  {
   "cell_type": "code",
   "execution_count": 197,
   "metadata": {},
   "outputs": [],
   "source": [
    "import numpy as np\n",
    "import pandas as pd\n",
    "import matplotlib.pyplot as plt\n",
    "import seaborn as sns\n",
    "from sklearn.metrics import accuracy_score\n",
    "from sklearn.metrics import plot_confusion_matrix\n",
    "from sklearn.model_selection import cross_val_score\n",
    "from sklearn.utils import shuffle"
   ]
  },
  {
   "cell_type": "code",
   "execution_count": 198,
   "metadata": {},
   "outputs": [
    {
     "data": {
      "text/html": [
       "<div>\n",
       "<style scoped>\n",
       "    .dataframe tbody tr th:only-of-type {\n",
       "        vertical-align: middle;\n",
       "    }\n",
       "\n",
       "    .dataframe tbody tr th {\n",
       "        vertical-align: top;\n",
       "    }\n",
       "\n",
       "    .dataframe thead th {\n",
       "        text-align: right;\n",
       "    }\n",
       "</style>\n",
       "<table border=\"1\" class=\"dataframe\">\n",
       "  <thead>\n",
       "    <tr style=\"text-align: right;\">\n",
       "      <th></th>\n",
       "      <th>Unnamed: 0</th>\n",
       "      <th>0</th>\n",
       "      <th>1</th>\n",
       "      <th>2</th>\n",
       "      <th>3</th>\n",
       "      <th>4</th>\n",
       "      <th>5</th>\n",
       "      <th>6</th>\n",
       "      <th>7</th>\n",
       "      <th>8</th>\n",
       "      <th>9</th>\n",
       "      <th>10</th>\n",
       "      <th>11</th>\n",
       "      <th>12</th>\n",
       "      <th>13</th>\n",
       "      <th>14</th>\n",
       "      <th>15</th>\n",
       "      <th>16</th>\n",
       "    </tr>\n",
       "  </thead>\n",
       "  <tbody>\n",
       "    <tr>\n",
       "      <th>55</th>\n",
       "      <td>7</td>\n",
       "      <td>3.578431</td>\n",
       "      <td>5.738178</td>\n",
       "      <td>4.155178</td>\n",
       "      <td>6.401000</td>\n",
       "      <td>0.891769</td>\n",
       "      <td>0.812550</td>\n",
       "      <td>0.849898</td>\n",
       "      <td>0.803133</td>\n",
       "      <td>0.529801</td>\n",
       "      <td>0.494392</td>\n",
       "      <td>0.512128</td>\n",
       "      <td>0.489236</td>\n",
       "      <td>0.905078</td>\n",
       "      <td>0.847847</td>\n",
       "      <td>0.889823</td>\n",
       "      <td>0.830273</td>\n",
       "      <td>Papaya Black Spot</td>\n",
       "    </tr>\n",
       "    <tr>\n",
       "      <th>110</th>\n",
       "      <td>8</td>\n",
       "      <td>5.161229</td>\n",
       "      <td>8.410227</td>\n",
       "      <td>7.181756</td>\n",
       "      <td>8.915033</td>\n",
       "      <td>0.814354</td>\n",
       "      <td>0.726338</td>\n",
       "      <td>0.752610</td>\n",
       "      <td>0.713467</td>\n",
       "      <td>0.481779</td>\n",
       "      <td>0.441061</td>\n",
       "      <td>0.453142</td>\n",
       "      <td>0.435758</td>\n",
       "      <td>0.831828</td>\n",
       "      <td>0.725754</td>\n",
       "      <td>0.765773</td>\n",
       "      <td>0.709292</td>\n",
       "      <td>Papaya Leaf Curl</td>\n",
       "    </tr>\n",
       "    <tr>\n",
       "      <th>182</th>\n",
       "      <td>34</td>\n",
       "      <td>1.325497</td>\n",
       "      <td>1.912700</td>\n",
       "      <td>1.383937</td>\n",
       "      <td>1.956288</td>\n",
       "      <td>0.847000</td>\n",
       "      <td>0.803835</td>\n",
       "      <td>0.843650</td>\n",
       "      <td>0.803725</td>\n",
       "      <td>0.437948</td>\n",
       "      <td>0.415533</td>\n",
       "      <td>0.435973</td>\n",
       "      <td>0.415557</td>\n",
       "      <td>0.880609</td>\n",
       "      <td>0.827742</td>\n",
       "      <td>0.875326</td>\n",
       "      <td>0.823816</td>\n",
       "      <td>Papaya Ringspot</td>\n",
       "    </tr>\n",
       "    <tr>\n",
       "      <th>138</th>\n",
       "      <td>36</td>\n",
       "      <td>4.715472</td>\n",
       "      <td>6.090396</td>\n",
       "      <td>4.326271</td>\n",
       "      <td>6.383022</td>\n",
       "      <td>0.762847</td>\n",
       "      <td>0.717909</td>\n",
       "      <td>0.771792</td>\n",
       "      <td>0.696535</td>\n",
       "      <td>0.448403</td>\n",
       "      <td>0.427950</td>\n",
       "      <td>0.452656</td>\n",
       "      <td>0.419168</td>\n",
       "      <td>0.770568</td>\n",
       "      <td>0.703581</td>\n",
       "      <td>0.789314</td>\n",
       "      <td>0.689340</td>\n",
       "      <td>Papaya Leaf Curl</td>\n",
       "    </tr>\n",
       "    <tr>\n",
       "      <th>29</th>\n",
       "      <td>29</td>\n",
       "      <td>1.178477</td>\n",
       "      <td>2.091457</td>\n",
       "      <td>1.415564</td>\n",
       "      <td>2.062576</td>\n",
       "      <td>0.918316</td>\n",
       "      <td>0.896316</td>\n",
       "      <td>0.951823</td>\n",
       "      <td>0.898613</td>\n",
       "      <td>0.720120</td>\n",
       "      <td>0.712422</td>\n",
       "      <td>0.716356</td>\n",
       "      <td>0.712937</td>\n",
       "      <td>0.979947</td>\n",
       "      <td>0.964489</td>\n",
       "      <td>0.975938</td>\n",
       "      <td>0.964980</td>\n",
       "      <td>Fresh Papaya Leaf</td>\n",
       "    </tr>\n",
       "  </tbody>\n",
       "</table>\n",
       "</div>"
      ],
      "text/plain": [
       "     Unnamed: 0         0         1         2         3         4         5  \\\n",
       "55            7  3.578431  5.738178  4.155178  6.401000  0.891769  0.812550   \n",
       "110           8  5.161229  8.410227  7.181756  8.915033  0.814354  0.726338   \n",
       "182          34  1.325497  1.912700  1.383937  1.956288  0.847000  0.803835   \n",
       "138          36  4.715472  6.090396  4.326271  6.383022  0.762847  0.717909   \n",
       "29           29  1.178477  2.091457  1.415564  2.062576  0.918316  0.896316   \n",
       "\n",
       "            6         7         8         9        10        11        12  \\\n",
       "55   0.849898  0.803133  0.529801  0.494392  0.512128  0.489236  0.905078   \n",
       "110  0.752610  0.713467  0.481779  0.441061  0.453142  0.435758  0.831828   \n",
       "182  0.843650  0.803725  0.437948  0.415533  0.435973  0.415557  0.880609   \n",
       "138  0.771792  0.696535  0.448403  0.427950  0.452656  0.419168  0.770568   \n",
       "29   0.951823  0.898613  0.720120  0.712422  0.716356  0.712937  0.979947   \n",
       "\n",
       "           13        14        15                 16  \n",
       "55   0.847847  0.889823  0.830273  Papaya Black Spot  \n",
       "110  0.725754  0.765773  0.709292   Papaya Leaf Curl  \n",
       "182  0.827742  0.875326  0.823816    Papaya Ringspot  \n",
       "138  0.703581  0.789314  0.689340   Papaya Leaf Curl  \n",
       "29   0.964489  0.975938  0.964980  Fresh Papaya Leaf  "
      ]
     },
     "execution_count": 198,
     "metadata": {},
     "output_type": "execute_result"
    }
   ],
   "source": [
    "path = r\"C:\\Users\\Arifin\\Downloads\\papaya\\combined.csv\"\n",
    "df = pd.read_csv(path)\n",
    "df = shuffle(df)\n",
    "df.head()"
   ]
  },
  {
   "cell_type": "code",
   "execution_count": 199,
   "metadata": {},
   "outputs": [
    {
     "data": {
      "text/plain": [
       "(267, 18)"
      ]
     },
     "execution_count": 199,
     "metadata": {},
     "output_type": "execute_result"
    }
   ],
   "source": [
    "df.shape"
   ]
  },
  {
   "cell_type": "code",
   "execution_count": 200,
   "metadata": {},
   "outputs": [
    {
     "data": {
      "text/html": [
       "<div>\n",
       "<style scoped>\n",
       "    .dataframe tbody tr th:only-of-type {\n",
       "        vertical-align: middle;\n",
       "    }\n",
       "\n",
       "    .dataframe tbody tr th {\n",
       "        vertical-align: top;\n",
       "    }\n",
       "\n",
       "    .dataframe thead th {\n",
       "        text-align: right;\n",
       "    }\n",
       "</style>\n",
       "<table border=\"1\" class=\"dataframe\">\n",
       "  <thead>\n",
       "    <tr style=\"text-align: right;\">\n",
       "      <th></th>\n",
       "      <th>Unnamed: 0</th>\n",
       "      <th>0</th>\n",
       "      <th>1</th>\n",
       "      <th>2</th>\n",
       "      <th>3</th>\n",
       "      <th>4</th>\n",
       "      <th>5</th>\n",
       "      <th>6</th>\n",
       "      <th>7</th>\n",
       "      <th>8</th>\n",
       "      <th>9</th>\n",
       "      <th>10</th>\n",
       "      <th>11</th>\n",
       "      <th>12</th>\n",
       "      <th>13</th>\n",
       "      <th>14</th>\n",
       "      <th>15</th>\n",
       "    </tr>\n",
       "  </thead>\n",
       "  <tbody>\n",
       "    <tr>\n",
       "      <th>count</th>\n",
       "      <td>267.000000</td>\n",
       "      <td>267.000000</td>\n",
       "      <td>267.000000</td>\n",
       "      <td>267.000000</td>\n",
       "      <td>267.000000</td>\n",
       "      <td>267.000000</td>\n",
       "      <td>267.000000</td>\n",
       "      <td>267.000000</td>\n",
       "      <td>267.000000</td>\n",
       "      <td>267.000000</td>\n",
       "      <td>267.000000</td>\n",
       "      <td>267.000000</td>\n",
       "      <td>267.000000</td>\n",
       "      <td>267.000000</td>\n",
       "      <td>267.000000</td>\n",
       "      <td>267.000000</td>\n",
       "      <td>267.000000</td>\n",
       "    </tr>\n",
       "    <tr>\n",
       "      <th>mean</th>\n",
       "      <td>26.992509</td>\n",
       "      <td>2.668103</td>\n",
       "      <td>3.875088</td>\n",
       "      <td>2.807905</td>\n",
       "      <td>3.892063</td>\n",
       "      <td>0.863065</td>\n",
       "      <td>0.815280</td>\n",
       "      <td>0.855050</td>\n",
       "      <td>0.814531</td>\n",
       "      <td>0.531358</td>\n",
       "      <td>0.508662</td>\n",
       "      <td>0.527215</td>\n",
       "      <td>0.508302</td>\n",
       "      <td>0.881694</td>\n",
       "      <td>0.829241</td>\n",
       "      <td>0.876576</td>\n",
       "      <td>0.828224</td>\n",
       "    </tr>\n",
       "    <tr>\n",
       "      <th>std</th>\n",
       "      <td>16.917978</td>\n",
       "      <td>1.551191</td>\n",
       "      <td>2.006606</td>\n",
       "      <td>1.574440</td>\n",
       "      <td>2.029594</td>\n",
       "      <td>0.074977</td>\n",
       "      <td>0.087416</td>\n",
       "      <td>0.075138</td>\n",
       "      <td>0.087509</td>\n",
       "      <td>0.110141</td>\n",
       "      <td>0.116280</td>\n",
       "      <td>0.110187</td>\n",
       "      <td>0.116311</td>\n",
       "      <td>0.069938</td>\n",
       "      <td>0.094138</td>\n",
       "      <td>0.072599</td>\n",
       "      <td>0.095351</td>\n",
       "    </tr>\n",
       "    <tr>\n",
       "      <th>min</th>\n",
       "      <td>0.000000</td>\n",
       "      <td>0.346431</td>\n",
       "      <td>0.548143</td>\n",
       "      <td>0.308241</td>\n",
       "      <td>0.540500</td>\n",
       "      <td>0.624240</td>\n",
       "      <td>0.585905</td>\n",
       "      <td>0.611414</td>\n",
       "      <td>0.559871</td>\n",
       "      <td>0.329355</td>\n",
       "      <td>0.315117</td>\n",
       "      <td>0.324433</td>\n",
       "      <td>0.306067</td>\n",
       "      <td>0.687145</td>\n",
       "      <td>0.560463</td>\n",
       "      <td>0.649235</td>\n",
       "      <td>0.563208</td>\n",
       "    </tr>\n",
       "    <tr>\n",
       "      <th>25%</th>\n",
       "      <td>13.000000</td>\n",
       "      <td>1.573207</td>\n",
       "      <td>2.516055</td>\n",
       "      <td>1.793309</td>\n",
       "      <td>2.556846</td>\n",
       "      <td>0.818214</td>\n",
       "      <td>0.756233</td>\n",
       "      <td>0.811779</td>\n",
       "      <td>0.756717</td>\n",
       "      <td>0.466579</td>\n",
       "      <td>0.439099</td>\n",
       "      <td>0.463400</td>\n",
       "      <td>0.436078</td>\n",
       "      <td>0.837426</td>\n",
       "      <td>0.759605</td>\n",
       "      <td>0.829149</td>\n",
       "      <td>0.760141</td>\n",
       "    </tr>\n",
       "    <tr>\n",
       "      <th>50%</th>\n",
       "      <td>26.000000</td>\n",
       "      <td>2.592050</td>\n",
       "      <td>3.752449</td>\n",
       "      <td>2.638603</td>\n",
       "      <td>3.682937</td>\n",
       "      <td>0.858922</td>\n",
       "      <td>0.804636</td>\n",
       "      <td>0.846012</td>\n",
       "      <td>0.803052</td>\n",
       "      <td>0.511255</td>\n",
       "      <td>0.481463</td>\n",
       "      <td>0.502895</td>\n",
       "      <td>0.479978</td>\n",
       "      <td>0.884258</td>\n",
       "      <td>0.828312</td>\n",
       "      <td>0.878614</td>\n",
       "      <td>0.825624</td>\n",
       "    </tr>\n",
       "    <tr>\n",
       "      <th>75%</th>\n",
       "      <td>39.500000</td>\n",
       "      <td>3.367126</td>\n",
       "      <td>4.938124</td>\n",
       "      <td>3.627508</td>\n",
       "      <td>4.889154</td>\n",
       "      <td>0.905743</td>\n",
       "      <td>0.868181</td>\n",
       "      <td>0.904304</td>\n",
       "      <td>0.868955</td>\n",
       "      <td>0.558526</td>\n",
       "      <td>0.536215</td>\n",
       "      <td>0.556884</td>\n",
       "      <td>0.535393</td>\n",
       "      <td>0.931196</td>\n",
       "      <td>0.898945</td>\n",
       "      <td>0.933035</td>\n",
       "      <td>0.899640</td>\n",
       "    </tr>\n",
       "    <tr>\n",
       "      <th>max</th>\n",
       "      <td>70.000000</td>\n",
       "      <td>11.034289</td>\n",
       "      <td>13.495268</td>\n",
       "      <td>10.570364</td>\n",
       "      <td>13.610494</td>\n",
       "      <td>0.986968</td>\n",
       "      <td>0.975969</td>\n",
       "      <td>0.986264</td>\n",
       "      <td>0.975350</td>\n",
       "      <td>0.816493</td>\n",
       "      <td>0.810791</td>\n",
       "      <td>0.812671</td>\n",
       "      <td>0.811701</td>\n",
       "      <td>0.988689</td>\n",
       "      <td>0.977175</td>\n",
       "      <td>0.988594</td>\n",
       "      <td>0.980172</td>\n",
       "    </tr>\n",
       "  </tbody>\n",
       "</table>\n",
       "</div>"
      ],
      "text/plain": [
       "       Unnamed: 0           0           1           2           3           4  \\\n",
       "count  267.000000  267.000000  267.000000  267.000000  267.000000  267.000000   \n",
       "mean    26.992509    2.668103    3.875088    2.807905    3.892063    0.863065   \n",
       "std     16.917978    1.551191    2.006606    1.574440    2.029594    0.074977   \n",
       "min      0.000000    0.346431    0.548143    0.308241    0.540500    0.624240   \n",
       "25%     13.000000    1.573207    2.516055    1.793309    2.556846    0.818214   \n",
       "50%     26.000000    2.592050    3.752449    2.638603    3.682937    0.858922   \n",
       "75%     39.500000    3.367126    4.938124    3.627508    4.889154    0.905743   \n",
       "max     70.000000   11.034289   13.495268   10.570364   13.610494    0.986968   \n",
       "\n",
       "                5           6           7           8           9          10  \\\n",
       "count  267.000000  267.000000  267.000000  267.000000  267.000000  267.000000   \n",
       "mean     0.815280    0.855050    0.814531    0.531358    0.508662    0.527215   \n",
       "std      0.087416    0.075138    0.087509    0.110141    0.116280    0.110187   \n",
       "min      0.585905    0.611414    0.559871    0.329355    0.315117    0.324433   \n",
       "25%      0.756233    0.811779    0.756717    0.466579    0.439099    0.463400   \n",
       "50%      0.804636    0.846012    0.803052    0.511255    0.481463    0.502895   \n",
       "75%      0.868181    0.904304    0.868955    0.558526    0.536215    0.556884   \n",
       "max      0.975969    0.986264    0.975350    0.816493    0.810791    0.812671   \n",
       "\n",
       "               11          12          13          14          15  \n",
       "count  267.000000  267.000000  267.000000  267.000000  267.000000  \n",
       "mean     0.508302    0.881694    0.829241    0.876576    0.828224  \n",
       "std      0.116311    0.069938    0.094138    0.072599    0.095351  \n",
       "min      0.306067    0.687145    0.560463    0.649235    0.563208  \n",
       "25%      0.436078    0.837426    0.759605    0.829149    0.760141  \n",
       "50%      0.479978    0.884258    0.828312    0.878614    0.825624  \n",
       "75%      0.535393    0.931196    0.898945    0.933035    0.899640  \n",
       "max      0.811701    0.988689    0.977175    0.988594    0.980172  "
      ]
     },
     "execution_count": 200,
     "metadata": {},
     "output_type": "execute_result"
    }
   ],
   "source": [
    "df.describe()"
   ]
  },
  {
   "cell_type": "code",
   "execution_count": 201,
   "metadata": {},
   "outputs": [],
   "source": [
    "df = df.rename(columns={'16': 'Class'})\n",
    "X = df.drop('Class',axis=1)\n",
    "y = df['Class']"
   ]
  },
  {
   "cell_type": "code",
   "execution_count": 202,
   "metadata": {},
   "outputs": [
    {
     "name": "stdout",
     "output_type": "stream",
     "text": [
      "<class 'pandas.core.frame.DataFrame'>\n",
      "Int64Index: 267 entries, 55 to 139\n",
      "Data columns (total 18 columns):\n",
      " #   Column      Non-Null Count  Dtype  \n",
      "---  ------      --------------  -----  \n",
      " 0   Unnamed: 0  267 non-null    int64  \n",
      " 1   0           267 non-null    float64\n",
      " 2   1           267 non-null    float64\n",
      " 3   2           267 non-null    float64\n",
      " 4   3           267 non-null    float64\n",
      " 5   4           267 non-null    float64\n",
      " 6   5           267 non-null    float64\n",
      " 7   6           267 non-null    float64\n",
      " 8   7           267 non-null    float64\n",
      " 9   8           267 non-null    float64\n",
      " 10  9           267 non-null    float64\n",
      " 11  10          267 non-null    float64\n",
      " 12  11          267 non-null    float64\n",
      " 13  12          267 non-null    float64\n",
      " 14  13          267 non-null    float64\n",
      " 15  14          267 non-null    float64\n",
      " 16  15          267 non-null    float64\n",
      " 17  Class       267 non-null    object \n",
      "dtypes: float64(16), int64(1), object(1)\n",
      "memory usage: 39.6+ KB\n"
     ]
    }
   ],
   "source": [
    "df.info()"
   ]
  },
  {
   "cell_type": "code",
   "execution_count": 203,
   "metadata": {},
   "outputs": [
    {
     "data": {
      "text/plain": [
       "Text(0.5, 1.0, 'Correlation between different fearures')"
      ]
     },
     "execution_count": 203,
     "metadata": {},
     "output_type": "execute_result"
    },
    {
     "data": {
      "image/png": "[encoded data removed]",
      "text/plain": [
       "<Figure size 720x720 with 2 Axes>"
      ]
     },
     "metadata": {
      "needs_background": "light"
     },
     "output_type": "display_data"
    }
   ],
   "source": [
    "correlation = df.corr()\n",
    "plt.figure(figsize=(10,10))\n",
    "sns.heatmap(correlation, vmax=1, square=True,annot=True,cmap='viridis')\n",
    "\n",
    "plt.title('Correlation between different fearures')"
   ]
  },
  {
   "cell_type": "code",
   "execution_count": 204,
   "metadata": {},
   "outputs": [
    {
     "data": {
      "text/html": [
       "<div>\n",
       "<style scoped>\n",
       "    .dataframe tbody tr th:only-of-type {\n",
       "        vertical-align: middle;\n",
       "    }\n",
       "\n",
       "    .dataframe tbody tr th {\n",
       "        vertical-align: top;\n",
       "    }\n",
       "\n",
       "    .dataframe thead th {\n",
       "        text-align: right;\n",
       "    }\n",
       "</style>\n",
       "<table border=\"1\" class=\"dataframe\">\n",
       "  <thead>\n",
       "    <tr style=\"text-align: right;\">\n",
       "      <th></th>\n",
       "      <th>Unnamed: 0</th>\n",
       "      <th>0</th>\n",
       "      <th>1</th>\n",
       "      <th>2</th>\n",
       "      <th>3</th>\n",
       "      <th>4</th>\n",
       "      <th>5</th>\n",
       "      <th>6</th>\n",
       "      <th>7</th>\n",
       "      <th>8</th>\n",
       "      <th>9</th>\n",
       "      <th>10</th>\n",
       "      <th>11</th>\n",
       "      <th>12</th>\n",
       "      <th>13</th>\n",
       "      <th>14</th>\n",
       "      <th>15</th>\n",
       "    </tr>\n",
       "  </thead>\n",
       "  <tbody>\n",
       "    <tr>\n",
       "      <th>55</th>\n",
       "      <td>7</td>\n",
       "      <td>3.578431</td>\n",
       "      <td>5.738178</td>\n",
       "      <td>4.155178</td>\n",
       "      <td>6.401000</td>\n",
       "      <td>0.891769</td>\n",
       "      <td>0.812550</td>\n",
       "      <td>0.849898</td>\n",
       "      <td>0.803133</td>\n",
       "      <td>0.529801</td>\n",
       "      <td>0.494392</td>\n",
       "      <td>0.512128</td>\n",
       "      <td>0.489236</td>\n",
       "      <td>0.905078</td>\n",
       "      <td>0.847847</td>\n",
       "      <td>0.889823</td>\n",
       "      <td>0.830273</td>\n",
       "    </tr>\n",
       "    <tr>\n",
       "      <th>110</th>\n",
       "      <td>8</td>\n",
       "      <td>5.161229</td>\n",
       "      <td>8.410227</td>\n",
       "      <td>7.181756</td>\n",
       "      <td>8.915033</td>\n",
       "      <td>0.814354</td>\n",
       "      <td>0.726338</td>\n",
       "      <td>0.752610</td>\n",
       "      <td>0.713467</td>\n",
       "      <td>0.481779</td>\n",
       "      <td>0.441061</td>\n",
       "      <td>0.453142</td>\n",
       "      <td>0.435758</td>\n",
       "      <td>0.831828</td>\n",
       "      <td>0.725754</td>\n",
       "      <td>0.765773</td>\n",
       "      <td>0.709292</td>\n",
       "    </tr>\n",
       "    <tr>\n",
       "      <th>182</th>\n",
       "      <td>34</td>\n",
       "      <td>1.325497</td>\n",
       "      <td>1.912700</td>\n",
       "      <td>1.383937</td>\n",
       "      <td>1.956288</td>\n",
       "      <td>0.847000</td>\n",
       "      <td>0.803835</td>\n",
       "      <td>0.843650</td>\n",
       "      <td>0.803725</td>\n",
       "      <td>0.437948</td>\n",
       "      <td>0.415533</td>\n",
       "      <td>0.435973</td>\n",
       "      <td>0.415557</td>\n",
       "      <td>0.880609</td>\n",
       "      <td>0.827742</td>\n",
       "      <td>0.875326</td>\n",
       "      <td>0.823816</td>\n",
       "    </tr>\n",
       "    <tr>\n",
       "      <th>138</th>\n",
       "      <td>36</td>\n",
       "      <td>4.715472</td>\n",
       "      <td>6.090396</td>\n",
       "      <td>4.326271</td>\n",
       "      <td>6.383022</td>\n",
       "      <td>0.762847</td>\n",
       "      <td>0.717909</td>\n",
       "      <td>0.771792</td>\n",
       "      <td>0.696535</td>\n",
       "      <td>0.448403</td>\n",
       "      <td>0.427950</td>\n",
       "      <td>0.452656</td>\n",
       "      <td>0.419168</td>\n",
       "      <td>0.770568</td>\n",
       "      <td>0.703581</td>\n",
       "      <td>0.789314</td>\n",
       "      <td>0.689340</td>\n",
       "    </tr>\n",
       "    <tr>\n",
       "      <th>29</th>\n",
       "      <td>29</td>\n",
       "      <td>1.178477</td>\n",
       "      <td>2.091457</td>\n",
       "      <td>1.415564</td>\n",
       "      <td>2.062576</td>\n",
       "      <td>0.918316</td>\n",
       "      <td>0.896316</td>\n",
       "      <td>0.951823</td>\n",
       "      <td>0.898613</td>\n",
       "      <td>0.720120</td>\n",
       "      <td>0.712422</td>\n",
       "      <td>0.716356</td>\n",
       "      <td>0.712937</td>\n",
       "      <td>0.979947</td>\n",
       "      <td>0.964489</td>\n",
       "      <td>0.975938</td>\n",
       "      <td>0.964980</td>\n",
       "    </tr>\n",
       "  </tbody>\n",
       "</table>\n",
       "</div>"
      ],
      "text/plain": [
       "     Unnamed: 0         0         1         2         3         4         5  \\\n",
       "55            7  3.578431  5.738178  4.155178  6.401000  0.891769  0.812550   \n",
       "110           8  5.161229  8.410227  7.181756  8.915033  0.814354  0.726338   \n",
       "182          34  1.325497  1.912700  1.383937  1.956288  0.847000  0.803835   \n",
       "138          36  4.715472  6.090396  4.326271  6.383022  0.762847  0.717909   \n",
       "29           29  1.178477  2.091457  1.415564  2.062576  0.918316  0.896316   \n",
       "\n",
       "            6         7         8         9        10        11        12  \\\n",
       "55   0.849898  0.803133  0.529801  0.494392  0.512128  0.489236  0.905078   \n",
       "110  0.752610  0.713467  0.481779  0.441061  0.453142  0.435758  0.831828   \n",
       "182  0.843650  0.803725  0.437948  0.415533  0.435973  0.415557  0.880609   \n",
       "138  0.771792  0.696535  0.448403  0.427950  0.452656  0.419168  0.770568   \n",
       "29   0.951823  0.898613  0.720120  0.712422  0.716356  0.712937  0.979947   \n",
       "\n",
       "           13        14        15  \n",
       "55   0.847847  0.889823  0.830273  \n",
       "110  0.725754  0.765773  0.709292  \n",
       "182  0.827742  0.875326  0.823816  \n",
       "138  0.703581  0.789314  0.689340  \n",
       "29   0.964489  0.975938  0.964980  "
      ]
     },
     "execution_count": 204,
     "metadata": {},
     "output_type": "execute_result"
    }
   ],
   "source": [
    "X.head()"
   ]
  },
  {
   "cell_type": "code",
   "execution_count": 205,
   "metadata": {},
   "outputs": [
    {
     "data": {
      "text/plain": [
       "55     Papaya Black Spot\n",
       "110     Papaya Leaf Curl\n",
       "182      Papaya Ringspot\n",
       "138     Papaya Leaf Curl\n",
       "29     Fresh Papaya Leaf\n",
       "Name: Class, dtype: object"
      ]
     },
     "execution_count": 205,
     "metadata": {},
     "output_type": "execute_result"
    }
   ],
   "source": [
    "y.head()"
   ]
  },
  {
   "cell_type": "markdown",
   "metadata": {},
   "source": [
    "# Feature Scaling"
   ]
  },
  {
   "cell_type": "code",
   "execution_count": 206,
   "metadata": {},
   "outputs": [],
   "source": [
    "from sklearn.preprocessing import StandardScaler,RobustScaler,MinMaxScaler,MaxAbsScaler\n",
    "  \n",
    "scaler = MaxAbsScaler()\n",
    "\n",
    "X = scaler.fit_transform(X)\n",
    "\n",
    "X = pd.DataFrame(X)"
   ]
  },
  {
   "cell_type": "code",
   "execution_count": 207,
   "metadata": {},
   "outputs": [
    {
     "data": {
      "text/html": [
       "<div>\n",
       "<style scoped>\n",
       "    .dataframe tbody tr th:only-of-type {\n",
       "        vertical-align: middle;\n",
       "    }\n",
       "\n",
       "    .dataframe tbody tr th {\n",
       "        vertical-align: top;\n",
       "    }\n",
       "\n",
       "    .dataframe thead th {\n",
       "        text-align: right;\n",
       "    }\n",
       "</style>\n",
       "<table border=\"1\" class=\"dataframe\">\n",
       "  <thead>\n",
       "    <tr style=\"text-align: right;\">\n",
       "      <th></th>\n",
       "      <th>0</th>\n",
       "      <th>1</th>\n",
       "      <th>2</th>\n",
       "      <th>3</th>\n",
       "      <th>4</th>\n",
       "      <th>5</th>\n",
       "      <th>6</th>\n",
       "      <th>7</th>\n",
       "      <th>8</th>\n",
       "      <th>9</th>\n",
       "      <th>10</th>\n",
       "      <th>11</th>\n",
       "      <th>12</th>\n",
       "      <th>13</th>\n",
       "      <th>14</th>\n",
       "      <th>15</th>\n",
       "      <th>16</th>\n",
       "    </tr>\n",
       "  </thead>\n",
       "  <tbody>\n",
       "    <tr>\n",
       "      <th>0</th>\n",
       "      <td>0.100000</td>\n",
       "      <td>0.324301</td>\n",
       "      <td>0.425199</td>\n",
       "      <td>0.393097</td>\n",
       "      <td>0.470299</td>\n",
       "      <td>0.903543</td>\n",
       "      <td>0.832557</td>\n",
       "      <td>0.861735</td>\n",
       "      <td>0.823430</td>\n",
       "      <td>0.648874</td>\n",
       "      <td>0.609766</td>\n",
       "      <td>0.630179</td>\n",
       "      <td>0.602729</td>\n",
       "      <td>0.915433</td>\n",
       "      <td>0.867651</td>\n",
       "      <td>0.900090</td>\n",
       "      <td>0.847068</td>\n",
       "    </tr>\n",
       "    <tr>\n",
       "      <th>1</th>\n",
       "      <td>0.114286</td>\n",
       "      <td>0.467745</td>\n",
       "      <td>0.623198</td>\n",
       "      <td>0.679424</td>\n",
       "      <td>0.655012</td>\n",
       "      <td>0.825107</td>\n",
       "      <td>0.744222</td>\n",
       "      <td>0.763092</td>\n",
       "      <td>0.731498</td>\n",
       "      <td>0.590060</td>\n",
       "      <td>0.543989</td>\n",
       "      <td>0.557596</td>\n",
       "      <td>0.536846</td>\n",
       "      <td>0.841345</td>\n",
       "      <td>0.742706</td>\n",
       "      <td>0.774608</td>\n",
       "      <td>0.723641</td>\n",
       "    </tr>\n",
       "    <tr>\n",
       "      <th>2</th>\n",
       "      <td>0.485714</td>\n",
       "      <td>0.120125</td>\n",
       "      <td>0.141731</td>\n",
       "      <td>0.130926</td>\n",
       "      <td>0.143734</td>\n",
       "      <td>0.858183</td>\n",
       "      <td>0.823628</td>\n",
       "      <td>0.855399</td>\n",
       "      <td>0.824038</td>\n",
       "      <td>0.536377</td>\n",
       "      <td>0.512503</td>\n",
       "      <td>0.536470</td>\n",
       "      <td>0.511958</td>\n",
       "      <td>0.890684</td>\n",
       "      <td>0.847076</td>\n",
       "      <td>0.885426</td>\n",
       "      <td>0.840481</td>\n",
       "    </tr>\n",
       "    <tr>\n",
       "      <th>3</th>\n",
       "      <td>0.514286</td>\n",
       "      <td>0.427347</td>\n",
       "      <td>0.451299</td>\n",
       "      <td>0.409283</td>\n",
       "      <td>0.468978</td>\n",
       "      <td>0.772919</td>\n",
       "      <td>0.735585</td>\n",
       "      <td>0.782541</td>\n",
       "      <td>0.714139</td>\n",
       "      <td>0.549182</td>\n",
       "      <td>0.527818</td>\n",
       "      <td>0.556998</td>\n",
       "      <td>0.516407</td>\n",
       "      <td>0.779384</td>\n",
       "      <td>0.720016</td>\n",
       "      <td>0.798421</td>\n",
       "      <td>0.703285</td>\n",
       "    </tr>\n",
       "    <tr>\n",
       "      <th>4</th>\n",
       "      <td>0.414286</td>\n",
       "      <td>0.106801</td>\n",
       "      <td>0.154977</td>\n",
       "      <td>0.133918</td>\n",
       "      <td>0.151543</td>\n",
       "      <td>0.930441</td>\n",
       "      <td>0.918386</td>\n",
       "      <td>0.965080</td>\n",
       "      <td>0.921324</td>\n",
       "      <td>0.881967</td>\n",
       "      <td>0.878676</td>\n",
       "      <td>0.881483</td>\n",
       "      <td>0.878324</td>\n",
       "      <td>0.991158</td>\n",
       "      <td>0.987018</td>\n",
       "      <td>0.987198</td>\n",
       "      <td>0.984501</td>\n",
       "    </tr>\n",
       "  </tbody>\n",
       "</table>\n",
       "</div>"
      ],
      "text/plain": [
       "         0         1         2         3         4         5         6   \\\n",
       "0  0.100000  0.324301  0.425199  0.393097  0.470299  0.903543  0.832557   \n",
       "1  0.114286  0.467745  0.623198  0.679424  0.655012  0.825107  0.744222   \n",
       "2  0.485714  0.120125  0.141731  0.130926  0.143734  0.858183  0.823628   \n",
       "3  0.514286  0.427347  0.451299  0.409283  0.468978  0.772919  0.735585   \n",
       "4  0.414286  0.106801  0.154977  0.133918  0.151543  0.930441  0.918386   \n",
       "\n",
       "         7         8         9         10        11        12        13  \\\n",
       "0  0.861735  0.823430  0.648874  0.609766  0.630179  0.602729  0.915433   \n",
       "1  0.763092  0.731498  0.590060  0.543989  0.557596  0.536846  0.841345   \n",
       "2  0.855399  0.824038  0.536377  0.512503  0.536470  0.511958  0.890684   \n",
       "3  0.782541  0.714139  0.549182  0.527818  0.556998  0.516407  0.779384   \n",
       "4  0.965080  0.921324  0.881967  0.878676  0.881483  0.878324  0.991158   \n",
       "\n",
       "         14        15        16  \n",
       "0  0.867651  0.900090  0.847068  \n",
       "1  0.742706  0.774608  0.723641  \n",
       "2  0.847076  0.885426  0.840481  \n",
       "3  0.720016  0.798421  0.703285  \n",
       "4  0.987018  0.987198  0.984501  "
      ]
     },
     "execution_count": 207,
     "metadata": {},
     "output_type": "execute_result"
    }
   ],
   "source": [
    "X.head()"
   ]
  },
  {
   "cell_type": "code",
   "execution_count": 208,
   "metadata": {},
   "outputs": [
    {
     "data": {
      "text/plain": [
       "((213, 17), (54, 17))"
      ]
     },
     "execution_count": 208,
     "metadata": {},
     "output_type": "execute_result"
    }
   ],
   "source": [
    "from sklearn.model_selection import train_test_split\n",
    "  \n",
    "X_train, X_test, y_train, y_test = train_test_split(\n",
    "      X, y , test_size = 0.20, random_state=None)\n",
    "\n",
    "X_train.shape, X_test.shape\n"
   ]
  },
  {
   "cell_type": "code",
   "execution_count": 209,
   "metadata": {},
   "outputs": [
    {
     "data": {
      "text/html": [
       "<div>\n",
       "<style scoped>\n",
       "    .dataframe tbody tr th:only-of-type {\n",
       "        vertical-align: middle;\n",
       "    }\n",
       "\n",
       "    .dataframe tbody tr th {\n",
       "        vertical-align: top;\n",
       "    }\n",
       "\n",
       "    .dataframe thead th {\n",
       "        text-align: right;\n",
       "    }\n",
       "</style>\n",
       "<table border=\"1\" class=\"dataframe\">\n",
       "  <thead>\n",
       "    <tr style=\"text-align: right;\">\n",
       "      <th></th>\n",
       "      <th>0</th>\n",
       "      <th>1</th>\n",
       "      <th>2</th>\n",
       "      <th>3</th>\n",
       "      <th>4</th>\n",
       "      <th>5</th>\n",
       "      <th>6</th>\n",
       "      <th>7</th>\n",
       "      <th>8</th>\n",
       "      <th>9</th>\n",
       "      <th>10</th>\n",
       "      <th>11</th>\n",
       "      <th>12</th>\n",
       "      <th>13</th>\n",
       "      <th>14</th>\n",
       "      <th>15</th>\n",
       "      <th>16</th>\n",
       "    </tr>\n",
       "  </thead>\n",
       "  <tbody>\n",
       "    <tr>\n",
       "      <th>155</th>\n",
       "      <td>0.357143</td>\n",
       "      <td>0.460341</td>\n",
       "      <td>0.542044</td>\n",
       "      <td>0.497280</td>\n",
       "      <td>0.502500</td>\n",
       "      <td>0.835385</td>\n",
       "      <td>0.784584</td>\n",
       "      <td>0.824793</td>\n",
       "      <td>0.793702</td>\n",
       "      <td>0.646109</td>\n",
       "      <td>0.615477</td>\n",
       "      <td>0.640953</td>\n",
       "      <td>0.621306</td>\n",
       "      <td>0.835247</td>\n",
       "      <td>0.766704</td>\n",
       "      <td>0.829193</td>\n",
       "      <td>0.780982</td>\n",
       "    </tr>\n",
       "    <tr>\n",
       "      <th>86</th>\n",
       "      <td>0.657143</td>\n",
       "      <td>0.077818</td>\n",
       "      <td>0.098360</td>\n",
       "      <td>0.076043</td>\n",
       "      <td>0.101035</td>\n",
       "      <td>0.989375</td>\n",
       "      <td>0.984865</td>\n",
       "      <td>0.986472</td>\n",
       "      <td>0.985969</td>\n",
       "      <td>0.908054</td>\n",
       "      <td>0.907837</td>\n",
       "      <td>0.911899</td>\n",
       "      <td>0.906627</td>\n",
       "      <td>0.992423</td>\n",
       "      <td>0.993682</td>\n",
       "      <td>0.993733</td>\n",
       "      <td>0.989579</td>\n",
       "    </tr>\n",
       "    <tr>\n",
       "      <th>69</th>\n",
       "      <td>0.171429</td>\n",
       "      <td>0.264085</td>\n",
       "      <td>0.312397</td>\n",
       "      <td>0.299436</td>\n",
       "      <td>0.304668</td>\n",
       "      <td>0.829104</td>\n",
       "      <td>0.793273</td>\n",
       "      <td>0.822415</td>\n",
       "      <td>0.789710</td>\n",
       "      <td>0.515512</td>\n",
       "      <td>0.496502</td>\n",
       "      <td>0.514606</td>\n",
       "      <td>0.493951</td>\n",
       "      <td>0.904645</td>\n",
       "      <td>0.867009</td>\n",
       "      <td>0.895514</td>\n",
       "      <td>0.866917</td>\n",
       "    </tr>\n",
       "    <tr>\n",
       "      <th>95</th>\n",
       "      <td>0.300000</td>\n",
       "      <td>0.227635</td>\n",
       "      <td>0.278057</td>\n",
       "      <td>0.273897</td>\n",
       "      <td>0.255742</td>\n",
       "      <td>0.845127</td>\n",
       "      <td>0.794566</td>\n",
       "      <td>0.825002</td>\n",
       "      <td>0.806951</td>\n",
       "      <td>0.605944</td>\n",
       "      <td>0.572992</td>\n",
       "      <td>0.595158</td>\n",
       "      <td>0.579314</td>\n",
       "      <td>0.822539</td>\n",
       "      <td>0.737603</td>\n",
       "      <td>0.793609</td>\n",
       "      <td>0.755987</td>\n",
       "    </tr>\n",
       "    <tr>\n",
       "      <th>249</th>\n",
       "      <td>0.514286</td>\n",
       "      <td>0.317417</td>\n",
       "      <td>0.378761</td>\n",
       "      <td>0.366565</td>\n",
       "      <td>0.371805</td>\n",
       "      <td>0.855478</td>\n",
       "      <td>0.805987</td>\n",
       "      <td>0.842543</td>\n",
       "      <td>0.810021</td>\n",
       "      <td>0.604307</td>\n",
       "      <td>0.572432</td>\n",
       "      <td>0.598583</td>\n",
       "      <td>0.573886</td>\n",
       "      <td>0.867825</td>\n",
       "      <td>0.811110</td>\n",
       "      <td>0.852580</td>\n",
       "      <td>0.810730</td>\n",
       "    </tr>\n",
       "  </tbody>\n",
       "</table>\n",
       "</div>"
      ],
      "text/plain": [
       "           0         1         2         3         4         5         6   \\\n",
       "155  0.357143  0.460341  0.542044  0.497280  0.502500  0.835385  0.784584   \n",
       "86   0.657143  0.077818  0.098360  0.076043  0.101035  0.989375  0.984865   \n",
       "69   0.171429  0.264085  0.312397  0.299436  0.304668  0.829104  0.793273   \n",
       "95   0.300000  0.227635  0.278057  0.273897  0.255742  0.845127  0.794566   \n",
       "249  0.514286  0.317417  0.378761  0.366565  0.371805  0.855478  0.805987   \n",
       "\n",
       "           7         8         9         10        11        12        13  \\\n",
       "155  0.824793  0.793702  0.646109  0.615477  0.640953  0.621306  0.835247   \n",
       "86   0.986472  0.985969  0.908054  0.907837  0.911899  0.906627  0.992423   \n",
       "69   0.822415  0.789710  0.515512  0.496502  0.514606  0.493951  0.904645   \n",
       "95   0.825002  0.806951  0.605944  0.572992  0.595158  0.579314  0.822539   \n",
       "249  0.842543  0.810021  0.604307  0.572432  0.598583  0.573886  0.867825   \n",
       "\n",
       "           14        15        16  \n",
       "155  0.766704  0.829193  0.780982  \n",
       "86   0.993682  0.993733  0.989579  \n",
       "69   0.867009  0.895514  0.866917  \n",
       "95   0.737603  0.793609  0.755987  \n",
       "249  0.811110  0.852580  0.810730  "
      ]
     },
     "execution_count": 209,
     "metadata": {},
     "output_type": "execute_result"
    }
   ],
   "source": [
    "X_train.head()"
   ]
  },
  {
   "cell_type": "markdown",
   "metadata": {},
   "source": [
    "# Model training"
   ]
  },
  {
   "cell_type": "markdown",
   "metadata": {},
   "source": [
    "## KNN"
   ]
  },
  {
   "cell_type": "code",
   "execution_count": 210,
   "metadata": {},
   "outputs": [
    {
     "data": {
      "image/png": "[encoded data removed]",
      "text/plain": [
       "<Figure size 432x288 with 2 Axes>"
      ]
     },
     "metadata": {
      "needs_background": "light"
     },
     "output_type": "display_data"
    }
   ],
   "source": [
    "# Remember that we are trying to come up\n",
    "# with a model to predict whether\n",
    "# someone will TARGET CLASS or not.\n",
    "# We'll start with k = 1.\n",
    "\n",
    "from sklearn.neighbors import KNeighborsClassifier\n",
    "  \n",
    "knn = KNeighborsClassifier(n_neighbors = 1)\n",
    "  \n",
    "knn.fit(X_train, y_train)\n",
    "pred = knn.predict(X_test)\n",
    "\n",
    "plot_confusion_matrix(knn, X_test, y_test)\n",
    "plt.xticks(rotation = 90)\n",
    "plt.show()\n",
    "\n",
    "# Predictions and Evaluations\n",
    "# Let's evaluate our KNN model ! \n"
   ]
  },
  {
   "cell_type": "code",
   "execution_count": 211,
   "metadata": {},
   "outputs": [
    {
     "name": "stdout",
     "output_type": "stream",
     "text": [
      "                   precision    recall  f1-score   support\n",
      "\n",
      "Fresh Papaya Leaf       1.00      1.00      1.00        14\n",
      "Papaya Black Spot       0.89      0.62      0.73        13\n",
      " Papaya Leaf Curl       0.38      0.43      0.40         7\n",
      "  Papaya Ringspot       0.83      0.83      0.83        12\n",
      "   Powdery Mildew       0.36      0.50      0.42         8\n",
      "\n",
      "         accuracy                           0.72        54\n",
      "        macro avg       0.69      0.68      0.68        54\n",
      "     weighted avg       0.76      0.72      0.73        54\n",
      "\n"
     ]
    }
   ],
   "source": [
    "from sklearn.metrics import classification_report  \n",
    "print(classification_report(y_test, pred))\n"
   ]
  },
  {
   "cell_type": "code",
   "execution_count": 212,
   "metadata": {},
   "outputs": [],
   "source": [
    "from sklearn import metrics\n",
    "error_rate = []\n",
    "scores = []\n",
    "\n",
    "k=50\n",
    "max_accuracy=0\n",
    "best_k=1\n",
    "\n",
    "for i in range(1, k):\n",
    "      \n",
    "    knn = KNeighborsClassifier(n_neighbors = i)\n",
    "    knn.fit(X_train, y_train)\n",
    "    pred_i = knn.predict(X_test)\n",
    "    error_rate.append(np.mean(pred_i != y_test))\n",
    "    y_predict = knn.predict(X_test)\n",
    "    curr_accuracy=metrics.accuracy_score(y_test,y_predict)\n",
    "    if curr_accuracy>max_accuracy:\n",
    "        max_accuracy=curr_accuracy\n",
    "        best_k=i\n",
    "    scores.append(curr_accuracy)\n",
    "  \n"
   ]
  },
  {
   "cell_type": "code",
   "execution_count": 213,
   "metadata": {},
   "outputs": [
    {
     "data": {
      "text/plain": [
       "Text(0, 0.5, 'Error Rate')"
      ]
     },
     "execution_count": 213,
     "metadata": {},
     "output_type": "execute_result"
    },
    {
     "data": {
      "image/png": "[encoded data removed]",
      "text/plain": [
       "<Figure size 720x432 with 1 Axes>"
      ]
     },
     "metadata": {
      "needs_background": "light"
     },
     "output_type": "display_data"
    }
   ],
   "source": [
    "plt.figure(figsize =(10, 6))\n",
    "plt.plot(range(1, k), error_rate, color ='blue',\n",
    "                linestyle ='dashed', marker ='o',\n",
    "         markerfacecolor ='red', markersize = 10)\n",
    "  \n",
    "plt.title('Error Rate vs. K Value')\n",
    "plt.xlabel('K')\n",
    "plt.ylabel('Error Rate')"
   ]
  },
  {
   "cell_type": "code",
   "execution_count": 214,
   "metadata": {},
   "outputs": [
    {
     "data": {
      "text/plain": [
       "Text(0, 0.5, 'Accuracy')"
      ]
     },
     "execution_count": 214,
     "metadata": {},
     "output_type": "execute_result"
    },
    {
     "data": {
      "image/png": "[encoded data removed]",
      "text/plain": [
       "<Figure size 432x288 with 1 Axes>"
      ]
     },
     "metadata": {
      "needs_background": "light"
     },
     "output_type": "display_data"
    }
   ],
   "source": [
    "plt.plot(np.arange(1,k),scores)\n",
    "plt.title('Varition of accuracy with K value')\n",
    "plt.xlabel('K values')\n",
    "plt.ylabel('Accuracy')"
   ]
  },
  {
   "cell_type": "code",
   "execution_count": 215,
   "metadata": {},
   "outputs": [
    {
     "name": "stdout",
     "output_type": "stream",
     "text": [
      "                   precision    recall  f1-score   support\n",
      "\n",
      "Fresh Papaya Leaf       1.00      1.00      1.00        14\n",
      "Papaya Black Spot       0.79      0.85      0.81        13\n",
      " Papaya Leaf Curl       0.75      0.43      0.55         7\n",
      "  Papaya Ringspot       1.00      0.83      0.91        12\n",
      "   Powdery Mildew       0.58      0.88      0.70         8\n",
      "\n",
      "         accuracy                           0.83        54\n",
      "        macro avg       0.82      0.80      0.79        54\n",
      "     weighted avg       0.85      0.83      0.83        54\n",
      "\n",
      "Accuracy for k = 7 is 83.33333333333334%\n"
     ]
    }
   ],
   "source": [
    "knn = KNeighborsClassifier(n_neighbors = best_k)\n",
    "  \n",
    "knn.fit(X_train, y_train)\n",
    "pred = knn.predict(X_test)\n",
    "from sklearn.metrics import classification_report  \n",
    "print(classification_report(y_test, pred))\n",
    "\n",
    "print(\"Accuracy for k = {} is {}%\".format(best_k,max_accuracy*100))"
   ]
  },
  {
   "cell_type": "markdown",
   "metadata": {},
   "source": [
    "## SVM"
   ]
  },
  {
   "cell_type": "code",
   "execution_count": 216,
   "metadata": {},
   "outputs": [
    {
     "name": "stdout",
     "output_type": "stream",
     "text": [
      "best hyperlink parameters\n",
      "{'C': 15, 'kernel': 'poly'}\n",
      "Accuracy Score:\n",
      "                   precision    recall  f1-score   support\n",
      "\n",
      "Fresh Papaya Leaf       0.93      1.00      0.97        14\n",
      "Papaya Black Spot       0.86      0.92      0.89        13\n",
      " Papaya Leaf Curl       0.83      0.71      0.77         7\n",
      "  Papaya Ringspot       1.00      0.83      0.91        12\n",
      "   Powdery Mildew       0.78      0.88      0.82         8\n",
      "\n",
      "         accuracy                           0.89        54\n",
      "        macro avg       0.88      0.87      0.87        54\n",
      "     weighted avg       0.89      0.89      0.89        54\n",
      "\n"
     ]
    }
   ],
   "source": [
    "from sklearn.svm import SVC\n",
    "svm_model= SVC()\n",
    "tuned_parameters = {\n",
    " 'C': (np.arange(1,30)) , 'kernel': ['linear'],\n",
    " 'C': (np.arange(1,30)) ,  'kernel': ['rbf'],\n",
    " 'C':(np.arange(1,30)) , 'kernel':['poly']\n",
    "                   }\n",
    "from sklearn.model_selection import GridSearchCV\n",
    "\n",
    "model_svm = GridSearchCV(svm_model, tuned_parameters,cv=10,scoring='accuracy')\n",
    "\n",
    "model_svm.fit(X_train,y_train)\n",
    "print('best hyperlink parameters')\n",
    "print(model_svm.best_params_)\n",
    "y_pred= model_svm.predict(X_test)\n",
    "print('Accuracy Score:')\n",
    "\n",
    "print(classification_report(y_test, y_pred))"
   ]
  },
  {
   "cell_type": "code",
   "execution_count": 217,
   "metadata": {},
   "outputs": [
    {
     "name": "stdout",
     "output_type": "stream",
     "text": [
      "Model accuracy score: 88.8889%\n"
     ]
    }
   ],
   "source": [
    "print('Model accuracy score: {0:0.4f}%'. format(accuracy_score(y_pred,y_test)*100))"
   ]
  },
  {
   "cell_type": "markdown",
   "metadata": {},
   "source": [
    "## Naive Bayes"
   ]
  },
  {
   "cell_type": "code",
   "execution_count": 218,
   "metadata": {},
   "outputs": [
    {
     "name": "stdout",
     "output_type": "stream",
     "text": [
      "                   precision    recall  f1-score   support\n",
      "\n",
      "Fresh Papaya Leaf       1.00      1.00      1.00        14\n",
      "Papaya Black Spot       0.45      0.38      0.42        13\n",
      " Papaya Leaf Curl       0.14      0.14      0.14         7\n",
      "  Papaya Ringspot       0.75      0.75      0.75        12\n",
      "   Powdery Mildew       0.50      0.62      0.56         8\n",
      "\n",
      "         accuracy                           0.63        54\n",
      "        macro avg       0.57      0.58      0.57        54\n",
      "     weighted avg       0.63      0.63      0.63        54\n",
      "\n"
     ]
    }
   ],
   "source": [
    "from sklearn.naive_bayes import GaussianNB,CategoricalNB\n",
    "\n",
    "# instantiate the model\n",
    "gnb = GaussianNB()\n",
    "\n",
    "# fit the model\n",
    "gnb.fit(X_train, y_train)\n",
    "y_pred = gnb.predict(X_test)\n",
    "print(classification_report(y_test, y_pred))\n",
    "\n"
   ]
  },
  {
   "cell_type": "code",
   "execution_count": 219,
   "metadata": {},
   "outputs": [
    {
     "name": "stdout",
     "output_type": "stream",
     "text": [
      "Model accuracy score: 62.9630%\n"
     ]
    }
   ],
   "source": [
    "print('Model accuracy score: {0:0.4f}%'. format(accuracy_score(y_test, y_pred)*100))"
   ]
  },
  {
   "cell_type": "markdown",
   "metadata": {},
   "source": [
    "## Logistic regression"
   ]
  },
  {
   "cell_type": "code",
   "execution_count": 220,
   "metadata": {},
   "outputs": [
    {
     "name": "stdout",
     "output_type": "stream",
     "text": [
      "                   precision    recall  f1-score   support\n",
      "\n",
      "Fresh Papaya Leaf       1.00      1.00      1.00        14\n",
      "Papaya Black Spot       0.45      0.38      0.42        13\n",
      " Papaya Leaf Curl       0.14      0.14      0.14         7\n",
      "  Papaya Ringspot       0.75      0.75      0.75        12\n",
      "   Powdery Mildew       0.50      0.62      0.56         8\n",
      "\n",
      "         accuracy                           0.63        54\n",
      "        macro avg       0.57      0.58      0.57        54\n",
      "     weighted avg       0.63      0.63      0.63        54\n",
      "\n"
     ]
    }
   ],
   "source": [
    "from sklearn.linear_model import LogisticRegression\n",
    "\n",
    "lr = LogisticRegression(solver='lbfgs', max_iter=1000)\n",
    "\n",
    "# fit the model\n",
    "lr.fit(X_train, y_train)\n",
    "y_pred = gnb.predict(X_test)\n",
    "\n",
    "print(classification_report(y_test, y_pred))\n"
   ]
  },
  {
   "cell_type": "code",
   "execution_count": 221,
   "metadata": {},
   "outputs": [
    {
     "name": "stdout",
     "output_type": "stream",
     "text": [
      "Model accuracy score: 62.9630%\n"
     ]
    }
   ],
   "source": [
    "print('Model accuracy score: {0:0.4f}%'. format(accuracy_score(y_test, y_pred)*100))"
   ]
  },
  {
   "cell_type": "markdown",
   "metadata": {},
   "source": [
    "# K-Fold Cross Validation"
   ]
  },
  {
   "cell_type": "code",
   "execution_count": 222,
   "metadata": {},
   "outputs": [
    {
     "name": "stdout",
     "output_type": "stream",
     "text": [
      "Fold:1, Train set: 200, Test set:67\n",
      "Fold:2, Train set: 200, Test set:67\n",
      "Fold:3, Train set: 200, Test set:67\n",
      "Fold:4, Train set: 201, Test set:66\n"
     ]
    }
   ],
   "source": [
    "from sklearn.model_selection import KFold, StratifiedKFold\n",
    "\n",
    "kf = StratifiedKFold(n_splits=4, shuffle=True, random_state=42)\n",
    "\n",
    "cnt = 1\n",
    "# split()  method generate indices to split data into training and test set.\n",
    "for train_index, test_index in kf.split(X, y):\n",
    "    print(f'Fold:{cnt}, Train set: {len(train_index)}, Test set:{len(test_index)}')\n",
    "    cnt += 1\n"
   ]
  },
  {
   "cell_type": "code",
   "execution_count": 223,
   "metadata": {},
   "outputs": [
    {
     "name": "stdout",
     "output_type": "stream",
     "text": [
      "Scores for each fold are:\n",
      "[0.53731343 0.58208955 0.58208955 0.66666667]\n",
      "Model accuracy score for Logistic Regression: 59.2040%\n"
     ]
    }
   ],
   "source": [
    "score = cross_val_score(lr, X, y, cv= kf, scoring=\"accuracy\")\n",
    "print('Scores for each fold are:')\n",
    "print(score)\n",
    "print('Model accuracy score for Logistic Regression: {0:0.4f}%'.format(score.mean()*100))"
   ]
  },
  {
   "cell_type": "code",
   "execution_count": 224,
   "metadata": {},
   "outputs": [
    {
     "name": "stdout",
     "output_type": "stream",
     "text": [
      "Scores for each fold are:\n",
      "[0.64179104 0.64179104 0.6119403  0.57575758]\n",
      "Model accuracy score for Gaussian Naive Bayes: 61.7820%\n"
     ]
    }
   ],
   "source": [
    "score = cross_val_score(gnb, X, y, cv= kf, scoring=\"accuracy\")\n",
    "print('Scores for each fold are:')\n",
    "print(score)\n",
    "print('Model accuracy score for Gaussian Naive Bayes: {0:0.4f}%'.format(score.mean()*100))"
   ]
  }
 ],
 "metadata": {
  "kernelspec": {
   "display_name": "Python 3",
   "language": "python",
   "name": "python3"
  },
  "language_info": {
   "codemirror_mode": {
    "name": "ipython",
    "version": 3
   },
   "file_extension": ".py",
   "mimetype": "text/x-python",
   "name": "python",
   "nbconvert_exporter": "python",
   "pygments_lexer": "ipython3",
   "version": "3.7.3"
  }
 },
 "nbformat": 4,
 "nbformat_minor": 4
}
