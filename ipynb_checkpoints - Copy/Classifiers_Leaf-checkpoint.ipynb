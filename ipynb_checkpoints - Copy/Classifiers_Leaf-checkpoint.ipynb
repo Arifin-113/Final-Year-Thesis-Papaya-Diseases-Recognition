{
 "cells": [
  {
   "cell_type": "code",
   "execution_count": 29,
   "metadata": {},
   "outputs": [],
   "source": [
    "import numpy as np\n",
    "import pandas as pd\n",
    "import matplotlib.pyplot as plt\n",
    "import seaborn as sns\n",
    "from sklearn.metrics import accuracy_score\n",
    "from sklearn.metrics import plot_confusion_matrix\n",
    "from sklearn.model_selection import cross_val_score\n",
    "from sklearn.utils import shuffle"
   ]
  },
  {
   "cell_type": "code",
   "execution_count": 30,
   "metadata": {},
   "outputs": [
    {
     "data": {
      "text/html": [
       "<div>\n",
       "<style scoped>\n",
       "    .dataframe tbody tr th:only-of-type {\n",
       "        vertical-align: middle;\n",
       "    }\n",
       "\n",
       "    .dataframe tbody tr th {\n",
       "        vertical-align: top;\n",
       "    }\n",
       "\n",
       "    .dataframe thead th {\n",
       "        text-align: right;\n",
       "    }\n",
       "</style>\n",
       "<table border=\"1\" class=\"dataframe\">\n",
       "  <thead>\n",
       "    <tr style=\"text-align: right;\">\n",
       "      <th></th>\n",
       "      <th>Unnamed: 0</th>\n",
       "      <th>0</th>\n",
       "      <th>1</th>\n",
       "      <th>2</th>\n",
       "      <th>3</th>\n",
       "      <th>4</th>\n",
       "      <th>5</th>\n",
       "      <th>6</th>\n",
       "      <th>7</th>\n",
       "      <th>8</th>\n",
       "      <th>9</th>\n",
       "      <th>10</th>\n",
       "      <th>11</th>\n",
       "      <th>12</th>\n",
       "      <th>13</th>\n",
       "      <th>14</th>\n",
       "      <th>15</th>\n",
       "      <th>16</th>\n",
       "    </tr>\n",
       "  </thead>\n",
       "  <tbody>\n",
       "    <tr>\n",
       "      <th>133</th>\n",
       "      <td>15</td>\n",
       "      <td>4.625980</td>\n",
       "      <td>5.230481</td>\n",
       "      <td>3.214461</td>\n",
       "      <td>5.687905</td>\n",
       "      <td>0.770897</td>\n",
       "      <td>0.746665</td>\n",
       "      <td>0.827906</td>\n",
       "      <td>0.732242</td>\n",
       "      <td>0.458778</td>\n",
       "      <td>0.447060</td>\n",
       "      <td>0.487470</td>\n",
       "      <td>0.440639</td>\n",
       "      <td>0.750774</td>\n",
       "      <td>0.718068</td>\n",
       "      <td>0.826818</td>\n",
       "      <td>0.693414</td>\n",
       "      <td>Papaya Leaf Curl</td>\n",
       "    </tr>\n",
       "    <tr>\n",
       "      <th>59</th>\n",
       "      <td>59</td>\n",
       "      <td>1.082108</td>\n",
       "      <td>2.475725</td>\n",
       "      <td>2.020343</td>\n",
       "      <td>2.490519</td>\n",
       "      <td>0.976482</td>\n",
       "      <td>0.946154</td>\n",
       "      <td>0.952144</td>\n",
       "      <td>0.946924</td>\n",
       "      <td>0.784971</td>\n",
       "      <td>0.776356</td>\n",
       "      <td>0.779263</td>\n",
       "      <td>0.776489</td>\n",
       "      <td>0.976422</td>\n",
       "      <td>0.946210</td>\n",
       "      <td>0.955979</td>\n",
       "      <td>0.945888</td>\n",
       "      <td>Fresh Papaya Leaf</td>\n",
       "    </tr>\n",
       "    <tr>\n",
       "      <th>174</th>\n",
       "      <td>22</td>\n",
       "      <td>4.803355</td>\n",
       "      <td>7.329750</td>\n",
       "      <td>6.108915</td>\n",
       "      <td>7.938777</td>\n",
       "      <td>0.793771</td>\n",
       "      <td>0.712360</td>\n",
       "      <td>0.747118</td>\n",
       "      <td>0.695811</td>\n",
       "      <td>0.464858</td>\n",
       "      <td>0.427544</td>\n",
       "      <td>0.443016</td>\n",
       "      <td>0.420522</td>\n",
       "      <td>0.808405</td>\n",
       "      <td>0.707574</td>\n",
       "      <td>0.756231</td>\n",
       "      <td>0.683275</td>\n",
       "      <td>Papaya Ringspot</td>\n",
       "    </tr>\n",
       "    <tr>\n",
       "      <th>167</th>\n",
       "      <td>15</td>\n",
       "      <td>1.809513</td>\n",
       "      <td>2.802768</td>\n",
       "      <td>2.168735</td>\n",
       "      <td>2.826605</td>\n",
       "      <td>0.938366</td>\n",
       "      <td>0.915656</td>\n",
       "      <td>0.930194</td>\n",
       "      <td>0.913246</td>\n",
       "      <td>0.724228</td>\n",
       "      <td>0.716084</td>\n",
       "      <td>0.722165</td>\n",
       "      <td>0.715777</td>\n",
       "      <td>0.935310</td>\n",
       "      <td>0.899887</td>\n",
       "      <td>0.922390</td>\n",
       "      <td>0.899048</td>\n",
       "      <td>Papaya Ringspot</td>\n",
       "    </tr>\n",
       "    <tr>\n",
       "      <th>43</th>\n",
       "      <td>43</td>\n",
       "      <td>1.146691</td>\n",
       "      <td>1.926644</td>\n",
       "      <td>1.183088</td>\n",
       "      <td>1.851719</td>\n",
       "      <td>0.960030</td>\n",
       "      <td>0.932597</td>\n",
       "      <td>0.952757</td>\n",
       "      <td>0.934792</td>\n",
       "      <td>0.759622</td>\n",
       "      <td>0.751242</td>\n",
       "      <td>0.758518</td>\n",
       "      <td>0.751711</td>\n",
       "      <td>0.958860</td>\n",
       "      <td>0.931065</td>\n",
       "      <td>0.957554</td>\n",
       "      <td>0.933745</td>\n",
       "      <td>Fresh Papaya Leaf</td>\n",
       "    </tr>\n",
       "  </tbody>\n",
       "</table>\n",
       "</div>"
      ],
      "text/plain": [
       "     Unnamed: 0         0         1         2         3         4         5  \\\n",
       "133          15  4.625980  5.230481  3.214461  5.687905  0.770897  0.746665   \n",
       "59           59  1.082108  2.475725  2.020343  2.490519  0.976482  0.946154   \n",
       "174          22  4.803355  7.329750  6.108915  7.938777  0.793771  0.712360   \n",
       "167          15  1.809513  2.802768  2.168735  2.826605  0.938366  0.915656   \n",
       "43           43  1.146691  1.926644  1.183088  1.851719  0.960030  0.932597   \n",
       "\n",
       "            6         7         8         9        10        11        12  \\\n",
       "133  0.827906  0.732242  0.458778  0.447060  0.487470  0.440639  0.750774   \n",
       "59   0.952144  0.946924  0.784971  0.776356  0.779263  0.776489  0.976422   \n",
       "174  0.747118  0.695811  0.464858  0.427544  0.443016  0.420522  0.808405   \n",
       "167  0.930194  0.913246  0.724228  0.716084  0.722165  0.715777  0.935310   \n",
       "43   0.952757  0.934792  0.759622  0.751242  0.758518  0.751711  0.958860   \n",
       "\n",
       "           13        14        15                 16  \n",
       "133  0.718068  0.826818  0.693414   Papaya Leaf Curl  \n",
       "59   0.946210  0.955979  0.945888  Fresh Papaya Leaf  \n",
       "174  0.707574  0.756231  0.683275    Papaya Ringspot  \n",
       "167  0.899887  0.922390  0.899048    Papaya Ringspot  \n",
       "43   0.931065  0.957554  0.933745  Fresh Papaya Leaf  "
      ]
     },
     "execution_count": 30,
     "metadata": {},
     "output_type": "execute_result"
    }
   ],
   "source": [
    "path = r\"C:\\Users\\Arifin\\Downloads\\papaya\\Combined_Leaf.csv\"\n",
    "df = pd.read_csv(path)\n",
    "df = shuffle(df)\n",
    "df.head()"
   ]
  },
  {
   "cell_type": "code",
   "execution_count": 31,
   "metadata": {},
   "outputs": [
    {
     "data": {
      "text/plain": [
       "(290, 18)"
      ]
     },
     "execution_count": 31,
     "metadata": {},
     "output_type": "execute_result"
    }
   ],
   "source": [
    "df.shape"
   ]
  },
  {
   "cell_type": "code",
   "execution_count": 32,
   "metadata": {},
   "outputs": [
    {
     "data": {
      "text/html": [
       "<div>\n",
       "<style scoped>\n",
       "    .dataframe tbody tr th:only-of-type {\n",
       "        vertical-align: middle;\n",
       "    }\n",
       "\n",
       "    .dataframe tbody tr th {\n",
       "        vertical-align: top;\n",
       "    }\n",
       "\n",
       "    .dataframe thead th {\n",
       "        text-align: right;\n",
       "    }\n",
       "</style>\n",
       "<table border=\"1\" class=\"dataframe\">\n",
       "  <thead>\n",
       "    <tr style=\"text-align: right;\">\n",
       "      <th></th>\n",
       "      <th>Unnamed: 0</th>\n",
       "      <th>0</th>\n",
       "      <th>1</th>\n",
       "      <th>2</th>\n",
       "      <th>3</th>\n",
       "      <th>4</th>\n",
       "      <th>5</th>\n",
       "      <th>6</th>\n",
       "      <th>7</th>\n",
       "      <th>8</th>\n",
       "      <th>9</th>\n",
       "      <th>10</th>\n",
       "      <th>11</th>\n",
       "      <th>12</th>\n",
       "      <th>13</th>\n",
       "      <th>14</th>\n",
       "      <th>15</th>\n",
       "    </tr>\n",
       "  </thead>\n",
       "  <tbody>\n",
       "    <tr>\n",
       "      <th>count</th>\n",
       "      <td>290.000000</td>\n",
       "      <td>290.000000</td>\n",
       "      <td>290.000000</td>\n",
       "      <td>290.000000</td>\n",
       "      <td>290.000000</td>\n",
       "      <td>290.000000</td>\n",
       "      <td>290.000000</td>\n",
       "      <td>290.000000</td>\n",
       "      <td>290.000000</td>\n",
       "      <td>290.000000</td>\n",
       "      <td>290.000000</td>\n",
       "      <td>290.000000</td>\n",
       "      <td>290.000000</td>\n",
       "      <td>290.000000</td>\n",
       "      <td>290.000000</td>\n",
       "      <td>290.000000</td>\n",
       "      <td>290.000000</td>\n",
       "    </tr>\n",
       "    <tr>\n",
       "      <th>mean</th>\n",
       "      <td>30.055172</td>\n",
       "      <td>3.842700</td>\n",
       "      <td>5.565150</td>\n",
       "      <td>4.038007</td>\n",
       "      <td>5.582928</td>\n",
       "      <td>0.844108</td>\n",
       "      <td>0.786091</td>\n",
       "      <td>0.834687</td>\n",
       "      <td>0.785776</td>\n",
       "      <td>0.530107</td>\n",
       "      <td>0.502595</td>\n",
       "      <td>0.523859</td>\n",
       "      <td>0.502443</td>\n",
       "      <td>0.847058</td>\n",
       "      <td>0.778460</td>\n",
       "      <td>0.839594</td>\n",
       "      <td>0.777708</td>\n",
       "    </tr>\n",
       "    <tr>\n",
       "      <th>std</th>\n",
       "      <td>18.916235</td>\n",
       "      <td>2.026076</td>\n",
       "      <td>2.599148</td>\n",
       "      <td>2.030069</td>\n",
       "      <td>2.619733</td>\n",
       "      <td>0.078047</td>\n",
       "      <td>0.091805</td>\n",
       "      <td>0.072745</td>\n",
       "      <td>0.091704</td>\n",
       "      <td>0.093763</td>\n",
       "      <td>0.102206</td>\n",
       "      <td>0.095033</td>\n",
       "      <td>0.102220</td>\n",
       "      <td>0.080119</td>\n",
       "      <td>0.106232</td>\n",
       "      <td>0.081724</td>\n",
       "      <td>0.106460</td>\n",
       "    </tr>\n",
       "    <tr>\n",
       "      <th>min</th>\n",
       "      <td>0.000000</td>\n",
       "      <td>0.368995</td>\n",
       "      <td>0.586728</td>\n",
       "      <td>0.343137</td>\n",
       "      <td>0.569504</td>\n",
       "      <td>0.522548</td>\n",
       "      <td>0.456830</td>\n",
       "      <td>0.647589</td>\n",
       "      <td>0.453430</td>\n",
       "      <td>0.397479</td>\n",
       "      <td>0.346245</td>\n",
       "      <td>0.361405</td>\n",
       "      <td>0.344597</td>\n",
       "      <td>0.638377</td>\n",
       "      <td>0.519712</td>\n",
       "      <td>0.605700</td>\n",
       "      <td>0.501178</td>\n",
       "    </tr>\n",
       "    <tr>\n",
       "      <th>25%</th>\n",
       "      <td>14.000000</td>\n",
       "      <td>2.548771</td>\n",
       "      <td>3.873026</td>\n",
       "      <td>2.561910</td>\n",
       "      <td>3.829039</td>\n",
       "      <td>0.794129</td>\n",
       "      <td>0.721935</td>\n",
       "      <td>0.786849</td>\n",
       "      <td>0.726532</td>\n",
       "      <td>0.470165</td>\n",
       "      <td>0.437011</td>\n",
       "      <td>0.464939</td>\n",
       "      <td>0.438838</td>\n",
       "      <td>0.793718</td>\n",
       "      <td>0.707018</td>\n",
       "      <td>0.782555</td>\n",
       "      <td>0.704827</td>\n",
       "    </tr>\n",
       "    <tr>\n",
       "      <th>50%</th>\n",
       "      <td>28.500000</td>\n",
       "      <td>3.958885</td>\n",
       "      <td>5.603998</td>\n",
       "      <td>4.121875</td>\n",
       "      <td>5.676501</td>\n",
       "      <td>0.839885</td>\n",
       "      <td>0.766045</td>\n",
       "      <td>0.820007</td>\n",
       "      <td>0.767982</td>\n",
       "      <td>0.497066</td>\n",
       "      <td>0.460867</td>\n",
       "      <td>0.485076</td>\n",
       "      <td>0.459849</td>\n",
       "      <td>0.840431</td>\n",
       "      <td>0.763834</td>\n",
       "      <td>0.833316</td>\n",
       "      <td>0.759094</td>\n",
       "    </tr>\n",
       "    <tr>\n",
       "      <th>75%</th>\n",
       "      <td>45.000000</td>\n",
       "      <td>4.968631</td>\n",
       "      <td>7.124960</td>\n",
       "      <td>5.255270</td>\n",
       "      <td>7.096659</td>\n",
       "      <td>0.888762</td>\n",
       "      <td>0.837956</td>\n",
       "      <td>0.886116</td>\n",
       "      <td>0.836995</td>\n",
       "      <td>0.549131</td>\n",
       "      <td>0.531489</td>\n",
       "      <td>0.554060</td>\n",
       "      <td>0.532534</td>\n",
       "      <td>0.894667</td>\n",
       "      <td>0.855880</td>\n",
       "      <td>0.900026</td>\n",
       "      <td>0.852701</td>\n",
       "    </tr>\n",
       "    <tr>\n",
       "      <th>max</th>\n",
       "      <td>72.000000</td>\n",
       "      <td>10.950904</td>\n",
       "      <td>13.514802</td>\n",
       "      <td>12.439874</td>\n",
       "      <td>14.530181</td>\n",
       "      <td>0.982758</td>\n",
       "      <td>0.972113</td>\n",
       "      <td>0.980365</td>\n",
       "      <td>0.971141</td>\n",
       "      <td>0.814302</td>\n",
       "      <td>0.807143</td>\n",
       "      <td>0.810229</td>\n",
       "      <td>0.806661</td>\n",
       "      <td>0.985725</td>\n",
       "      <td>0.975506</td>\n",
       "      <td>0.986847</td>\n",
       "      <td>0.977907</td>\n",
       "    </tr>\n",
       "  </tbody>\n",
       "</table>\n",
       "</div>"
      ],
      "text/plain": [
       "       Unnamed: 0           0           1           2           3           4  \\\n",
       "count  290.000000  290.000000  290.000000  290.000000  290.000000  290.000000   \n",
       "mean    30.055172    3.842700    5.565150    4.038007    5.582928    0.844108   \n",
       "std     18.916235    2.026076    2.599148    2.030069    2.619733    0.078047   \n",
       "min      0.000000    0.368995    0.586728    0.343137    0.569504    0.522548   \n",
       "25%     14.000000    2.548771    3.873026    2.561910    3.829039    0.794129   \n",
       "50%     28.500000    3.958885    5.603998    4.121875    5.676501    0.839885   \n",
       "75%     45.000000    4.968631    7.124960    5.255270    7.096659    0.888762   \n",
       "max     72.000000   10.950904   13.514802   12.439874   14.530181    0.982758   \n",
       "\n",
       "                5           6           7           8           9          10  \\\n",
       "count  290.000000  290.000000  290.000000  290.000000  290.000000  290.000000   \n",
       "mean     0.786091    0.834687    0.785776    0.530107    0.502595    0.523859   \n",
       "std      0.091805    0.072745    0.091704    0.093763    0.102206    0.095033   \n",
       "min      0.456830    0.647589    0.453430    0.397479    0.346245    0.361405   \n",
       "25%      0.721935    0.786849    0.726532    0.470165    0.437011    0.464939   \n",
       "50%      0.766045    0.820007    0.767982    0.497066    0.460867    0.485076   \n",
       "75%      0.837956    0.886116    0.836995    0.549131    0.531489    0.554060   \n",
       "max      0.972113    0.980365    0.971141    0.814302    0.807143    0.810229   \n",
       "\n",
       "               11          12          13          14          15  \n",
       "count  290.000000  290.000000  290.000000  290.000000  290.000000  \n",
       "mean     0.502443    0.847058    0.778460    0.839594    0.777708  \n",
       "std      0.102220    0.080119    0.106232    0.081724    0.106460  \n",
       "min      0.344597    0.638377    0.519712    0.605700    0.501178  \n",
       "25%      0.438838    0.793718    0.707018    0.782555    0.704827  \n",
       "50%      0.459849    0.840431    0.763834    0.833316    0.759094  \n",
       "75%      0.532534    0.894667    0.855880    0.900026    0.852701  \n",
       "max      0.806661    0.985725    0.975506    0.986847    0.977907  "
      ]
     },
     "execution_count": 32,
     "metadata": {},
     "output_type": "execute_result"
    }
   ],
   "source": [
    "df.describe()"
   ]
  },
  {
   "cell_type": "code",
   "execution_count": 33,
   "metadata": {},
   "outputs": [],
   "source": [
    "df = df.rename(columns={'16': 'Class'})\n",
    "X = df.drop('Class',axis=1)\n",
    "y = df['Class']"
   ]
  },
  {
   "cell_type": "code",
   "execution_count": 34,
   "metadata": {},
   "outputs": [
    {
     "name": "stdout",
     "output_type": "stream",
     "text": [
      "<class 'pandas.core.frame.DataFrame'>\n",
      "Int64Index: 290 entries, 133 to 237\n",
      "Data columns (total 18 columns):\n",
      " #   Column      Non-Null Count  Dtype  \n",
      "---  ------      --------------  -----  \n",
      " 0   Unnamed: 0  290 non-null    int64  \n",
      " 1   0           290 non-null    float64\n",
      " 2   1           290 non-null    float64\n",
      " 3   2           290 non-null    float64\n",
      " 4   3           290 non-null    float64\n",
      " 5   4           290 non-null    float64\n",
      " 6   5           290 non-null    float64\n",
      " 7   6           290 non-null    float64\n",
      " 8   7           290 non-null    float64\n",
      " 9   8           290 non-null    float64\n",
      " 10  9           290 non-null    float64\n",
      " 11  10          290 non-null    float64\n",
      " 12  11          290 non-null    float64\n",
      " 13  12          290 non-null    float64\n",
      " 14  13          290 non-null    float64\n",
      " 15  14          290 non-null    float64\n",
      " 16  15          290 non-null    float64\n",
      " 17  Class       290 non-null    object \n",
      "dtypes: float64(16), int64(1), object(1)\n",
      "memory usage: 43.0+ KB\n"
     ]
    }
   ],
   "source": [
    "df.info()"
   ]
  },
  {
   "cell_type": "code",
   "execution_count": 35,
   "metadata": {},
   "outputs": [
    {
     "data": {
      "text/plain": [
       "Text(0.5, 1.0, 'Correlation between different fearures')"
      ]
     },
     "execution_count": 35,
     "metadata": {},
     "output_type": "execute_result"
    },
    {
     "data": {
      "image/png": "[encoded data removed]",
      "text/plain": [
       "<Figure size 720x720 with 2 Axes>"
      ]
     },
     "metadata": {
      "needs_background": "light"
     },
     "output_type": "display_data"
    }
   ],
   "source": [
    "correlation = df.corr()\n",
    "plt.figure(figsize=(10,10))\n",
    "sns.heatmap(correlation, vmax=1, square=True,annot=True,cmap='viridis')\n",
    "\n",
    "plt.title('Correlation between different fearures')"
   ]
  },
  {
   "cell_type": "code",
   "execution_count": 36,
   "metadata": {},
   "outputs": [
    {
     "data": {
      "text/html": [
       "<div>\n",
       "<style scoped>\n",
       "    .dataframe tbody tr th:only-of-type {\n",
       "        vertical-align: middle;\n",
       "    }\n",
       "\n",
       "    .dataframe tbody tr th {\n",
       "        vertical-align: top;\n",
       "    }\n",
       "\n",
       "    .dataframe thead th {\n",
       "        text-align: right;\n",
       "    }\n",
       "</style>\n",
       "<table border=\"1\" class=\"dataframe\">\n",
       "  <thead>\n",
       "    <tr style=\"text-align: right;\">\n",
       "      <th></th>\n",
       "      <th>Unnamed: 0</th>\n",
       "      <th>0</th>\n",
       "      <th>1</th>\n",
       "      <th>2</th>\n",
       "      <th>3</th>\n",
       "      <th>4</th>\n",
       "      <th>5</th>\n",
       "      <th>6</th>\n",
       "      <th>7</th>\n",
       "      <th>8</th>\n",
       "      <th>9</th>\n",
       "      <th>10</th>\n",
       "      <th>11</th>\n",
       "      <th>12</th>\n",
       "      <th>13</th>\n",
       "      <th>14</th>\n",
       "      <th>15</th>\n",
       "    </tr>\n",
       "  </thead>\n",
       "  <tbody>\n",
       "    <tr>\n",
       "      <th>133</th>\n",
       "      <td>15</td>\n",
       "      <td>4.625980</td>\n",
       "      <td>5.230481</td>\n",
       "      <td>3.214461</td>\n",
       "      <td>5.687905</td>\n",
       "      <td>0.770897</td>\n",
       "      <td>0.746665</td>\n",
       "      <td>0.827906</td>\n",
       "      <td>0.732242</td>\n",
       "      <td>0.458778</td>\n",
       "      <td>0.447060</td>\n",
       "      <td>0.487470</td>\n",
       "      <td>0.440639</td>\n",
       "      <td>0.750774</td>\n",
       "      <td>0.718068</td>\n",
       "      <td>0.826818</td>\n",
       "      <td>0.693414</td>\n",
       "    </tr>\n",
       "    <tr>\n",
       "      <th>59</th>\n",
       "      <td>59</td>\n",
       "      <td>1.082108</td>\n",
       "      <td>2.475725</td>\n",
       "      <td>2.020343</td>\n",
       "      <td>2.490519</td>\n",
       "      <td>0.976482</td>\n",
       "      <td>0.946154</td>\n",
       "      <td>0.952144</td>\n",
       "      <td>0.946924</td>\n",
       "      <td>0.784971</td>\n",
       "      <td>0.776356</td>\n",
       "      <td>0.779263</td>\n",
       "      <td>0.776489</td>\n",
       "      <td>0.976422</td>\n",
       "      <td>0.946210</td>\n",
       "      <td>0.955979</td>\n",
       "      <td>0.945888</td>\n",
       "    </tr>\n",
       "    <tr>\n",
       "      <th>174</th>\n",
       "      <td>22</td>\n",
       "      <td>4.803355</td>\n",
       "      <td>7.329750</td>\n",
       "      <td>6.108915</td>\n",
       "      <td>7.938777</td>\n",
       "      <td>0.793771</td>\n",
       "      <td>0.712360</td>\n",
       "      <td>0.747118</td>\n",
       "      <td>0.695811</td>\n",
       "      <td>0.464858</td>\n",
       "      <td>0.427544</td>\n",
       "      <td>0.443016</td>\n",
       "      <td>0.420522</td>\n",
       "      <td>0.808405</td>\n",
       "      <td>0.707574</td>\n",
       "      <td>0.756231</td>\n",
       "      <td>0.683275</td>\n",
       "    </tr>\n",
       "    <tr>\n",
       "      <th>167</th>\n",
       "      <td>15</td>\n",
       "      <td>1.809513</td>\n",
       "      <td>2.802768</td>\n",
       "      <td>2.168735</td>\n",
       "      <td>2.826605</td>\n",
       "      <td>0.938366</td>\n",
       "      <td>0.915656</td>\n",
       "      <td>0.930194</td>\n",
       "      <td>0.913246</td>\n",
       "      <td>0.724228</td>\n",
       "      <td>0.716084</td>\n",
       "      <td>0.722165</td>\n",
       "      <td>0.715777</td>\n",
       "      <td>0.935310</td>\n",
       "      <td>0.899887</td>\n",
       "      <td>0.922390</td>\n",
       "      <td>0.899048</td>\n",
       "    </tr>\n",
       "    <tr>\n",
       "      <th>43</th>\n",
       "      <td>43</td>\n",
       "      <td>1.146691</td>\n",
       "      <td>1.926644</td>\n",
       "      <td>1.183088</td>\n",
       "      <td>1.851719</td>\n",
       "      <td>0.960030</td>\n",
       "      <td>0.932597</td>\n",
       "      <td>0.952757</td>\n",
       "      <td>0.934792</td>\n",
       "      <td>0.759622</td>\n",
       "      <td>0.751242</td>\n",
       "      <td>0.758518</td>\n",
       "      <td>0.751711</td>\n",
       "      <td>0.958860</td>\n",
       "      <td>0.931065</td>\n",
       "      <td>0.957554</td>\n",
       "      <td>0.933745</td>\n",
       "    </tr>\n",
       "  </tbody>\n",
       "</table>\n",
       "</div>"
      ],
      "text/plain": [
       "     Unnamed: 0         0         1         2         3         4         5  \\\n",
       "133          15  4.625980  5.230481  3.214461  5.687905  0.770897  0.746665   \n",
       "59           59  1.082108  2.475725  2.020343  2.490519  0.976482  0.946154   \n",
       "174          22  4.803355  7.329750  6.108915  7.938777  0.793771  0.712360   \n",
       "167          15  1.809513  2.802768  2.168735  2.826605  0.938366  0.915656   \n",
       "43           43  1.146691  1.926644  1.183088  1.851719  0.960030  0.932597   \n",
       "\n",
       "            6         7         8         9        10        11        12  \\\n",
       "133  0.827906  0.732242  0.458778  0.447060  0.487470  0.440639  0.750774   \n",
       "59   0.952144  0.946924  0.784971  0.776356  0.779263  0.776489  0.976422   \n",
       "174  0.747118  0.695811  0.464858  0.427544  0.443016  0.420522  0.808405   \n",
       "167  0.930194  0.913246  0.724228  0.716084  0.722165  0.715777  0.935310   \n",
       "43   0.952757  0.934792  0.759622  0.751242  0.758518  0.751711  0.958860   \n",
       "\n",
       "           13        14        15  \n",
       "133  0.718068  0.826818  0.693414  \n",
       "59   0.946210  0.955979  0.945888  \n",
       "174  0.707574  0.756231  0.683275  \n",
       "167  0.899887  0.922390  0.899048  \n",
       "43   0.931065  0.957554  0.933745  "
      ]
     },
     "execution_count": 36,
     "metadata": {},
     "output_type": "execute_result"
    }
   ],
   "source": [
    "X.head()"
   ]
  },
  {
   "cell_type": "code",
   "execution_count": 37,
   "metadata": {},
   "outputs": [
    {
     "data": {
      "text/plain": [
       "133     Papaya Leaf Curl\n",
       "59     Fresh Papaya Leaf\n",
       "174      Papaya Ringspot\n",
       "167      Papaya Ringspot\n",
       "43     Fresh Papaya Leaf\n",
       "Name: Class, dtype: object"
      ]
     },
     "execution_count": 37,
     "metadata": {},
     "output_type": "execute_result"
    }
   ],
   "source": [
    "y.head()"
   ]
  },
  {
   "cell_type": "markdown",
   "metadata": {},
   "source": [
    "# Feature Scaling"
   ]
  },
  {
   "cell_type": "code",
   "execution_count": 38,
   "metadata": {},
   "outputs": [],
   "source": [
    "from sklearn.preprocessing import StandardScaler,RobustScaler,MinMaxScaler,MaxAbsScaler\n",
    "  \n",
    "scaler = MaxAbsScaler()\n",
    "\n",
    "X = scaler.fit_transform(X)\n",
    "\n",
    "X = pd.DataFrame(X)"
   ]
  },
  {
   "cell_type": "code",
   "execution_count": 39,
   "metadata": {},
   "outputs": [
    {
     "data": {
      "text/html": [
       "<div>\n",
       "<style scoped>\n",
       "    .dataframe tbody tr th:only-of-type {\n",
       "        vertical-align: middle;\n",
       "    }\n",
       "\n",
       "    .dataframe tbody tr th {\n",
       "        vertical-align: top;\n",
       "    }\n",
       "\n",
       "    .dataframe thead th {\n",
       "        text-align: right;\n",
       "    }\n",
       "</style>\n",
       "<table border=\"1\" class=\"dataframe\">\n",
       "  <thead>\n",
       "    <tr style=\"text-align: right;\">\n",
       "      <th></th>\n",
       "      <th>0</th>\n",
       "      <th>1</th>\n",
       "      <th>2</th>\n",
       "      <th>3</th>\n",
       "      <th>4</th>\n",
       "      <th>5</th>\n",
       "      <th>6</th>\n",
       "      <th>7</th>\n",
       "      <th>8</th>\n",
       "      <th>9</th>\n",
       "      <th>10</th>\n",
       "      <th>11</th>\n",
       "      <th>12</th>\n",
       "      <th>13</th>\n",
       "      <th>14</th>\n",
       "      <th>15</th>\n",
       "      <th>16</th>\n",
       "    </tr>\n",
       "  </thead>\n",
       "  <tbody>\n",
       "    <tr>\n",
       "      <th>0</th>\n",
       "      <td>0.208333</td>\n",
       "      <td>0.422429</td>\n",
       "      <td>0.387019</td>\n",
       "      <td>0.258400</td>\n",
       "      <td>0.391455</td>\n",
       "      <td>0.784422</td>\n",
       "      <td>0.768085</td>\n",
       "      <td>0.844488</td>\n",
       "      <td>0.754002</td>\n",
       "      <td>0.563401</td>\n",
       "      <td>0.553879</td>\n",
       "      <td>0.601645</td>\n",
       "      <td>0.546250</td>\n",
       "      <td>0.761647</td>\n",
       "      <td>0.736098</td>\n",
       "      <td>0.837837</td>\n",
       "      <td>0.709080</td>\n",
       "    </tr>\n",
       "    <tr>\n",
       "      <th>1</th>\n",
       "      <td>0.819444</td>\n",
       "      <td>0.098814</td>\n",
       "      <td>0.183186</td>\n",
       "      <td>0.162409</td>\n",
       "      <td>0.171403</td>\n",
       "      <td>0.993614</td>\n",
       "      <td>0.973297</td>\n",
       "      <td>0.971214</td>\n",
       "      <td>0.975063</td>\n",
       "      <td>0.963980</td>\n",
       "      <td>0.961856</td>\n",
       "      <td>0.961781</td>\n",
       "      <td>0.962597</td>\n",
       "      <td>0.990563</td>\n",
       "      <td>0.969968</td>\n",
       "      <td>0.968721</td>\n",
       "      <td>0.967259</td>\n",
       "    </tr>\n",
       "    <tr>\n",
       "      <th>2</th>\n",
       "      <td>0.305556</td>\n",
       "      <td>0.438626</td>\n",
       "      <td>0.542350</td>\n",
       "      <td>0.491075</td>\n",
       "      <td>0.546365</td>\n",
       "      <td>0.807698</td>\n",
       "      <td>0.732795</td>\n",
       "      <td>0.762081</td>\n",
       "      <td>0.716488</td>\n",
       "      <td>0.570867</td>\n",
       "      <td>0.529701</td>\n",
       "      <td>0.546779</td>\n",
       "      <td>0.521312</td>\n",
       "      <td>0.820112</td>\n",
       "      <td>0.725340</td>\n",
       "      <td>0.766310</td>\n",
       "      <td>0.698712</td>\n",
       "    </tr>\n",
       "    <tr>\n",
       "      <th>3</th>\n",
       "      <td>0.208333</td>\n",
       "      <td>0.165239</td>\n",
       "      <td>0.207385</td>\n",
       "      <td>0.174337</td>\n",
       "      <td>0.194533</td>\n",
       "      <td>0.954830</td>\n",
       "      <td>0.941923</td>\n",
       "      <td>0.948824</td>\n",
       "      <td>0.940384</td>\n",
       "      <td>0.889385</td>\n",
       "      <td>0.887183</td>\n",
       "      <td>0.891310</td>\n",
       "      <td>0.887334</td>\n",
       "      <td>0.948855</td>\n",
       "      <td>0.922483</td>\n",
       "      <td>0.934684</td>\n",
       "      <td>0.919360</td>\n",
       "    </tr>\n",
       "    <tr>\n",
       "      <th>4</th>\n",
       "      <td>0.597222</td>\n",
       "      <td>0.104712</td>\n",
       "      <td>0.142558</td>\n",
       "      <td>0.095105</td>\n",
       "      <td>0.127439</td>\n",
       "      <td>0.976873</td>\n",
       "      <td>0.959350</td>\n",
       "      <td>0.971839</td>\n",
       "      <td>0.962571</td>\n",
       "      <td>0.932851</td>\n",
       "      <td>0.930741</td>\n",
       "      <td>0.936177</td>\n",
       "      <td>0.931880</td>\n",
       "      <td>0.972747</td>\n",
       "      <td>0.954443</td>\n",
       "      <td>0.970317</td>\n",
       "      <td>0.954841</td>\n",
       "    </tr>\n",
       "  </tbody>\n",
       "</table>\n",
       "</div>"
      ],
      "text/plain": [
       "         0         1         2         3         4         5         6   \\\n",
       "0  0.208333  0.422429  0.387019  0.258400  0.391455  0.784422  0.768085   \n",
       "1  0.819444  0.098814  0.183186  0.162409  0.171403  0.993614  0.973297   \n",
       "2  0.305556  0.438626  0.542350  0.491075  0.546365  0.807698  0.732795   \n",
       "3  0.208333  0.165239  0.207385  0.174337  0.194533  0.954830  0.941923   \n",
       "4  0.597222  0.104712  0.142558  0.095105  0.127439  0.976873  0.959350   \n",
       "\n",
       "         7         8         9         10        11        12        13  \\\n",
       "0  0.844488  0.754002  0.563401  0.553879  0.601645  0.546250  0.761647   \n",
       "1  0.971214  0.975063  0.963980  0.961856  0.961781  0.962597  0.990563   \n",
       "2  0.762081  0.716488  0.570867  0.529701  0.546779  0.521312  0.820112   \n",
       "3  0.948824  0.940384  0.889385  0.887183  0.891310  0.887334  0.948855   \n",
       "4  0.971839  0.962571  0.932851  0.930741  0.936177  0.931880  0.972747   \n",
       "\n",
       "         14        15        16  \n",
       "0  0.736098  0.837837  0.709080  \n",
       "1  0.969968  0.968721  0.967259  \n",
       "2  0.725340  0.766310  0.698712  \n",
       "3  0.922483  0.934684  0.919360  \n",
       "4  0.954443  0.970317  0.954841  "
      ]
     },
     "execution_count": 39,
     "metadata": {},
     "output_type": "execute_result"
    }
   ],
   "source": [
    "X.head()"
   ]
  },
  {
   "cell_type": "code",
   "execution_count": 40,
   "metadata": {},
   "outputs": [
    {
     "data": {
      "text/plain": [
       "((217, 17), (73, 17))"
      ]
     },
     "execution_count": 40,
     "metadata": {},
     "output_type": "execute_result"
    }
   ],
   "source": [
    "from sklearn.model_selection import train_test_split\n",
    "  \n",
    "X_train, X_test, y_train, y_test = train_test_split(\n",
    "      X, y , test_size = 0.25, random_state=None)\n",
    "\n",
    "X_train.shape, X_test.shape\n"
   ]
  },
  {
   "cell_type": "code",
   "execution_count": 41,
   "metadata": {},
   "outputs": [
    {
     "data": {
      "text/html": [
       "<div>\n",
       "<style scoped>\n",
       "    .dataframe tbody tr th:only-of-type {\n",
       "        vertical-align: middle;\n",
       "    }\n",
       "\n",
       "    .dataframe tbody tr th {\n",
       "        vertical-align: top;\n",
       "    }\n",
       "\n",
       "    .dataframe thead th {\n",
       "        text-align: right;\n",
       "    }\n",
       "</style>\n",
       "<table border=\"1\" class=\"dataframe\">\n",
       "  <thead>\n",
       "    <tr style=\"text-align: right;\">\n",
       "      <th></th>\n",
       "      <th>0</th>\n",
       "      <th>1</th>\n",
       "      <th>2</th>\n",
       "      <th>3</th>\n",
       "      <th>4</th>\n",
       "      <th>5</th>\n",
       "      <th>6</th>\n",
       "      <th>7</th>\n",
       "      <th>8</th>\n",
       "      <th>9</th>\n",
       "      <th>10</th>\n",
       "      <th>11</th>\n",
       "      <th>12</th>\n",
       "      <th>13</th>\n",
       "      <th>14</th>\n",
       "      <th>15</th>\n",
       "      <th>16</th>\n",
       "    </tr>\n",
       "  </thead>\n",
       "  <tbody>\n",
       "    <tr>\n",
       "      <th>170</th>\n",
       "      <td>0.652778</td>\n",
       "      <td>0.609722</td>\n",
       "      <td>0.594020</td>\n",
       "      <td>0.393806</td>\n",
       "      <td>0.540444</td>\n",
       "      <td>0.788507</td>\n",
       "      <td>0.763876</td>\n",
       "      <td>0.839974</td>\n",
       "      <td>0.768825</td>\n",
       "      <td>0.572482</td>\n",
       "      <td>0.559443</td>\n",
       "      <td>0.603328</td>\n",
       "      <td>0.561816</td>\n",
       "      <td>0.807781</td>\n",
       "      <td>0.773969</td>\n",
       "      <td>0.861754</td>\n",
       "      <td>0.777542</td>\n",
       "    </tr>\n",
       "    <tr>\n",
       "      <th>201</th>\n",
       "      <td>0.666667</td>\n",
       "      <td>0.211679</td>\n",
       "      <td>0.280068</td>\n",
       "      <td>0.197154</td>\n",
       "      <td>0.257207</td>\n",
       "      <td>0.941151</td>\n",
       "      <td>0.900125</td>\n",
       "      <td>0.924122</td>\n",
       "      <td>0.900000</td>\n",
       "      <td>0.794995</td>\n",
       "      <td>0.779345</td>\n",
       "      <td>0.792506</td>\n",
       "      <td>0.780400</td>\n",
       "      <td>0.943440</td>\n",
       "      <td>0.908098</td>\n",
       "      <td>0.938249</td>\n",
       "      <td>0.907343</td>\n",
       "    </tr>\n",
       "    <tr>\n",
       "      <th>204</th>\n",
       "      <td>0.319444</td>\n",
       "      <td>0.090907</td>\n",
       "      <td>0.162102</td>\n",
       "      <td>0.131254</td>\n",
       "      <td>0.140052</td>\n",
       "      <td>0.990138</td>\n",
       "      <td>0.969414</td>\n",
       "      <td>0.971721</td>\n",
       "      <td>0.974469</td>\n",
       "      <td>0.955193</td>\n",
       "      <td>0.954152</td>\n",
       "      <td>0.954880</td>\n",
       "      <td>0.955692</td>\n",
       "      <td>0.993421</td>\n",
       "      <td>0.978405</td>\n",
       "      <td>0.978825</td>\n",
       "      <td>0.979316</td>\n",
       "    </tr>\n",
       "    <tr>\n",
       "      <th>110</th>\n",
       "      <td>0.958333</td>\n",
       "      <td>1.000000</td>\n",
       "      <td>0.910930</td>\n",
       "      <td>0.608780</td>\n",
       "      <td>0.793348</td>\n",
       "      <td>0.675154</td>\n",
       "      <td>0.657179</td>\n",
       "      <td>0.761790</td>\n",
       "      <td>0.672858</td>\n",
       "      <td>0.504376</td>\n",
       "      <td>0.496645</td>\n",
       "      <td>0.548819</td>\n",
       "      <td>0.503997</td>\n",
       "      <td>0.674948</td>\n",
       "      <td>0.639246</td>\n",
       "      <td>0.778835</td>\n",
       "      <td>0.662176</td>\n",
       "    </tr>\n",
       "    <tr>\n",
       "      <th>45</th>\n",
       "      <td>0.319444</td>\n",
       "      <td>0.363266</td>\n",
       "      <td>0.434958</td>\n",
       "      <td>0.337128</td>\n",
       "      <td>0.390979</td>\n",
       "      <td>0.895591</td>\n",
       "      <td>0.854747</td>\n",
       "      <td>0.891315</td>\n",
       "      <td>0.860816</td>\n",
       "      <td>0.639912</td>\n",
       "      <td>0.616572</td>\n",
       "      <td>0.639555</td>\n",
       "      <td>0.620332</td>\n",
       "      <td>0.918553</td>\n",
       "      <td>0.881835</td>\n",
       "      <td>0.912307</td>\n",
       "      <td>0.884468</td>\n",
       "    </tr>\n",
       "  </tbody>\n",
       "</table>\n",
       "</div>"
      ],
      "text/plain": [
       "           0         1         2         3         4         5         6   \\\n",
       "170  0.652778  0.609722  0.594020  0.393806  0.540444  0.788507  0.763876   \n",
       "201  0.666667  0.211679  0.280068  0.197154  0.257207  0.941151  0.900125   \n",
       "204  0.319444  0.090907  0.162102  0.131254  0.140052  0.990138  0.969414   \n",
       "110  0.958333  1.000000  0.910930  0.608780  0.793348  0.675154  0.657179   \n",
       "45   0.319444  0.363266  0.434958  0.337128  0.390979  0.895591  0.854747   \n",
       "\n",
       "           7         8         9         10        11        12        13  \\\n",
       "170  0.839974  0.768825  0.572482  0.559443  0.603328  0.561816  0.807781   \n",
       "201  0.924122  0.900000  0.794995  0.779345  0.792506  0.780400  0.943440   \n",
       "204  0.971721  0.974469  0.955193  0.954152  0.954880  0.955692  0.993421   \n",
       "110  0.761790  0.672858  0.504376  0.496645  0.548819  0.503997  0.674948   \n",
       "45   0.891315  0.860816  0.639912  0.616572  0.639555  0.620332  0.918553   \n",
       "\n",
       "           14        15        16  \n",
       "170  0.773969  0.861754  0.777542  \n",
       "201  0.908098  0.938249  0.907343  \n",
       "204  0.978405  0.978825  0.979316  \n",
       "110  0.639246  0.778835  0.662176  \n",
       "45   0.881835  0.912307  0.884468  "
      ]
     },
     "execution_count": 41,
     "metadata": {},
     "output_type": "execute_result"
    }
   ],
   "source": [
    "X_train.head()"
   ]
  },
  {
   "cell_type": "markdown",
   "metadata": {},
   "source": [
    "# Model training"
   ]
  },
  {
   "cell_type": "markdown",
   "metadata": {},
   "source": [
    "## KNN"
   ]
  },
  {
   "cell_type": "code",
   "execution_count": 42,
   "metadata": {},
   "outputs": [
    {
     "data": {
      "image/png": "[encoded data removed]",
      "text/plain": [
       "<Figure size 432x288 with 2 Axes>"
      ]
     },
     "metadata": {
      "needs_background": "light"
     },
     "output_type": "display_data"
    }
   ],
   "source": [
    "# Remember that we are trying to come up\n",
    "# with a model to predict whether\n",
    "# someone will TARGET CLASS or not.\n",
    "# We'll start with k = 1.\n",
    "\n",
    "from sklearn.neighbors import KNeighborsClassifier\n",
    "  \n",
    "knn = KNeighborsClassifier(n_neighbors = 1)\n",
    "  \n",
    "knn.fit(X_train, y_train)\n",
    "pred = knn.predict(X_test)\n",
    "\n",
    "plot_confusion_matrix(knn, X_test, y_test)\n",
    "plt.xticks(rotation = 90)\n",
    "plt.show()\n",
    "\n",
    "# Predictions and Evaluations\n",
    "# Let's evaluate our KNN model ! \n"
   ]
  },
  {
   "cell_type": "code",
   "execution_count": 43,
   "metadata": {},
   "outputs": [
    {
     "name": "stdout",
     "output_type": "stream",
     "text": [
      "                   precision    recall  f1-score   support\n",
      "\n",
      "Fresh Papaya Leaf       0.79      0.79      0.79        14\n",
      "Papaya Black Spot       0.60      0.55      0.57        11\n",
      " Papaya Leaf Curl       0.23      0.43      0.30         7\n",
      "  Papaya Ringspot       0.45      0.53      0.49        19\n",
      "   Powdery Mildew       0.71      0.45      0.56        22\n",
      "\n",
      "         accuracy                           0.55        73\n",
      "        macro avg       0.56      0.55      0.54        73\n",
      "     weighted avg       0.60      0.55      0.56        73\n",
      "\n"
     ]
    }
   ],
   "source": [
    "from sklearn.metrics import classification_report  \n",
    "print(classification_report(y_test, pred))\n"
   ]
  },
  {
   "cell_type": "code",
   "execution_count": 44,
   "metadata": {},
   "outputs": [],
   "source": [
    "from sklearn import metrics\n",
    "error_rate = []\n",
    "scores = []\n",
    "\n",
    "k=50\n",
    "max_accuracy=0\n",
    "best_k=1\n",
    "\n",
    "for i in range(1, k):\n",
    "      \n",
    "    knn = KNeighborsClassifier(n_neighbors = i)\n",
    "    knn.fit(X_train, y_train)\n",
    "    pred_i = knn.predict(X_test)\n",
    "    error_rate.append(np.mean(pred_i != y_test))\n",
    "    y_predict = knn.predict(X_test)\n",
    "    curr_accuracy=metrics.accuracy_score(y_test,y_predict)\n",
    "    if curr_accuracy>max_accuracy:\n",
    "        max_accuracy=curr_accuracy\n",
    "        best_k=i\n",
    "    scores.append(curr_accuracy)\n",
    "  \n"
   ]
  },
  {
   "cell_type": "code",
   "execution_count": 45,
   "metadata": {},
   "outputs": [
    {
     "data": {
      "text/plain": [
       "Text(0, 0.5, 'Error Rate')"
      ]
     },
     "execution_count": 45,
     "metadata": {},
     "output_type": "execute_result"
    },
    {
     "data": {
      "image/png": "[encoded data removed]",
      "text/plain": [
       "<Figure size 720x432 with 1 Axes>"
      ]
     },
     "metadata": {
      "needs_background": "light"
     },
     "output_type": "display_data"
    }
   ],
   "source": [
    "plt.figure(figsize =(10, 6))\n",
    "plt.plot(range(1, k), error_rate, color ='blue',\n",
    "                linestyle ='dashed', marker ='o',\n",
    "         markerfacecolor ='red', markersize = 10)\n",
    "  \n",
    "plt.title('Error Rate vs. K Value')\n",
    "plt.xlabel('K')\n",
    "plt.ylabel('Error Rate')"
   ]
  },
  {
   "cell_type": "code",
   "execution_count": 46,
   "metadata": {},
   "outputs": [
    {
     "data": {
      "text/plain": [
       "Text(0, 0.5, 'Accuracy')"
      ]
     },
     "execution_count": 46,
     "metadata": {},
     "output_type": "execute_result"
    },
    {
     "data": {
      "image/png": "[encoded data removed]",
      "text/plain": [
       "<Figure size 432x288 with 1 Axes>"
      ]
     },
     "metadata": {
      "needs_background": "light"
     },
     "output_type": "display_data"
    }
   ],
   "source": [
    "plt.plot(np.arange(1,k),scores)\n",
    "plt.title('Varition of accuracy with K value')\n",
    "plt.xlabel('K values')\n",
    "plt.ylabel('Accuracy')"
   ]
  },
  {
   "cell_type": "code",
   "execution_count": 47,
   "metadata": {},
   "outputs": [
    {
     "name": "stdout",
     "output_type": "stream",
     "text": [
      "                   precision    recall  f1-score   support\n",
      "\n",
      "Fresh Papaya Leaf       0.79      0.79      0.79        14\n",
      "Papaya Black Spot       0.60      0.55      0.57        11\n",
      " Papaya Leaf Curl       0.23      0.43      0.30         7\n",
      "  Papaya Ringspot       0.45      0.53      0.49        19\n",
      "   Powdery Mildew       0.71      0.45      0.56        22\n",
      "\n",
      "         accuracy                           0.55        73\n",
      "        macro avg       0.56      0.55      0.54        73\n",
      "     weighted avg       0.60      0.55      0.56        73\n",
      "\n",
      "Accuracy for k = 1 is 54.794520547945204%\n"
     ]
    }
   ],
   "source": [
    "knn = KNeighborsClassifier(n_neighbors = best_k)\n",
    "  \n",
    "knn.fit(X_train, y_train)\n",
    "pred = knn.predict(X_test)\n",
    "from sklearn.metrics import classification_report  \n",
    "print(classification_report(y_test, pred))\n",
    "\n",
    "print(\"Accuracy for k = {} is {}%\".format(best_k,max_accuracy*100))"
   ]
  },
  {
   "cell_type": "markdown",
   "metadata": {},
   "source": [
    "## SVM"
   ]
  },
  {
   "cell_type": "code",
   "execution_count": 48,
   "metadata": {},
   "outputs": [
    {
     "name": "stdout",
     "output_type": "stream",
     "text": [
      "best hyperlink parameters\n",
      "{'C': 15, 'kernel': 'poly'}\n",
      "Accuracy Score:\n",
      "                   precision    recall  f1-score   support\n",
      "\n",
      "Fresh Papaya Leaf       0.80      0.86      0.83        14\n",
      "Papaya Black Spot       0.80      0.73      0.76        11\n",
      " Papaya Leaf Curl       0.33      0.57      0.42         7\n",
      "  Papaya Ringspot       0.58      0.58      0.58        19\n",
      "   Powdery Mildew       0.82      0.64      0.72        22\n",
      "\n",
      "         accuracy                           0.67        73\n",
      "        macro avg       0.67      0.67      0.66        73\n",
      "     weighted avg       0.70      0.67      0.68        73\n",
      "\n"
     ]
    }
   ],
   "source": [
    "from sklearn.svm import SVC\n",
    "svm_model= SVC()\n",
    "tuned_parameters = {\n",
    " 'C': (np.arange(1,30)) , 'kernel': ['linear'],\n",
    " 'C': (np.arange(1,30)) ,  'kernel': ['rbf'],\n",
    " 'C':(np.arange(1,30)) , 'kernel':['poly']\n",
    "                   }\n",
    "from sklearn.model_selection import GridSearchCV\n",
    "\n",
    "model_svm = GridSearchCV(svm_model, tuned_parameters,cv=10,scoring='accuracy')\n",
    "\n",
    "model_svm.fit(X_train,y_train)\n",
    "print('best hyperlink parameters')\n",
    "print(model_svm.best_params_)\n",
    "y_pred= model_svm.predict(X_test)\n",
    "print('Accuracy Score:')\n",
    "\n",
    "print(classification_report(y_test, y_pred))"
   ]
  },
  {
   "cell_type": "code",
   "execution_count": 49,
   "metadata": {},
   "outputs": [
    {
     "name": "stdout",
     "output_type": "stream",
     "text": [
      "Model accuracy score: 67.1233%\n"
     ]
    }
   ],
   "source": [
    "print('Model accuracy score: {0:0.4f}%'. format(accuracy_score(y_pred,y_test)*100))"
   ]
  },
  {
   "cell_type": "markdown",
   "metadata": {},
   "source": [
    "## Naive Bayes"
   ]
  },
  {
   "cell_type": "code",
   "execution_count": 50,
   "metadata": {},
   "outputs": [
    {
     "name": "stdout",
     "output_type": "stream",
     "text": [
      "                   precision    recall  f1-score   support\n",
      "\n",
      "Fresh Papaya Leaf       0.67      0.86      0.75        14\n",
      "Papaya Black Spot       0.33      0.09      0.14        11\n",
      " Papaya Leaf Curl       0.00      0.00      0.00         7\n",
      "  Papaya Ringspot       0.46      0.58      0.51        19\n",
      "   Powdery Mildew       0.52      0.59      0.55        22\n",
      "\n",
      "         accuracy                           0.51        73\n",
      "        macro avg       0.40      0.42      0.39        73\n",
      "     weighted avg       0.45      0.51      0.47        73\n",
      "\n"
     ]
    }
   ],
   "source": [
    "from sklearn.naive_bayes import GaussianNB,CategoricalNB\n",
    "\n",
    "# instantiate the model\n",
    "gnb = GaussianNB()\n",
    "\n",
    "# fit the model\n",
    "gnb.fit(X_train, y_train)\n",
    "y_pred = gnb.predict(X_test)\n",
    "print(classification_report(y_test, y_pred))\n",
    "\n"
   ]
  },
  {
   "cell_type": "code",
   "execution_count": 51,
   "metadata": {},
   "outputs": [
    {
     "name": "stdout",
     "output_type": "stream",
     "text": [
      "Model accuracy score: 50.6849%\n"
     ]
    }
   ],
   "source": [
    "print('Model accuracy score: {0:0.4f}%'. format(accuracy_score(y_test, y_pred)*100))"
   ]
  },
  {
   "cell_type": "markdown",
   "metadata": {},
   "source": [
    "## Logistic regression"
   ]
  },
  {
   "cell_type": "code",
   "execution_count": 52,
   "metadata": {},
   "outputs": [
    {
     "name": "stdout",
     "output_type": "stream",
     "text": [
      "                   precision    recall  f1-score   support\n",
      "\n",
      "Fresh Papaya Leaf       0.67      0.86      0.75        14\n",
      "Papaya Black Spot       0.33      0.09      0.14        11\n",
      " Papaya Leaf Curl       0.00      0.00      0.00         7\n",
      "  Papaya Ringspot       0.46      0.58      0.51        19\n",
      "   Powdery Mildew       0.52      0.59      0.55        22\n",
      "\n",
      "         accuracy                           0.51        73\n",
      "        macro avg       0.40      0.42      0.39        73\n",
      "     weighted avg       0.45      0.51      0.47        73\n",
      "\n"
     ]
    }
   ],
   "source": [
    "from sklearn.linear_model import LogisticRegression\n",
    "\n",
    "lr = LogisticRegression(solver='lbfgs', max_iter=1000)\n",
    "\n",
    "# fit the model\n",
    "lr.fit(X_train, y_train)\n",
    "y_pred = gnb.predict(X_test)\n",
    "\n",
    "print(classification_report(y_test, y_pred))\n"
   ]
  },
  {
   "cell_type": "code",
   "execution_count": 53,
   "metadata": {},
   "outputs": [
    {
     "name": "stdout",
     "output_type": "stream",
     "text": [
      "Model accuracy score: 50.6849%\n"
     ]
    }
   ],
   "source": [
    "print('Model accuracy score: {0:0.4f}%'. format(accuracy_score(y_test, y_pred)*100))"
   ]
  },
  {
   "cell_type": "markdown",
   "metadata": {},
   "source": [
    "# K-Fold Cross Validation"
   ]
  },
  {
   "cell_type": "code",
   "execution_count": 54,
   "metadata": {},
   "outputs": [
    {
     "name": "stdout",
     "output_type": "stream",
     "text": [
      "Fold:1, Train set: 217, Test set:73\n",
      "Fold:2, Train set: 217, Test set:73\n",
      "Fold:3, Train set: 218, Test set:72\n",
      "Fold:4, Train set: 218, Test set:72\n"
     ]
    }
   ],
   "source": [
    "from sklearn.model_selection import KFold, StratifiedKFold\n",
    "\n",
    "kf = StratifiedKFold(n_splits=4, shuffle=True, random_state=42)\n",
    "\n",
    "cnt = 1\n",
    "# split()  method generate indices to split data into training and test set.\n",
    "for train_index, test_index in kf.split(X, y):\n",
    "    print(f'Fold:{cnt}, Train set: {len(train_index)}, Test set:{len(test_index)}')\n",
    "    cnt += 1\n"
   ]
  },
  {
   "cell_type": "code",
   "execution_count": 55,
   "metadata": {},
   "outputs": [
    {
     "name": "stdout",
     "output_type": "stream",
     "text": [
      "Scores for each fold are:\n",
      "[0.47945205 0.65753425 0.52777778 0.58333333]\n",
      "Model accuracy score for Logistic Regression: 56.2024%\n"
     ]
    }
   ],
   "source": [
    "score = cross_val_score(lr, X, y, cv= kf, scoring=\"accuracy\")\n",
    "print('Scores for each fold are:')\n",
    "print(score)\n",
    "print('Model accuracy score for Logistic Regression: {0:0.4f}%'.format(score.mean()*100))"
   ]
  },
  {
   "cell_type": "code",
   "execution_count": 56,
   "metadata": {},
   "outputs": [
    {
     "name": "stdout",
     "output_type": "stream",
     "text": [
      "Scores for each fold are:\n",
      "[0.46575342 0.5890411  0.5        0.45833333]\n",
      "Model accuracy score for Gaussian Naive Bayes: 50.3282%\n"
     ]
    }
   ],
   "source": [
    "score = cross_val_score(gnb, X, y, cv= kf, scoring=\"accuracy\")\n",
    "print('Scores for each fold are:')\n",
    "print(score)\n",
    "print('Model accuracy score for Gaussian Naive Bayes: {0:0.4f}%'.format(score.mean()*100))"
   ]
  }
 ],
 "metadata": {
  "kernelspec": {
   "display_name": "Python 3",
   "language": "python",
   "name": "python3"
  },
  "language_info": {
   "codemirror_mode": {
    "name": "ipython",
    "version": 3
   },
   "file_extension": ".py",
   "mimetype": "text/x-python",
   "name": "python",
   "nbconvert_exporter": "python",
   "pygments_lexer": "ipython3",
   "version": "3.7.3"
  }
 },
 "nbformat": 4,
 "nbformat_minor": 4
}
