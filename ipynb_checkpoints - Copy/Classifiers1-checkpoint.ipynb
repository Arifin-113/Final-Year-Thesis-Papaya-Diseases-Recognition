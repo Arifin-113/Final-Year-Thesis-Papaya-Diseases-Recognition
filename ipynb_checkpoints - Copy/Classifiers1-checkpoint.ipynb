{
 "cells": [
  {
   "cell_type": "code",
   "execution_count": 1,
   "metadata": {},
   "outputs": [],
   "source": [
    "import numpy as np\n",
    "import pandas as pd\n",
    "import matplotlib.pyplot as plt\n",
    "import seaborn as sns\n",
    "from sklearn.metrics import accuracy_score\n",
    "from sklearn.metrics import plot_confusion_matrix\n",
    "from sklearn.model_selection import cross_val_score\n",
    "from sklearn.utils import shuffle"
   ]
  },
  {
   "cell_type": "code",
   "execution_count": 2,
   "metadata": {},
   "outputs": [
    {
     "data": {
      "text/html": [
       "<div>\n",
       "<style scoped>\n",
       "    .dataframe tbody tr th:only-of-type {\n",
       "        vertical-align: middle;\n",
       "    }\n",
       "\n",
       "    .dataframe tbody tr th {\n",
       "        vertical-align: top;\n",
       "    }\n",
       "\n",
       "    .dataframe thead th {\n",
       "        text-align: right;\n",
       "    }\n",
       "</style>\n",
       "<table border=\"1\" class=\"dataframe\">\n",
       "  <thead>\n",
       "    <tr style=\"text-align: right;\">\n",
       "      <th></th>\n",
       "      <th>Unnamed: 0</th>\n",
       "      <th>0</th>\n",
       "      <th>1</th>\n",
       "      <th>2</th>\n",
       "      <th>3</th>\n",
       "      <th>4</th>\n",
       "      <th>5</th>\n",
       "      <th>6</th>\n",
       "      <th>7</th>\n",
       "      <th>8</th>\n",
       "      <th>9</th>\n",
       "      <th>10</th>\n",
       "      <th>11</th>\n",
       "      <th>12</th>\n",
       "      <th>13</th>\n",
       "      <th>14</th>\n",
       "      <th>15</th>\n",
       "      <th>16</th>\n",
       "    </tr>\n",
       "  </thead>\n",
       "  <tbody>\n",
       "    <tr>\n",
       "      <th>125</th>\n",
       "      <td>7</td>\n",
       "      <td>2.294087</td>\n",
       "      <td>3.041892</td>\n",
       "      <td>2.527037</td>\n",
       "      <td>3.610519</td>\n",
       "      <td>0.866944</td>\n",
       "      <td>0.831823</td>\n",
       "      <td>0.856780</td>\n",
       "      <td>0.807096</td>\n",
       "      <td>0.512763</td>\n",
       "      <td>0.493442</td>\n",
       "      <td>0.506392</td>\n",
       "      <td>0.481133</td>\n",
       "      <td>0.885261</td>\n",
       "      <td>0.847890</td>\n",
       "      <td>0.873762</td>\n",
       "      <td>0.819446</td>\n",
       "      <td>Papaya Leaf Curl</td>\n",
       "    </tr>\n",
       "    <tr>\n",
       "      <th>251</th>\n",
       "      <td>16</td>\n",
       "      <td>2.416805</td>\n",
       "      <td>3.495855</td>\n",
       "      <td>2.755316</td>\n",
       "      <td>3.767582</td>\n",
       "      <td>0.875083</td>\n",
       "      <td>0.829671</td>\n",
       "      <td>0.860070</td>\n",
       "      <td>0.824067</td>\n",
       "      <td>0.514266</td>\n",
       "      <td>0.491194</td>\n",
       "      <td>0.506381</td>\n",
       "      <td>0.487835</td>\n",
       "      <td>0.894901</td>\n",
       "      <td>0.847941</td>\n",
       "      <td>0.880173</td>\n",
       "      <td>0.836124</td>\n",
       "      <td>Powdery Mildew</td>\n",
       "    </tr>\n",
       "    <tr>\n",
       "      <th>38</th>\n",
       "      <td>38</td>\n",
       "      <td>1.177696</td>\n",
       "      <td>2.345559</td>\n",
       "      <td>1.773591</td>\n",
       "      <td>2.381884</td>\n",
       "      <td>0.974771</td>\n",
       "      <td>0.949164</td>\n",
       "      <td>0.955346</td>\n",
       "      <td>0.946746</td>\n",
       "      <td>0.789929</td>\n",
       "      <td>0.782634</td>\n",
       "      <td>0.785839</td>\n",
       "      <td>0.782397</td>\n",
       "      <td>0.975298</td>\n",
       "      <td>0.950941</td>\n",
       "      <td>0.962812</td>\n",
       "      <td>0.950181</td>\n",
       "      <td>Fresh Papaya Leaf</td>\n",
       "    </tr>\n",
       "    <tr>\n",
       "      <th>172</th>\n",
       "      <td>8</td>\n",
       "      <td>3.480453</td>\n",
       "      <td>4.420023</td>\n",
       "      <td>2.676471</td>\n",
       "      <td>4.227974</td>\n",
       "      <td>0.872753</td>\n",
       "      <td>0.852960</td>\n",
       "      <td>0.898384</td>\n",
       "      <td>0.852785</td>\n",
       "      <td>0.544443</td>\n",
       "      <td>0.534987</td>\n",
       "      <td>0.555742</td>\n",
       "      <td>0.535548</td>\n",
       "      <td>0.905472</td>\n",
       "      <td>0.879992</td>\n",
       "      <td>0.927328</td>\n",
       "      <td>0.885200</td>\n",
       "      <td>Papaya Ringspot</td>\n",
       "    </tr>\n",
       "    <tr>\n",
       "      <th>118</th>\n",
       "      <td>0</td>\n",
       "      <td>3.692295</td>\n",
       "      <td>4.293226</td>\n",
       "      <td>2.287868</td>\n",
       "      <td>4.571534</td>\n",
       "      <td>0.853446</td>\n",
       "      <td>0.831037</td>\n",
       "      <td>0.904487</td>\n",
       "      <td>0.827857</td>\n",
       "      <td>0.511255</td>\n",
       "      <td>0.499734</td>\n",
       "      <td>0.540269</td>\n",
       "      <td>0.498233</td>\n",
       "      <td>0.832915</td>\n",
       "      <td>0.805465</td>\n",
       "      <td>0.896403</td>\n",
       "      <td>0.792838</td>\n",
       "      <td>Papaya Leaf Curl</td>\n",
       "    </tr>\n",
       "  </tbody>\n",
       "</table>\n",
       "</div>"
      ],
      "text/plain": [
       "     Unnamed: 0         0         1         2         3         4         5  \\\n",
       "125           7  2.294087  3.041892  2.527037  3.610519  0.866944  0.831823   \n",
       "251          16  2.416805  3.495855  2.755316  3.767582  0.875083  0.829671   \n",
       "38           38  1.177696  2.345559  1.773591  2.381884  0.974771  0.949164   \n",
       "172           8  3.480453  4.420023  2.676471  4.227974  0.872753  0.852960   \n",
       "118           0  3.692295  4.293226  2.287868  4.571534  0.853446  0.831037   \n",
       "\n",
       "            6         7         8         9        10        11        12  \\\n",
       "125  0.856780  0.807096  0.512763  0.493442  0.506392  0.481133  0.885261   \n",
       "251  0.860070  0.824067  0.514266  0.491194  0.506381  0.487835  0.894901   \n",
       "38   0.955346  0.946746  0.789929  0.782634  0.785839  0.782397  0.975298   \n",
       "172  0.898384  0.852785  0.544443  0.534987  0.555742  0.535548  0.905472   \n",
       "118  0.904487  0.827857  0.511255  0.499734  0.540269  0.498233  0.832915   \n",
       "\n",
       "           13        14        15                 16  \n",
       "125  0.847890  0.873762  0.819446   Papaya Leaf Curl  \n",
       "251  0.847941  0.880173  0.836124     Powdery Mildew  \n",
       "38   0.950941  0.962812  0.950181  Fresh Papaya Leaf  \n",
       "172  0.879992  0.927328  0.885200    Papaya Ringspot  \n",
       "118  0.805465  0.896403  0.792838   Papaya Leaf Curl  "
      ]
     },
     "execution_count": 2,
     "metadata": {},
     "output_type": "execute_result"
    }
   ],
   "source": [
    "path = r\"C:\\Users\\Arifin\\Downloads\\papaya\\combined.csv\"\n",
    "df = pd.read_csv(path)\n",
    "df = shuffle(df)\n",
    "df.head()"
   ]
  },
  {
   "cell_type": "code",
   "execution_count": 3,
   "metadata": {},
   "outputs": [
    {
     "data": {
      "text/plain": [
       "(300, 18)"
      ]
     },
     "execution_count": 3,
     "metadata": {},
     "output_type": "execute_result"
    }
   ],
   "source": [
    "df.shape"
   ]
  },
  {
   "cell_type": "code",
   "execution_count": 4,
   "metadata": {},
   "outputs": [
    {
     "data": {
      "text/html": [
       "<div>\n",
       "<style scoped>\n",
       "    .dataframe tbody tr th:only-of-type {\n",
       "        vertical-align: middle;\n",
       "    }\n",
       "\n",
       "    .dataframe tbody tr th {\n",
       "        vertical-align: top;\n",
       "    }\n",
       "\n",
       "    .dataframe thead th {\n",
       "        text-align: right;\n",
       "    }\n",
       "</style>\n",
       "<table border=\"1\" class=\"dataframe\">\n",
       "  <thead>\n",
       "    <tr style=\"text-align: right;\">\n",
       "      <th></th>\n",
       "      <th>Unnamed: 0</th>\n",
       "      <th>0</th>\n",
       "      <th>1</th>\n",
       "      <th>2</th>\n",
       "      <th>3</th>\n",
       "      <th>4</th>\n",
       "      <th>5</th>\n",
       "      <th>6</th>\n",
       "      <th>7</th>\n",
       "      <th>8</th>\n",
       "      <th>9</th>\n",
       "      <th>10</th>\n",
       "      <th>11</th>\n",
       "      <th>12</th>\n",
       "      <th>13</th>\n",
       "      <th>14</th>\n",
       "      <th>15</th>\n",
       "    </tr>\n",
       "  </thead>\n",
       "  <tbody>\n",
       "    <tr>\n",
       "      <th>count</th>\n",
       "      <td>300.000000</td>\n",
       "      <td>300.000000</td>\n",
       "      <td>300.000000</td>\n",
       "      <td>300.000000</td>\n",
       "      <td>300.000000</td>\n",
       "      <td>300.000000</td>\n",
       "      <td>300.000000</td>\n",
       "      <td>300.000000</td>\n",
       "      <td>300.000000</td>\n",
       "      <td>300.000000</td>\n",
       "      <td>300.000000</td>\n",
       "      <td>300.000000</td>\n",
       "      <td>300.000000</td>\n",
       "      <td>300.000000</td>\n",
       "      <td>300.000000</td>\n",
       "      <td>300.000000</td>\n",
       "      <td>300.000000</td>\n",
       "    </tr>\n",
       "    <tr>\n",
       "      <th>mean</th>\n",
       "      <td>30.156667</td>\n",
       "      <td>2.725250</td>\n",
       "      <td>3.964152</td>\n",
       "      <td>2.894745</td>\n",
       "      <td>3.988170</td>\n",
       "      <td>0.874993</td>\n",
       "      <td>0.826479</td>\n",
       "      <td>0.864919</td>\n",
       "      <td>0.825536</td>\n",
       "      <td>0.554908</td>\n",
       "      <td>0.531077</td>\n",
       "      <td>0.549496</td>\n",
       "      <td>0.530647</td>\n",
       "      <td>0.875815</td>\n",
       "      <td>0.819681</td>\n",
       "      <td>0.868248</td>\n",
       "      <td>0.818480</td>\n",
       "    </tr>\n",
       "    <tr>\n",
       "      <th>std</th>\n",
       "      <td>18.396019</td>\n",
       "      <td>1.505644</td>\n",
       "      <td>1.912704</td>\n",
       "      <td>1.510441</td>\n",
       "      <td>1.933513</td>\n",
       "      <td>0.064100</td>\n",
       "      <td>0.077793</td>\n",
       "      <td>0.063389</td>\n",
       "      <td>0.078101</td>\n",
       "      <td>0.091796</td>\n",
       "      <td>0.099676</td>\n",
       "      <td>0.093070</td>\n",
       "      <td>0.099853</td>\n",
       "      <td>0.070219</td>\n",
       "      <td>0.094992</td>\n",
       "      <td>0.074410</td>\n",
       "      <td>0.095796</td>\n",
       "    </tr>\n",
       "    <tr>\n",
       "      <th>min</th>\n",
       "      <td>0.000000</td>\n",
       "      <td>0.346431</td>\n",
       "      <td>0.548143</td>\n",
       "      <td>0.308241</td>\n",
       "      <td>0.540500</td>\n",
       "      <td>0.659733</td>\n",
       "      <td>0.573734</td>\n",
       "      <td>0.687297</td>\n",
       "      <td>0.574022</td>\n",
       "      <td>0.422612</td>\n",
       "      <td>0.380173</td>\n",
       "      <td>0.408012</td>\n",
       "      <td>0.380257</td>\n",
       "      <td>0.676359</td>\n",
       "      <td>0.547296</td>\n",
       "      <td>0.613650</td>\n",
       "      <td>0.525650</td>\n",
       "    </tr>\n",
       "    <tr>\n",
       "      <th>25%</th>\n",
       "      <td>14.750000</td>\n",
       "      <td>1.761535</td>\n",
       "      <td>2.659123</td>\n",
       "      <td>1.869761</td>\n",
       "      <td>2.779239</td>\n",
       "      <td>0.836898</td>\n",
       "      <td>0.774981</td>\n",
       "      <td>0.824198</td>\n",
       "      <td>0.770923</td>\n",
       "      <td>0.496065</td>\n",
       "      <td>0.465686</td>\n",
       "      <td>0.489574</td>\n",
       "      <td>0.466993</td>\n",
       "      <td>0.831323</td>\n",
       "      <td>0.748813</td>\n",
       "      <td>0.822253</td>\n",
       "      <td>0.746914</td>\n",
       "    </tr>\n",
       "    <tr>\n",
       "      <th>50%</th>\n",
       "      <td>29.500000</td>\n",
       "      <td>2.611336</td>\n",
       "      <td>3.775940</td>\n",
       "      <td>2.746002</td>\n",
       "      <td>3.776702</td>\n",
       "      <td>0.875113</td>\n",
       "      <td>0.816600</td>\n",
       "      <td>0.854236</td>\n",
       "      <td>0.813477</td>\n",
       "      <td>0.523860</td>\n",
       "      <td>0.494223</td>\n",
       "      <td>0.513619</td>\n",
       "      <td>0.490514</td>\n",
       "      <td>0.876752</td>\n",
       "      <td>0.815954</td>\n",
       "      <td>0.867870</td>\n",
       "      <td>0.813838</td>\n",
       "    </tr>\n",
       "    <tr>\n",
       "      <th>75%</th>\n",
       "      <td>44.250000</td>\n",
       "      <td>3.421791</td>\n",
       "      <td>5.045140</td>\n",
       "      <td>3.803768</td>\n",
       "      <td>5.074995</td>\n",
       "      <td>0.916474</td>\n",
       "      <td>0.879702</td>\n",
       "      <td>0.907919</td>\n",
       "      <td>0.874433</td>\n",
       "      <td>0.575476</td>\n",
       "      <td>0.559789</td>\n",
       "      <td>0.576470</td>\n",
       "      <td>0.562494</td>\n",
       "      <td>0.925883</td>\n",
       "      <td>0.891737</td>\n",
       "      <td>0.927328</td>\n",
       "      <td>0.891952</td>\n",
       "    </tr>\n",
       "    <tr>\n",
       "      <th>max</th>\n",
       "      <td>70.000000</td>\n",
       "      <td>9.969792</td>\n",
       "      <td>11.980202</td>\n",
       "      <td>9.313826</td>\n",
       "      <td>11.759734</td>\n",
       "      <td>0.986732</td>\n",
       "      <td>0.975977</td>\n",
       "      <td>0.984434</td>\n",
       "      <td>0.974249</td>\n",
       "      <td>0.830710</td>\n",
       "      <td>0.825573</td>\n",
       "      <td>0.831060</td>\n",
       "      <td>0.825821</td>\n",
       "      <td>0.986114</td>\n",
       "      <td>0.977175</td>\n",
       "      <td>0.988594</td>\n",
       "      <td>0.980172</td>\n",
       "    </tr>\n",
       "  </tbody>\n",
       "</table>\n",
       "</div>"
      ],
      "text/plain": [
       "       Unnamed: 0           0           1           2           3           4  \\\n",
       "count  300.000000  300.000000  300.000000  300.000000  300.000000  300.000000   \n",
       "mean    30.156667    2.725250    3.964152    2.894745    3.988170    0.874993   \n",
       "std     18.396019    1.505644    1.912704    1.510441    1.933513    0.064100   \n",
       "min      0.000000    0.346431    0.548143    0.308241    0.540500    0.659733   \n",
       "25%     14.750000    1.761535    2.659123    1.869761    2.779239    0.836898   \n",
       "50%     29.500000    2.611336    3.775940    2.746002    3.776702    0.875113   \n",
       "75%     44.250000    3.421791    5.045140    3.803768    5.074995    0.916474   \n",
       "max     70.000000    9.969792   11.980202    9.313826   11.759734    0.986732   \n",
       "\n",
       "                5           6           7           8           9          10  \\\n",
       "count  300.000000  300.000000  300.000000  300.000000  300.000000  300.000000   \n",
       "mean     0.826479    0.864919    0.825536    0.554908    0.531077    0.549496   \n",
       "std      0.077793    0.063389    0.078101    0.091796    0.099676    0.093070   \n",
       "min      0.573734    0.687297    0.574022    0.422612    0.380173    0.408012   \n",
       "25%      0.774981    0.824198    0.770923    0.496065    0.465686    0.489574   \n",
       "50%      0.816600    0.854236    0.813477    0.523860    0.494223    0.513619   \n",
       "75%      0.879702    0.907919    0.874433    0.575476    0.559789    0.576470   \n",
       "max      0.975977    0.984434    0.974249    0.830710    0.825573    0.831060   \n",
       "\n",
       "               11          12          13          14          15  \n",
       "count  300.000000  300.000000  300.000000  300.000000  300.000000  \n",
       "mean     0.530647    0.875815    0.819681    0.868248    0.818480  \n",
       "std      0.099853    0.070219    0.094992    0.074410    0.095796  \n",
       "min      0.380257    0.676359    0.547296    0.613650    0.525650  \n",
       "25%      0.466993    0.831323    0.748813    0.822253    0.746914  \n",
       "50%      0.490514    0.876752    0.815954    0.867870    0.813838  \n",
       "75%      0.562494    0.925883    0.891737    0.927328    0.891952  \n",
       "max      0.825821    0.986114    0.977175    0.988594    0.980172  "
      ]
     },
     "execution_count": 4,
     "metadata": {},
     "output_type": "execute_result"
    }
   ],
   "source": [
    "df.describe()"
   ]
  },
  {
   "cell_type": "code",
   "execution_count": 5,
   "metadata": {},
   "outputs": [],
   "source": [
    "df = df.rename(columns={'16': 'Class'})\n",
    "X = df.drop('Class',axis=1)\n",
    "y = df['Class']"
   ]
  },
  {
   "cell_type": "code",
   "execution_count": 6,
   "metadata": {},
   "outputs": [
    {
     "name": "stdout",
     "output_type": "stream",
     "text": [
      "<class 'pandas.core.frame.DataFrame'>\n",
      "Int64Index: 300 entries, 125 to 157\n",
      "Data columns (total 18 columns):\n",
      " #   Column      Non-Null Count  Dtype  \n",
      "---  ------      --------------  -----  \n",
      " 0   Unnamed: 0  300 non-null    int64  \n",
      " 1   0           300 non-null    float64\n",
      " 2   1           300 non-null    float64\n",
      " 3   2           300 non-null    float64\n",
      " 4   3           300 non-null    float64\n",
      " 5   4           300 non-null    float64\n",
      " 6   5           300 non-null    float64\n",
      " 7   6           300 non-null    float64\n",
      " 8   7           300 non-null    float64\n",
      " 9   8           300 non-null    float64\n",
      " 10  9           300 non-null    float64\n",
      " 11  10          300 non-null    float64\n",
      " 12  11          300 non-null    float64\n",
      " 13  12          300 non-null    float64\n",
      " 14  13          300 non-null    float64\n",
      " 15  14          300 non-null    float64\n",
      " 16  15          300 non-null    float64\n",
      " 17  Class       300 non-null    object \n",
      "dtypes: float64(16), int64(1), object(1)\n",
      "memory usage: 44.5+ KB\n"
     ]
    }
   ],
   "source": [
    "df.info()"
   ]
  },
  {
   "cell_type": "code",
   "execution_count": 7,
   "metadata": {},
   "outputs": [
    {
     "data": {
      "text/plain": [
       "Text(0.5, 1.0, 'Correlation between different fearures')"
      ]
     },
     "execution_count": 7,
     "metadata": {},
     "output_type": "execute_result"
    },
    {
     "data": {
      "image/png": "[encoded data removed]",
      "text/plain": [
       "<Figure size 720x720 with 2 Axes>"
      ]
     },
     "metadata": {
      "needs_background": "light"
     },
     "output_type": "display_data"
    }
   ],
   "source": [
    "correlation = df.corr()\n",
    "plt.figure(figsize=(10,10))\n",
    "sns.heatmap(correlation, vmax=1, square=True,annot=True,cmap='viridis')\n",
    "\n",
    "plt.title('Correlation between different fearures')"
   ]
  },
  {
   "cell_type": "code",
   "execution_count": 8,
   "metadata": {},
   "outputs": [
    {
     "data": {
      "text/html": [
       "<div>\n",
       "<style scoped>\n",
       "    .dataframe tbody tr th:only-of-type {\n",
       "        vertical-align: middle;\n",
       "    }\n",
       "\n",
       "    .dataframe tbody tr th {\n",
       "        vertical-align: top;\n",
       "    }\n",
       "\n",
       "    .dataframe thead th {\n",
       "        text-align: right;\n",
       "    }\n",
       "</style>\n",
       "<table border=\"1\" class=\"dataframe\">\n",
       "  <thead>\n",
       "    <tr style=\"text-align: right;\">\n",
       "      <th></th>\n",
       "      <th>Unnamed: 0</th>\n",
       "      <th>0</th>\n",
       "      <th>1</th>\n",
       "      <th>2</th>\n",
       "      <th>3</th>\n",
       "      <th>4</th>\n",
       "      <th>5</th>\n",
       "      <th>6</th>\n",
       "      <th>7</th>\n",
       "      <th>8</th>\n",
       "      <th>9</th>\n",
       "      <th>10</th>\n",
       "      <th>11</th>\n",
       "      <th>12</th>\n",
       "      <th>13</th>\n",
       "      <th>14</th>\n",
       "      <th>15</th>\n",
       "    </tr>\n",
       "  </thead>\n",
       "  <tbody>\n",
       "    <tr>\n",
       "      <th>125</th>\n",
       "      <td>7</td>\n",
       "      <td>2.294087</td>\n",
       "      <td>3.041892</td>\n",
       "      <td>2.527037</td>\n",
       "      <td>3.610519</td>\n",
       "      <td>0.866944</td>\n",
       "      <td>0.831823</td>\n",
       "      <td>0.856780</td>\n",
       "      <td>0.807096</td>\n",
       "      <td>0.512763</td>\n",
       "      <td>0.493442</td>\n",
       "      <td>0.506392</td>\n",
       "      <td>0.481133</td>\n",
       "      <td>0.885261</td>\n",
       "      <td>0.847890</td>\n",
       "      <td>0.873762</td>\n",
       "      <td>0.819446</td>\n",
       "    </tr>\n",
       "    <tr>\n",
       "      <th>251</th>\n",
       "      <td>16</td>\n",
       "      <td>2.416805</td>\n",
       "      <td>3.495855</td>\n",
       "      <td>2.755316</td>\n",
       "      <td>3.767582</td>\n",
       "      <td>0.875083</td>\n",
       "      <td>0.829671</td>\n",
       "      <td>0.860070</td>\n",
       "      <td>0.824067</td>\n",
       "      <td>0.514266</td>\n",
       "      <td>0.491194</td>\n",
       "      <td>0.506381</td>\n",
       "      <td>0.487835</td>\n",
       "      <td>0.894901</td>\n",
       "      <td>0.847941</td>\n",
       "      <td>0.880173</td>\n",
       "      <td>0.836124</td>\n",
       "    </tr>\n",
       "    <tr>\n",
       "      <th>38</th>\n",
       "      <td>38</td>\n",
       "      <td>1.177696</td>\n",
       "      <td>2.345559</td>\n",
       "      <td>1.773591</td>\n",
       "      <td>2.381884</td>\n",
       "      <td>0.974771</td>\n",
       "      <td>0.949164</td>\n",
       "      <td>0.955346</td>\n",
       "      <td>0.946746</td>\n",
       "      <td>0.789929</td>\n",
       "      <td>0.782634</td>\n",
       "      <td>0.785839</td>\n",
       "      <td>0.782397</td>\n",
       "      <td>0.975298</td>\n",
       "      <td>0.950941</td>\n",
       "      <td>0.962812</td>\n",
       "      <td>0.950181</td>\n",
       "    </tr>\n",
       "    <tr>\n",
       "      <th>172</th>\n",
       "      <td>8</td>\n",
       "      <td>3.480453</td>\n",
       "      <td>4.420023</td>\n",
       "      <td>2.676471</td>\n",
       "      <td>4.227974</td>\n",
       "      <td>0.872753</td>\n",
       "      <td>0.852960</td>\n",
       "      <td>0.898384</td>\n",
       "      <td>0.852785</td>\n",
       "      <td>0.544443</td>\n",
       "      <td>0.534987</td>\n",
       "      <td>0.555742</td>\n",
       "      <td>0.535548</td>\n",
       "      <td>0.905472</td>\n",
       "      <td>0.879992</td>\n",
       "      <td>0.927328</td>\n",
       "      <td>0.885200</td>\n",
       "    </tr>\n",
       "    <tr>\n",
       "      <th>118</th>\n",
       "      <td>0</td>\n",
       "      <td>3.692295</td>\n",
       "      <td>4.293226</td>\n",
       "      <td>2.287868</td>\n",
       "      <td>4.571534</td>\n",
       "      <td>0.853446</td>\n",
       "      <td>0.831037</td>\n",
       "      <td>0.904487</td>\n",
       "      <td>0.827857</td>\n",
       "      <td>0.511255</td>\n",
       "      <td>0.499734</td>\n",
       "      <td>0.540269</td>\n",
       "      <td>0.498233</td>\n",
       "      <td>0.832915</td>\n",
       "      <td>0.805465</td>\n",
       "      <td>0.896403</td>\n",
       "      <td>0.792838</td>\n",
       "    </tr>\n",
       "  </tbody>\n",
       "</table>\n",
       "</div>"
      ],
      "text/plain": [
       "     Unnamed: 0         0         1         2         3         4         5  \\\n",
       "125           7  2.294087  3.041892  2.527037  3.610519  0.866944  0.831823   \n",
       "251          16  2.416805  3.495855  2.755316  3.767582  0.875083  0.829671   \n",
       "38           38  1.177696  2.345559  1.773591  2.381884  0.974771  0.949164   \n",
       "172           8  3.480453  4.420023  2.676471  4.227974  0.872753  0.852960   \n",
       "118           0  3.692295  4.293226  2.287868  4.571534  0.853446  0.831037   \n",
       "\n",
       "            6         7         8         9        10        11        12  \\\n",
       "125  0.856780  0.807096  0.512763  0.493442  0.506392  0.481133  0.885261   \n",
       "251  0.860070  0.824067  0.514266  0.491194  0.506381  0.487835  0.894901   \n",
       "38   0.955346  0.946746  0.789929  0.782634  0.785839  0.782397  0.975298   \n",
       "172  0.898384  0.852785  0.544443  0.534987  0.555742  0.535548  0.905472   \n",
       "118  0.904487  0.827857  0.511255  0.499734  0.540269  0.498233  0.832915   \n",
       "\n",
       "           13        14        15  \n",
       "125  0.847890  0.873762  0.819446  \n",
       "251  0.847941  0.880173  0.836124  \n",
       "38   0.950941  0.962812  0.950181  \n",
       "172  0.879992  0.927328  0.885200  \n",
       "118  0.805465  0.896403  0.792838  "
      ]
     },
     "execution_count": 8,
     "metadata": {},
     "output_type": "execute_result"
    }
   ],
   "source": [
    "X.head()"
   ]
  },
  {
   "cell_type": "code",
   "execution_count": 9,
   "metadata": {},
   "outputs": [
    {
     "data": {
      "text/plain": [
       "125     Papaya Leaf Curl\n",
       "251       Powdery Mildew\n",
       "38     Fresh Papaya Leaf\n",
       "172      Papaya Ringspot\n",
       "118     Papaya Leaf Curl\n",
       "Name: Class, dtype: object"
      ]
     },
     "execution_count": 9,
     "metadata": {},
     "output_type": "execute_result"
    }
   ],
   "source": [
    "y.head()"
   ]
  },
  {
   "cell_type": "markdown",
   "metadata": {},
   "source": [
    "# Feature Scaling"
   ]
  },
  {
   "cell_type": "code",
   "execution_count": 10,
   "metadata": {},
   "outputs": [],
   "source": [
    "from sklearn.preprocessing import StandardScaler,RobustScaler,MinMaxScaler,MaxAbsScaler\n",
    "  \n",
    "scaler = MaxAbsScaler()\n",
    "\n",
    "X = scaler.fit_transform(X)\n",
    "\n",
    "X = pd.DataFrame(X)"
   ]
  },
  {
   "cell_type": "code",
   "execution_count": 11,
   "metadata": {},
   "outputs": [
    {
     "data": {
      "text/html": [
       "<div>\n",
       "<style scoped>\n",
       "    .dataframe tbody tr th:only-of-type {\n",
       "        vertical-align: middle;\n",
       "    }\n",
       "\n",
       "    .dataframe tbody tr th {\n",
       "        vertical-align: top;\n",
       "    }\n",
       "\n",
       "    .dataframe thead th {\n",
       "        text-align: right;\n",
       "    }\n",
       "</style>\n",
       "<table border=\"1\" class=\"dataframe\">\n",
       "  <thead>\n",
       "    <tr style=\"text-align: right;\">\n",
       "      <th></th>\n",
       "      <th>0</th>\n",
       "      <th>1</th>\n",
       "      <th>2</th>\n",
       "      <th>3</th>\n",
       "      <th>4</th>\n",
       "      <th>5</th>\n",
       "      <th>6</th>\n",
       "      <th>7</th>\n",
       "      <th>8</th>\n",
       "      <th>9</th>\n",
       "      <th>10</th>\n",
       "      <th>11</th>\n",
       "      <th>12</th>\n",
       "      <th>13</th>\n",
       "      <th>14</th>\n",
       "      <th>15</th>\n",
       "      <th>16</th>\n",
       "    </tr>\n",
       "  </thead>\n",
       "  <tbody>\n",
       "    <tr>\n",
       "      <th>0</th>\n",
       "      <td>0.100000</td>\n",
       "      <td>0.230104</td>\n",
       "      <td>0.253910</td>\n",
       "      <td>0.271321</td>\n",
       "      <td>0.307024</td>\n",
       "      <td>0.878601</td>\n",
       "      <td>0.852298</td>\n",
       "      <td>0.870328</td>\n",
       "      <td>0.828429</td>\n",
       "      <td>0.617259</td>\n",
       "      <td>0.597696</td>\n",
       "      <td>0.609333</td>\n",
       "      <td>0.582611</td>\n",
       "      <td>0.897727</td>\n",
       "      <td>0.867695</td>\n",
       "      <td>0.883844</td>\n",
       "      <td>0.836023</td>\n",
       "    </tr>\n",
       "    <tr>\n",
       "      <th>1</th>\n",
       "      <td>0.228571</td>\n",
       "      <td>0.242413</td>\n",
       "      <td>0.291803</td>\n",
       "      <td>0.295831</td>\n",
       "      <td>0.320380</td>\n",
       "      <td>0.886850</td>\n",
       "      <td>0.850093</td>\n",
       "      <td>0.873670</td>\n",
       "      <td>0.845848</td>\n",
       "      <td>0.619068</td>\n",
       "      <td>0.594973</td>\n",
       "      <td>0.609320</td>\n",
       "      <td>0.590727</td>\n",
       "      <td>0.907503</td>\n",
       "      <td>0.867747</td>\n",
       "      <td>0.890328</td>\n",
       "      <td>0.853038</td>\n",
       "    </tr>\n",
       "    <tr>\n",
       "      <th>2</th>\n",
       "      <td>0.542857</td>\n",
       "      <td>0.118126</td>\n",
       "      <td>0.195786</td>\n",
       "      <td>0.190426</td>\n",
       "      <td>0.202546</td>\n",
       "      <td>0.987878</td>\n",
       "      <td>0.972527</td>\n",
       "      <td>0.970452</td>\n",
       "      <td>0.971770</td>\n",
       "      <td>0.950909</td>\n",
       "      <td>0.947988</td>\n",
       "      <td>0.945587</td>\n",
       "      <td>0.947417</td>\n",
       "      <td>0.989031</td>\n",
       "      <td>0.973153</td>\n",
       "      <td>0.973921</td>\n",
       "      <td>0.969403</td>\n",
       "    </tr>\n",
       "    <tr>\n",
       "      <th>3</th>\n",
       "      <td>0.114286</td>\n",
       "      <td>0.349100</td>\n",
       "      <td>0.368944</td>\n",
       "      <td>0.287365</td>\n",
       "      <td>0.359530</td>\n",
       "      <td>0.884489</td>\n",
       "      <td>0.873955</td>\n",
       "      <td>0.912590</td>\n",
       "      <td>0.875325</td>\n",
       "      <td>0.655394</td>\n",
       "      <td>0.648019</td>\n",
       "      <td>0.668715</td>\n",
       "      <td>0.648504</td>\n",
       "      <td>0.918223</td>\n",
       "      <td>0.900547</td>\n",
       "      <td>0.938028</td>\n",
       "      <td>0.903107</td>\n",
       "    </tr>\n",
       "    <tr>\n",
       "      <th>4</th>\n",
       "      <td>0.000000</td>\n",
       "      <td>0.370348</td>\n",
       "      <td>0.358360</td>\n",
       "      <td>0.245642</td>\n",
       "      <td>0.388745</td>\n",
       "      <td>0.864922</td>\n",
       "      <td>0.851492</td>\n",
       "      <td>0.918790</td>\n",
       "      <td>0.849738</td>\n",
       "      <td>0.615444</td>\n",
       "      <td>0.605318</td>\n",
       "      <td>0.650096</td>\n",
       "      <td>0.603319</td>\n",
       "      <td>0.844644</td>\n",
       "      <td>0.824279</td>\n",
       "      <td>0.906745</td>\n",
       "      <td>0.808877</td>\n",
       "    </tr>\n",
       "  </tbody>\n",
       "</table>\n",
       "</div>"
      ],
      "text/plain": [
       "         0         1         2         3         4         5         6   \\\n",
       "0  0.100000  0.230104  0.253910  0.271321  0.307024  0.878601  0.852298   \n",
       "1  0.228571  0.242413  0.291803  0.295831  0.320380  0.886850  0.850093   \n",
       "2  0.542857  0.118126  0.195786  0.190426  0.202546  0.987878  0.972527   \n",
       "3  0.114286  0.349100  0.368944  0.287365  0.359530  0.884489  0.873955   \n",
       "4  0.000000  0.370348  0.358360  0.245642  0.388745  0.864922  0.851492   \n",
       "\n",
       "         7         8         9         10        11        12        13  \\\n",
       "0  0.870328  0.828429  0.617259  0.597696  0.609333  0.582611  0.897727   \n",
       "1  0.873670  0.845848  0.619068  0.594973  0.609320  0.590727  0.907503   \n",
       "2  0.970452  0.971770  0.950909  0.947988  0.945587  0.947417  0.989031   \n",
       "3  0.912590  0.875325  0.655394  0.648019  0.668715  0.648504  0.918223   \n",
       "4  0.918790  0.849738  0.615444  0.605318  0.650096  0.603319  0.844644   \n",
       "\n",
       "         14        15        16  \n",
       "0  0.867695  0.883844  0.836023  \n",
       "1  0.867747  0.890328  0.853038  \n",
       "2  0.973153  0.973921  0.969403  \n",
       "3  0.900547  0.938028  0.903107  \n",
       "4  0.824279  0.906745  0.808877  "
      ]
     },
     "execution_count": 11,
     "metadata": {},
     "output_type": "execute_result"
    }
   ],
   "source": [
    "X.head()"
   ]
  },
  {
   "cell_type": "code",
   "execution_count": 12,
   "metadata": {},
   "outputs": [
    {
     "data": {
      "text/plain": [
       "((240, 17), (60, 17))"
      ]
     },
     "execution_count": 12,
     "metadata": {},
     "output_type": "execute_result"
    }
   ],
   "source": [
    "from sklearn.model_selection import train_test_split\n",
    "  \n",
    "X_train, X_test, y_train, y_test = train_test_split(\n",
    "      X, y , test_size = 0.20, random_state=None)\n",
    "\n",
    "X_train.shape, X_test.shape\n"
   ]
  },
  {
   "cell_type": "code",
   "execution_count": 13,
   "metadata": {},
   "outputs": [
    {
     "data": {
      "text/html": [
       "<div>\n",
       "<style scoped>\n",
       "    .dataframe tbody tr th:only-of-type {\n",
       "        vertical-align: middle;\n",
       "    }\n",
       "\n",
       "    .dataframe tbody tr th {\n",
       "        vertical-align: top;\n",
       "    }\n",
       "\n",
       "    .dataframe thead th {\n",
       "        text-align: right;\n",
       "    }\n",
       "</style>\n",
       "<table border=\"1\" class=\"dataframe\">\n",
       "  <thead>\n",
       "    <tr style=\"text-align: right;\">\n",
       "      <th></th>\n",
       "      <th>0</th>\n",
       "      <th>1</th>\n",
       "      <th>2</th>\n",
       "      <th>3</th>\n",
       "      <th>4</th>\n",
       "      <th>5</th>\n",
       "      <th>6</th>\n",
       "      <th>7</th>\n",
       "      <th>8</th>\n",
       "      <th>9</th>\n",
       "      <th>10</th>\n",
       "      <th>11</th>\n",
       "      <th>12</th>\n",
       "      <th>13</th>\n",
       "      <th>14</th>\n",
       "      <th>15</th>\n",
       "      <th>16</th>\n",
       "    </tr>\n",
       "  </thead>\n",
       "  <tbody>\n",
       "    <tr>\n",
       "      <th>59</th>\n",
       "      <td>0.571429</td>\n",
       "      <td>0.122171</td>\n",
       "      <td>0.200056</td>\n",
       "      <td>0.197577</td>\n",
       "      <td>0.213128</td>\n",
       "      <td>0.989079</td>\n",
       "      <td>0.977106</td>\n",
       "      <td>0.975691</td>\n",
       "      <td>0.975609</td>\n",
       "      <td>0.982893</td>\n",
       "      <td>0.980464</td>\n",
       "      <td>0.977884</td>\n",
       "      <td>0.979668</td>\n",
       "      <td>0.983749</td>\n",
       "      <td>0.963309</td>\n",
       "      <td>0.965826</td>\n",
       "      <td>0.957626</td>\n",
       "    </tr>\n",
       "    <tr>\n",
       "      <th>164</th>\n",
       "      <td>0.442857</td>\n",
       "      <td>0.412863</td>\n",
       "      <td>0.457370</td>\n",
       "      <td>0.433319</td>\n",
       "      <td>0.460157</td>\n",
       "      <td>0.843487</td>\n",
       "      <td>0.810493</td>\n",
       "      <td>0.848743</td>\n",
       "      <td>0.818330</td>\n",
       "      <td>0.589489</td>\n",
       "      <td>0.568775</td>\n",
       "      <td>0.590908</td>\n",
       "      <td>0.572443</td>\n",
       "      <td>0.863164</td>\n",
       "      <td>0.820582</td>\n",
       "      <td>0.863983</td>\n",
       "      <td>0.820593</td>\n",
       "    </tr>\n",
       "    <tr>\n",
       "      <th>99</th>\n",
       "      <td>0.857143</td>\n",
       "      <td>0.549184</td>\n",
       "      <td>0.561619</td>\n",
       "      <td>0.526268</td>\n",
       "      <td>0.570038</td>\n",
       "      <td>0.795468</td>\n",
       "      <td>0.766073</td>\n",
       "      <td>0.815899</td>\n",
       "      <td>0.764241</td>\n",
       "      <td>0.555340</td>\n",
       "      <td>0.537262</td>\n",
       "      <td>0.566013</td>\n",
       "      <td>0.535504</td>\n",
       "      <td>0.790206</td>\n",
       "      <td>0.745758</td>\n",
       "      <td>0.811632</td>\n",
       "      <td>0.744498</td>\n",
       "    </tr>\n",
       "    <tr>\n",
       "      <th>172</th>\n",
       "      <td>0.514286</td>\n",
       "      <td>0.469671</td>\n",
       "      <td>0.580543</td>\n",
       "      <td>0.459617</td>\n",
       "      <td>0.634942</td>\n",
       "      <td>0.878858</td>\n",
       "      <td>0.808494</td>\n",
       "      <td>0.859585</td>\n",
       "      <td>0.796849</td>\n",
       "      <td>0.642821</td>\n",
       "      <td>0.607393</td>\n",
       "      <td>0.634825</td>\n",
       "      <td>0.600384</td>\n",
       "      <td>0.887198</td>\n",
       "      <td>0.833186</td>\n",
       "      <td>0.895802</td>\n",
       "      <td>0.816697</td>\n",
       "    </tr>\n",
       "    <tr>\n",
       "      <th>252</th>\n",
       "      <td>0.457143</td>\n",
       "      <td>0.480390</td>\n",
       "      <td>0.463449</td>\n",
       "      <td>0.367565</td>\n",
       "      <td>0.476788</td>\n",
       "      <td>0.777214</td>\n",
       "      <td>0.758417</td>\n",
       "      <td>0.829953</td>\n",
       "      <td>0.758349</td>\n",
       "      <td>0.545751</td>\n",
       "      <td>0.533994</td>\n",
       "      <td>0.575978</td>\n",
       "      <td>0.532975</td>\n",
       "      <td>0.754011</td>\n",
       "      <td>0.718736</td>\n",
       "      <td>0.826292</td>\n",
       "      <td>0.713540</td>\n",
       "    </tr>\n",
       "  </tbody>\n",
       "</table>\n",
       "</div>"
      ],
      "text/plain": [
       "           0         1         2         3         4         5         6   \\\n",
       "59   0.571429  0.122171  0.200056  0.197577  0.213128  0.989079  0.977106   \n",
       "164  0.442857  0.412863  0.457370  0.433319  0.460157  0.843487  0.810493   \n",
       "99   0.857143  0.549184  0.561619  0.526268  0.570038  0.795468  0.766073   \n",
       "172  0.514286  0.469671  0.580543  0.459617  0.634942  0.878858  0.808494   \n",
       "252  0.457143  0.480390  0.463449  0.367565  0.476788  0.777214  0.758417   \n",
       "\n",
       "           7         8         9         10        11        12        13  \\\n",
       "59   0.975691  0.975609  0.982893  0.980464  0.977884  0.979668  0.983749   \n",
       "164  0.848743  0.818330  0.589489  0.568775  0.590908  0.572443  0.863164   \n",
       "99   0.815899  0.764241  0.555340  0.537262  0.566013  0.535504  0.790206   \n",
       "172  0.859585  0.796849  0.642821  0.607393  0.634825  0.600384  0.887198   \n",
       "252  0.829953  0.758349  0.545751  0.533994  0.575978  0.532975  0.754011   \n",
       "\n",
       "           14        15        16  \n",
       "59   0.963309  0.965826  0.957626  \n",
       "164  0.820582  0.863983  0.820593  \n",
       "99   0.745758  0.811632  0.744498  \n",
       "172  0.833186  0.895802  0.816697  \n",
       "252  0.718736  0.826292  0.713540  "
      ]
     },
     "execution_count": 13,
     "metadata": {},
     "output_type": "execute_result"
    }
   ],
   "source": [
    "X_train.head()"
   ]
  },
  {
   "cell_type": "markdown",
   "metadata": {},
   "source": [
    "# Model training"
   ]
  },
  {
   "cell_type": "markdown",
   "metadata": {},
   "source": [
    "## KNN"
   ]
  },
  {
   "cell_type": "code",
   "execution_count": 14,
   "metadata": {},
   "outputs": [
    {
     "data": {
      "image/png": "[encoded data removed]",
      "text/plain": [
       "<Figure size 432x288 with 2 Axes>"
      ]
     },
     "metadata": {
      "needs_background": "light"
     },
     "output_type": "display_data"
    }
   ],
   "source": [
    "# Remember that we are trying to come up\n",
    "# with a model to predict whether\n",
    "# someone will TARGET CLASS or not.\n",
    "# We'll start with k = 1.\n",
    "\n",
    "from sklearn.neighbors import KNeighborsClassifier\n",
    "  \n",
    "knn = KNeighborsClassifier(n_neighbors = 1)\n",
    "  \n",
    "knn.fit(X_train, y_train)\n",
    "pred = knn.predict(X_test)\n",
    "\n",
    "plot_confusion_matrix(knn, X_test, y_test)\n",
    "plt.xticks(rotation = 90)\n",
    "plt.show()\n",
    "\n",
    "# Predictions and Evaluations\n",
    "# Let's evaluate our KNN model ! \n"
   ]
  },
  {
   "cell_type": "code",
   "execution_count": 15,
   "metadata": {},
   "outputs": [
    {
     "name": "stdout",
     "output_type": "stream",
     "text": [
      "                   precision    recall  f1-score   support\n",
      "\n",
      "Fresh Papaya Leaf       0.73      0.67      0.70        12\n",
      "Papaya Black Spot       0.50      0.11      0.18         9\n",
      " Papaya Leaf Curl       0.18      0.15      0.17        13\n",
      "  Papaya Ringspot       0.33      0.50      0.40        12\n",
      "   Powdery Mildew       0.17      0.21      0.19        14\n",
      "\n",
      "         accuracy                           0.33        60\n",
      "        macro avg       0.38      0.33      0.33        60\n",
      "     weighted avg       0.37      0.33      0.33        60\n",
      "\n"
     ]
    }
   ],
   "source": [
    "from sklearn.metrics import classification_report  \n",
    "print(classification_report(y_test, pred))\n"
   ]
  },
  {
   "cell_type": "code",
   "execution_count": 16,
   "metadata": {},
   "outputs": [],
   "source": [
    "from sklearn import metrics\n",
    "error_rate = []\n",
    "scores = []\n",
    "\n",
    "k=50\n",
    "max_accuracy=0\n",
    "best_k=1\n",
    "\n",
    "for i in range(1, k):\n",
    "      \n",
    "    knn = KNeighborsClassifier(n_neighbors = i)\n",
    "    knn.fit(X_train, y_train)\n",
    "    pred_i = knn.predict(X_test)\n",
    "    error_rate.append(np.mean(pred_i != y_test))\n",
    "    y_predict = knn.predict(X_test)\n",
    "    curr_accuracy=metrics.accuracy_score(y_test,y_predict)\n",
    "    if curr_accuracy>max_accuracy:\n",
    "        max_accuracy=curr_accuracy\n",
    "        best_k=i\n",
    "    scores.append(curr_accuracy)\n",
    "  \n"
   ]
  },
  {
   "cell_type": "code",
   "execution_count": 17,
   "metadata": {},
   "outputs": [
    {
     "data": {
      "text/plain": [
       "Text(0, 0.5, 'Error Rate')"
      ]
     },
     "execution_count": 17,
     "metadata": {},
     "output_type": "execute_result"
    },
    {
     "data": {
      "image/png": "[encoded data removed]",
      "text/plain": [
       "<Figure size 720x432 with 1 Axes>"
      ]
     },
     "metadata": {
      "needs_background": "light"
     },
     "output_type": "display_data"
    }
   ],
   "source": [
    "plt.figure(figsize =(10, 6))\n",
    "plt.plot(range(1, k), error_rate, color ='blue',\n",
    "                linestyle ='dashed', marker ='o',\n",
    "         markerfacecolor ='red', markersize = 10)\n",
    "  \n",
    "plt.title('Error Rate vs. K Value')\n",
    "plt.xlabel('K')\n",
    "plt.ylabel('Error Rate')"
   ]
  },
  {
   "cell_type": "code",
   "execution_count": 18,
   "metadata": {},
   "outputs": [
    {
     "data": {
      "text/plain": [
       "Text(0, 0.5, 'Accuracy')"
      ]
     },
     "execution_count": 18,
     "metadata": {},
     "output_type": "execute_result"
    },
    {
     "data": {
      "image/png": "[encoded data removed]",
      "text/plain": [
       "<Figure size 432x288 with 1 Axes>"
      ]
     },
     "metadata": {
      "needs_background": "light"
     },
     "output_type": "display_data"
    }
   ],
   "source": [
    "plt.plot(np.arange(1,k),scores)\n",
    "plt.title('Varition of accuracy with K value')\n",
    "plt.xlabel('K values')\n",
    "plt.ylabel('Accuracy')"
   ]
  },
  {
   "cell_type": "code",
   "execution_count": 19,
   "metadata": {},
   "outputs": [
    {
     "name": "stdout",
     "output_type": "stream",
     "text": [
      "                   precision    recall  f1-score   support\n",
      "\n",
      "Fresh Papaya Leaf       0.73      0.67      0.70        12\n",
      "Papaya Black Spot       0.30      0.33      0.32         9\n",
      " Papaya Leaf Curl       0.67      0.15      0.25        13\n",
      "  Papaya Ringspot       0.41      0.58      0.48        12\n",
      "   Powdery Mildew       0.47      0.64      0.55        14\n",
      "\n",
      "         accuracy                           0.48        60\n",
      "        macro avg       0.52      0.48      0.46        60\n",
      "     weighted avg       0.53      0.48      0.46        60\n",
      "\n",
      "Accuracy for k = 32 is 48.333333333333336%\n"
     ]
    }
   ],
   "source": [
    "knn = KNeighborsClassifier(n_neighbors = best_k)\n",
    "  \n",
    "knn.fit(X_train, y_train)\n",
    "pred = knn.predict(X_test)\n",
    "from sklearn.metrics import classification_report  \n",
    "print(classification_report(y_test, pred))\n",
    "\n",
    "print(\"Accuracy for k = {} is {}%\".format(best_k,max_accuracy*100))"
   ]
  },
  {
   "cell_type": "markdown",
   "metadata": {},
   "source": [
    "## SVM"
   ]
  },
  {
   "cell_type": "code",
   "execution_count": 20,
   "metadata": {},
   "outputs": [
    {
     "name": "stdout",
     "output_type": "stream",
     "text": [
      "best hyperlink parameters\n",
      "{'C': 2, 'kernel': 'poly'}\n",
      "Accuracy Score:\n",
      "                   precision    recall  f1-score   support\n",
      "\n",
      "Fresh Papaya Leaf       0.83      0.83      0.83        12\n",
      "Papaya Black Spot       0.78      0.78      0.78         9\n",
      " Papaya Leaf Curl       0.90      0.69      0.78        13\n",
      "  Papaya Ringspot       0.62      0.67      0.64        12\n",
      "   Powdery Mildew       0.62      0.71      0.67        14\n",
      "\n",
      "         accuracy                           0.73        60\n",
      "        macro avg       0.75      0.74      0.74        60\n",
      "     weighted avg       0.75      0.73      0.74        60\n",
      "\n"
     ]
    }
   ],
   "source": [
    "from sklearn.svm import SVC\n",
    "svm_model= SVC()\n",
    "tuned_parameters = {\n",
    " 'C': (np.arange(1,30)) , 'kernel': ['linear'],\n",
    " 'C': (np.arange(1,30)) ,  'kernel': ['rbf'],\n",
    " 'C':(np.arange(1,30)) , 'kernel':['poly']\n",
    "                   }\n",
    "from sklearn.model_selection import GridSearchCV\n",
    "\n",
    "model_svm = GridSearchCV(svm_model, tuned_parameters,cv=10,scoring='accuracy')\n",
    "\n",
    "model_svm.fit(X_train,y_train)\n",
    "print('best hyperlink parameters')\n",
    "print(model_svm.best_params_)\n",
    "y_pred= model_svm.predict(X_test)\n",
    "print('Accuracy Score:')\n",
    "\n",
    "print(classification_report(y_test, y_pred))"
   ]
  },
  {
   "cell_type": "code",
   "execution_count": 21,
   "metadata": {},
   "outputs": [
    {
     "name": "stdout",
     "output_type": "stream",
     "text": [
      "Model accuracy score: 73.3333%\n"
     ]
    }
   ],
   "source": [
    "print('Model accuracy score: {0:0.4f}%'. format(accuracy_score(y_pred,y_test)*100))"
   ]
  },
  {
   "cell_type": "markdown",
   "metadata": {},
   "source": [
    "## Naive Bayes"
   ]
  },
  {
   "cell_type": "code",
   "execution_count": 22,
   "metadata": {},
   "outputs": [
    {
     "name": "stdout",
     "output_type": "stream",
     "text": [
      "                   precision    recall  f1-score   support\n",
      "\n",
      "Fresh Papaya Leaf       0.64      0.75      0.69        12\n",
      "Papaya Black Spot       0.00      0.00      0.00         9\n",
      " Papaya Leaf Curl       0.57      0.31      0.40        13\n",
      "  Papaya Ringspot       0.50      0.17      0.25        12\n",
      "   Powdery Mildew       0.35      0.79      0.49        14\n",
      "\n",
      "         accuracy                           0.43        60\n",
      "        macro avg       0.41      0.40      0.37        60\n",
      "     weighted avg       0.44      0.43      0.39        60\n",
      "\n"
     ]
    }
   ],
   "source": [
    "from sklearn.naive_bayes import GaussianNB,CategoricalNB\n",
    "\n",
    "# instantiate the model\n",
    "gnb = GaussianNB()\n",
    "\n",
    "# fit the model\n",
    "gnb.fit(X_train, y_train)\n",
    "y_pred = gnb.predict(X_test)\n",
    "print(classification_report(y_test, y_pred))\n",
    "\n"
   ]
  },
  {
   "cell_type": "code",
   "execution_count": 23,
   "metadata": {},
   "outputs": [
    {
     "name": "stdout",
     "output_type": "stream",
     "text": [
      "Model accuracy score: 43.3333%\n"
     ]
    }
   ],
   "source": [
    "print('Model accuracy score: {0:0.4f}%'. format(accuracy_score(y_test, y_pred)*100))"
   ]
  },
  {
   "cell_type": "markdown",
   "metadata": {},
   "source": [
    "## Logistic regression"
   ]
  },
  {
   "cell_type": "code",
   "execution_count": 24,
   "metadata": {},
   "outputs": [
    {
     "name": "stdout",
     "output_type": "stream",
     "text": [
      "                   precision    recall  f1-score   support\n",
      "\n",
      "Fresh Papaya Leaf       0.64      0.75      0.69        12\n",
      "Papaya Black Spot       0.00      0.00      0.00         9\n",
      " Papaya Leaf Curl       0.57      0.31      0.40        13\n",
      "  Papaya Ringspot       0.50      0.17      0.25        12\n",
      "   Powdery Mildew       0.35      0.79      0.49        14\n",
      "\n",
      "         accuracy                           0.43        60\n",
      "        macro avg       0.41      0.40      0.37        60\n",
      "     weighted avg       0.44      0.43      0.39        60\n",
      "\n"
     ]
    }
   ],
   "source": [
    "from sklearn.linear_model import LogisticRegression\n",
    "\n",
    "lr = LogisticRegression(solver='lbfgs', max_iter=1000)\n",
    "\n",
    "# fit the model\n",
    "lr.fit(X_train, y_train)\n",
    "y_pred = gnb.predict(X_test)\n",
    "\n",
    "print(classification_report(y_test, y_pred))\n"
   ]
  },
  {
   "cell_type": "code",
   "execution_count": 25,
   "metadata": {},
   "outputs": [
    {
     "name": "stdout",
     "output_type": "stream",
     "text": [
      "Model accuracy score: 43.3333%\n"
     ]
    }
   ],
   "source": [
    "print('Model accuracy score: {0:0.4f}%'. format(accuracy_score(y_test, y_pred)*100))"
   ]
  },
  {
   "cell_type": "markdown",
   "metadata": {},
   "source": [
    "# K-Fold Cross Validation"
   ]
  },
  {
   "cell_type": "code",
   "execution_count": 26,
   "metadata": {},
   "outputs": [
    {
     "name": "stdout",
     "output_type": "stream",
     "text": [
      "Fold:1, Train set: 225, Test set:75\n",
      "Fold:2, Train set: 225, Test set:75\n",
      "Fold:3, Train set: 225, Test set:75\n",
      "Fold:4, Train set: 225, Test set:75\n"
     ]
    }
   ],
   "source": [
    "from sklearn.model_selection import KFold, StratifiedKFold\n",
    "\n",
    "kf = StratifiedKFold(n_splits=4, shuffle=True, random_state=42)\n",
    "\n",
    "cnt = 1\n",
    "# split()  method generate indices to split data into training and test set.\n",
    "for train_index, test_index in kf.split(X, y):\n",
    "    print(f'Fold:{cnt}, Train set: {len(train_index)}, Test set:{len(test_index)}')\n",
    "    cnt += 1\n"
   ]
  },
  {
   "cell_type": "code",
   "execution_count": 27,
   "metadata": {},
   "outputs": [
    {
     "name": "stdout",
     "output_type": "stream",
     "text": [
      "Scores for each fold are:\n",
      "[0.49333333 0.4        0.56       0.45333333]\n",
      "Model accuracy score for Logistic Regression: 47.6667%\n"
     ]
    }
   ],
   "source": [
    "score = cross_val_score(lr, X, y, cv= kf, scoring=\"accuracy\")\n",
    "print('Scores for each fold are:')\n",
    "print(score)\n",
    "print('Model accuracy score for Logistic Regression: {0:0.4f}%'.format(score.mean()*100))"
   ]
  },
  {
   "cell_type": "code",
   "execution_count": 28,
   "metadata": {},
   "outputs": [
    {
     "name": "stdout",
     "output_type": "stream",
     "text": [
      "Scores for each fold are:\n",
      "[0.41333333 0.45333333 0.44       0.48      ]\n",
      "Model accuracy score for Gaussian Naive Bayes: 44.6667%\n"
     ]
    }
   ],
   "source": [
    "score = cross_val_score(gnb, X, y, cv= kf, scoring=\"accuracy\")\n",
    "print('Scores for each fold are:')\n",
    "print(score)\n",
    "print('Model accuracy score for Gaussian Naive Bayes: {0:0.4f}%'.format(score.mean()*100))"
   ]
  }
 ],
 "metadata": {
  "kernelspec": {
   "display_name": "Python 3",
   "language": "python",
   "name": "python3"
  },
  "language_info": {
   "codemirror_mode": {
    "name": "ipython",
    "version": 3
   },
   "file_extension": ".py",
   "mimetype": "text/x-python",
   "name": "python",
   "nbconvert_exporter": "python",
   "pygments_lexer": "ipython3",
   "version": "3.7.3"
  }
 },
 "nbformat": 4,
 "nbformat_minor": 4
}
