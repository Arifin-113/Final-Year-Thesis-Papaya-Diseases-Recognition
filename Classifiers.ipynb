{
 "cells": [
  {
   "cell_type": "code",
   "execution_count": 163,
   "metadata": {},
   "outputs": [],
   "source": [
    "import numpy as np\n",
    "import pandas as pd\n",
    "import matplotlib.pyplot as plt\n",
    "import seaborn as sns\n",
    "from sklearn.metrics import accuracy_score\n",
    "from sklearn.metrics import plot_confusion_matrix\n",
    "from sklearn.model_selection import cross_val_score\n",
    "from sklearn.utils import shuffle"
   ]
  },
  {
   "cell_type": "code",
   "execution_count": 164,
   "metadata": {},
   "outputs": [
    {
     "data": {
      "text/html": [
       "<div>\n",
       "<style scoped>\n",
       "    .dataframe tbody tr th:only-of-type {\n",
       "        vertical-align: middle;\n",
       "    }\n",
       "\n",
       "    .dataframe tbody tr th {\n",
       "        vertical-align: top;\n",
       "    }\n",
       "\n",
       "    .dataframe thead th {\n",
       "        text-align: right;\n",
       "    }\n",
       "</style>\n",
       "<table border=\"1\" class=\"dataframe\">\n",
       "  <thead>\n",
       "    <tr style=\"text-align: right;\">\n",
       "      <th></th>\n",
       "      <th>Unnamed: 0</th>\n",
       "      <th>0</th>\n",
       "      <th>1</th>\n",
       "      <th>2</th>\n",
       "      <th>3</th>\n",
       "      <th>4</th>\n",
       "      <th>5</th>\n",
       "      <th>6</th>\n",
       "      <th>7</th>\n",
       "      <th>8</th>\n",
       "      <th>9</th>\n",
       "      <th>10</th>\n",
       "      <th>11</th>\n",
       "      <th>12</th>\n",
       "      <th>13</th>\n",
       "      <th>14</th>\n",
       "      <th>15</th>\n",
       "      <th>16</th>\n",
       "    </tr>\n",
       "  </thead>\n",
       "  <tbody>\n",
       "    <tr>\n",
       "      <th>40</th>\n",
       "      <td>40</td>\n",
       "      <td>1.218015</td>\n",
       "      <td>2.396709</td>\n",
       "      <td>1.840196</td>\n",
       "      <td>2.506328</td>\n",
       "      <td>0.975956</td>\n",
       "      <td>0.953633</td>\n",
       "      <td>0.960503</td>\n",
       "      <td>0.950487</td>\n",
       "      <td>0.816499</td>\n",
       "      <td>0.809444</td>\n",
       "      <td>0.812680</td>\n",
       "      <td>0.809031</td>\n",
       "      <td>0.970089</td>\n",
       "      <td>0.941322</td>\n",
       "      <td>0.954809</td>\n",
       "      <td>0.938638</td>\n",
       "      <td>Fresh Papaya Leaf</td>\n",
       "    </tr>\n",
       "    <tr>\n",
       "      <th>208</th>\n",
       "      <td>44</td>\n",
       "      <td>3.042160</td>\n",
       "      <td>3.826191</td>\n",
       "      <td>2.957516</td>\n",
       "      <td>3.917036</td>\n",
       "      <td>0.876522</td>\n",
       "      <td>0.847749</td>\n",
       "      <td>0.877513</td>\n",
       "      <td>0.849631</td>\n",
       "      <td>0.539117</td>\n",
       "      <td>0.525143</td>\n",
       "      <td>0.539245</td>\n",
       "      <td>0.526765</td>\n",
       "      <td>0.876140</td>\n",
       "      <td>0.844246</td>\n",
       "      <td>0.879595</td>\n",
       "      <td>0.840548</td>\n",
       "      <td>Papaya Ringspot</td>\n",
       "    </tr>\n",
       "    <tr>\n",
       "      <th>295</th>\n",
       "      <td>60</td>\n",
       "      <td>3.380070</td>\n",
       "      <td>4.558308</td>\n",
       "      <td>2.638603</td>\n",
       "      <td>3.647136</td>\n",
       "      <td>0.853104</td>\n",
       "      <td>0.817520</td>\n",
       "      <td>0.880878</td>\n",
       "      <td>0.841012</td>\n",
       "      <td>0.498458</td>\n",
       "      <td>0.479723</td>\n",
       "      <td>0.513239</td>\n",
       "      <td>0.492103</td>\n",
       "      <td>0.865748</td>\n",
       "      <td>0.818808</td>\n",
       "      <td>0.895211</td>\n",
       "      <td>0.855036</td>\n",
       "      <td>Powdery Mildew</td>\n",
       "    </tr>\n",
       "    <tr>\n",
       "      <th>181</th>\n",
       "      <td>17</td>\n",
       "      <td>1.555125</td>\n",
       "      <td>2.004914</td>\n",
       "      <td>1.527887</td>\n",
       "      <td>2.108155</td>\n",
       "      <td>0.890190</td>\n",
       "      <td>0.862340</td>\n",
       "      <td>0.892564</td>\n",
       "      <td>0.856154</td>\n",
       "      <td>0.521087</td>\n",
       "      <td>0.505149</td>\n",
       "      <td>0.522462</td>\n",
       "      <td>0.501611</td>\n",
       "      <td>0.888501</td>\n",
       "      <td>0.856285</td>\n",
       "      <td>0.890457</td>\n",
       "      <td>0.848884</td>\n",
       "      <td>Papaya Ringspot</td>\n",
       "    </tr>\n",
       "    <tr>\n",
       "      <th>225</th>\n",
       "      <td>61</td>\n",
       "      <td>4.854586</td>\n",
       "      <td>6.639982</td>\n",
       "      <td>5.167231</td>\n",
       "      <td>6.132105</td>\n",
       "      <td>0.833174</td>\n",
       "      <td>0.787561</td>\n",
       "      <td>0.822901</td>\n",
       "      <td>0.799990</td>\n",
       "      <td>0.494128</td>\n",
       "      <td>0.471251</td>\n",
       "      <td>0.488843</td>\n",
       "      <td>0.477426</td>\n",
       "      <td>0.842228</td>\n",
       "      <td>0.784261</td>\n",
       "      <td>0.832117</td>\n",
       "      <td>0.800761</td>\n",
       "      <td>Papaya Ringspot</td>\n",
       "    </tr>\n",
       "  </tbody>\n",
       "</table>\n",
       "</div>"
      ],
      "text/plain": [
       "     Unnamed: 0         0         1         2         3         4         5  \\\n",
       "40           40  1.218015  2.396709  1.840196  2.506328  0.975956  0.953633   \n",
       "208          44  3.042160  3.826191  2.957516  3.917036  0.876522  0.847749   \n",
       "295          60  3.380070  4.558308  2.638603  3.647136  0.853104  0.817520   \n",
       "181          17  1.555125  2.004914  1.527887  2.108155  0.890190  0.862340   \n",
       "225          61  4.854586  6.639982  5.167231  6.132105  0.833174  0.787561   \n",
       "\n",
       "            6         7         8         9        10        11        12  \\\n",
       "40   0.960503  0.950487  0.816499  0.809444  0.812680  0.809031  0.970089   \n",
       "208  0.877513  0.849631  0.539117  0.525143  0.539245  0.526765  0.876140   \n",
       "295  0.880878  0.841012  0.498458  0.479723  0.513239  0.492103  0.865748   \n",
       "181  0.892564  0.856154  0.521087  0.505149  0.522462  0.501611  0.888501   \n",
       "225  0.822901  0.799990  0.494128  0.471251  0.488843  0.477426  0.842228   \n",
       "\n",
       "           13        14        15                 16  \n",
       "40   0.941322  0.954809  0.938638  Fresh Papaya Leaf  \n",
       "208  0.844246  0.879595  0.840548    Papaya Ringspot  \n",
       "295  0.818808  0.895211  0.855036     Powdery Mildew  \n",
       "181  0.856285  0.890457  0.848884    Papaya Ringspot  \n",
       "225  0.784261  0.832117  0.800761    Papaya Ringspot  "
      ]
     },
     "execution_count": 164,
     "metadata": {},
     "output_type": "execute_result"
    }
   ],
   "source": [
    "path = r\"C:\\Users\\Arifin\\Downloads\\papaya\\Combined.csv\"\n",
    "df = pd.read_csv(path)\n",
    "df = shuffle(df)\n",
    "df.head()"
   ]
  },
  {
   "cell_type": "code",
   "execution_count": 165,
   "metadata": {},
   "outputs": [
    {
     "data": {
      "text/plain": [
       "(300, 18)"
      ]
     },
     "execution_count": 165,
     "metadata": {},
     "output_type": "execute_result"
    }
   ],
   "source": [
    "df.shape"
   ]
  },
  {
   "cell_type": "code",
   "execution_count": 166,
   "metadata": {},
   "outputs": [
    {
     "data": {
      "text/html": [
       "<div>\n",
       "<style scoped>\n",
       "    .dataframe tbody tr th:only-of-type {\n",
       "        vertical-align: middle;\n",
       "    }\n",
       "\n",
       "    .dataframe tbody tr th {\n",
       "        vertical-align: top;\n",
       "    }\n",
       "\n",
       "    .dataframe thead th {\n",
       "        text-align: right;\n",
       "    }\n",
       "</style>\n",
       "<table border=\"1\" class=\"dataframe\">\n",
       "  <thead>\n",
       "    <tr style=\"text-align: right;\">\n",
       "      <th></th>\n",
       "      <th>Unnamed: 0</th>\n",
       "      <th>0</th>\n",
       "      <th>1</th>\n",
       "      <th>2</th>\n",
       "      <th>3</th>\n",
       "      <th>4</th>\n",
       "      <th>5</th>\n",
       "      <th>6</th>\n",
       "      <th>7</th>\n",
       "      <th>8</th>\n",
       "      <th>9</th>\n",
       "      <th>10</th>\n",
       "      <th>11</th>\n",
       "      <th>12</th>\n",
       "      <th>13</th>\n",
       "      <th>14</th>\n",
       "      <th>15</th>\n",
       "    </tr>\n",
       "  </thead>\n",
       "  <tbody>\n",
       "    <tr>\n",
       "      <th>count</th>\n",
       "      <td>300.000000</td>\n",
       "      <td>300.000000</td>\n",
       "      <td>300.000000</td>\n",
       "      <td>300.000000</td>\n",
       "      <td>300.000000</td>\n",
       "      <td>300.000000</td>\n",
       "      <td>300.000000</td>\n",
       "      <td>300.000000</td>\n",
       "      <td>300.000000</td>\n",
       "      <td>300.000000</td>\n",
       "      <td>300.000000</td>\n",
       "      <td>300.000000</td>\n",
       "      <td>300.000000</td>\n",
       "      <td>300.000000</td>\n",
       "      <td>300.000000</td>\n",
       "      <td>300.000000</td>\n",
       "      <td>300.000000</td>\n",
       "    </tr>\n",
       "    <tr>\n",
       "      <th>mean</th>\n",
       "      <td>30.156667</td>\n",
       "      <td>2.725250</td>\n",
       "      <td>3.964152</td>\n",
       "      <td>2.894745</td>\n",
       "      <td>3.988170</td>\n",
       "      <td>0.874993</td>\n",
       "      <td>0.826479</td>\n",
       "      <td>0.864919</td>\n",
       "      <td>0.825536</td>\n",
       "      <td>0.554908</td>\n",
       "      <td>0.531077</td>\n",
       "      <td>0.549496</td>\n",
       "      <td>0.530647</td>\n",
       "      <td>0.875815</td>\n",
       "      <td>0.819681</td>\n",
       "      <td>0.868248</td>\n",
       "      <td>0.818480</td>\n",
       "    </tr>\n",
       "    <tr>\n",
       "      <th>std</th>\n",
       "      <td>18.396019</td>\n",
       "      <td>1.505644</td>\n",
       "      <td>1.912704</td>\n",
       "      <td>1.510441</td>\n",
       "      <td>1.933513</td>\n",
       "      <td>0.064100</td>\n",
       "      <td>0.077793</td>\n",
       "      <td>0.063389</td>\n",
       "      <td>0.078101</td>\n",
       "      <td>0.091796</td>\n",
       "      <td>0.099676</td>\n",
       "      <td>0.093070</td>\n",
       "      <td>0.099853</td>\n",
       "      <td>0.070219</td>\n",
       "      <td>0.094992</td>\n",
       "      <td>0.074410</td>\n",
       "      <td>0.095796</td>\n",
       "    </tr>\n",
       "    <tr>\n",
       "      <th>min</th>\n",
       "      <td>0.000000</td>\n",
       "      <td>0.346431</td>\n",
       "      <td>0.548143</td>\n",
       "      <td>0.308241</td>\n",
       "      <td>0.540500</td>\n",
       "      <td>0.659733</td>\n",
       "      <td>0.573734</td>\n",
       "      <td>0.687297</td>\n",
       "      <td>0.574022</td>\n",
       "      <td>0.422612</td>\n",
       "      <td>0.380173</td>\n",
       "      <td>0.408012</td>\n",
       "      <td>0.380257</td>\n",
       "      <td>0.676359</td>\n",
       "      <td>0.547296</td>\n",
       "      <td>0.613650</td>\n",
       "      <td>0.525650</td>\n",
       "    </tr>\n",
       "    <tr>\n",
       "      <th>25%</th>\n",
       "      <td>14.750000</td>\n",
       "      <td>1.761535</td>\n",
       "      <td>2.659123</td>\n",
       "      <td>1.869761</td>\n",
       "      <td>2.779239</td>\n",
       "      <td>0.836898</td>\n",
       "      <td>0.774981</td>\n",
       "      <td>0.824198</td>\n",
       "      <td>0.770923</td>\n",
       "      <td>0.496065</td>\n",
       "      <td>0.465686</td>\n",
       "      <td>0.489574</td>\n",
       "      <td>0.466993</td>\n",
       "      <td>0.831323</td>\n",
       "      <td>0.748813</td>\n",
       "      <td>0.822253</td>\n",
       "      <td>0.746914</td>\n",
       "    </tr>\n",
       "    <tr>\n",
       "      <th>50%</th>\n",
       "      <td>29.500000</td>\n",
       "      <td>2.611336</td>\n",
       "      <td>3.775940</td>\n",
       "      <td>2.746002</td>\n",
       "      <td>3.776702</td>\n",
       "      <td>0.875113</td>\n",
       "      <td>0.816600</td>\n",
       "      <td>0.854236</td>\n",
       "      <td>0.813477</td>\n",
       "      <td>0.523860</td>\n",
       "      <td>0.494223</td>\n",
       "      <td>0.513619</td>\n",
       "      <td>0.490514</td>\n",
       "      <td>0.876752</td>\n",
       "      <td>0.815954</td>\n",
       "      <td>0.867870</td>\n",
       "      <td>0.813838</td>\n",
       "    </tr>\n",
       "    <tr>\n",
       "      <th>75%</th>\n",
       "      <td>44.250000</td>\n",
       "      <td>3.421791</td>\n",
       "      <td>5.045140</td>\n",
       "      <td>3.803768</td>\n",
       "      <td>5.074995</td>\n",
       "      <td>0.916474</td>\n",
       "      <td>0.879702</td>\n",
       "      <td>0.907919</td>\n",
       "      <td>0.874433</td>\n",
       "      <td>0.575476</td>\n",
       "      <td>0.559789</td>\n",
       "      <td>0.576470</td>\n",
       "      <td>0.562494</td>\n",
       "      <td>0.925883</td>\n",
       "      <td>0.891737</td>\n",
       "      <td>0.927328</td>\n",
       "      <td>0.891952</td>\n",
       "    </tr>\n",
       "    <tr>\n",
       "      <th>max</th>\n",
       "      <td>70.000000</td>\n",
       "      <td>9.969792</td>\n",
       "      <td>11.980202</td>\n",
       "      <td>9.313826</td>\n",
       "      <td>11.759734</td>\n",
       "      <td>0.986732</td>\n",
       "      <td>0.975977</td>\n",
       "      <td>0.984434</td>\n",
       "      <td>0.974249</td>\n",
       "      <td>0.830710</td>\n",
       "      <td>0.825573</td>\n",
       "      <td>0.831060</td>\n",
       "      <td>0.825821</td>\n",
       "      <td>0.986114</td>\n",
       "      <td>0.977175</td>\n",
       "      <td>0.988594</td>\n",
       "      <td>0.980172</td>\n",
       "    </tr>\n",
       "  </tbody>\n",
       "</table>\n",
       "</div>"
      ],
      "text/plain": [
       "       Unnamed: 0           0           1           2           3           4  \\\n",
       "count  300.000000  300.000000  300.000000  300.000000  300.000000  300.000000   \n",
       "mean    30.156667    2.725250    3.964152    2.894745    3.988170    0.874993   \n",
       "std     18.396019    1.505644    1.912704    1.510441    1.933513    0.064100   \n",
       "min      0.000000    0.346431    0.548143    0.308241    0.540500    0.659733   \n",
       "25%     14.750000    1.761535    2.659123    1.869761    2.779239    0.836898   \n",
       "50%     29.500000    2.611336    3.775940    2.746002    3.776702    0.875113   \n",
       "75%     44.250000    3.421791    5.045140    3.803768    5.074995    0.916474   \n",
       "max     70.000000    9.969792   11.980202    9.313826   11.759734    0.986732   \n",
       "\n",
       "                5           6           7           8           9          10  \\\n",
       "count  300.000000  300.000000  300.000000  300.000000  300.000000  300.000000   \n",
       "mean     0.826479    0.864919    0.825536    0.554908    0.531077    0.549496   \n",
       "std      0.077793    0.063389    0.078101    0.091796    0.099676    0.093070   \n",
       "min      0.573734    0.687297    0.574022    0.422612    0.380173    0.408012   \n",
       "25%      0.774981    0.824198    0.770923    0.496065    0.465686    0.489574   \n",
       "50%      0.816600    0.854236    0.813477    0.523860    0.494223    0.513619   \n",
       "75%      0.879702    0.907919    0.874433    0.575476    0.559789    0.576470   \n",
       "max      0.975977    0.984434    0.974249    0.830710    0.825573    0.831060   \n",
       "\n",
       "               11          12          13          14          15  \n",
       "count  300.000000  300.000000  300.000000  300.000000  300.000000  \n",
       "mean     0.530647    0.875815    0.819681    0.868248    0.818480  \n",
       "std      0.099853    0.070219    0.094992    0.074410    0.095796  \n",
       "min      0.380257    0.676359    0.547296    0.613650    0.525650  \n",
       "25%      0.466993    0.831323    0.748813    0.822253    0.746914  \n",
       "50%      0.490514    0.876752    0.815954    0.867870    0.813838  \n",
       "75%      0.562494    0.925883    0.891737    0.927328    0.891952  \n",
       "max      0.825821    0.986114    0.977175    0.988594    0.980172  "
      ]
     },
     "execution_count": 166,
     "metadata": {},
     "output_type": "execute_result"
    }
   ],
   "source": [
    "df.describe()"
   ]
  },
  {
   "cell_type": "code",
   "execution_count": 167,
   "metadata": {},
   "outputs": [],
   "source": [
    "df = df.rename(columns={'16': 'Class'})\n",
    "X = df.drop('Class',axis=1)\n",
    "y = df['Class']"
   ]
  },
  {
   "cell_type": "code",
   "execution_count": 168,
   "metadata": {},
   "outputs": [
    {
     "name": "stdout",
     "output_type": "stream",
     "text": [
      "<class 'pandas.core.frame.DataFrame'>\n",
      "Int64Index: 300 entries, 40 to 194\n",
      "Data columns (total 18 columns):\n",
      " #   Column      Non-Null Count  Dtype  \n",
      "---  ------      --------------  -----  \n",
      " 0   Unnamed: 0  300 non-null    int64  \n",
      " 1   0           300 non-null    float64\n",
      " 2   1           300 non-null    float64\n",
      " 3   2           300 non-null    float64\n",
      " 4   3           300 non-null    float64\n",
      " 5   4           300 non-null    float64\n",
      " 6   5           300 non-null    float64\n",
      " 7   6           300 non-null    float64\n",
      " 8   7           300 non-null    float64\n",
      " 9   8           300 non-null    float64\n",
      " 10  9           300 non-null    float64\n",
      " 11  10          300 non-null    float64\n",
      " 12  11          300 non-null    float64\n",
      " 13  12          300 non-null    float64\n",
      " 14  13          300 non-null    float64\n",
      " 15  14          300 non-null    float64\n",
      " 16  15          300 non-null    float64\n",
      " 17  Class       300 non-null    object \n",
      "dtypes: float64(16), int64(1), object(1)\n",
      "memory usage: 44.5+ KB\n"
     ]
    }
   ],
   "source": [
    "df.info()"
   ]
  },
  {
   "cell_type": "code",
   "execution_count": 169,
   "metadata": {},
   "outputs": [
    {
     "data": {
      "text/plain": [
       "Text(0.5, 1.0, 'Correlation between different fearures')"
      ]
     },
     "execution_count": 169,
     "metadata": {},
     "output_type": "execute_result"
    },
    {
     "data": {
      "image/png": "[encoded data removed]",
      "text/plain": [
       "<Figure size 720x720 with 2 Axes>"
      ]
     },
     "metadata": {
      "needs_background": "light"
     },
     "output_type": "display_data"
    }
   ],
   "source": [
    "correlation = df.corr()\n",
    "plt.figure(figsize=(10,10))\n",
    "sns.heatmap(correlation, vmax=1, square=True,annot=True,cmap='viridis')\n",
    "\n",
    "plt.title('Correlation between different fearures')"
   ]
  },
  {
   "cell_type": "code",
   "execution_count": 170,
   "metadata": {},
   "outputs": [
    {
     "data": {
      "text/html": [
       "<div>\n",
       "<style scoped>\n",
       "    .dataframe tbody tr th:only-of-type {\n",
       "        vertical-align: middle;\n",
       "    }\n",
       "\n",
       "    .dataframe tbody tr th {\n",
       "        vertical-align: top;\n",
       "    }\n",
       "\n",
       "    .dataframe thead th {\n",
       "        text-align: right;\n",
       "    }\n",
       "</style>\n",
       "<table border=\"1\" class=\"dataframe\">\n",
       "  <thead>\n",
       "    <tr style=\"text-align: right;\">\n",
       "      <th></th>\n",
       "      <th>Unnamed: 0</th>\n",
       "      <th>0</th>\n",
       "      <th>1</th>\n",
       "      <th>2</th>\n",
       "      <th>3</th>\n",
       "      <th>4</th>\n",
       "      <th>5</th>\n",
       "      <th>6</th>\n",
       "      <th>7</th>\n",
       "      <th>8</th>\n",
       "      <th>9</th>\n",
       "      <th>10</th>\n",
       "      <th>11</th>\n",
       "      <th>12</th>\n",
       "      <th>13</th>\n",
       "      <th>14</th>\n",
       "      <th>15</th>\n",
       "    </tr>\n",
       "  </thead>\n",
       "  <tbody>\n",
       "    <tr>\n",
       "      <th>40</th>\n",
       "      <td>40</td>\n",
       "      <td>1.218015</td>\n",
       "      <td>2.396709</td>\n",
       "      <td>1.840196</td>\n",
       "      <td>2.506328</td>\n",
       "      <td>0.975956</td>\n",
       "      <td>0.953633</td>\n",
       "      <td>0.960503</td>\n",
       "      <td>0.950487</td>\n",
       "      <td>0.816499</td>\n",
       "      <td>0.809444</td>\n",
       "      <td>0.812680</td>\n",
       "      <td>0.809031</td>\n",
       "      <td>0.970089</td>\n",
       "      <td>0.941322</td>\n",
       "      <td>0.954809</td>\n",
       "      <td>0.938638</td>\n",
       "    </tr>\n",
       "    <tr>\n",
       "      <th>208</th>\n",
       "      <td>44</td>\n",
       "      <td>3.042160</td>\n",
       "      <td>3.826191</td>\n",
       "      <td>2.957516</td>\n",
       "      <td>3.917036</td>\n",
       "      <td>0.876522</td>\n",
       "      <td>0.847749</td>\n",
       "      <td>0.877513</td>\n",
       "      <td>0.849631</td>\n",
       "      <td>0.539117</td>\n",
       "      <td>0.525143</td>\n",
       "      <td>0.539245</td>\n",
       "      <td>0.526765</td>\n",
       "      <td>0.876140</td>\n",
       "      <td>0.844246</td>\n",
       "      <td>0.879595</td>\n",
       "      <td>0.840548</td>\n",
       "    </tr>\n",
       "    <tr>\n",
       "      <th>295</th>\n",
       "      <td>60</td>\n",
       "      <td>3.380070</td>\n",
       "      <td>4.558308</td>\n",
       "      <td>2.638603</td>\n",
       "      <td>3.647136</td>\n",
       "      <td>0.853104</td>\n",
       "      <td>0.817520</td>\n",
       "      <td>0.880878</td>\n",
       "      <td>0.841012</td>\n",
       "      <td>0.498458</td>\n",
       "      <td>0.479723</td>\n",
       "      <td>0.513239</td>\n",
       "      <td>0.492103</td>\n",
       "      <td>0.865748</td>\n",
       "      <td>0.818808</td>\n",
       "      <td>0.895211</td>\n",
       "      <td>0.855036</td>\n",
       "    </tr>\n",
       "    <tr>\n",
       "      <th>181</th>\n",
       "      <td>17</td>\n",
       "      <td>1.555125</td>\n",
       "      <td>2.004914</td>\n",
       "      <td>1.527887</td>\n",
       "      <td>2.108155</td>\n",
       "      <td>0.890190</td>\n",
       "      <td>0.862340</td>\n",
       "      <td>0.892564</td>\n",
       "      <td>0.856154</td>\n",
       "      <td>0.521087</td>\n",
       "      <td>0.505149</td>\n",
       "      <td>0.522462</td>\n",
       "      <td>0.501611</td>\n",
       "      <td>0.888501</td>\n",
       "      <td>0.856285</td>\n",
       "      <td>0.890457</td>\n",
       "      <td>0.848884</td>\n",
       "    </tr>\n",
       "    <tr>\n",
       "      <th>225</th>\n",
       "      <td>61</td>\n",
       "      <td>4.854586</td>\n",
       "      <td>6.639982</td>\n",
       "      <td>5.167231</td>\n",
       "      <td>6.132105</td>\n",
       "      <td>0.833174</td>\n",
       "      <td>0.787561</td>\n",
       "      <td>0.822901</td>\n",
       "      <td>0.799990</td>\n",
       "      <td>0.494128</td>\n",
       "      <td>0.471251</td>\n",
       "      <td>0.488843</td>\n",
       "      <td>0.477426</td>\n",
       "      <td>0.842228</td>\n",
       "      <td>0.784261</td>\n",
       "      <td>0.832117</td>\n",
       "      <td>0.800761</td>\n",
       "    </tr>\n",
       "  </tbody>\n",
       "</table>\n",
       "</div>"
      ],
      "text/plain": [
       "     Unnamed: 0         0         1         2         3         4         5  \\\n",
       "40           40  1.218015  2.396709  1.840196  2.506328  0.975956  0.953633   \n",
       "208          44  3.042160  3.826191  2.957516  3.917036  0.876522  0.847749   \n",
       "295          60  3.380070  4.558308  2.638603  3.647136  0.853104  0.817520   \n",
       "181          17  1.555125  2.004914  1.527887  2.108155  0.890190  0.862340   \n",
       "225          61  4.854586  6.639982  5.167231  6.132105  0.833174  0.787561   \n",
       "\n",
       "            6         7         8         9        10        11        12  \\\n",
       "40   0.960503  0.950487  0.816499  0.809444  0.812680  0.809031  0.970089   \n",
       "208  0.877513  0.849631  0.539117  0.525143  0.539245  0.526765  0.876140   \n",
       "295  0.880878  0.841012  0.498458  0.479723  0.513239  0.492103  0.865748   \n",
       "181  0.892564  0.856154  0.521087  0.505149  0.522462  0.501611  0.888501   \n",
       "225  0.822901  0.799990  0.494128  0.471251  0.488843  0.477426  0.842228   \n",
       "\n",
       "           13        14        15  \n",
       "40   0.941322  0.954809  0.938638  \n",
       "208  0.844246  0.879595  0.840548  \n",
       "295  0.818808  0.895211  0.855036  \n",
       "181  0.856285  0.890457  0.848884  \n",
       "225  0.784261  0.832117  0.800761  "
      ]
     },
     "execution_count": 170,
     "metadata": {},
     "output_type": "execute_result"
    }
   ],
   "source": [
    "X.head()"
   ]
  },
  {
   "cell_type": "code",
   "execution_count": 171,
   "metadata": {},
   "outputs": [
    {
     "data": {
      "text/plain": [
       "40     Fresh Papaya Leaf\n",
       "208      Papaya Ringspot\n",
       "295       Powdery Mildew\n",
       "181      Papaya Ringspot\n",
       "225      Papaya Ringspot\n",
       "Name: Class, dtype: object"
      ]
     },
     "execution_count": 171,
     "metadata": {},
     "output_type": "execute_result"
    }
   ],
   "source": [
    "y.head()"
   ]
  },
  {
   "cell_type": "markdown",
   "metadata": {},
   "source": [
    "# Feature Scaling"
   ]
  },
  {
   "cell_type": "code",
   "execution_count": 172,
   "metadata": {},
   "outputs": [],
   "source": [
    "from sklearn.preprocessing import StandardScaler,RobustScaler,MinMaxScaler,MaxAbsScaler\n",
    "  \n",
    "scaler = MaxAbsScaler()\n",
    "\n",
    "X = scaler.fit_transform(X)\n",
    "\n",
    "X = pd.DataFrame(X)"
   ]
  },
  {
   "cell_type": "code",
   "execution_count": 173,
   "metadata": {},
   "outputs": [
    {
     "data": {
      "text/html": [
       "<div>\n",
       "<style scoped>\n",
       "    .dataframe tbody tr th:only-of-type {\n",
       "        vertical-align: middle;\n",
       "    }\n",
       "\n",
       "    .dataframe tbody tr th {\n",
       "        vertical-align: top;\n",
       "    }\n",
       "\n",
       "    .dataframe thead th {\n",
       "        text-align: right;\n",
       "    }\n",
       "</style>\n",
       "<table border=\"1\" class=\"dataframe\">\n",
       "  <thead>\n",
       "    <tr style=\"text-align: right;\">\n",
       "      <th></th>\n",
       "      <th>0</th>\n",
       "      <th>1</th>\n",
       "      <th>2</th>\n",
       "      <th>3</th>\n",
       "      <th>4</th>\n",
       "      <th>5</th>\n",
       "      <th>6</th>\n",
       "      <th>7</th>\n",
       "      <th>8</th>\n",
       "      <th>9</th>\n",
       "      <th>10</th>\n",
       "      <th>11</th>\n",
       "      <th>12</th>\n",
       "      <th>13</th>\n",
       "      <th>14</th>\n",
       "      <th>15</th>\n",
       "      <th>16</th>\n",
       "    </tr>\n",
       "  </thead>\n",
       "  <tbody>\n",
       "    <tr>\n",
       "      <th>0</th>\n",
       "      <td>0.571429</td>\n",
       "      <td>0.122171</td>\n",
       "      <td>0.200056</td>\n",
       "      <td>0.197577</td>\n",
       "      <td>0.213128</td>\n",
       "      <td>0.989079</td>\n",
       "      <td>0.977106</td>\n",
       "      <td>0.975691</td>\n",
       "      <td>0.975609</td>\n",
       "      <td>0.982893</td>\n",
       "      <td>0.980464</td>\n",
       "      <td>0.977884</td>\n",
       "      <td>0.979668</td>\n",
       "      <td>0.983749</td>\n",
       "      <td>0.963309</td>\n",
       "      <td>0.965826</td>\n",
       "      <td>0.957626</td>\n",
       "    </tr>\n",
       "    <tr>\n",
       "      <th>1</th>\n",
       "      <td>0.628571</td>\n",
       "      <td>0.305138</td>\n",
       "      <td>0.319376</td>\n",
       "      <td>0.317540</td>\n",
       "      <td>0.333089</td>\n",
       "      <td>0.888308</td>\n",
       "      <td>0.868615</td>\n",
       "      <td>0.891389</td>\n",
       "      <td>0.872088</td>\n",
       "      <td>0.648983</td>\n",
       "      <td>0.636095</td>\n",
       "      <td>0.648864</td>\n",
       "      <td>0.637868</td>\n",
       "      <td>0.888478</td>\n",
       "      <td>0.863966</td>\n",
       "      <td>0.889743</td>\n",
       "      <td>0.857551</td>\n",
       "    </tr>\n",
       "    <tr>\n",
       "      <th>2</th>\n",
       "      <td>0.857143</td>\n",
       "      <td>0.339031</td>\n",
       "      <td>0.380487</td>\n",
       "      <td>0.283300</td>\n",
       "      <td>0.310138</td>\n",
       "      <td>0.864575</td>\n",
       "      <td>0.837642</td>\n",
       "      <td>0.894807</td>\n",
       "      <td>0.863241</td>\n",
       "      <td>0.600038</td>\n",
       "      <td>0.581078</td>\n",
       "      <td>0.617572</td>\n",
       "      <td>0.595895</td>\n",
       "      <td>0.877940</td>\n",
       "      <td>0.837933</td>\n",
       "      <td>0.905540</td>\n",
       "      <td>0.872333</td>\n",
       "    </tr>\n",
       "    <tr>\n",
       "      <th>3</th>\n",
       "      <td>0.242857</td>\n",
       "      <td>0.155984</td>\n",
       "      <td>0.167352</td>\n",
       "      <td>0.164045</td>\n",
       "      <td>0.179269</td>\n",
       "      <td>0.902160</td>\n",
       "      <td>0.883566</td>\n",
       "      <td>0.906678</td>\n",
       "      <td>0.878784</td>\n",
       "      <td>0.627279</td>\n",
       "      <td>0.611877</td>\n",
       "      <td>0.628670</td>\n",
       "      <td>0.607408</td>\n",
       "      <td>0.901013</td>\n",
       "      <td>0.876286</td>\n",
       "      <td>0.900731</td>\n",
       "      <td>0.866056</td>\n",
       "    </tr>\n",
       "    <tr>\n",
       "      <th>4</th>\n",
       "      <td>0.871429</td>\n",
       "      <td>0.486929</td>\n",
       "      <td>0.554246</td>\n",
       "      <td>0.554791</td>\n",
       "      <td>0.521449</td>\n",
       "      <td>0.844378</td>\n",
       "      <td>0.806947</td>\n",
       "      <td>0.835914</td>\n",
       "      <td>0.821134</td>\n",
       "      <td>0.594826</td>\n",
       "      <td>0.570816</td>\n",
       "      <td>0.588216</td>\n",
       "      <td>0.578123</td>\n",
       "      <td>0.854088</td>\n",
       "      <td>0.802580</td>\n",
       "      <td>0.841717</td>\n",
       "      <td>0.816960</td>\n",
       "    </tr>\n",
       "  </tbody>\n",
       "</table>\n",
       "</div>"
      ],
      "text/plain": [
       "         0         1         2         3         4         5         6   \\\n",
       "0  0.571429  0.122171  0.200056  0.197577  0.213128  0.989079  0.977106   \n",
       "1  0.628571  0.305138  0.319376  0.317540  0.333089  0.888308  0.868615   \n",
       "2  0.857143  0.339031  0.380487  0.283300  0.310138  0.864575  0.837642   \n",
       "3  0.242857  0.155984  0.167352  0.164045  0.179269  0.902160  0.883566   \n",
       "4  0.871429  0.486929  0.554246  0.554791  0.521449  0.844378  0.806947   \n",
       "\n",
       "         7         8         9         10        11        12        13  \\\n",
       "0  0.975691  0.975609  0.982893  0.980464  0.977884  0.979668  0.983749   \n",
       "1  0.891389  0.872088  0.648983  0.636095  0.648864  0.637868  0.888478   \n",
       "2  0.894807  0.863241  0.600038  0.581078  0.617572  0.595895  0.877940   \n",
       "3  0.906678  0.878784  0.627279  0.611877  0.628670  0.607408  0.901013   \n",
       "4  0.835914  0.821134  0.594826  0.570816  0.588216  0.578123  0.854088   \n",
       "\n",
       "         14        15        16  \n",
       "0  0.963309  0.965826  0.957626  \n",
       "1  0.863966  0.889743  0.857551  \n",
       "2  0.837933  0.905540  0.872333  \n",
       "3  0.876286  0.900731  0.866056  \n",
       "4  0.802580  0.841717  0.816960  "
      ]
     },
     "execution_count": 173,
     "metadata": {},
     "output_type": "execute_result"
    }
   ],
   "source": [
    "X.head()"
   ]
  },
  {
   "cell_type": "code",
   "execution_count": 174,
   "metadata": {},
   "outputs": [
    {
     "data": {
      "text/plain": [
       "((195, 17), (105, 17))"
      ]
     },
     "execution_count": 174,
     "metadata": {},
     "output_type": "execute_result"
    }
   ],
   "source": [
    "from sklearn.model_selection import train_test_split\n",
    "  \n",
    "X_train, X_test, y_train, y_test = train_test_split(\n",
    "      X, y , test_size = 0.35, random_state=None)\n",
    "\n",
    "X_train.shape, X_test.shape\n"
   ]
  },
  {
   "cell_type": "code",
   "execution_count": 175,
   "metadata": {},
   "outputs": [
    {
     "data": {
      "text/html": [
       "<div>\n",
       "<style scoped>\n",
       "    .dataframe tbody tr th:only-of-type {\n",
       "        vertical-align: middle;\n",
       "    }\n",
       "\n",
       "    .dataframe tbody tr th {\n",
       "        vertical-align: top;\n",
       "    }\n",
       "\n",
       "    .dataframe thead th {\n",
       "        text-align: right;\n",
       "    }\n",
       "</style>\n",
       "<table border=\"1\" class=\"dataframe\">\n",
       "  <thead>\n",
       "    <tr style=\"text-align: right;\">\n",
       "      <th></th>\n",
       "      <th>0</th>\n",
       "      <th>1</th>\n",
       "      <th>2</th>\n",
       "      <th>3</th>\n",
       "      <th>4</th>\n",
       "      <th>5</th>\n",
       "      <th>6</th>\n",
       "      <th>7</th>\n",
       "      <th>8</th>\n",
       "      <th>9</th>\n",
       "      <th>10</th>\n",
       "      <th>11</th>\n",
       "      <th>12</th>\n",
       "      <th>13</th>\n",
       "      <th>14</th>\n",
       "      <th>15</th>\n",
       "      <th>16</th>\n",
       "    </tr>\n",
       "  </thead>\n",
       "  <tbody>\n",
       "    <tr>\n",
       "      <th>287</th>\n",
       "      <td>0.614286</td>\n",
       "      <td>0.280051</td>\n",
       "      <td>0.299945</td>\n",
       "      <td>0.294688</td>\n",
       "      <td>0.310960</td>\n",
       "      <td>0.841359</td>\n",
       "      <td>0.817560</td>\n",
       "      <td>0.856774</td>\n",
       "      <td>0.815379</td>\n",
       "      <td>0.610409</td>\n",
       "      <td>0.594267</td>\n",
       "      <td>0.619601</td>\n",
       "      <td>0.591764</td>\n",
       "      <td>0.832245</td>\n",
       "      <td>0.787107</td>\n",
       "      <td>0.833853</td>\n",
       "      <td>0.780537</td>\n",
       "    </tr>\n",
       "    <tr>\n",
       "      <th>154</th>\n",
       "      <td>0.571429</td>\n",
       "      <td>0.197484</td>\n",
       "      <td>0.288057</td>\n",
       "      <td>0.292944</td>\n",
       "      <td>0.322688</td>\n",
       "      <td>0.911783</td>\n",
       "      <td>0.842684</td>\n",
       "      <td>0.865757</td>\n",
       "      <td>0.830927</td>\n",
       "      <td>0.643814</td>\n",
       "      <td>0.599342</td>\n",
       "      <td>0.613050</td>\n",
       "      <td>0.591462</td>\n",
       "      <td>0.912774</td>\n",
       "      <td>0.843933</td>\n",
       "      <td>0.871428</td>\n",
       "      <td>0.823534</td>\n",
       "    </tr>\n",
       "    <tr>\n",
       "      <th>39</th>\n",
       "      <td>0.800000</td>\n",
       "      <td>0.320207</td>\n",
       "      <td>0.417246</td>\n",
       "      <td>0.352365</td>\n",
       "      <td>0.434798</td>\n",
       "      <td>0.866120</td>\n",
       "      <td>0.781774</td>\n",
       "      <td>0.839090</td>\n",
       "      <td>0.780289</td>\n",
       "      <td>0.604914</td>\n",
       "      <td>0.551653</td>\n",
       "      <td>0.585844</td>\n",
       "      <td>0.549782</td>\n",
       "      <td>0.843494</td>\n",
       "      <td>0.753875</td>\n",
       "      <td>0.836865</td>\n",
       "      <td>0.745417</td>\n",
       "    </tr>\n",
       "    <tr>\n",
       "      <th>70</th>\n",
       "      <td>0.642857</td>\n",
       "      <td>0.405032</td>\n",
       "      <td>0.549494</td>\n",
       "      <td>0.726949</td>\n",
       "      <td>0.666225</td>\n",
       "      <td>0.834603</td>\n",
       "      <td>0.763914</td>\n",
       "      <td>0.752934</td>\n",
       "      <td>0.735943</td>\n",
       "      <td>0.591662</td>\n",
       "      <td>0.550698</td>\n",
       "      <td>0.544595</td>\n",
       "      <td>0.534516</td>\n",
       "      <td>0.844253</td>\n",
       "      <td>0.744130</td>\n",
       "      <td>0.727951</td>\n",
       "      <td>0.688932</td>\n",
       "    </tr>\n",
       "    <tr>\n",
       "      <th>142</th>\n",
       "      <td>0.900000</td>\n",
       "      <td>0.238588</td>\n",
       "      <td>0.255729</td>\n",
       "      <td>0.185840</td>\n",
       "      <td>0.252907</td>\n",
       "      <td>0.951966</td>\n",
       "      <td>0.950552</td>\n",
       "      <td>0.967039</td>\n",
       "      <td>0.954368</td>\n",
       "      <td>0.752305</td>\n",
       "      <td>0.749982</td>\n",
       "      <td>0.758720</td>\n",
       "      <td>0.750589</td>\n",
       "      <td>0.968534</td>\n",
       "      <td>0.964229</td>\n",
       "      <td>0.978491</td>\n",
       "      <td>0.963004</td>\n",
       "    </tr>\n",
       "  </tbody>\n",
       "</table>\n",
       "</div>"
      ],
      "text/plain": [
       "           0         1         2         3         4         5         6   \\\n",
       "287  0.614286  0.280051  0.299945  0.294688  0.310960  0.841359  0.817560   \n",
       "154  0.571429  0.197484  0.288057  0.292944  0.322688  0.911783  0.842684   \n",
       "39   0.800000  0.320207  0.417246  0.352365  0.434798  0.866120  0.781774   \n",
       "70   0.642857  0.405032  0.549494  0.726949  0.666225  0.834603  0.763914   \n",
       "142  0.900000  0.238588  0.255729  0.185840  0.252907  0.951966  0.950552   \n",
       "\n",
       "           7         8         9         10        11        12        13  \\\n",
       "287  0.856774  0.815379  0.610409  0.594267  0.619601  0.591764  0.832245   \n",
       "154  0.865757  0.830927  0.643814  0.599342  0.613050  0.591462  0.912774   \n",
       "39   0.839090  0.780289  0.604914  0.551653  0.585844  0.549782  0.843494   \n",
       "70   0.752934  0.735943  0.591662  0.550698  0.544595  0.534516  0.844253   \n",
       "142  0.967039  0.954368  0.752305  0.749982  0.758720  0.750589  0.968534   \n",
       "\n",
       "           14        15        16  \n",
       "287  0.787107  0.833853  0.780537  \n",
       "154  0.843933  0.871428  0.823534  \n",
       "39   0.753875  0.836865  0.745417  \n",
       "70   0.744130  0.727951  0.688932  \n",
       "142  0.964229  0.978491  0.963004  "
      ]
     },
     "execution_count": 175,
     "metadata": {},
     "output_type": "execute_result"
    }
   ],
   "source": [
    "X_train.head()"
   ]
  },
  {
   "cell_type": "markdown",
   "metadata": {},
   "source": [
    "# Model training"
   ]
  },
  {
   "cell_type": "markdown",
   "metadata": {},
   "source": [
    "## KNN"
   ]
  },
  {
   "cell_type": "code",
   "execution_count": 176,
   "metadata": {},
   "outputs": [
    {
     "data": {
      "image/png": "[encoded data removed]",
      "text/plain": [
       "<Figure size 432x288 with 2 Axes>"
      ]
     },
     "metadata": {
      "needs_background": "light"
     },
     "output_type": "display_data"
    }
   ],
   "source": [
    "# Remember that we are trying to come up\n",
    "# with a model to predict whether\n",
    "# someone will TARGET CLASS or not.\n",
    "# We'll start with k = 1.\n",
    "\n",
    "from sklearn.neighbors import KNeighborsClassifier\n",
    "  \n",
    "knn = KNeighborsClassifier(n_neighbors = 1)\n",
    "  \n",
    "knn.fit(X_train, y_train)\n",
    "pred = knn.predict(X_test)\n",
    "\n",
    "plot_confusion_matrix(knn, X_test, y_test)\n",
    "plt.xticks(rotation = 90)\n",
    "plt.show()\n",
    "\n",
    "# Predictions and Evaluations\n",
    "# Let's evaluate our KNN model ! \n"
   ]
  },
  {
   "cell_type": "code",
   "execution_count": 177,
   "metadata": {},
   "outputs": [
    {
     "name": "stdout",
     "output_type": "stream",
     "text": [
      "                   precision    recall  f1-score   support\n",
      "\n",
      "Fresh Papaya Leaf       0.83      0.80      0.82        25\n",
      "Papaya Black Spot       0.69      0.55      0.61        20\n",
      " Papaya Leaf Curl       0.50      0.38      0.43        13\n",
      "  Papaya Ringspot       0.52      0.61      0.56        23\n",
      "   Powdery Mildew       0.36      0.42      0.38        24\n",
      "\n",
      "         accuracy                           0.57       105\n",
      "        macro avg       0.58      0.55      0.56       105\n",
      "     weighted avg       0.59      0.57      0.58       105\n",
      "\n"
     ]
    }
   ],
   "source": [
    "from sklearn.metrics import classification_report  \n",
    "print(classification_report(y_test, pred))\n"
   ]
  },
  {
   "cell_type": "code",
   "execution_count": 178,
   "metadata": {},
   "outputs": [],
   "source": [
    "from sklearn import metrics\n",
    "error_rate = []\n",
    "scores = []\n",
    "\n",
    "k=50\n",
    "max_accuracy=0\n",
    "best_k=1\n",
    "\n",
    "for i in range(1, k):\n",
    "      \n",
    "    knn = KNeighborsClassifier(n_neighbors = i)\n",
    "    knn.fit(X_train, y_train)\n",
    "    pred_i = knn.predict(X_test)\n",
    "    error_rate.append(np.mean(pred_i != y_test))\n",
    "    y_predict = knn.predict(X_test)\n",
    "    curr_accuracy=metrics.accuracy_score(y_test,y_predict)\n",
    "    if curr_accuracy>max_accuracy:\n",
    "        max_accuracy=curr_accuracy\n",
    "        best_k=i\n",
    "    scores.append(curr_accuracy)\n",
    "  \n"
   ]
  },
  {
   "cell_type": "code",
   "execution_count": 179,
   "metadata": {},
   "outputs": [
    {
     "data": {
      "text/plain": [
       "Text(0, 0.5, 'Error Rate')"
      ]
     },
     "execution_count": 179,
     "metadata": {},
     "output_type": "execute_result"
    },
    {
     "data": {
      "image/png": "[encoded data removed]",
      "text/plain": [
       "<Figure size 720x432 with 1 Axes>"
      ]
     },
     "metadata": {
      "needs_background": "light"
     },
     "output_type": "display_data"
    }
   ],
   "source": [
    "plt.figure(figsize =(10, 6))\n",
    "plt.plot(range(1, k), error_rate, color ='blue',\n",
    "                linestyle ='dashed', marker ='o',\n",
    "         markerfacecolor ='red', markersize = 10)\n",
    "  \n",
    "plt.title('Error Rate vs. K Value')\n",
    "plt.xlabel('K')\n",
    "plt.ylabel('Error Rate')"
   ]
  },
  {
   "cell_type": "code",
   "execution_count": 180,
   "metadata": {},
   "outputs": [
    {
     "data": {
      "text/plain": [
       "Text(0, 0.5, 'Accuracy')"
      ]
     },
     "execution_count": 180,
     "metadata": {},
     "output_type": "execute_result"
    },
    {
     "data": {
      "image/png": "[encoded data removed]",
      "text/plain": [
       "<Figure size 432x288 with 1 Axes>"
      ]
     },
     "metadata": {
      "needs_background": "light"
     },
     "output_type": "display_data"
    }
   ],
   "source": [
    "plt.plot(np.arange(1,k),scores)\n",
    "plt.title('Varition of accuracy with K value')\n",
    "plt.xlabel('K values')\n",
    "plt.ylabel('Accuracy')"
   ]
  },
  {
   "cell_type": "code",
   "execution_count": 181,
   "metadata": {},
   "outputs": [
    {
     "name": "stdout",
     "output_type": "stream",
     "text": [
      "                   precision    recall  f1-score   support\n",
      "\n",
      "Fresh Papaya Leaf       0.83      0.80      0.82        25\n",
      "Papaya Black Spot       0.69      0.55      0.61        20\n",
      " Papaya Leaf Curl       0.50      0.38      0.43        13\n",
      "  Papaya Ringspot       0.52      0.61      0.56        23\n",
      "   Powdery Mildew       0.36      0.42      0.38        24\n",
      "\n",
      "         accuracy                           0.57       105\n",
      "        macro avg       0.58      0.55      0.56       105\n",
      "     weighted avg       0.59      0.57      0.58       105\n",
      "\n",
      "Accuracy for k = 1 is 57.14285714285714%\n"
     ]
    }
   ],
   "source": [
    "knn = KNeighborsClassifier(n_neighbors = best_k)\n",
    "  \n",
    "knn.fit(X_train, y_train)\n",
    "pred = knn.predict(X_test)\n",
    "from sklearn.metrics import classification_report  \n",
    "print(classification_report(y_test, pred))\n",
    "\n",
    "print(\"Accuracy for k = {} is {}%\".format(best_k,max_accuracy*100))"
   ]
  },
  {
   "cell_type": "markdown",
   "metadata": {},
   "source": [
    "## Naive Bayes"
   ]
  },
  {
   "cell_type": "code",
   "execution_count": 182,
   "metadata": {},
   "outputs": [
    {
     "name": "stdout",
     "output_type": "stream",
     "text": [
      "                   precision    recall  f1-score   support\n",
      "\n",
      "Fresh Papaya Leaf       0.75      0.84      0.79        25\n",
      "Papaya Black Spot       0.41      0.35      0.38        20\n",
      " Papaya Leaf Curl       1.00      0.15      0.27        13\n",
      "  Papaya Ringspot       0.44      0.17      0.25        23\n",
      "   Powdery Mildew       0.43      0.88      0.58        24\n",
      "\n",
      "         accuracy                           0.52       105\n",
      "        macro avg       0.61      0.48      0.45       105\n",
      "     weighted avg       0.58      0.52      0.48       105\n",
      "\n"
     ]
    }
   ],
   "source": [
    "from sklearn.naive_bayes import GaussianNB,CategoricalNB\n",
    "\n",
    "# instantiate the model\n",
    "gnb = GaussianNB()\n",
    "\n",
    "# fit the model\n",
    "gnb.fit(X_train, y_train)\n",
    "y_pred = gnb.predict(X_test)\n",
    "print(classification_report(y_test, y_pred))\n",
    "\n"
   ]
  },
  {
   "cell_type": "code",
   "execution_count": 183,
   "metadata": {},
   "outputs": [
    {
     "name": "stdout",
     "output_type": "stream",
     "text": [
      "Model accuracy score: 52.3810%\n"
     ]
    }
   ],
   "source": [
    "print('Model accuracy score: {0:0.4f}%'. format(accuracy_score(y_test, y_pred)*100))"
   ]
  },
  {
   "cell_type": "markdown",
   "metadata": {},
   "source": [
    "## Logistic regression"
   ]
  },
  {
   "cell_type": "code",
   "execution_count": 184,
   "metadata": {},
   "outputs": [
    {
     "name": "stdout",
     "output_type": "stream",
     "text": [
      "                   precision    recall  f1-score   support\n",
      "\n",
      "Fresh Papaya Leaf       0.75      0.84      0.79        25\n",
      "Papaya Black Spot       0.41      0.35      0.38        20\n",
      " Papaya Leaf Curl       1.00      0.15      0.27        13\n",
      "  Papaya Ringspot       0.44      0.17      0.25        23\n",
      "   Powdery Mildew       0.43      0.88      0.58        24\n",
      "\n",
      "         accuracy                           0.52       105\n",
      "        macro avg       0.61      0.48      0.45       105\n",
      "     weighted avg       0.58      0.52      0.48       105\n",
      "\n"
     ]
    }
   ],
   "source": [
    "from sklearn.linear_model import LogisticRegression\n",
    "\n",
    "lr = LogisticRegression(solver='lbfgs', max_iter=1000)\n",
    "\n",
    "# fit the model\n",
    "lr.fit(X_train, y_train)\n",
    "y_pred = gnb.predict(X_test)\n",
    "\n",
    "print(classification_report(y_test, y_pred))\n"
   ]
  },
  {
   "cell_type": "code",
   "execution_count": 185,
   "metadata": {},
   "outputs": [
    {
     "name": "stdout",
     "output_type": "stream",
     "text": [
      "Model accuracy score: 52.3810%\n"
     ]
    }
   ],
   "source": [
    "print('Model accuracy score: {0:0.4f}%'. format(accuracy_score(y_test, y_pred)*100))"
   ]
  },
  {
   "cell_type": "markdown",
   "metadata": {},
   "source": [
    "# K-Fold Cross Validation"
   ]
  },
  {
   "cell_type": "code",
   "execution_count": 186,
   "metadata": {},
   "outputs": [
    {
     "name": "stdout",
     "output_type": "stream",
     "text": [
      "Fold:1, Train set: 225, Test set:75\n",
      "Fold:2, Train set: 225, Test set:75\n",
      "Fold:3, Train set: 225, Test set:75\n",
      "Fold:4, Train set: 225, Test set:75\n"
     ]
    }
   ],
   "source": [
    "from sklearn.model_selection import KFold, StratifiedKFold\n",
    "\n",
    "kf = StratifiedKFold(n_splits=4, shuffle=True, random_state=42)\n",
    "\n",
    "cnt = 1\n",
    "# split()  method generate indices to split data into training and test set.\n",
    "for train_index, test_index in kf.split(X, y):\n",
    "    print(f'Fold:{cnt}, Train set: {len(train_index)}, Test set:{len(test_index)}')\n",
    "    cnt += 1\n"
   ]
  },
  {
   "cell_type": "code",
   "execution_count": 187,
   "metadata": {},
   "outputs": [
    {
     "name": "stdout",
     "output_type": "stream",
     "text": [
      "Scores for each fold are:\n",
      "[0.54666667 0.50666667 0.41333333 0.34666667]\n",
      "Model accuracy score for Logistic Regression: 45.3333%\n"
     ]
    }
   ],
   "source": [
    "score = cross_val_score(lr, X, y, cv= kf, scoring=\"accuracy\")\n",
    "print('Scores for each fold are:')\n",
    "print(score)\n",
    "print('Model accuracy score for Logistic Regression: {0:0.4f}%'.format(score.mean()*100))"
   ]
  },
  {
   "cell_type": "code",
   "execution_count": 188,
   "metadata": {},
   "outputs": [
    {
     "name": "stdout",
     "output_type": "stream",
     "text": [
      "Scores for each fold are:\n",
      "[0.50666667 0.46666667 0.44       0.4       ]\n",
      "Model accuracy score for Gaussian Naive Bayes: 45.3333%\n"
     ]
    }
   ],
   "source": [
    "score = cross_val_score(gnb, X, y, cv= kf, scoring=\"accuracy\")\n",
    "print('Scores for each fold are:')\n",
    "print(score)\n",
    "print('Model accuracy score for Gaussian Naive Bayes: {0:0.4f}%'.format(score.mean()*100))"
   ]
  }
 ],
 "metadata": {
  "kernelspec": {
   "display_name": "Python 3",
   "language": "python",
   "name": "python3"
  },
  "language_info": {
   "codemirror_mode": {
    "name": "ipython",
    "version": 3
   },
   "file_extension": ".py",
   "mimetype": "text/x-python",
   "name": "python",
   "nbconvert_exporter": "python",
   "pygments_lexer": "ipython3",
   "version": "3.7.3"
  }
 },
 "nbformat": 4,
 "nbformat_minor": 4
}
