{
 "cells": [
  {
   "cell_type": "code",
   "execution_count": 1,
   "metadata": {},
   "outputs": [],
   "source": [
    "import numpy as np\n",
    "import pandas as pd\n",
    "import matplotlib.pyplot as plt\n",
    "import seaborn as sns\n",
    "from sklearn.metrics import accuracy_score\n",
    "from sklearn.metrics import plot_confusion_matrix\n",
    "from sklearn.model_selection import cross_val_score\n",
    "from sklearn.utils import shuffle"
   ]
  },
  {
   "cell_type": "code",
   "execution_count": 2,
   "metadata": {},
   "outputs": [
    {
     "data": {
      "text/html": [
       "<div>\n",
       "<style scoped>\n",
       "    .dataframe tbody tr th:only-of-type {\n",
       "        vertical-align: middle;\n",
       "    }\n",
       "\n",
       "    .dataframe tbody tr th {\n",
       "        vertical-align: top;\n",
       "    }\n",
       "\n",
       "    .dataframe thead th {\n",
       "        text-align: right;\n",
       "    }\n",
       "</style>\n",
       "<table border=\"1\" class=\"dataframe\">\n",
       "  <thead>\n",
       "    <tr style=\"text-align: right;\">\n",
       "      <th></th>\n",
       "      <th>Unnamed: 0</th>\n",
       "      <th>0</th>\n",
       "      <th>1</th>\n",
       "      <th>2</th>\n",
       "      <th>3</th>\n",
       "      <th>4</th>\n",
       "      <th>5</th>\n",
       "      <th>6</th>\n",
       "      <th>7</th>\n",
       "      <th>8</th>\n",
       "      <th>9</th>\n",
       "      <th>10</th>\n",
       "      <th>11</th>\n",
       "      <th>12</th>\n",
       "      <th>13</th>\n",
       "      <th>14</th>\n",
       "      <th>15</th>\n",
       "      <th>16</th>\n",
       "    </tr>\n",
       "  </thead>\n",
       "  <tbody>\n",
       "    <tr>\n",
       "      <th>130</th>\n",
       "      <td>130</td>\n",
       "      <td>3.654642</td>\n",
       "      <td>5.708574</td>\n",
       "      <td>4.960555</td>\n",
       "      <td>6.250288</td>\n",
       "      <td>0.864381</td>\n",
       "      <td>0.804685</td>\n",
       "      <td>0.821022</td>\n",
       "      <td>0.786090</td>\n",
       "      <td>0.535904</td>\n",
       "      <td>0.507531</td>\n",
       "      <td>0.515612</td>\n",
       "      <td>0.498851</td>\n",
       "      <td>0.880822</td>\n",
       "      <td>0.813413</td>\n",
       "      <td>0.837985</td>\n",
       "      <td>0.795732</td>\n",
       "      <td>Papaya Leaf Curl</td>\n",
       "    </tr>\n",
       "    <tr>\n",
       "      <th>175</th>\n",
       "      <td>175</td>\n",
       "      <td>3.604442</td>\n",
       "      <td>5.597047</td>\n",
       "      <td>4.296722</td>\n",
       "      <td>5.207782</td>\n",
       "      <td>0.809676</td>\n",
       "      <td>0.726058</td>\n",
       "      <td>0.776402</td>\n",
       "      <td>0.738506</td>\n",
       "      <td>0.479416</td>\n",
       "      <td>0.439145</td>\n",
       "      <td>0.462352</td>\n",
       "      <td>0.444689</td>\n",
       "      <td>0.807609</td>\n",
       "      <td>0.701452</td>\n",
       "      <td>0.770727</td>\n",
       "      <td>0.722212</td>\n",
       "      <td>Papaya Ringspot</td>\n",
       "    </tr>\n",
       "    <tr>\n",
       "      <th>63</th>\n",
       "      <td>63</td>\n",
       "      <td>1.777665</td>\n",
       "      <td>2.905190</td>\n",
       "      <td>1.827574</td>\n",
       "      <td>2.853426</td>\n",
       "      <td>0.929318</td>\n",
       "      <td>0.881206</td>\n",
       "      <td>0.911604</td>\n",
       "      <td>0.880596</td>\n",
       "      <td>0.648728</td>\n",
       "      <td>0.631344</td>\n",
       "      <td>0.644117</td>\n",
       "      <td>0.631787</td>\n",
       "      <td>0.939815</td>\n",
       "      <td>0.901802</td>\n",
       "      <td>0.938125</td>\n",
       "      <td>0.903552</td>\n",
       "      <td>Fresh Papaya Leaf</td>\n",
       "    </tr>\n",
       "    <tr>\n",
       "      <th>383</th>\n",
       "      <td>93</td>\n",
       "      <td>0.685202</td>\n",
       "      <td>1.406644</td>\n",
       "      <td>0.993474</td>\n",
       "      <td>1.475709</td>\n",
       "      <td>0.957957</td>\n",
       "      <td>0.911475</td>\n",
       "      <td>0.937242</td>\n",
       "      <td>0.910726</td>\n",
       "      <td>0.621128</td>\n",
       "      <td>0.591746</td>\n",
       "      <td>0.608212</td>\n",
       "      <td>0.591538</td>\n",
       "      <td>0.954642</td>\n",
       "      <td>0.906491</td>\n",
       "      <td>0.933900</td>\n",
       "      <td>0.901853</td>\n",
       "      <td>Fruit Powdery Mildew</td>\n",
       "    </tr>\n",
       "    <tr>\n",
       "      <th>172</th>\n",
       "      <td>172</td>\n",
       "      <td>2.892770</td>\n",
       "      <td>3.772011</td>\n",
       "      <td>2.320634</td>\n",
       "      <td>3.401569</td>\n",
       "      <td>0.802506</td>\n",
       "      <td>0.756949</td>\n",
       "      <td>0.836845</td>\n",
       "      <td>0.776424</td>\n",
       "      <td>0.477810</td>\n",
       "      <td>0.454959</td>\n",
       "      <td>0.496103</td>\n",
       "      <td>0.464430</td>\n",
       "      <td>0.782765</td>\n",
       "      <td>0.716846</td>\n",
       "      <td>0.825889</td>\n",
       "      <td>0.744651</td>\n",
       "      <td>Papaya Ringspot</td>\n",
       "    </tr>\n",
       "  </tbody>\n",
       "</table>\n",
       "</div>"
      ],
      "text/plain": [
       "     Unnamed: 0         0         1         2         3         4         5  \\\n",
       "130         130  3.654642  5.708574  4.960555  6.250288  0.864381  0.804685   \n",
       "175         175  3.604442  5.597047  4.296722  5.207782  0.809676  0.726058   \n",
       "63           63  1.777665  2.905190  1.827574  2.853426  0.929318  0.881206   \n",
       "383          93  0.685202  1.406644  0.993474  1.475709  0.957957  0.911475   \n",
       "172         172  2.892770  3.772011  2.320634  3.401569  0.802506  0.756949   \n",
       "\n",
       "            6         7         8         9        10        11        12  \\\n",
       "130  0.821022  0.786090  0.535904  0.507531  0.515612  0.498851  0.880822   \n",
       "175  0.776402  0.738506  0.479416  0.439145  0.462352  0.444689  0.807609   \n",
       "63   0.911604  0.880596  0.648728  0.631344  0.644117  0.631787  0.939815   \n",
       "383  0.937242  0.910726  0.621128  0.591746  0.608212  0.591538  0.954642   \n",
       "172  0.836845  0.776424  0.477810  0.454959  0.496103  0.464430  0.782765   \n",
       "\n",
       "           13        14        15                    16  \n",
       "130  0.813413  0.837985  0.795732      Papaya Leaf Curl  \n",
       "175  0.701452  0.770727  0.722212       Papaya Ringspot  \n",
       "63   0.901802  0.938125  0.903552     Fresh Papaya Leaf  \n",
       "383  0.906491  0.933900  0.901853  Fruit Powdery Mildew  \n",
       "172  0.716846  0.825889  0.744651       Papaya Ringspot  "
      ]
     },
     "execution_count": 2,
     "metadata": {},
     "output_type": "execute_result"
    }
   ],
   "source": [
    "path = r\"C:\\Users\\Arifin\\Downloads\\papaya\\Combined_Leaf&Fruit.csv\"\n",
    "df = pd.read_csv(path)\n",
    "df = shuffle(df)\n",
    "df.head()"
   ]
  },
  {
   "cell_type": "code",
   "execution_count": 3,
   "metadata": {},
   "outputs": [
    {
     "data": {
      "text/plain": [
       "(406, 18)"
      ]
     },
     "execution_count": 3,
     "metadata": {},
     "output_type": "execute_result"
    }
   ],
   "source": [
    "df.shape"
   ]
  },
  {
   "cell_type": "code",
   "execution_count": 4,
   "metadata": {},
   "outputs": [
    {
     "data": {
      "text/html": [
       "<div>\n",
       "<style scoped>\n",
       "    .dataframe tbody tr th:only-of-type {\n",
       "        vertical-align: middle;\n",
       "    }\n",
       "\n",
       "    .dataframe tbody tr th {\n",
       "        vertical-align: top;\n",
       "    }\n",
       "\n",
       "    .dataframe thead th {\n",
       "        text-align: right;\n",
       "    }\n",
       "</style>\n",
       "<table border=\"1\" class=\"dataframe\">\n",
       "  <thead>\n",
       "    <tr style=\"text-align: right;\">\n",
       "      <th></th>\n",
       "      <th>Unnamed: 0</th>\n",
       "      <th>0</th>\n",
       "      <th>1</th>\n",
       "      <th>2</th>\n",
       "      <th>3</th>\n",
       "      <th>4</th>\n",
       "      <th>5</th>\n",
       "      <th>6</th>\n",
       "      <th>7</th>\n",
       "      <th>8</th>\n",
       "      <th>9</th>\n",
       "      <th>10</th>\n",
       "      <th>11</th>\n",
       "      <th>12</th>\n",
       "      <th>13</th>\n",
       "      <th>14</th>\n",
       "      <th>15</th>\n",
       "    </tr>\n",
       "  </thead>\n",
       "  <tbody>\n",
       "    <tr>\n",
       "      <th>count</th>\n",
       "      <td>406.000000</td>\n",
       "      <td>406.000000</td>\n",
       "      <td>406.000000</td>\n",
       "      <td>406.000000</td>\n",
       "      <td>406.000000</td>\n",
       "      <td>406.000000</td>\n",
       "      <td>406.000000</td>\n",
       "      <td>406.000000</td>\n",
       "      <td>406.000000</td>\n",
       "      <td>406.000000</td>\n",
       "      <td>406.000000</td>\n",
       "      <td>406.000000</td>\n",
       "      <td>406.000000</td>\n",
       "      <td>406.000000</td>\n",
       "      <td>406.000000</td>\n",
       "      <td>406.000000</td>\n",
       "      <td>406.000000</td>\n",
       "    </tr>\n",
       "    <tr>\n",
       "      <th>mean</th>\n",
       "      <td>119.642857</td>\n",
       "      <td>2.373528</td>\n",
       "      <td>3.527408</td>\n",
       "      <td>2.514805</td>\n",
       "      <td>3.532901</td>\n",
       "      <td>0.883409</td>\n",
       "      <td>0.833620</td>\n",
       "      <td>0.875194</td>\n",
       "      <td>0.833573</td>\n",
       "      <td>0.551525</td>\n",
       "      <td>0.526016</td>\n",
       "      <td>0.545659</td>\n",
       "      <td>0.526023</td>\n",
       "      <td>0.884569</td>\n",
       "      <td>0.828255</td>\n",
       "      <td>0.877800</td>\n",
       "      <td>0.828119</td>\n",
       "    </tr>\n",
       "    <tr>\n",
       "      <th>std</th>\n",
       "      <td>82.993428</td>\n",
       "      <td>1.519586</td>\n",
       "      <td>1.938313</td>\n",
       "      <td>1.502811</td>\n",
       "      <td>1.961761</td>\n",
       "      <td>0.069005</td>\n",
       "      <td>0.080453</td>\n",
       "      <td>0.065896</td>\n",
       "      <td>0.080572</td>\n",
       "      <td>0.078768</td>\n",
       "      <td>0.085501</td>\n",
       "      <td>0.079503</td>\n",
       "      <td>0.085491</td>\n",
       "      <td>0.073819</td>\n",
       "      <td>0.096819</td>\n",
       "      <td>0.074731</td>\n",
       "      <td>0.097145</td>\n",
       "    </tr>\n",
       "    <tr>\n",
       "      <th>min</th>\n",
       "      <td>0.000000</td>\n",
       "      <td>0.301287</td>\n",
       "      <td>0.545529</td>\n",
       "      <td>0.304810</td>\n",
       "      <td>0.539146</td>\n",
       "      <td>0.537761</td>\n",
       "      <td>0.467737</td>\n",
       "      <td>0.670416</td>\n",
       "      <td>0.461763</td>\n",
       "      <td>0.420645</td>\n",
       "      <td>0.387545</td>\n",
       "      <td>0.400065</td>\n",
       "      <td>0.384455</td>\n",
       "      <td>0.645898</td>\n",
       "      <td>0.507461</td>\n",
       "      <td>0.621925</td>\n",
       "      <td>0.487453</td>\n",
       "    </tr>\n",
       "    <tr>\n",
       "      <th>25%</th>\n",
       "      <td>50.250000</td>\n",
       "      <td>1.180737</td>\n",
       "      <td>2.018308</td>\n",
       "      <td>1.333793</td>\n",
       "      <td>2.009689</td>\n",
       "      <td>0.836754</td>\n",
       "      <td>0.775631</td>\n",
       "      <td>0.825437</td>\n",
       "      <td>0.772634</td>\n",
       "      <td>0.498074</td>\n",
       "      <td>0.466041</td>\n",
       "      <td>0.491668</td>\n",
       "      <td>0.467020</td>\n",
       "      <td>0.832993</td>\n",
       "      <td>0.749471</td>\n",
       "      <td>0.824503</td>\n",
       "      <td>0.750375</td>\n",
       "    </tr>\n",
       "    <tr>\n",
       "      <th>50%</th>\n",
       "      <td>101.000000</td>\n",
       "      <td>2.150161</td>\n",
       "      <td>3.270988</td>\n",
       "      <td>2.226900</td>\n",
       "      <td>3.276747</td>\n",
       "      <td>0.890284</td>\n",
       "      <td>0.832592</td>\n",
       "      <td>0.878188</td>\n",
       "      <td>0.836819</td>\n",
       "      <td>0.536563</td>\n",
       "      <td>0.506495</td>\n",
       "      <td>0.528235</td>\n",
       "      <td>0.507094</td>\n",
       "      <td>0.900472</td>\n",
       "      <td>0.844008</td>\n",
       "      <td>0.892736</td>\n",
       "      <td>0.840163</td>\n",
       "    </tr>\n",
       "    <tr>\n",
       "      <th>75%</th>\n",
       "      <td>187.750000</td>\n",
       "      <td>3.251765</td>\n",
       "      <td>4.802372</td>\n",
       "      <td>3.543716</td>\n",
       "      <td>4.729954</td>\n",
       "      <td>0.937064</td>\n",
       "      <td>0.896492</td>\n",
       "      <td>0.931845</td>\n",
       "      <td>0.896674</td>\n",
       "      <td>0.580018</td>\n",
       "      <td>0.558691</td>\n",
       "      <td>0.575324</td>\n",
       "      <td>0.557817</td>\n",
       "      <td>0.944408</td>\n",
       "      <td>0.902473</td>\n",
       "      <td>0.937045</td>\n",
       "      <td>0.903367</td>\n",
       "    </tr>\n",
       "    <tr>\n",
       "      <th>max</th>\n",
       "      <td>289.000000</td>\n",
       "      <td>9.822687</td>\n",
       "      <td>11.045752</td>\n",
       "      <td>9.157659</td>\n",
       "      <td>10.722630</td>\n",
       "      <td>0.986145</td>\n",
       "      <td>0.974219</td>\n",
       "      <td>0.984145</td>\n",
       "      <td>0.974791</td>\n",
       "      <td>0.816482</td>\n",
       "      <td>0.809427</td>\n",
       "      <td>0.812717</td>\n",
       "      <td>0.809060</td>\n",
       "      <td>0.986962</td>\n",
       "      <td>0.978419</td>\n",
       "      <td>0.989709</td>\n",
       "      <td>0.981042</td>\n",
       "    </tr>\n",
       "  </tbody>\n",
       "</table>\n",
       "</div>"
      ],
      "text/plain": [
       "       Unnamed: 0           0           1           2           3           4  \\\n",
       "count  406.000000  406.000000  406.000000  406.000000  406.000000  406.000000   \n",
       "mean   119.642857    2.373528    3.527408    2.514805    3.532901    0.883409   \n",
       "std     82.993428    1.519586    1.938313    1.502811    1.961761    0.069005   \n",
       "min      0.000000    0.301287    0.545529    0.304810    0.539146    0.537761   \n",
       "25%     50.250000    1.180737    2.018308    1.333793    2.009689    0.836754   \n",
       "50%    101.000000    2.150161    3.270988    2.226900    3.276747    0.890284   \n",
       "75%    187.750000    3.251765    4.802372    3.543716    4.729954    0.937064   \n",
       "max    289.000000    9.822687   11.045752    9.157659   10.722630    0.986145   \n",
       "\n",
       "                5           6           7           8           9          10  \\\n",
       "count  406.000000  406.000000  406.000000  406.000000  406.000000  406.000000   \n",
       "mean     0.833620    0.875194    0.833573    0.551525    0.526016    0.545659   \n",
       "std      0.080453    0.065896    0.080572    0.078768    0.085501    0.079503   \n",
       "min      0.467737    0.670416    0.461763    0.420645    0.387545    0.400065   \n",
       "25%      0.775631    0.825437    0.772634    0.498074    0.466041    0.491668   \n",
       "50%      0.832592    0.878188    0.836819    0.536563    0.506495    0.528235   \n",
       "75%      0.896492    0.931845    0.896674    0.580018    0.558691    0.575324   \n",
       "max      0.974219    0.984145    0.974791    0.816482    0.809427    0.812717   \n",
       "\n",
       "               11          12          13          14          15  \n",
       "count  406.000000  406.000000  406.000000  406.000000  406.000000  \n",
       "mean     0.526023    0.884569    0.828255    0.877800    0.828119  \n",
       "std      0.085491    0.073819    0.096819    0.074731    0.097145  \n",
       "min      0.384455    0.645898    0.507461    0.621925    0.487453  \n",
       "25%      0.467020    0.832993    0.749471    0.824503    0.750375  \n",
       "50%      0.507094    0.900472    0.844008    0.892736    0.840163  \n",
       "75%      0.557817    0.944408    0.902473    0.937045    0.903367  \n",
       "max      0.809060    0.986962    0.978419    0.989709    0.981042  "
      ]
     },
     "execution_count": 4,
     "metadata": {},
     "output_type": "execute_result"
    }
   ],
   "source": [
    "df.describe()"
   ]
  },
  {
   "cell_type": "code",
   "execution_count": 5,
   "metadata": {},
   "outputs": [],
   "source": [
    "df = df.rename(columns={'16': 'Class'})\n",
    "X = df.drop('Class',axis=1)\n",
    "y = df['Class']"
   ]
  },
  {
   "cell_type": "code",
   "execution_count": 6,
   "metadata": {},
   "outputs": [
    {
     "name": "stdout",
     "output_type": "stream",
     "text": [
      "<class 'pandas.core.frame.DataFrame'>\n",
      "Int64Index: 406 entries, 130 to 274\n",
      "Data columns (total 18 columns):\n",
      " #   Column      Non-Null Count  Dtype  \n",
      "---  ------      --------------  -----  \n",
      " 0   Unnamed: 0  406 non-null    int64  \n",
      " 1   0           406 non-null    float64\n",
      " 2   1           406 non-null    float64\n",
      " 3   2           406 non-null    float64\n",
      " 4   3           406 non-null    float64\n",
      " 5   4           406 non-null    float64\n",
      " 6   5           406 non-null    float64\n",
      " 7   6           406 non-null    float64\n",
      " 8   7           406 non-null    float64\n",
      " 9   8           406 non-null    float64\n",
      " 10  9           406 non-null    float64\n",
      " 11  10          406 non-null    float64\n",
      " 12  11          406 non-null    float64\n",
      " 13  12          406 non-null    float64\n",
      " 14  13          406 non-null    float64\n",
      " 15  14          406 non-null    float64\n",
      " 16  15          406 non-null    float64\n",
      " 17  Class       406 non-null    object \n",
      "dtypes: float64(16), int64(1), object(1)\n",
      "memory usage: 60.3+ KB\n"
     ]
    }
   ],
   "source": [
    "df.info()"
   ]
  },
  {
   "cell_type": "code",
   "execution_count": 7,
   "metadata": {},
   "outputs": [
    {
     "data": {
      "text/plain": [
       "Text(0.5, 1.0, 'Correlation between different fearures')"
      ]
     },
     "execution_count": 7,
     "metadata": {},
     "output_type": "execute_result"
    },
    {
     "data": {
      "image/png": "[encoded data removed]",
      "text/plain": [
       "<Figure size 720x720 with 2 Axes>"
      ]
     },
     "metadata": {
      "needs_background": "light"
     },
     "output_type": "display_data"
    }
   ],
   "source": [
    "correlation = df.corr()\n",
    "plt.figure(figsize=(10,10))\n",
    "sns.heatmap(correlation, vmax=1, square=True,annot=True,cmap='viridis')\n",
    "\n",
    "plt.title('Correlation between different fearures')"
   ]
  },
  {
   "cell_type": "code",
   "execution_count": 8,
   "metadata": {},
   "outputs": [
    {
     "data": {
      "text/html": [
       "<div>\n",
       "<style scoped>\n",
       "    .dataframe tbody tr th:only-of-type {\n",
       "        vertical-align: middle;\n",
       "    }\n",
       "\n",
       "    .dataframe tbody tr th {\n",
       "        vertical-align: top;\n",
       "    }\n",
       "\n",
       "    .dataframe thead th {\n",
       "        text-align: right;\n",
       "    }\n",
       "</style>\n",
       "<table border=\"1\" class=\"dataframe\">\n",
       "  <thead>\n",
       "    <tr style=\"text-align: right;\">\n",
       "      <th></th>\n",
       "      <th>Unnamed: 0</th>\n",
       "      <th>0</th>\n",
       "      <th>1</th>\n",
       "      <th>2</th>\n",
       "      <th>3</th>\n",
       "      <th>4</th>\n",
       "      <th>5</th>\n",
       "      <th>6</th>\n",
       "      <th>7</th>\n",
       "      <th>8</th>\n",
       "      <th>9</th>\n",
       "      <th>10</th>\n",
       "      <th>11</th>\n",
       "      <th>12</th>\n",
       "      <th>13</th>\n",
       "      <th>14</th>\n",
       "      <th>15</th>\n",
       "    </tr>\n",
       "  </thead>\n",
       "  <tbody>\n",
       "    <tr>\n",
       "      <th>130</th>\n",
       "      <td>130</td>\n",
       "      <td>3.654642</td>\n",
       "      <td>5.708574</td>\n",
       "      <td>4.960555</td>\n",
       "      <td>6.250288</td>\n",
       "      <td>0.864381</td>\n",
       "      <td>0.804685</td>\n",
       "      <td>0.821022</td>\n",
       "      <td>0.786090</td>\n",
       "      <td>0.535904</td>\n",
       "      <td>0.507531</td>\n",
       "      <td>0.515612</td>\n",
       "      <td>0.498851</td>\n",
       "      <td>0.880822</td>\n",
       "      <td>0.813413</td>\n",
       "      <td>0.837985</td>\n",
       "      <td>0.795732</td>\n",
       "    </tr>\n",
       "    <tr>\n",
       "      <th>175</th>\n",
       "      <td>175</td>\n",
       "      <td>3.604442</td>\n",
       "      <td>5.597047</td>\n",
       "      <td>4.296722</td>\n",
       "      <td>5.207782</td>\n",
       "      <td>0.809676</td>\n",
       "      <td>0.726058</td>\n",
       "      <td>0.776402</td>\n",
       "      <td>0.738506</td>\n",
       "      <td>0.479416</td>\n",
       "      <td>0.439145</td>\n",
       "      <td>0.462352</td>\n",
       "      <td>0.444689</td>\n",
       "      <td>0.807609</td>\n",
       "      <td>0.701452</td>\n",
       "      <td>0.770727</td>\n",
       "      <td>0.722212</td>\n",
       "    </tr>\n",
       "    <tr>\n",
       "      <th>63</th>\n",
       "      <td>63</td>\n",
       "      <td>1.777665</td>\n",
       "      <td>2.905190</td>\n",
       "      <td>1.827574</td>\n",
       "      <td>2.853426</td>\n",
       "      <td>0.929318</td>\n",
       "      <td>0.881206</td>\n",
       "      <td>0.911604</td>\n",
       "      <td>0.880596</td>\n",
       "      <td>0.648728</td>\n",
       "      <td>0.631344</td>\n",
       "      <td>0.644117</td>\n",
       "      <td>0.631787</td>\n",
       "      <td>0.939815</td>\n",
       "      <td>0.901802</td>\n",
       "      <td>0.938125</td>\n",
       "      <td>0.903552</td>\n",
       "    </tr>\n",
       "    <tr>\n",
       "      <th>383</th>\n",
       "      <td>93</td>\n",
       "      <td>0.685202</td>\n",
       "      <td>1.406644</td>\n",
       "      <td>0.993474</td>\n",
       "      <td>1.475709</td>\n",
       "      <td>0.957957</td>\n",
       "      <td>0.911475</td>\n",
       "      <td>0.937242</td>\n",
       "      <td>0.910726</td>\n",
       "      <td>0.621128</td>\n",
       "      <td>0.591746</td>\n",
       "      <td>0.608212</td>\n",
       "      <td>0.591538</td>\n",
       "      <td>0.954642</td>\n",
       "      <td>0.906491</td>\n",
       "      <td>0.933900</td>\n",
       "      <td>0.901853</td>\n",
       "    </tr>\n",
       "    <tr>\n",
       "      <th>172</th>\n",
       "      <td>172</td>\n",
       "      <td>2.892770</td>\n",
       "      <td>3.772011</td>\n",
       "      <td>2.320634</td>\n",
       "      <td>3.401569</td>\n",
       "      <td>0.802506</td>\n",
       "      <td>0.756949</td>\n",
       "      <td>0.836845</td>\n",
       "      <td>0.776424</td>\n",
       "      <td>0.477810</td>\n",
       "      <td>0.454959</td>\n",
       "      <td>0.496103</td>\n",
       "      <td>0.464430</td>\n",
       "      <td>0.782765</td>\n",
       "      <td>0.716846</td>\n",
       "      <td>0.825889</td>\n",
       "      <td>0.744651</td>\n",
       "    </tr>\n",
       "  </tbody>\n",
       "</table>\n",
       "</div>"
      ],
      "text/plain": [
       "     Unnamed: 0         0         1         2         3         4         5  \\\n",
       "130         130  3.654642  5.708574  4.960555  6.250288  0.864381  0.804685   \n",
       "175         175  3.604442  5.597047  4.296722  5.207782  0.809676  0.726058   \n",
       "63           63  1.777665  2.905190  1.827574  2.853426  0.929318  0.881206   \n",
       "383          93  0.685202  1.406644  0.993474  1.475709  0.957957  0.911475   \n",
       "172         172  2.892770  3.772011  2.320634  3.401569  0.802506  0.756949   \n",
       "\n",
       "            6         7         8         9        10        11        12  \\\n",
       "130  0.821022  0.786090  0.535904  0.507531  0.515612  0.498851  0.880822   \n",
       "175  0.776402  0.738506  0.479416  0.439145  0.462352  0.444689  0.807609   \n",
       "63   0.911604  0.880596  0.648728  0.631344  0.644117  0.631787  0.939815   \n",
       "383  0.937242  0.910726  0.621128  0.591746  0.608212  0.591538  0.954642   \n",
       "172  0.836845  0.776424  0.477810  0.454959  0.496103  0.464430  0.782765   \n",
       "\n",
       "           13        14        15  \n",
       "130  0.813413  0.837985  0.795732  \n",
       "175  0.701452  0.770727  0.722212  \n",
       "63   0.901802  0.938125  0.903552  \n",
       "383  0.906491  0.933900  0.901853  \n",
       "172  0.716846  0.825889  0.744651  "
      ]
     },
     "execution_count": 8,
     "metadata": {},
     "output_type": "execute_result"
    }
   ],
   "source": [
    "X.head()"
   ]
  },
  {
   "cell_type": "code",
   "execution_count": 9,
   "metadata": {},
   "outputs": [
    {
     "data": {
      "text/plain": [
       "130        Papaya Leaf Curl\n",
       "175         Papaya Ringspot\n",
       "63        Fresh Papaya Leaf\n",
       "383    Fruit Powdery Mildew\n",
       "172         Papaya Ringspot\n",
       "Name: Class, dtype: object"
      ]
     },
     "execution_count": 9,
     "metadata": {},
     "output_type": "execute_result"
    }
   ],
   "source": [
    "y.head()"
   ]
  },
  {
   "cell_type": "markdown",
   "metadata": {},
   "source": [
    "# Feature Scaling"
   ]
  },
  {
   "cell_type": "code",
   "execution_count": 10,
   "metadata": {},
   "outputs": [],
   "source": [
    "from sklearn.preprocessing import StandardScaler,RobustScaler,MinMaxScaler,MaxAbsScaler\n",
    "  \n",
    "scaler = MaxAbsScaler()\n",
    "\n",
    "X = scaler.fit_transform(X)\n",
    "\n",
    "X = pd.DataFrame(X)"
   ]
  },
  {
   "cell_type": "code",
   "execution_count": 11,
   "metadata": {},
   "outputs": [
    {
     "data": {
      "text/html": [
       "<div>\n",
       "<style scoped>\n",
       "    .dataframe tbody tr th:only-of-type {\n",
       "        vertical-align: middle;\n",
       "    }\n",
       "\n",
       "    .dataframe tbody tr th {\n",
       "        vertical-align: top;\n",
       "    }\n",
       "\n",
       "    .dataframe thead th {\n",
       "        text-align: right;\n",
       "    }\n",
       "</style>\n",
       "<table border=\"1\" class=\"dataframe\">\n",
       "  <thead>\n",
       "    <tr style=\"text-align: right;\">\n",
       "      <th></th>\n",
       "      <th>0</th>\n",
       "      <th>1</th>\n",
       "      <th>2</th>\n",
       "      <th>3</th>\n",
       "      <th>4</th>\n",
       "      <th>5</th>\n",
       "      <th>6</th>\n",
       "      <th>7</th>\n",
       "      <th>8</th>\n",
       "      <th>9</th>\n",
       "      <th>10</th>\n",
       "      <th>11</th>\n",
       "      <th>12</th>\n",
       "      <th>13</th>\n",
       "      <th>14</th>\n",
       "      <th>15</th>\n",
       "      <th>16</th>\n",
       "    </tr>\n",
       "  </thead>\n",
       "  <tbody>\n",
       "    <tr>\n",
       "      <th>0</th>\n",
       "      <td>0.449827</td>\n",
       "      <td>0.372061</td>\n",
       "      <td>0.516812</td>\n",
       "      <td>0.541684</td>\n",
       "      <td>0.582906</td>\n",
       "      <td>0.876525</td>\n",
       "      <td>0.825979</td>\n",
       "      <td>0.834249</td>\n",
       "      <td>0.806418</td>\n",
       "      <td>0.656357</td>\n",
       "      <td>0.627026</td>\n",
       "      <td>0.634431</td>\n",
       "      <td>0.616582</td>\n",
       "      <td>0.892458</td>\n",
       "      <td>0.831354</td>\n",
       "      <td>0.846698</td>\n",
       "      <td>0.811109</td>\n",
       "    </tr>\n",
       "    <tr>\n",
       "      <th>1</th>\n",
       "      <td>0.605536</td>\n",
       "      <td>0.366951</td>\n",
       "      <td>0.506715</td>\n",
       "      <td>0.469194</td>\n",
       "      <td>0.485681</td>\n",
       "      <td>0.821052</td>\n",
       "      <td>0.745272</td>\n",
       "      <td>0.788910</td>\n",
       "      <td>0.757604</td>\n",
       "      <td>0.587173</td>\n",
       "      <td>0.542538</td>\n",
       "      <td>0.568896</td>\n",
       "      <td>0.549637</td>\n",
       "      <td>0.818277</td>\n",
       "      <td>0.716924</td>\n",
       "      <td>0.778741</td>\n",
       "      <td>0.736168</td>\n",
       "    </tr>\n",
       "    <tr>\n",
       "      <th>2</th>\n",
       "      <td>0.217993</td>\n",
       "      <td>0.180975</td>\n",
       "      <td>0.263014</td>\n",
       "      <td>0.199568</td>\n",
       "      <td>0.266112</td>\n",
       "      <td>0.942375</td>\n",
       "      <td>0.904525</td>\n",
       "      <td>0.926291</td>\n",
       "      <td>0.903369</td>\n",
       "      <td>0.794540</td>\n",
       "      <td>0.779989</td>\n",
       "      <td>0.792548</td>\n",
       "      <td>0.780891</td>\n",
       "      <td>0.952230</td>\n",
       "      <td>0.921693</td>\n",
       "      <td>0.947879</td>\n",
       "      <td>0.921012</td>\n",
       "    </tr>\n",
       "    <tr>\n",
       "      <th>3</th>\n",
       "      <td>0.321799</td>\n",
       "      <td>0.069757</td>\n",
       "      <td>0.127347</td>\n",
       "      <td>0.108486</td>\n",
       "      <td>0.137626</td>\n",
       "      <td>0.971417</td>\n",
       "      <td>0.935595</td>\n",
       "      <td>0.952341</td>\n",
       "      <td>0.934278</td>\n",
       "      <td>0.760737</td>\n",
       "      <td>0.731068</td>\n",
       "      <td>0.748370</td>\n",
       "      <td>0.731143</td>\n",
       "      <td>0.967253</td>\n",
       "      <td>0.926486</td>\n",
       "      <td>0.943611</td>\n",
       "      <td>0.919280</td>\n",
       "    </tr>\n",
       "    <tr>\n",
       "      <th>4</th>\n",
       "      <td>0.595156</td>\n",
       "      <td>0.294499</td>\n",
       "      <td>0.341490</td>\n",
       "      <td>0.253409</td>\n",
       "      <td>0.317233</td>\n",
       "      <td>0.813781</td>\n",
       "      <td>0.776980</td>\n",
       "      <td>0.850327</td>\n",
       "      <td>0.796503</td>\n",
       "      <td>0.585206</td>\n",
       "      <td>0.562076</td>\n",
       "      <td>0.610425</td>\n",
       "      <td>0.574037</td>\n",
       "      <td>0.793106</td>\n",
       "      <td>0.732658</td>\n",
       "      <td>0.834476</td>\n",
       "      <td>0.759041</td>\n",
       "    </tr>\n",
       "  </tbody>\n",
       "</table>\n",
       "</div>"
      ],
      "text/plain": [
       "         0         1         2         3         4         5         6   \\\n",
       "0  0.449827  0.372061  0.516812  0.541684  0.582906  0.876525  0.825979   \n",
       "1  0.605536  0.366951  0.506715  0.469194  0.485681  0.821052  0.745272   \n",
       "2  0.217993  0.180975  0.263014  0.199568  0.266112  0.942375  0.904525   \n",
       "3  0.321799  0.069757  0.127347  0.108486  0.137626  0.971417  0.935595   \n",
       "4  0.595156  0.294499  0.341490  0.253409  0.317233  0.813781  0.776980   \n",
       "\n",
       "         7         8         9         10        11        12        13  \\\n",
       "0  0.834249  0.806418  0.656357  0.627026  0.634431  0.616582  0.892458   \n",
       "1  0.788910  0.757604  0.587173  0.542538  0.568896  0.549637  0.818277   \n",
       "2  0.926291  0.903369  0.794540  0.779989  0.792548  0.780891  0.952230   \n",
       "3  0.952341  0.934278  0.760737  0.731068  0.748370  0.731143  0.967253   \n",
       "4  0.850327  0.796503  0.585206  0.562076  0.610425  0.574037  0.793106   \n",
       "\n",
       "         14        15        16  \n",
       "0  0.831354  0.846698  0.811109  \n",
       "1  0.716924  0.778741  0.736168  \n",
       "2  0.921693  0.947879  0.921012  \n",
       "3  0.926486  0.943611  0.919280  \n",
       "4  0.732658  0.834476  0.759041  "
      ]
     },
     "execution_count": 11,
     "metadata": {},
     "output_type": "execute_result"
    }
   ],
   "source": [
    "X.head()"
   ]
  },
  {
   "cell_type": "code",
   "execution_count": 12,
   "metadata": {},
   "outputs": [
    {
     "data": {
      "text/plain": [
       "((304, 17), (102, 17))"
      ]
     },
     "execution_count": 12,
     "metadata": {},
     "output_type": "execute_result"
    }
   ],
   "source": [
    "from sklearn.model_selection import train_test_split\n",
    "  \n",
    "X_train, X_test, y_train, y_test = train_test_split(\n",
    "      X, y , test_size = 0.25, random_state=None)\n",
    "\n",
    "X_train.shape, X_test.shape\n"
   ]
  },
  {
   "cell_type": "code",
   "execution_count": 13,
   "metadata": {},
   "outputs": [
    {
     "data": {
      "text/html": [
       "<div>\n",
       "<style scoped>\n",
       "    .dataframe tbody tr th:only-of-type {\n",
       "        vertical-align: middle;\n",
       "    }\n",
       "\n",
       "    .dataframe tbody tr th {\n",
       "        vertical-align: top;\n",
       "    }\n",
       "\n",
       "    .dataframe thead th {\n",
       "        text-align: right;\n",
       "    }\n",
       "</style>\n",
       "<table border=\"1\" class=\"dataframe\">\n",
       "  <thead>\n",
       "    <tr style=\"text-align: right;\">\n",
       "      <th></th>\n",
       "      <th>0</th>\n",
       "      <th>1</th>\n",
       "      <th>2</th>\n",
       "      <th>3</th>\n",
       "      <th>4</th>\n",
       "      <th>5</th>\n",
       "      <th>6</th>\n",
       "      <th>7</th>\n",
       "      <th>8</th>\n",
       "      <th>9</th>\n",
       "      <th>10</th>\n",
       "      <th>11</th>\n",
       "      <th>12</th>\n",
       "      <th>13</th>\n",
       "      <th>14</th>\n",
       "      <th>15</th>\n",
       "      <th>16</th>\n",
       "    </tr>\n",
       "  </thead>\n",
       "  <tbody>\n",
       "    <tr>\n",
       "      <th>142</th>\n",
       "      <td>0.214533</td>\n",
       "      <td>0.062415</td>\n",
       "      <td>0.100503</td>\n",
       "      <td>0.092159</td>\n",
       "      <td>0.105267</td>\n",
       "      <td>0.963901</td>\n",
       "      <td>0.934540</td>\n",
       "      <td>0.946695</td>\n",
       "      <td>0.933097</td>\n",
       "      <td>0.684478</td>\n",
       "      <td>0.662875</td>\n",
       "      <td>0.674926</td>\n",
       "      <td>0.662477</td>\n",
       "      <td>0.972600</td>\n",
       "      <td>0.947846</td>\n",
       "      <td>0.954633</td>\n",
       "      <td>0.944039</td>\n",
       "    </tr>\n",
       "    <tr>\n",
       "      <th>241</th>\n",
       "      <td>0.536332</td>\n",
       "      <td>0.368220</td>\n",
       "      <td>0.457980</td>\n",
       "      <td>0.432136</td>\n",
       "      <td>0.478826</td>\n",
       "      <td>0.813632</td>\n",
       "      <td>0.761610</td>\n",
       "      <td>0.799697</td>\n",
       "      <td>0.758008</td>\n",
       "      <td>0.583078</td>\n",
       "      <td>0.552750</td>\n",
       "      <td>0.576449</td>\n",
       "      <td>0.550614</td>\n",
       "      <td>0.815011</td>\n",
       "      <td>0.742088</td>\n",
       "      <td>0.793813</td>\n",
       "      <td>0.735923</td>\n",
       "    </tr>\n",
       "    <tr>\n",
       "      <th>296</th>\n",
       "      <td>0.653979</td>\n",
       "      <td>0.422930</td>\n",
       "      <td>0.466856</td>\n",
       "      <td>0.414831</td>\n",
       "      <td>0.530617</td>\n",
       "      <td>0.846688</td>\n",
       "      <td>0.824257</td>\n",
       "      <td>0.853647</td>\n",
       "      <td>0.804094</td>\n",
       "      <td>0.626358</td>\n",
       "      <td>0.614149</td>\n",
       "      <td>0.632961</td>\n",
       "      <td>0.602884</td>\n",
       "      <td>0.864789</td>\n",
       "      <td>0.836352</td>\n",
       "      <td>0.875073</td>\n",
       "      <td>0.814962</td>\n",
       "    </tr>\n",
       "    <tr>\n",
       "      <th>207</th>\n",
       "      <td>0.242215</td>\n",
       "      <td>0.241477</td>\n",
       "      <td>0.350027</td>\n",
       "      <td>0.304979</td>\n",
       "      <td>0.383964</td>\n",
       "      <td>0.870763</td>\n",
       "      <td>0.779414</td>\n",
       "      <td>0.824130</td>\n",
       "      <td>0.768495</td>\n",
       "      <td>0.615936</td>\n",
       "      <td>0.556629</td>\n",
       "      <td>0.586019</td>\n",
       "      <td>0.550889</td>\n",
       "      <td>0.843056</td>\n",
       "      <td>0.742233</td>\n",
       "      <td>0.810633</td>\n",
       "      <td>0.722145</td>\n",
       "    </tr>\n",
       "    <tr>\n",
       "      <th>205</th>\n",
       "      <td>0.349481</td>\n",
       "      <td>0.038935</td>\n",
       "      <td>0.067057</td>\n",
       "      <td>0.055646</td>\n",
       "      <td>0.068919</td>\n",
       "      <td>0.965724</td>\n",
       "      <td>0.931182</td>\n",
       "      <td>0.950119</td>\n",
       "      <td>0.931148</td>\n",
       "      <td>0.674174</td>\n",
       "      <td>0.643556</td>\n",
       "      <td>0.663084</td>\n",
       "      <td>0.644275</td>\n",
       "      <td>0.962236</td>\n",
       "      <td>0.922493</td>\n",
       "      <td>0.942672</td>\n",
       "      <td>0.920257</td>\n",
       "    </tr>\n",
       "  </tbody>\n",
       "</table>\n",
       "</div>"
      ],
      "text/plain": [
       "           0         1         2         3         4         5         6   \\\n",
       "142  0.214533  0.062415  0.100503  0.092159  0.105267  0.963901  0.934540   \n",
       "241  0.536332  0.368220  0.457980  0.432136  0.478826  0.813632  0.761610   \n",
       "296  0.653979  0.422930  0.466856  0.414831  0.530617  0.846688  0.824257   \n",
       "207  0.242215  0.241477  0.350027  0.304979  0.383964  0.870763  0.779414   \n",
       "205  0.349481  0.038935  0.067057  0.055646  0.068919  0.965724  0.931182   \n",
       "\n",
       "           7         8         9         10        11        12        13  \\\n",
       "142  0.946695  0.933097  0.684478  0.662875  0.674926  0.662477  0.972600   \n",
       "241  0.799697  0.758008  0.583078  0.552750  0.576449  0.550614  0.815011   \n",
       "296  0.853647  0.804094  0.626358  0.614149  0.632961  0.602884  0.864789   \n",
       "207  0.824130  0.768495  0.615936  0.556629  0.586019  0.550889  0.843056   \n",
       "205  0.950119  0.931148  0.674174  0.643556  0.663084  0.644275  0.962236   \n",
       "\n",
       "           14        15        16  \n",
       "142  0.947846  0.954633  0.944039  \n",
       "241  0.742088  0.793813  0.735923  \n",
       "296  0.836352  0.875073  0.814962  \n",
       "207  0.742233  0.810633  0.722145  \n",
       "205  0.922493  0.942672  0.920257  "
      ]
     },
     "execution_count": 13,
     "metadata": {},
     "output_type": "execute_result"
    }
   ],
   "source": [
    "X_train.head()"
   ]
  },
  {
   "cell_type": "markdown",
   "metadata": {},
   "source": [
    "# Model training"
   ]
  },
  {
   "cell_type": "markdown",
   "metadata": {},
   "source": [
    "## KNN"
   ]
  },
  {
   "cell_type": "code",
   "execution_count": 14,
   "metadata": {},
   "outputs": [
    {
     "data": {
      "image/png": "[encoded data removed]",
      "text/plain": [
       "<Figure size 432x288 with 2 Axes>"
      ]
     },
     "metadata": {
      "needs_background": "light"
     },
     "output_type": "display_data"
    }
   ],
   "source": [
    "# Remember that we are trying to come up\n",
    "# with a model to predict whether\n",
    "# someone will TARGET CLASS or not.\n",
    "# We'll start with k = 1.\n",
    "\n",
    "from sklearn.neighbors import KNeighborsClassifier\n",
    "  \n",
    "knn = KNeighborsClassifier(n_neighbors = 1)\n",
    "  \n",
    "knn.fit(X_train, y_train)\n",
    "pred = knn.predict(X_test)\n",
    "\n",
    "plot_confusion_matrix(knn, X_test, y_test)\n",
    "plt.xticks(rotation = 90)\n",
    "plt.show()\n",
    "\n",
    "# Predictions and Evaluations\n",
    "# Let's evaluate our KNN model ! \n"
   ]
  },
  {
   "cell_type": "code",
   "execution_count": 15,
   "metadata": {},
   "outputs": [
    {
     "name": "stdout",
     "output_type": "stream",
     "text": [
      "                      precision    recall  f1-score   support\n",
      "\n",
      "   Fresh Papaya Leaf       0.91      0.77      0.83        13\n",
      "    Fruit Black Spot       1.00      0.57      0.73         7\n",
      "Fruit Powdery Mildew       0.70      0.70      0.70        10\n",
      "      Fruit Ringspot       0.46      0.67      0.55         9\n",
      "   Papaya Black Spot       0.86      0.80      0.83        15\n",
      "    Papaya Leaf Curl       0.67      0.89      0.76         9\n",
      "     Papaya Ringspot       0.95      0.83      0.88        23\n",
      "      Powdery Mildew       0.89      1.00      0.94        16\n",
      "\n",
      "            accuracy                           0.80       102\n",
      "           macro avg       0.80      0.78      0.78       102\n",
      "        weighted avg       0.83      0.80      0.81       102\n",
      "\n"
     ]
    }
   ],
   "source": [
    "from sklearn.metrics import classification_report  \n",
    "print(classification_report(y_test, pred))\n"
   ]
  },
  {
   "cell_type": "code",
   "execution_count": 16,
   "metadata": {},
   "outputs": [],
   "source": [
    "from sklearn import metrics\n",
    "error_rate = []\n",
    "scores = []\n",
    "\n",
    "k=50\n",
    "max_accuracy=0\n",
    "best_k=1\n",
    "\n",
    "for i in range(1, k):\n",
    "      \n",
    "    knn = KNeighborsClassifier(n_neighbors = i)\n",
    "    knn.fit(X_train, y_train)\n",
    "    pred_i = knn.predict(X_test)\n",
    "    error_rate.append(np.mean(pred_i != y_test))\n",
    "    y_predict = knn.predict(X_test)\n",
    "    curr_accuracy=metrics.accuracy_score(y_test,y_predict)\n",
    "    if curr_accuracy>max_accuracy:\n",
    "        max_accuracy=curr_accuracy\n",
    "        best_k=i\n",
    "    scores.append(curr_accuracy)\n",
    "  \n"
   ]
  },
  {
   "cell_type": "code",
   "execution_count": 17,
   "metadata": {},
   "outputs": [
    {
     "data": {
      "text/plain": [
       "Text(0, 0.5, 'Error Rate')"
      ]
     },
     "execution_count": 17,
     "metadata": {},
     "output_type": "execute_result"
    },
    {
     "data": {
      "image/png": "[encoded data removed]",
      "text/plain": [
       "<Figure size 720x432 with 1 Axes>"
      ]
     },
     "metadata": {
      "needs_background": "light"
     },
     "output_type": "display_data"
    }
   ],
   "source": [
    "plt.figure(figsize =(10, 6))\n",
    "plt.plot(range(1, k), error_rate, color ='blue',\n",
    "                linestyle ='dashed', marker ='o',\n",
    "         markerfacecolor ='red', markersize = 10)\n",
    "  \n",
    "plt.title('Error Rate vs. K Value')\n",
    "plt.xlabel('K')\n",
    "plt.ylabel('Error Rate')"
   ]
  },
  {
   "cell_type": "code",
   "execution_count": 18,
   "metadata": {},
   "outputs": [
    {
     "data": {
      "text/plain": [
       "Text(0, 0.5, 'Accuracy')"
      ]
     },
     "execution_count": 18,
     "metadata": {},
     "output_type": "execute_result"
    },
    {
     "data": {
      "image/png": "[encoded data removed]",
      "text/plain": [
       "<Figure size 432x288 with 1 Axes>"
      ]
     },
     "metadata": {
      "needs_background": "light"
     },
     "output_type": "display_data"
    }
   ],
   "source": [
    "plt.plot(np.arange(1,k),scores)\n",
    "plt.title('Varition of accuracy with K value')\n",
    "plt.xlabel('K values')\n",
    "plt.ylabel('Accuracy')"
   ]
  },
  {
   "cell_type": "code",
   "execution_count": 19,
   "metadata": {},
   "outputs": [
    {
     "name": "stdout",
     "output_type": "stream",
     "text": [
      "                      precision    recall  f1-score   support\n",
      "\n",
      "   Fresh Papaya Leaf       0.83      0.77      0.80        13\n",
      "    Fruit Black Spot       0.83      0.71      0.77         7\n",
      "Fruit Powdery Mildew       0.73      0.80      0.76        10\n",
      "      Fruit Ringspot       0.55      0.67      0.60         9\n",
      "   Papaya Black Spot       0.87      0.87      0.87        15\n",
      "    Papaya Leaf Curl       0.67      0.89      0.76         9\n",
      "     Papaya Ringspot       1.00      0.78      0.88        23\n",
      "      Powdery Mildew       0.94      1.00      0.97        16\n",
      "\n",
      "            accuracy                           0.82       102\n",
      "           macro avg       0.80      0.81      0.80       102\n",
      "        weighted avg       0.84      0.82      0.83       102\n",
      "\n",
      "Accuracy for k = 4 is 82.35294117647058%\n"
     ]
    }
   ],
   "source": [
    "knn = KNeighborsClassifier(n_neighbors = best_k)\n",
    "  \n",
    "knn.fit(X_train, y_train)\n",
    "pred = knn.predict(X_test)\n",
    "from sklearn.metrics import classification_report  \n",
    "print(classification_report(y_test, pred))\n",
    "\n",
    "print(\"Accuracy for k = {} is {}%\".format(best_k,max_accuracy*100))"
   ]
  },
  {
   "cell_type": "markdown",
   "metadata": {},
   "source": [
    "## SVM"
   ]
  },
  {
   "cell_type": "code",
   "execution_count": 20,
   "metadata": {},
   "outputs": [
    {
     "name": "stdout",
     "output_type": "stream",
     "text": [
      "best hyperlink parameters\n",
      "{'C': 10, 'kernel': 'poly'}\n",
      "Accuracy Score:\n",
      "                      precision    recall  f1-score   support\n",
      "\n",
      "   Fresh Papaya Leaf       0.80      0.62      0.70        13\n",
      "    Fruit Black Spot       0.70      1.00      0.82         7\n",
      "Fruit Powdery Mildew       1.00      0.80      0.89        10\n",
      "      Fruit Ringspot       0.78      0.78      0.78         9\n",
      "   Papaya Black Spot       0.82      0.93      0.87        15\n",
      "    Papaya Leaf Curl       0.90      1.00      0.95         9\n",
      "     Papaya Ringspot       1.00      0.96      0.98        23\n",
      "      Powdery Mildew       1.00      1.00      1.00        16\n",
      "\n",
      "            accuracy                           0.89       102\n",
      "           macro avg       0.88      0.89      0.87       102\n",
      "        weighted avg       0.90      0.89      0.89       102\n",
      "\n"
     ]
    }
   ],
   "source": [
    "from sklearn.svm import SVC\n",
    "svm_model= SVC()\n",
    "tuned_parameters = {\n",
    " 'C': (np.arange(1,30)) , 'kernel': ['linear'],\n",
    " 'C': (np.arange(1,30)) ,  'kernel': ['rbf'],\n",
    " 'C':(np.arange(1,30)) , 'kernel':['poly']\n",
    "                   }\n",
    "from sklearn.model_selection import GridSearchCV\n",
    "\n",
    "model_svm = GridSearchCV(svm_model, tuned_parameters,cv=10,scoring='accuracy')\n",
    "\n",
    "model_svm.fit(X_train,y_train)\n",
    "print('best hyperlink parameters')\n",
    "print(model_svm.best_params_)\n",
    "y_pred= model_svm.predict(X_test)\n",
    "print('Accuracy Score:')\n",
    "\n",
    "print(classification_report(y_test, y_pred))"
   ]
  },
  {
   "cell_type": "code",
   "execution_count": 21,
   "metadata": {},
   "outputs": [
    {
     "name": "stdout",
     "output_type": "stream",
     "text": [
      "Model accuracy score: 89.2157%\n"
     ]
    }
   ],
   "source": [
    "print('Model accuracy score: {0:0.4f}%'. format(accuracy_score(y_pred,y_test)*100))"
   ]
  },
  {
   "cell_type": "markdown",
   "metadata": {},
   "source": [
    "## Naive Bayes"
   ]
  },
  {
   "cell_type": "code",
   "execution_count": 22,
   "metadata": {},
   "outputs": [
    {
     "name": "stdout",
     "output_type": "stream",
     "text": [
      "                      precision    recall  f1-score   support\n",
      "\n",
      "   Fresh Papaya Leaf       0.89      0.62      0.73        13\n",
      "    Fruit Black Spot       0.78      1.00      0.88         7\n",
      "Fruit Powdery Mildew       0.62      0.50      0.56        10\n",
      "      Fruit Ringspot       0.39      0.78      0.52         9\n",
      "   Papaya Black Spot       0.92      0.73      0.81        15\n",
      "    Papaya Leaf Curl       0.71      0.56      0.63         9\n",
      "     Papaya Ringspot       0.85      0.74      0.79        23\n",
      "      Powdery Mildew       0.84      1.00      0.91        16\n",
      "\n",
      "            accuracy                           0.75       102\n",
      "           macro avg       0.75      0.74      0.73       102\n",
      "        weighted avg       0.78      0.75      0.75       102\n",
      "\n"
     ]
    }
   ],
   "source": [
    "from sklearn.naive_bayes import GaussianNB,CategoricalNB\n",
    "\n",
    "# instantiate the model\n",
    "gnb = GaussianNB()\n",
    "\n",
    "# fit the model\n",
    "gnb.fit(X_train, y_train)\n",
    "y_pred = gnb.predict(X_test)\n",
    "print(classification_report(y_test, y_pred))\n",
    "\n"
   ]
  },
  {
   "cell_type": "code",
   "execution_count": 23,
   "metadata": {},
   "outputs": [
    {
     "name": "stdout",
     "output_type": "stream",
     "text": [
      "Model accuracy score: 74.5098%\n"
     ]
    }
   ],
   "source": [
    "print('Model accuracy score: {0:0.4f}%'. format(accuracy_score(y_test, y_pred)*100))"
   ]
  },
  {
   "cell_type": "markdown",
   "metadata": {},
   "source": [
    "## Logistic regression"
   ]
  },
  {
   "cell_type": "code",
   "execution_count": 24,
   "metadata": {},
   "outputs": [
    {
     "name": "stdout",
     "output_type": "stream",
     "text": [
      "                      precision    recall  f1-score   support\n",
      "\n",
      "   Fresh Papaya Leaf       0.89      0.62      0.73        13\n",
      "    Fruit Black Spot       0.78      1.00      0.88         7\n",
      "Fruit Powdery Mildew       0.62      0.50      0.56        10\n",
      "      Fruit Ringspot       0.39      0.78      0.52         9\n",
      "   Papaya Black Spot       0.92      0.73      0.81        15\n",
      "    Papaya Leaf Curl       0.71      0.56      0.63         9\n",
      "     Papaya Ringspot       0.85      0.74      0.79        23\n",
      "      Powdery Mildew       0.84      1.00      0.91        16\n",
      "\n",
      "            accuracy                           0.75       102\n",
      "           macro avg       0.75      0.74      0.73       102\n",
      "        weighted avg       0.78      0.75      0.75       102\n",
      "\n"
     ]
    }
   ],
   "source": [
    "from sklearn.linear_model import LogisticRegression\n",
    "\n",
    "lr = LogisticRegression(solver='lbfgs', max_iter=1000)\n",
    "\n",
    "# fit the model\n",
    "lr.fit(X_train, y_train)\n",
    "y_pred = gnb.predict(X_test)\n",
    "\n",
    "print(classification_report(y_test, y_pred))\n"
   ]
  },
  {
   "cell_type": "code",
   "execution_count": 25,
   "metadata": {},
   "outputs": [
    {
     "name": "stdout",
     "output_type": "stream",
     "text": [
      "Model accuracy score: 74.5098%\n"
     ]
    }
   ],
   "source": [
    "print('Model accuracy score: {0:0.4f}%'. format(accuracy_score(y_test, y_pred)*100))"
   ]
  },
  {
   "cell_type": "markdown",
   "metadata": {},
   "source": [
    "# K-Fold Cross Validation"
   ]
  },
  {
   "cell_type": "code",
   "execution_count": 26,
   "metadata": {},
   "outputs": [
    {
     "name": "stdout",
     "output_type": "stream",
     "text": [
      "Fold:1, Train set: 304, Test set:102\n",
      "Fold:2, Train set: 304, Test set:102\n",
      "Fold:3, Train set: 305, Test set:101\n",
      "Fold:4, Train set: 305, Test set:101\n"
     ]
    }
   ],
   "source": [
    "from sklearn.model_selection import KFold, StratifiedKFold\n",
    "\n",
    "kf = StratifiedKFold(n_splits=4, shuffle=True, random_state=42)\n",
    "\n",
    "cnt = 1\n",
    "# split()  method generate indices to split data into training and test set.\n",
    "for train_index, test_index in kf.split(X, y):\n",
    "    print(f'Fold:{cnt}, Train set: {len(train_index)}, Test set:{len(test_index)}')\n",
    "    cnt += 1\n"
   ]
  },
  {
   "cell_type": "code",
   "execution_count": 27,
   "metadata": {},
   "outputs": [
    {
     "name": "stdout",
     "output_type": "stream",
     "text": [
      "Scores for each fold are:\n",
      "[0.62745098 0.7254902  0.72277228 0.57425743]\n",
      "Model accuracy score for Logistic Regression: 66.2493%\n"
     ]
    }
   ],
   "source": [
    "score = cross_val_score(lr, X, y, cv= kf, scoring=\"accuracy\")\n",
    "print('Scores for each fold are:')\n",
    "print(score)\n",
    "print('Model accuracy score for Logistic Regression: {0:0.4f}%'.format(score.mean()*100))"
   ]
  },
  {
   "cell_type": "code",
   "execution_count": 28,
   "metadata": {},
   "outputs": [
    {
     "name": "stdout",
     "output_type": "stream",
     "text": [
      "Scores for each fold are:\n",
      "[0.68627451 0.82352941 0.75247525 0.66336634]\n",
      "Model accuracy score for Gaussian Naive Bayes: 73.1411%\n"
     ]
    }
   ],
   "source": [
    "score = cross_val_score(gnb, X, y, cv= kf, scoring=\"accuracy\")\n",
    "print('Scores for each fold are:')\n",
    "print(score)\n",
    "print('Model accuracy score for Gaussian Naive Bayes: {0:0.4f}%'.format(score.mean()*100))"
   ]
  }
 ],
 "metadata": {
  "kernelspec": {
   "display_name": "Python 3",
   "language": "python",
   "name": "python3"
  },
  "language_info": {
   "codemirror_mode": {
    "name": "ipython",
    "version": 3
   },
   "file_extension": ".py",
   "mimetype": "text/x-python",
   "name": "python",
   "nbconvert_exporter": "python",
   "pygments_lexer": "ipython3",
   "version": "3.7.3"
  }
 },
 "nbformat": 4,
 "nbformat_minor": 4
}
