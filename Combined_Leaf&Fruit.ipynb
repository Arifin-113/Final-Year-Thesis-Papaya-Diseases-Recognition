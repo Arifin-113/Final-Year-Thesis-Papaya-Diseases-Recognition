{
 "cells": [
  {
   "cell_type": "code",
   "execution_count": 1,
   "id": "romantic-meter",
   "metadata": {},
   "outputs": [],
   "source": [
    "import os\n",
    "import glob\n",
    "import pandas as pd\n",
    "\n",
    "df=pd.read_csv(r\"C:\\Users\\Arifin\\Downloads\\papaya\\Combined_Leaf.csv\") \n",
    "df=df.drop('Unnamed: 0',axis=1)\n",
    "df.columns\n",
    "\n",
    "df1=pd.read_csv(r\"C:\\Users\\Arifin\\Downloads\\papaya\\Combined_Fruit.csv\")\n",
    "df1=df1.drop('Unnamed: 0',axis=1)\n",
    "df1\n",
    "\n",
    "\n",
    "combined=pd.concat([df,df1],axis=0)\n",
    "combined.to_csv(\"Combined_Leaf&Fruit.csv\")"
   ]
  }
 ],
 "metadata": {
  "kernelspec": {
   "display_name": "Python 3",
   "language": "python",
   "name": "python3"
  },
  "language_info": {
   "codemirror_mode": {
    "name": "ipython",
    "version": 3
   },
   "file_extension": ".py",
   "mimetype": "text/x-python",
   "name": "python",
   "nbconvert_exporter": "python",
   "pygments_lexer": "ipython3",
   "version": "3.7.3"
  }
 },
 "nbformat": 4,
 "nbformat_minor": 5
}
