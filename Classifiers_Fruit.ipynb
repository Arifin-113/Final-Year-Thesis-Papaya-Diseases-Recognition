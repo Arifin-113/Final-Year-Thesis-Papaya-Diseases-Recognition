{
 "cells": [
  {
   "cell_type": "code",
   "execution_count": 57,
   "metadata": {},
   "outputs": [],
   "source": [
    "import numpy as np\n",
    "import pandas as pd\n",
    "import matplotlib.pyplot as plt\n",
    "import seaborn as sns\n",
    "from sklearn.metrics import accuracy_score\n",
    "from sklearn.metrics import plot_confusion_matrix\n",
    "from sklearn.model_selection import cross_val_score\n",
    "from sklearn.utils import shuffle"
   ]
  },
  {
   "cell_type": "code",
   "execution_count": 58,
   "metadata": {},
   "outputs": [
    {
     "data": {
      "text/html": [
       "<div>\n",
       "<style scoped>\n",
       "    .dataframe tbody tr th:only-of-type {\n",
       "        vertical-align: middle;\n",
       "    }\n",
       "\n",
       "    .dataframe tbody tr th {\n",
       "        vertical-align: top;\n",
       "    }\n",
       "\n",
       "    .dataframe thead th {\n",
       "        text-align: right;\n",
       "    }\n",
       "</style>\n",
       "<table border=\"1\" class=\"dataframe\">\n",
       "  <thead>\n",
       "    <tr style=\"text-align: right;\">\n",
       "      <th></th>\n",
       "      <th>Unnamed: 0</th>\n",
       "      <th>0</th>\n",
       "      <th>1</th>\n",
       "      <th>2</th>\n",
       "      <th>3</th>\n",
       "      <th>4</th>\n",
       "      <th>5</th>\n",
       "      <th>6</th>\n",
       "      <th>7</th>\n",
       "      <th>8</th>\n",
       "      <th>9</th>\n",
       "      <th>10</th>\n",
       "      <th>11</th>\n",
       "      <th>12</th>\n",
       "      <th>13</th>\n",
       "      <th>14</th>\n",
       "      <th>15</th>\n",
       "      <th>16</th>\n",
       "    </tr>\n",
       "  </thead>\n",
       "  <tbody>\n",
       "    <tr>\n",
       "      <th>58</th>\n",
       "      <td>34</td>\n",
       "      <td>1.008609</td>\n",
       "      <td>1.477555</td>\n",
       "      <td>0.705239</td>\n",
       "      <td>1.357447</td>\n",
       "      <td>0.928117</td>\n",
       "      <td>0.894417</td>\n",
       "      <td>0.946804</td>\n",
       "      <td>0.901387</td>\n",
       "      <td>0.543826</td>\n",
       "      <td>0.523930</td>\n",
       "      <td>0.555255</td>\n",
       "      <td>0.527881</td>\n",
       "      <td>0.931952</td>\n",
       "      <td>0.900365</td>\n",
       "      <td>0.952407</td>\n",
       "      <td>0.908466</td>\n",
       "      <td>Fruit Ringspot</td>\n",
       "    </tr>\n",
       "    <tr>\n",
       "      <th>97</th>\n",
       "      <td>23</td>\n",
       "      <td>0.492356</td>\n",
       "      <td>0.911757</td>\n",
       "      <td>0.611091</td>\n",
       "      <td>0.999308</td>\n",
       "      <td>0.975367</td>\n",
       "      <td>0.953346</td>\n",
       "      <td>0.969221</td>\n",
       "      <td>0.951708</td>\n",
       "      <td>0.636879</td>\n",
       "      <td>0.622106</td>\n",
       "      <td>0.632887</td>\n",
       "      <td>0.621242</td>\n",
       "      <td>0.974666</td>\n",
       "      <td>0.952765</td>\n",
       "      <td>0.968470</td>\n",
       "      <td>0.948338</td>\n",
       "      <td>Fruit Powdery Mildew</td>\n",
       "    </tr>\n",
       "    <tr>\n",
       "      <th>46</th>\n",
       "      <td>22</td>\n",
       "      <td>1.283333</td>\n",
       "      <td>2.070096</td>\n",
       "      <td>1.349510</td>\n",
       "      <td>2.097901</td>\n",
       "      <td>0.929365</td>\n",
       "      <td>0.884087</td>\n",
       "      <td>0.920702</td>\n",
       "      <td>0.883349</td>\n",
       "      <td>0.575304</td>\n",
       "      <td>0.547669</td>\n",
       "      <td>0.569040</td>\n",
       "      <td>0.547437</td>\n",
       "      <td>0.916740</td>\n",
       "      <td>0.865764</td>\n",
       "      <td>0.912651</td>\n",
       "      <td>0.863975</td>\n",
       "      <td>Fruit Ringspot</td>\n",
       "    </tr>\n",
       "    <tr>\n",
       "      <th>94</th>\n",
       "      <td>20</td>\n",
       "      <td>0.521140</td>\n",
       "      <td>1.137855</td>\n",
       "      <td>0.796048</td>\n",
       "      <td>1.075156</td>\n",
       "      <td>0.950783</td>\n",
       "      <td>0.891992</td>\n",
       "      <td>0.922246</td>\n",
       "      <td>0.896767</td>\n",
       "      <td>0.572147</td>\n",
       "      <td>0.535217</td>\n",
       "      <td>0.553911</td>\n",
       "      <td>0.538107</td>\n",
       "      <td>0.944412</td>\n",
       "      <td>0.878578</td>\n",
       "      <td>0.914976</td>\n",
       "      <td>0.885267</td>\n",
       "      <td>Fruit Powdery Mildew</td>\n",
       "    </tr>\n",
       "    <tr>\n",
       "      <th>31</th>\n",
       "      <td>7</td>\n",
       "      <td>0.853937</td>\n",
       "      <td>1.475094</td>\n",
       "      <td>1.181832</td>\n",
       "      <td>1.668620</td>\n",
       "      <td>0.950377</td>\n",
       "      <td>0.913264</td>\n",
       "      <td>0.929025</td>\n",
       "      <td>0.904248</td>\n",
       "      <td>0.596930</td>\n",
       "      <td>0.574103</td>\n",
       "      <td>0.583562</td>\n",
       "      <td>0.568774</td>\n",
       "      <td>0.943395</td>\n",
       "      <td>0.902138</td>\n",
       "      <td>0.921696</td>\n",
       "      <td>0.889257</td>\n",
       "      <td>Fruit Ringspot</td>\n",
       "    </tr>\n",
       "  </tbody>\n",
       "</table>\n",
       "</div>"
      ],
      "text/plain": [
       "    Unnamed: 0         0         1         2         3         4         5  \\\n",
       "58          34  1.008609  1.477555  0.705239  1.357447  0.928117  0.894417   \n",
       "97          23  0.492356  0.911757  0.611091  0.999308  0.975367  0.953346   \n",
       "46          22  1.283333  2.070096  1.349510  2.097901  0.929365  0.884087   \n",
       "94          20  0.521140  1.137855  0.796048  1.075156  0.950783  0.891992   \n",
       "31           7  0.853937  1.475094  1.181832  1.668620  0.950377  0.913264   \n",
       "\n",
       "           6         7         8         9        10        11        12  \\\n",
       "58  0.946804  0.901387  0.543826  0.523930  0.555255  0.527881  0.931952   \n",
       "97  0.969221  0.951708  0.636879  0.622106  0.632887  0.621242  0.974666   \n",
       "46  0.920702  0.883349  0.575304  0.547669  0.569040  0.547437  0.916740   \n",
       "94  0.922246  0.896767  0.572147  0.535217  0.553911  0.538107  0.944412   \n",
       "31  0.929025  0.904248  0.596930  0.574103  0.583562  0.568774  0.943395   \n",
       "\n",
       "          13        14        15                    16  \n",
       "58  0.900365  0.952407  0.908466        Fruit Ringspot  \n",
       "97  0.952765  0.968470  0.948338  Fruit Powdery Mildew  \n",
       "46  0.865764  0.912651  0.863975        Fruit Ringspot  \n",
       "94  0.878578  0.914976  0.885267  Fruit Powdery Mildew  \n",
       "31  0.902138  0.921696  0.889257        Fruit Ringspot  "
      ]
     },
     "execution_count": 58,
     "metadata": {},
     "output_type": "execute_result"
    }
   ],
   "source": [
    "path = r\"C:\\Users\\Arifin\\Downloads\\papaya\\Combined_Fruit.csv\"\n",
    "df = pd.read_csv(path)\n",
    "df = shuffle(df)\n",
    "df.head()"
   ]
  },
  {
   "cell_type": "code",
   "execution_count": 59,
   "metadata": {},
   "outputs": [
    {
     "data": {
      "text/plain": [
       "(116, 18)"
      ]
     },
     "execution_count": 59,
     "metadata": {},
     "output_type": "execute_result"
    }
   ],
   "source": [
    "df.shape"
   ]
  },
  {
   "cell_type": "code",
   "execution_count": 60,
   "metadata": {},
   "outputs": [
    {
     "data": {
      "text/html": [
       "<div>\n",
       "<style scoped>\n",
       "    .dataframe tbody tr th:only-of-type {\n",
       "        vertical-align: middle;\n",
       "    }\n",
       "\n",
       "    .dataframe tbody tr th {\n",
       "        vertical-align: top;\n",
       "    }\n",
       "\n",
       "    .dataframe thead th {\n",
       "        text-align: right;\n",
       "    }\n",
       "</style>\n",
       "<table border=\"1\" class=\"dataframe\">\n",
       "  <thead>\n",
       "    <tr style=\"text-align: right;\">\n",
       "      <th></th>\n",
       "      <th>Unnamed: 0</th>\n",
       "      <th>0</th>\n",
       "      <th>1</th>\n",
       "      <th>2</th>\n",
       "      <th>3</th>\n",
       "      <th>4</th>\n",
       "      <th>5</th>\n",
       "      <th>6</th>\n",
       "      <th>7</th>\n",
       "      <th>8</th>\n",
       "      <th>9</th>\n",
       "      <th>10</th>\n",
       "      <th>11</th>\n",
       "      <th>12</th>\n",
       "      <th>13</th>\n",
       "      <th>14</th>\n",
       "      <th>15</th>\n",
       "    </tr>\n",
       "  </thead>\n",
       "  <tbody>\n",
       "    <tr>\n",
       "      <th>count</th>\n",
       "      <td>116.000000</td>\n",
       "      <td>116.000000</td>\n",
       "      <td>116.000000</td>\n",
       "      <td>116.000000</td>\n",
       "      <td>116.000000</td>\n",
       "      <td>116.000000</td>\n",
       "      <td>116.000000</td>\n",
       "      <td>116.000000</td>\n",
       "      <td>116.000000</td>\n",
       "      <td>116.000000</td>\n",
       "      <td>116.000000</td>\n",
       "      <td>116.000000</td>\n",
       "      <td>116.000000</td>\n",
       "      <td>116.000000</td>\n",
       "      <td>116.000000</td>\n",
       "      <td>116.000000</td>\n",
       "      <td>116.000000</td>\n",
       "    </tr>\n",
       "    <tr>\n",
       "      <th>mean</th>\n",
       "      <td>20.362069</td>\n",
       "      <td>1.156794</td>\n",
       "      <td>1.984086</td>\n",
       "      <td>1.309828</td>\n",
       "      <td>1.963244</td>\n",
       "      <td>0.931467</td>\n",
       "      <td>0.886156</td>\n",
       "      <td>0.925181</td>\n",
       "      <td>0.886954</td>\n",
       "      <td>0.569107</td>\n",
       "      <td>0.542798</td>\n",
       "      <td>0.561635</td>\n",
       "      <td>0.543225</td>\n",
       "      <td>0.935482</td>\n",
       "      <td>0.889134</td>\n",
       "      <td>0.927109</td>\n",
       "      <td>0.890269</td>\n",
       "    </tr>\n",
       "    <tr>\n",
       "      <th>std</th>\n",
       "      <td>13.343226</td>\n",
       "      <td>0.503599</td>\n",
       "      <td>0.823581</td>\n",
       "      <td>0.576763</td>\n",
       "      <td>0.809148</td>\n",
       "      <td>0.036869</td>\n",
       "      <td>0.045190</td>\n",
       "      <td>0.028319</td>\n",
       "      <td>0.044624</td>\n",
       "      <td>0.036397</td>\n",
       "      <td>0.041034</td>\n",
       "      <td>0.038389</td>\n",
       "      <td>0.040735</td>\n",
       "      <td>0.028099</td>\n",
       "      <td>0.044961</td>\n",
       "      <td>0.030491</td>\n",
       "      <td>0.042878</td>\n",
       "    </tr>\n",
       "    <tr>\n",
       "      <th>min</th>\n",
       "      <td>0.000000</td>\n",
       "      <td>0.301287</td>\n",
       "      <td>0.587528</td>\n",
       "      <td>0.317678</td>\n",
       "      <td>0.571903</td>\n",
       "      <td>0.748580</td>\n",
       "      <td>0.696374</td>\n",
       "      <td>0.798483</td>\n",
       "      <td>0.698613</td>\n",
       "      <td>0.481966</td>\n",
       "      <td>0.442448</td>\n",
       "      <td>0.461306</td>\n",
       "      <td>0.443811</td>\n",
       "      <td>0.777233</td>\n",
       "      <td>0.633728</td>\n",
       "      <td>0.776541</td>\n",
       "      <td>0.660919</td>\n",
       "    </tr>\n",
       "    <tr>\n",
       "      <th>25%</th>\n",
       "      <td>9.000000</td>\n",
       "      <td>0.786382</td>\n",
       "      <td>1.474410</td>\n",
       "      <td>0.975352</td>\n",
       "      <td>1.401346</td>\n",
       "      <td>0.926503</td>\n",
       "      <td>0.869687</td>\n",
       "      <td>0.914002</td>\n",
       "      <td>0.872152</td>\n",
       "      <td>0.543691</td>\n",
       "      <td>0.513890</td>\n",
       "      <td>0.536093</td>\n",
       "      <td>0.517312</td>\n",
       "      <td>0.921990</td>\n",
       "      <td>0.873229</td>\n",
       "      <td>0.915656</td>\n",
       "      <td>0.875422</td>\n",
       "    </tr>\n",
       "    <tr>\n",
       "      <th>50%</th>\n",
       "      <td>19.000000</td>\n",
       "      <td>1.138771</td>\n",
       "      <td>1.883091</td>\n",
       "      <td>1.264001</td>\n",
       "      <td>1.894164</td>\n",
       "      <td>0.935718</td>\n",
       "      <td>0.894647</td>\n",
       "      <td>0.929273</td>\n",
       "      <td>0.894740</td>\n",
       "      <td>0.558646</td>\n",
       "      <td>0.533079</td>\n",
       "      <td>0.554583</td>\n",
       "      <td>0.533846</td>\n",
       "      <td>0.941768</td>\n",
       "      <td>0.897351</td>\n",
       "      <td>0.931353</td>\n",
       "      <td>0.896645</td>\n",
       "    </tr>\n",
       "    <tr>\n",
       "      <th>75%</th>\n",
       "      <td>31.000000</td>\n",
       "      <td>1.359436</td>\n",
       "      <td>2.388162</td>\n",
       "      <td>1.557709</td>\n",
       "      <td>2.397755</td>\n",
       "      <td>0.950885</td>\n",
       "      <td>0.911256</td>\n",
       "      <td>0.940272</td>\n",
       "      <td>0.909729</td>\n",
       "      <td>0.589440</td>\n",
       "      <td>0.569157</td>\n",
       "      <td>0.583222</td>\n",
       "      <td>0.568922</td>\n",
       "      <td>0.951642</td>\n",
       "      <td>0.912672</td>\n",
       "      <td>0.945827</td>\n",
       "      <td>0.910859</td>\n",
       "    </tr>\n",
       "    <tr>\n",
       "      <th>max</th>\n",
       "      <td>49.000000</td>\n",
       "      <td>3.298790</td>\n",
       "      <td>5.320892</td>\n",
       "      <td>3.316667</td>\n",
       "      <td>5.165921</td>\n",
       "      <td>0.975367</td>\n",
       "      <td>0.953346</td>\n",
       "      <td>0.974582</td>\n",
       "      <td>0.951708</td>\n",
       "      <td>0.671670</td>\n",
       "      <td>0.657226</td>\n",
       "      <td>0.675576</td>\n",
       "      <td>0.657229</td>\n",
       "      <td>0.985450</td>\n",
       "      <td>0.978419</td>\n",
       "      <td>0.989709</td>\n",
       "      <td>0.979152</td>\n",
       "    </tr>\n",
       "  </tbody>\n",
       "</table>\n",
       "</div>"
      ],
      "text/plain": [
       "       Unnamed: 0           0           1           2           3           4  \\\n",
       "count  116.000000  116.000000  116.000000  116.000000  116.000000  116.000000   \n",
       "mean    20.362069    1.156794    1.984086    1.309828    1.963244    0.931467   \n",
       "std     13.343226    0.503599    0.823581    0.576763    0.809148    0.036869   \n",
       "min      0.000000    0.301287    0.587528    0.317678    0.571903    0.748580   \n",
       "25%      9.000000    0.786382    1.474410    0.975352    1.401346    0.926503   \n",
       "50%     19.000000    1.138771    1.883091    1.264001    1.894164    0.935718   \n",
       "75%     31.000000    1.359436    2.388162    1.557709    2.397755    0.950885   \n",
       "max     49.000000    3.298790    5.320892    3.316667    5.165921    0.975367   \n",
       "\n",
       "                5           6           7           8           9          10  \\\n",
       "count  116.000000  116.000000  116.000000  116.000000  116.000000  116.000000   \n",
       "mean     0.886156    0.925181    0.886954    0.569107    0.542798    0.561635   \n",
       "std      0.045190    0.028319    0.044624    0.036397    0.041034    0.038389   \n",
       "min      0.696374    0.798483    0.698613    0.481966    0.442448    0.461306   \n",
       "25%      0.869687    0.914002    0.872152    0.543691    0.513890    0.536093   \n",
       "50%      0.894647    0.929273    0.894740    0.558646    0.533079    0.554583   \n",
       "75%      0.911256    0.940272    0.909729    0.589440    0.569157    0.583222   \n",
       "max      0.953346    0.974582    0.951708    0.671670    0.657226    0.675576   \n",
       "\n",
       "               11          12          13          14          15  \n",
       "count  116.000000  116.000000  116.000000  116.000000  116.000000  \n",
       "mean     0.543225    0.935482    0.889134    0.927109    0.890269  \n",
       "std      0.040735    0.028099    0.044961    0.030491    0.042878  \n",
       "min      0.443811    0.777233    0.633728    0.776541    0.660919  \n",
       "25%      0.517312    0.921990    0.873229    0.915656    0.875422  \n",
       "50%      0.533846    0.941768    0.897351    0.931353    0.896645  \n",
       "75%      0.568922    0.951642    0.912672    0.945827    0.910859  \n",
       "max      0.657229    0.985450    0.978419    0.989709    0.979152  "
      ]
     },
     "execution_count": 60,
     "metadata": {},
     "output_type": "execute_result"
    }
   ],
   "source": [
    "df.describe()"
   ]
  },
  {
   "cell_type": "code",
   "execution_count": 61,
   "metadata": {},
   "outputs": [],
   "source": [
    "df = df.rename(columns={'16': 'Class'})\n",
    "X = df.drop('Class',axis=1)\n",
    "y = df['Class']"
   ]
  },
  {
   "cell_type": "code",
   "execution_count": 62,
   "metadata": {},
   "outputs": [
    {
     "name": "stdout",
     "output_type": "stream",
     "text": [
      "<class 'pandas.core.frame.DataFrame'>\n",
      "Int64Index: 116 entries, 58 to 78\n",
      "Data columns (total 18 columns):\n",
      " #   Column      Non-Null Count  Dtype  \n",
      "---  ------      --------------  -----  \n",
      " 0   Unnamed: 0  116 non-null    int64  \n",
      " 1   0           116 non-null    float64\n",
      " 2   1           116 non-null    float64\n",
      " 3   2           116 non-null    float64\n",
      " 4   3           116 non-null    float64\n",
      " 5   4           116 non-null    float64\n",
      " 6   5           116 non-null    float64\n",
      " 7   6           116 non-null    float64\n",
      " 8   7           116 non-null    float64\n",
      " 9   8           116 non-null    float64\n",
      " 10  9           116 non-null    float64\n",
      " 11  10          116 non-null    float64\n",
      " 12  11          116 non-null    float64\n",
      " 13  12          116 non-null    float64\n",
      " 14  13          116 non-null    float64\n",
      " 15  14          116 non-null    float64\n",
      " 16  15          116 non-null    float64\n",
      " 17  Class       116 non-null    object \n",
      "dtypes: float64(16), int64(1), object(1)\n",
      "memory usage: 17.2+ KB\n"
     ]
    }
   ],
   "source": [
    "df.info()"
   ]
  },
  {
   "cell_type": "code",
   "execution_count": 63,
   "metadata": {},
   "outputs": [
    {
     "data": {
      "text/plain": [
       "Text(0.5, 1.0, 'Correlation between different fearures')"
      ]
     },
     "execution_count": 63,
     "metadata": {},
     "output_type": "execute_result"
    },
    {
     "data": {
      "image/png": "[encoded data removed]",
      "text/plain": [
       "<Figure size 720x720 with 2 Axes>"
      ]
     },
     "metadata": {
      "needs_background": "light"
     },
     "output_type": "display_data"
    }
   ],
   "source": [
    "correlation = df.corr()\n",
    "plt.figure(figsize=(10,10))\n",
    "sns.heatmap(correlation, vmax=1, square=True,annot=True,cmap='viridis')\n",
    "\n",
    "plt.title('Correlation between different fearures')"
   ]
  },
  {
   "cell_type": "code",
   "execution_count": 64,
   "metadata": {},
   "outputs": [
    {
     "data": {
      "text/html": [
       "<div>\n",
       "<style scoped>\n",
       "    .dataframe tbody tr th:only-of-type {\n",
       "        vertical-align: middle;\n",
       "    }\n",
       "\n",
       "    .dataframe tbody tr th {\n",
       "        vertical-align: top;\n",
       "    }\n",
       "\n",
       "    .dataframe thead th {\n",
       "        text-align: right;\n",
       "    }\n",
       "</style>\n",
       "<table border=\"1\" class=\"dataframe\">\n",
       "  <thead>\n",
       "    <tr style=\"text-align: right;\">\n",
       "      <th></th>\n",
       "      <th>Unnamed: 0</th>\n",
       "      <th>0</th>\n",
       "      <th>1</th>\n",
       "      <th>2</th>\n",
       "      <th>3</th>\n",
       "      <th>4</th>\n",
       "      <th>5</th>\n",
       "      <th>6</th>\n",
       "      <th>7</th>\n",
       "      <th>8</th>\n",
       "      <th>9</th>\n",
       "      <th>10</th>\n",
       "      <th>11</th>\n",
       "      <th>12</th>\n",
       "      <th>13</th>\n",
       "      <th>14</th>\n",
       "      <th>15</th>\n",
       "    </tr>\n",
       "  </thead>\n",
       "  <tbody>\n",
       "    <tr>\n",
       "      <th>58</th>\n",
       "      <td>34</td>\n",
       "      <td>1.008609</td>\n",
       "      <td>1.477555</td>\n",
       "      <td>0.705239</td>\n",
       "      <td>1.357447</td>\n",
       "      <td>0.928117</td>\n",
       "      <td>0.894417</td>\n",
       "      <td>0.946804</td>\n",
       "      <td>0.901387</td>\n",
       "      <td>0.543826</td>\n",
       "      <td>0.523930</td>\n",
       "      <td>0.555255</td>\n",
       "      <td>0.527881</td>\n",
       "      <td>0.931952</td>\n",
       "      <td>0.900365</td>\n",
       "      <td>0.952407</td>\n",
       "      <td>0.908466</td>\n",
       "    </tr>\n",
       "    <tr>\n",
       "      <th>97</th>\n",
       "      <td>23</td>\n",
       "      <td>0.492356</td>\n",
       "      <td>0.911757</td>\n",
       "      <td>0.611091</td>\n",
       "      <td>0.999308</td>\n",
       "      <td>0.975367</td>\n",
       "      <td>0.953346</td>\n",
       "      <td>0.969221</td>\n",
       "      <td>0.951708</td>\n",
       "      <td>0.636879</td>\n",
       "      <td>0.622106</td>\n",
       "      <td>0.632887</td>\n",
       "      <td>0.621242</td>\n",
       "      <td>0.974666</td>\n",
       "      <td>0.952765</td>\n",
       "      <td>0.968470</td>\n",
       "      <td>0.948338</td>\n",
       "    </tr>\n",
       "    <tr>\n",
       "      <th>46</th>\n",
       "      <td>22</td>\n",
       "      <td>1.283333</td>\n",
       "      <td>2.070096</td>\n",
       "      <td>1.349510</td>\n",
       "      <td>2.097901</td>\n",
       "      <td>0.929365</td>\n",
       "      <td>0.884087</td>\n",
       "      <td>0.920702</td>\n",
       "      <td>0.883349</td>\n",
       "      <td>0.575304</td>\n",
       "      <td>0.547669</td>\n",
       "      <td>0.569040</td>\n",
       "      <td>0.547437</td>\n",
       "      <td>0.916740</td>\n",
       "      <td>0.865764</td>\n",
       "      <td>0.912651</td>\n",
       "      <td>0.863975</td>\n",
       "    </tr>\n",
       "    <tr>\n",
       "      <th>94</th>\n",
       "      <td>20</td>\n",
       "      <td>0.521140</td>\n",
       "      <td>1.137855</td>\n",
       "      <td>0.796048</td>\n",
       "      <td>1.075156</td>\n",
       "      <td>0.950783</td>\n",
       "      <td>0.891992</td>\n",
       "      <td>0.922246</td>\n",
       "      <td>0.896767</td>\n",
       "      <td>0.572147</td>\n",
       "      <td>0.535217</td>\n",
       "      <td>0.553911</td>\n",
       "      <td>0.538107</td>\n",
       "      <td>0.944412</td>\n",
       "      <td>0.878578</td>\n",
       "      <td>0.914976</td>\n",
       "      <td>0.885267</td>\n",
       "    </tr>\n",
       "    <tr>\n",
       "      <th>31</th>\n",
       "      <td>7</td>\n",
       "      <td>0.853937</td>\n",
       "      <td>1.475094</td>\n",
       "      <td>1.181832</td>\n",
       "      <td>1.668620</td>\n",
       "      <td>0.950377</td>\n",
       "      <td>0.913264</td>\n",
       "      <td>0.929025</td>\n",
       "      <td>0.904248</td>\n",
       "      <td>0.596930</td>\n",
       "      <td>0.574103</td>\n",
       "      <td>0.583562</td>\n",
       "      <td>0.568774</td>\n",
       "      <td>0.943395</td>\n",
       "      <td>0.902138</td>\n",
       "      <td>0.921696</td>\n",
       "      <td>0.889257</td>\n",
       "    </tr>\n",
       "  </tbody>\n",
       "</table>\n",
       "</div>"
      ],
      "text/plain": [
       "    Unnamed: 0         0         1         2         3         4         5  \\\n",
       "58          34  1.008609  1.477555  0.705239  1.357447  0.928117  0.894417   \n",
       "97          23  0.492356  0.911757  0.611091  0.999308  0.975367  0.953346   \n",
       "46          22  1.283333  2.070096  1.349510  2.097901  0.929365  0.884087   \n",
       "94          20  0.521140  1.137855  0.796048  1.075156  0.950783  0.891992   \n",
       "31           7  0.853937  1.475094  1.181832  1.668620  0.950377  0.913264   \n",
       "\n",
       "           6         7         8         9        10        11        12  \\\n",
       "58  0.946804  0.901387  0.543826  0.523930  0.555255  0.527881  0.931952   \n",
       "97  0.969221  0.951708  0.636879  0.622106  0.632887  0.621242  0.974666   \n",
       "46  0.920702  0.883349  0.575304  0.547669  0.569040  0.547437  0.916740   \n",
       "94  0.922246  0.896767  0.572147  0.535217  0.553911  0.538107  0.944412   \n",
       "31  0.929025  0.904248  0.596930  0.574103  0.583562  0.568774  0.943395   \n",
       "\n",
       "          13        14        15  \n",
       "58  0.900365  0.952407  0.908466  \n",
       "97  0.952765  0.968470  0.948338  \n",
       "46  0.865764  0.912651  0.863975  \n",
       "94  0.878578  0.914976  0.885267  \n",
       "31  0.902138  0.921696  0.889257  "
      ]
     },
     "execution_count": 64,
     "metadata": {},
     "output_type": "execute_result"
    }
   ],
   "source": [
    "X.head()"
   ]
  },
  {
   "cell_type": "code",
   "execution_count": 65,
   "metadata": {},
   "outputs": [
    {
     "data": {
      "text/plain": [
       "58          Fruit Ringspot\n",
       "97    Fruit Powdery Mildew\n",
       "46          Fruit Ringspot\n",
       "94    Fruit Powdery Mildew\n",
       "31          Fruit Ringspot\n",
       "Name: Class, dtype: object"
      ]
     },
     "execution_count": 65,
     "metadata": {},
     "output_type": "execute_result"
    }
   ],
   "source": [
    "y.head()"
   ]
  },
  {
   "cell_type": "markdown",
   "metadata": {},
   "source": [
    "# Feature Scaling"
   ]
  },
  {
   "cell_type": "code",
   "execution_count": 66,
   "metadata": {},
   "outputs": [],
   "source": [
    "from sklearn.preprocessing import StandardScaler,RobustScaler,MinMaxScaler,MaxAbsScaler\n",
    "  \n",
    "scaler = MaxAbsScaler()\n",
    "\n",
    "X = scaler.fit_transform(X)\n",
    "\n",
    "X = pd.DataFrame(X)"
   ]
  },
  {
   "cell_type": "code",
   "execution_count": 67,
   "metadata": {},
   "outputs": [
    {
     "data": {
      "text/html": [
       "<div>\n",
       "<style scoped>\n",
       "    .dataframe tbody tr th:only-of-type {\n",
       "        vertical-align: middle;\n",
       "    }\n",
       "\n",
       "    .dataframe tbody tr th {\n",
       "        vertical-align: top;\n",
       "    }\n",
       "\n",
       "    .dataframe thead th {\n",
       "        text-align: right;\n",
       "    }\n",
       "</style>\n",
       "<table border=\"1\" class=\"dataframe\">\n",
       "  <thead>\n",
       "    <tr style=\"text-align: right;\">\n",
       "      <th></th>\n",
       "      <th>0</th>\n",
       "      <th>1</th>\n",
       "      <th>2</th>\n",
       "      <th>3</th>\n",
       "      <th>4</th>\n",
       "      <th>5</th>\n",
       "      <th>6</th>\n",
       "      <th>7</th>\n",
       "      <th>8</th>\n",
       "      <th>9</th>\n",
       "      <th>10</th>\n",
       "      <th>11</th>\n",
       "      <th>12</th>\n",
       "      <th>13</th>\n",
       "      <th>14</th>\n",
       "      <th>15</th>\n",
       "      <th>16</th>\n",
       "    </tr>\n",
       "  </thead>\n",
       "  <tbody>\n",
       "    <tr>\n",
       "      <th>0</th>\n",
       "      <td>0.693878</td>\n",
       "      <td>0.305751</td>\n",
       "      <td>0.277689</td>\n",
       "      <td>0.212635</td>\n",
       "      <td>0.262770</td>\n",
       "      <td>0.951557</td>\n",
       "      <td>0.938187</td>\n",
       "      <td>0.971497</td>\n",
       "      <td>0.947125</td>\n",
       "      <td>0.809663</td>\n",
       "      <td>0.797184</td>\n",
       "      <td>0.821899</td>\n",
       "      <td>0.803192</td>\n",
       "      <td>0.945712</td>\n",
       "      <td>0.920224</td>\n",
       "      <td>0.962310</td>\n",
       "      <td>0.927809</td>\n",
       "    </tr>\n",
       "    <tr>\n",
       "      <th>1</th>\n",
       "      <td>0.469388</td>\n",
       "      <td>0.149254</td>\n",
       "      <td>0.171354</td>\n",
       "      <td>0.184248</td>\n",
       "      <td>0.193442</td>\n",
       "      <td>1.000000</td>\n",
       "      <td>1.000000</td>\n",
       "      <td>0.994499</td>\n",
       "      <td>1.000000</td>\n",
       "      <td>0.948202</td>\n",
       "      <td>0.946563</td>\n",
       "      <td>0.936810</td>\n",
       "      <td>0.945245</td>\n",
       "      <td>0.989056</td>\n",
       "      <td>0.973780</td>\n",
       "      <td>0.978540</td>\n",
       "      <td>0.968529</td>\n",
       "    </tr>\n",
       "    <tr>\n",
       "      <th>2</th>\n",
       "      <td>0.448980</td>\n",
       "      <td>0.389032</td>\n",
       "      <td>0.389051</td>\n",
       "      <td>0.406887</td>\n",
       "      <td>0.406104</td>\n",
       "      <td>0.952836</td>\n",
       "      <td>0.927352</td>\n",
       "      <td>0.944715</td>\n",
       "      <td>0.928172</td>\n",
       "      <td>0.856528</td>\n",
       "      <td>0.833304</td>\n",
       "      <td>0.842303</td>\n",
       "      <td>0.832948</td>\n",
       "      <td>0.930276</td>\n",
       "      <td>0.884860</td>\n",
       "      <td>0.922140</td>\n",
       "      <td>0.882370</td>\n",
       "    </tr>\n",
       "    <tr>\n",
       "      <th>3</th>\n",
       "      <td>0.408163</td>\n",
       "      <td>0.157979</td>\n",
       "      <td>0.213847</td>\n",
       "      <td>0.240014</td>\n",
       "      <td>0.208125</td>\n",
       "      <td>0.974796</td>\n",
       "      <td>0.935643</td>\n",
       "      <td>0.946299</td>\n",
       "      <td>0.942271</td>\n",
       "      <td>0.851828</td>\n",
       "      <td>0.814358</td>\n",
       "      <td>0.819908</td>\n",
       "      <td>0.818752</td>\n",
       "      <td>0.958356</td>\n",
       "      <td>0.897957</td>\n",
       "      <td>0.924489</td>\n",
       "      <td>0.904115</td>\n",
       "    </tr>\n",
       "    <tr>\n",
       "      <th>4</th>\n",
       "      <td>0.142857</td>\n",
       "      <td>0.258864</td>\n",
       "      <td>0.277227</td>\n",
       "      <td>0.356331</td>\n",
       "      <td>0.323005</td>\n",
       "      <td>0.974380</td>\n",
       "      <td>0.957957</td>\n",
       "      <td>0.953254</td>\n",
       "      <td>0.950132</td>\n",
       "      <td>0.888726</td>\n",
       "      <td>0.873525</td>\n",
       "      <td>0.863798</td>\n",
       "      <td>0.865413</td>\n",
       "      <td>0.957324</td>\n",
       "      <td>0.922037</td>\n",
       "      <td>0.931280</td>\n",
       "      <td>0.908191</td>\n",
       "    </tr>\n",
       "  </tbody>\n",
       "</table>\n",
       "</div>"
      ],
      "text/plain": [
       "         0         1         2         3         4         5         6   \\\n",
       "0  0.693878  0.305751  0.277689  0.212635  0.262770  0.951557  0.938187   \n",
       "1  0.469388  0.149254  0.171354  0.184248  0.193442  1.000000  1.000000   \n",
       "2  0.448980  0.389032  0.389051  0.406887  0.406104  0.952836  0.927352   \n",
       "3  0.408163  0.157979  0.213847  0.240014  0.208125  0.974796  0.935643   \n",
       "4  0.142857  0.258864  0.277227  0.356331  0.323005  0.974380  0.957957   \n",
       "\n",
       "         7         8         9         10        11        12        13  \\\n",
       "0  0.971497  0.947125  0.809663  0.797184  0.821899  0.803192  0.945712   \n",
       "1  0.994499  1.000000  0.948202  0.946563  0.936810  0.945245  0.989056   \n",
       "2  0.944715  0.928172  0.856528  0.833304  0.842303  0.832948  0.930276   \n",
       "3  0.946299  0.942271  0.851828  0.814358  0.819908  0.818752  0.958356   \n",
       "4  0.953254  0.950132  0.888726  0.873525  0.863798  0.865413  0.957324   \n",
       "\n",
       "         14        15        16  \n",
       "0  0.920224  0.962310  0.927809  \n",
       "1  0.973780  0.978540  0.968529  \n",
       "2  0.884860  0.922140  0.882370  \n",
       "3  0.897957  0.924489  0.904115  \n",
       "4  0.922037  0.931280  0.908191  "
      ]
     },
     "execution_count": 67,
     "metadata": {},
     "output_type": "execute_result"
    }
   ],
   "source": [
    "X.head()"
   ]
  },
  {
   "cell_type": "code",
   "execution_count": 68,
   "metadata": {},
   "outputs": [
    {
     "data": {
      "text/plain": [
       "((87, 17), (29, 17))"
      ]
     },
     "execution_count": 68,
     "metadata": {},
     "output_type": "execute_result"
    }
   ],
   "source": [
    "from sklearn.model_selection import train_test_split\n",
    "  \n",
    "X_train, X_test, y_train, y_test = train_test_split(\n",
    "      X, y , test_size = 0.25, random_state=None)\n",
    "\n",
    "X_train.shape, X_test.shape\n"
   ]
  },
  {
   "cell_type": "code",
   "execution_count": 69,
   "metadata": {},
   "outputs": [
    {
     "data": {
      "text/html": [
       "<div>\n",
       "<style scoped>\n",
       "    .dataframe tbody tr th:only-of-type {\n",
       "        vertical-align: middle;\n",
       "    }\n",
       "\n",
       "    .dataframe tbody tr th {\n",
       "        vertical-align: top;\n",
       "    }\n",
       "\n",
       "    .dataframe thead th {\n",
       "        text-align: right;\n",
       "    }\n",
       "</style>\n",
       "<table border=\"1\" class=\"dataframe\">\n",
       "  <thead>\n",
       "    <tr style=\"text-align: right;\">\n",
       "      <th></th>\n",
       "      <th>0</th>\n",
       "      <th>1</th>\n",
       "      <th>2</th>\n",
       "      <th>3</th>\n",
       "      <th>4</th>\n",
       "      <th>5</th>\n",
       "      <th>6</th>\n",
       "      <th>7</th>\n",
       "      <th>8</th>\n",
       "      <th>9</th>\n",
       "      <th>10</th>\n",
       "      <th>11</th>\n",
       "      <th>12</th>\n",
       "      <th>13</th>\n",
       "      <th>14</th>\n",
       "      <th>15</th>\n",
       "      <th>16</th>\n",
       "    </tr>\n",
       "  </thead>\n",
       "  <tbody>\n",
       "    <tr>\n",
       "      <th>23</th>\n",
       "      <td>0.142857</td>\n",
       "      <td>0.291867</td>\n",
       "      <td>0.332590</td>\n",
       "      <td>0.391766</td>\n",
       "      <td>0.353799</td>\n",
       "      <td>0.952808</td>\n",
       "      <td>0.913918</td>\n",
       "      <td>0.926460</td>\n",
       "      <td>0.911930</td>\n",
       "      <td>0.808017</td>\n",
       "      <td>0.774283</td>\n",
       "      <td>0.780072</td>\n",
       "      <td>0.771887</td>\n",
       "      <td>0.948100</td>\n",
       "      <td>0.898671</td>\n",
       "      <td>0.920853</td>\n",
       "      <td>0.893957</td>\n",
       "    </tr>\n",
       "    <tr>\n",
       "      <th>35</th>\n",
       "      <td>0.204082</td>\n",
       "      <td>0.279440</td>\n",
       "      <td>0.297904</td>\n",
       "      <td>0.350429</td>\n",
       "      <td>0.317605</td>\n",
       "      <td>0.971758</td>\n",
       "      <td>0.954047</td>\n",
       "      <td>0.956367</td>\n",
       "      <td>0.953240</td>\n",
       "      <td>0.842093</td>\n",
       "      <td>0.826055</td>\n",
       "      <td>0.823325</td>\n",
       "      <td>0.823873</td>\n",
       "      <td>0.961383</td>\n",
       "      <td>0.929599</td>\n",
       "      <td>0.943369</td>\n",
       "      <td>0.925663</td>\n",
       "    </tr>\n",
       "    <tr>\n",
       "      <th>95</th>\n",
       "      <td>0.428571</td>\n",
       "      <td>0.236811</td>\n",
       "      <td>0.306638</td>\n",
       "      <td>0.358290</td>\n",
       "      <td>0.326584</td>\n",
       "      <td>0.989560</td>\n",
       "      <td>0.971576</td>\n",
       "      <td>0.970587</td>\n",
       "      <td>0.971489</td>\n",
       "      <td>0.975246</td>\n",
       "      <td>0.958005</td>\n",
       "      <td>0.951045</td>\n",
       "      <td>0.956360</td>\n",
       "      <td>0.960666</td>\n",
       "      <td>0.907710</td>\n",
       "      <td>0.927973</td>\n",
       "      <td>0.903113</td>\n",
       "    </tr>\n",
       "    <tr>\n",
       "      <th>70</th>\n",
       "      <td>0.408163</td>\n",
       "      <td>0.404398</td>\n",
       "      <td>0.426543</td>\n",
       "      <td>0.479211</td>\n",
       "      <td>0.446388</td>\n",
       "      <td>0.894970</td>\n",
       "      <td>0.864947</td>\n",
       "      <td>0.936284</td>\n",
       "      <td>0.865230</td>\n",
       "      <td>0.861566</td>\n",
       "      <td>0.832469</td>\n",
       "      <td>0.834581</td>\n",
       "      <td>0.831444</td>\n",
       "      <td>0.933596</td>\n",
       "      <td>0.883044</td>\n",
       "      <td>0.914229</td>\n",
       "      <td>0.880151</td>\n",
       "    </tr>\n",
       "    <tr>\n",
       "      <th>81</th>\n",
       "      <td>0.632653</td>\n",
       "      <td>0.314333</td>\n",
       "      <td>0.317384</td>\n",
       "      <td>0.299549</td>\n",
       "      <td>0.344165</td>\n",
       "      <td>0.985234</td>\n",
       "      <td>0.981301</td>\n",
       "      <td>0.987192</td>\n",
       "      <td>0.981201</td>\n",
       "      <td>0.906659</td>\n",
       "      <td>0.901843</td>\n",
       "      <td>0.902540</td>\n",
       "      <td>0.900528</td>\n",
       "      <td>0.971906</td>\n",
       "      <td>0.951737</td>\n",
       "      <td>0.969452</td>\n",
       "      <td>0.947308</td>\n",
       "    </tr>\n",
       "  </tbody>\n",
       "</table>\n",
       "</div>"
      ],
      "text/plain": [
       "          0         1         2         3         4         5         6   \\\n",
       "23  0.142857  0.291867  0.332590  0.391766  0.353799  0.952808  0.913918   \n",
       "35  0.204082  0.279440  0.297904  0.350429  0.317605  0.971758  0.954047   \n",
       "95  0.428571  0.236811  0.306638  0.358290  0.326584  0.989560  0.971576   \n",
       "70  0.408163  0.404398  0.426543  0.479211  0.446388  0.894970  0.864947   \n",
       "81  0.632653  0.314333  0.317384  0.299549  0.344165  0.985234  0.981301   \n",
       "\n",
       "          7         8         9         10        11        12        13  \\\n",
       "23  0.926460  0.911930  0.808017  0.774283  0.780072  0.771887  0.948100   \n",
       "35  0.956367  0.953240  0.842093  0.826055  0.823325  0.823873  0.961383   \n",
       "95  0.970587  0.971489  0.975246  0.958005  0.951045  0.956360  0.960666   \n",
       "70  0.936284  0.865230  0.861566  0.832469  0.834581  0.831444  0.933596   \n",
       "81  0.987192  0.981201  0.906659  0.901843  0.902540  0.900528  0.971906   \n",
       "\n",
       "          14        15        16  \n",
       "23  0.898671  0.920853  0.893957  \n",
       "35  0.929599  0.943369  0.925663  \n",
       "95  0.907710  0.927973  0.903113  \n",
       "70  0.883044  0.914229  0.880151  \n",
       "81  0.951737  0.969452  0.947308  "
      ]
     },
     "execution_count": 69,
     "metadata": {},
     "output_type": "execute_result"
    }
   ],
   "source": [
    "X_train.head()"
   ]
  },
  {
   "cell_type": "markdown",
   "metadata": {},
   "source": [
    "# Model training"
   ]
  },
  {
   "cell_type": "markdown",
   "metadata": {},
   "source": [
    "## KNN"
   ]
  },
  {
   "cell_type": "code",
   "execution_count": 70,
   "metadata": {},
   "outputs": [
    {
     "data": {
      "image/png": "[encoded data removed]",
      "text/plain": [
       "<Figure size 432x288 with 2 Axes>"
      ]
     },
     "metadata": {
      "needs_background": "light"
     },
     "output_type": "display_data"
    }
   ],
   "source": [
    "# Remember that we are trying to come up\n",
    "# with a model to predict whether\n",
    "# someone will TARGET CLASS or not.\n",
    "# We'll start with k = 1.\n",
    "\n",
    "from sklearn.neighbors import KNeighborsClassifier\n",
    "  \n",
    "knn = KNeighborsClassifier(n_neighbors = 1)\n",
    "  \n",
    "knn.fit(X_train, y_train)\n",
    "pred = knn.predict(X_test)\n",
    "\n",
    "plot_confusion_matrix(knn, X_test, y_test)\n",
    "plt.xticks(rotation = 90)\n",
    "plt.show()\n",
    "\n",
    "# Predictions and Evaluations\n",
    "# Let's evaluate our KNN model ! \n"
   ]
  },
  {
   "cell_type": "code",
   "execution_count": 71,
   "metadata": {},
   "outputs": [
    {
     "name": "stdout",
     "output_type": "stream",
     "text": [
      "                      precision    recall  f1-score   support\n",
      "\n",
      "    Fruit Black Spot       0.75      0.38      0.50         8\n",
      "Fruit Powdery Mildew       0.41      0.58      0.48        12\n",
      "      Fruit Ringspot       0.12      0.11      0.12         9\n",
      "\n",
      "            accuracy                           0.38        29\n",
      "           macro avg       0.43      0.36      0.37        29\n",
      "        weighted avg       0.42      0.38      0.37        29\n",
      "\n"
     ]
    }
   ],
   "source": [
    "from sklearn.metrics import classification_report  \n",
    "print(classification_report(y_test, pred))\n"
   ]
  },
  {
   "cell_type": "code",
   "execution_count": 72,
   "metadata": {},
   "outputs": [],
   "source": [
    "from sklearn import metrics\n",
    "error_rate = []\n",
    "scores = []\n",
    "\n",
    "k=50\n",
    "max_accuracy=0\n",
    "best_k=1\n",
    "\n",
    "for i in range(1, k):\n",
    "      \n",
    "    knn = KNeighborsClassifier(n_neighbors = i)\n",
    "    knn.fit(X_train, y_train)\n",
    "    pred_i = knn.predict(X_test)\n",
    "    error_rate.append(np.mean(pred_i != y_test))\n",
    "    y_predict = knn.predict(X_test)\n",
    "    curr_accuracy=metrics.accuracy_score(y_test,y_predict)\n",
    "    if curr_accuracy>max_accuracy:\n",
    "        max_accuracy=curr_accuracy\n",
    "        best_k=i\n",
    "    scores.append(curr_accuracy)\n",
    "  \n"
   ]
  },
  {
   "cell_type": "code",
   "execution_count": 73,
   "metadata": {},
   "outputs": [
    {
     "data": {
      "text/plain": [
       "Text(0, 0.5, 'Error Rate')"
      ]
     },
     "execution_count": 73,
     "metadata": {},
     "output_type": "execute_result"
    },
    {
     "data": {
      "image/png": "[encoded data removed]",
      "text/plain": [
       "<Figure size 720x432 with 1 Axes>"
      ]
     },
     "metadata": {
      "needs_background": "light"
     },
     "output_type": "display_data"
    }
   ],
   "source": [
    "plt.figure(figsize =(10, 6))\n",
    "plt.plot(range(1, k), error_rate, color ='blue',\n",
    "                linestyle ='dashed', marker ='o',\n",
    "         markerfacecolor ='red', markersize = 10)\n",
    "  \n",
    "plt.title('Error Rate vs. K Value')\n",
    "plt.xlabel('K')\n",
    "plt.ylabel('Error Rate')"
   ]
  },
  {
   "cell_type": "code",
   "execution_count": 74,
   "metadata": {},
   "outputs": [
    {
     "data": {
      "text/plain": [
       "Text(0, 0.5, 'Accuracy')"
      ]
     },
     "execution_count": 74,
     "metadata": {},
     "output_type": "execute_result"
    },
    {
     "data": {
      "image/png": "[encoded data removed]",
      "text/plain": [
       "<Figure size 432x288 with 1 Axes>"
      ]
     },
     "metadata": {
      "needs_background": "light"
     },
     "output_type": "display_data"
    }
   ],
   "source": [
    "plt.plot(np.arange(1,k),scores)\n",
    "plt.title('Varition of accuracy with K value')\n",
    "plt.xlabel('K values')\n",
    "plt.ylabel('Accuracy')"
   ]
  },
  {
   "cell_type": "code",
   "execution_count": 75,
   "metadata": {},
   "outputs": [
    {
     "name": "stdout",
     "output_type": "stream",
     "text": [
      "                      precision    recall  f1-score   support\n",
      "\n",
      "    Fruit Black Spot       0.57      0.50      0.53         8\n",
      "Fruit Powdery Mildew       0.47      0.75      0.58        12\n",
      "      Fruit Ringspot       0.33      0.11      0.17         9\n",
      "\n",
      "            accuracy                           0.48        29\n",
      "           macro avg       0.46      0.45      0.43        29\n",
      "        weighted avg       0.46      0.48      0.44        29\n",
      "\n",
      "Accuracy for k = 2 is 48.275862068965516%\n"
     ]
    }
   ],
   "source": [
    "knn = KNeighborsClassifier(n_neighbors = best_k)\n",
    "  \n",
    "knn.fit(X_train, y_train)\n",
    "pred = knn.predict(X_test)\n",
    "from sklearn.metrics import classification_report  \n",
    "print(classification_report(y_test, pred))\n",
    "\n",
    "print(\"Accuracy for k = {} is {}%\".format(best_k,max_accuracy*100))"
   ]
  },
  {
   "cell_type": "markdown",
   "metadata": {},
   "source": [
    "## SVM"
   ]
  },
  {
   "cell_type": "code",
   "execution_count": 76,
   "metadata": {},
   "outputs": [
    {
     "name": "stdout",
     "output_type": "stream",
     "text": [
      "best hyperlink parameters\n",
      "{'C': 7, 'kernel': 'poly'}\n",
      "Accuracy Score:\n",
      "                      precision    recall  f1-score   support\n",
      "\n",
      "    Fruit Black Spot       0.25      0.12      0.17         8\n",
      "Fruit Powdery Mildew       0.67      0.33      0.44        12\n",
      "      Fruit Ringspot       0.42      0.89      0.57         9\n",
      "\n",
      "            accuracy                           0.45        29\n",
      "           macro avg       0.45      0.45      0.39        29\n",
      "        weighted avg       0.48      0.45      0.41        29\n",
      "\n"
     ]
    }
   ],
   "source": [
    "from sklearn.svm import SVC\n",
    "svm_model= SVC()\n",
    "tuned_parameters = {\n",
    " 'C': (np.arange(1,30)) , 'kernel': ['linear'],\n",
    " 'C': (np.arange(1,30)) ,  'kernel': ['rbf'],\n",
    " 'C':(np.arange(1,30)) , 'kernel':['poly']\n",
    "                   }\n",
    "from sklearn.model_selection import GridSearchCV\n",
    "\n",
    "model_svm = GridSearchCV(svm_model, tuned_parameters,cv=10,scoring='accuracy')\n",
    "\n",
    "model_svm.fit(X_train,y_train)\n",
    "print('best hyperlink parameters')\n",
    "print(model_svm.best_params_)\n",
    "y_pred= model_svm.predict(X_test)\n",
    "print('Accuracy Score:')\n",
    "\n",
    "print(classification_report(y_test, y_pred))"
   ]
  },
  {
   "cell_type": "code",
   "execution_count": 77,
   "metadata": {},
   "outputs": [
    {
     "name": "stdout",
     "output_type": "stream",
     "text": [
      "Model accuracy score: 44.8276%\n"
     ]
    }
   ],
   "source": [
    "print('Model accuracy score: {0:0.4f}%'. format(accuracy_score(y_pred,y_test)*100))"
   ]
  },
  {
   "cell_type": "markdown",
   "metadata": {},
   "source": [
    "## Naive Bayes"
   ]
  },
  {
   "cell_type": "code",
   "execution_count": 78,
   "metadata": {},
   "outputs": [
    {
     "name": "stdout",
     "output_type": "stream",
     "text": [
      "                      precision    recall  f1-score   support\n",
      "\n",
      "    Fruit Black Spot       0.50      0.62      0.56         8\n",
      "Fruit Powdery Mildew       0.43      0.50      0.46        12\n",
      "      Fruit Ringspot       0.40      0.22      0.29         9\n",
      "\n",
      "            accuracy                           0.45        29\n",
      "           macro avg       0.44      0.45      0.43        29\n",
      "        weighted avg       0.44      0.45      0.43        29\n",
      "\n"
     ]
    }
   ],
   "source": [
    "from sklearn.naive_bayes import GaussianNB,CategoricalNB\n",
    "\n",
    "# instantiate the model\n",
    "gnb = GaussianNB()\n",
    "\n",
    "# fit the model\n",
    "gnb.fit(X_train, y_train)\n",
    "y_pred = gnb.predict(X_test)\n",
    "print(classification_report(y_test, y_pred))\n",
    "\n"
   ]
  },
  {
   "cell_type": "code",
   "execution_count": 79,
   "metadata": {},
   "outputs": [
    {
     "name": "stdout",
     "output_type": "stream",
     "text": [
      "Model accuracy score: 44.8276%\n"
     ]
    }
   ],
   "source": [
    "print('Model accuracy score: {0:0.4f}%'. format(accuracy_score(y_test, y_pred)*100))"
   ]
  },
  {
   "cell_type": "markdown",
   "metadata": {},
   "source": [
    "## Logistic regression"
   ]
  },
  {
   "cell_type": "code",
   "execution_count": 80,
   "metadata": {},
   "outputs": [
    {
     "name": "stdout",
     "output_type": "stream",
     "text": [
      "                      precision    recall  f1-score   support\n",
      "\n",
      "    Fruit Black Spot       0.50      0.62      0.56         8\n",
      "Fruit Powdery Mildew       0.43      0.50      0.46        12\n",
      "      Fruit Ringspot       0.40      0.22      0.29         9\n",
      "\n",
      "            accuracy                           0.45        29\n",
      "           macro avg       0.44      0.45      0.43        29\n",
      "        weighted avg       0.44      0.45      0.43        29\n",
      "\n"
     ]
    }
   ],
   "source": [
    "from sklearn.linear_model import LogisticRegression\n",
    "\n",
    "lr = LogisticRegression(solver='lbfgs', max_iter=1000)\n",
    "\n",
    "# fit the model\n",
    "lr.fit(X_train, y_train)\n",
    "y_pred = gnb.predict(X_test)\n",
    "\n",
    "print(classification_report(y_test, y_pred))\n"
   ]
  },
  {
   "cell_type": "code",
   "execution_count": 81,
   "metadata": {},
   "outputs": [
    {
     "name": "stdout",
     "output_type": "stream",
     "text": [
      "Model accuracy score: 44.8276%\n"
     ]
    }
   ],
   "source": [
    "print('Model accuracy score: {0:0.4f}%'. format(accuracy_score(y_test, y_pred)*100))"
   ]
  },
  {
   "cell_type": "markdown",
   "metadata": {},
   "source": [
    "# K-Fold Cross Validation"
   ]
  },
  {
   "cell_type": "code",
   "execution_count": 82,
   "metadata": {},
   "outputs": [
    {
     "name": "stdout",
     "output_type": "stream",
     "text": [
      "Fold:1, Train set: 87, Test set:29\n",
      "Fold:2, Train set: 87, Test set:29\n",
      "Fold:3, Train set: 87, Test set:29\n",
      "Fold:4, Train set: 87, Test set:29\n"
     ]
    }
   ],
   "source": [
    "from sklearn.model_selection import KFold, StratifiedKFold\n",
    "\n",
    "kf = StratifiedKFold(n_splits=4, shuffle=True, random_state=42)\n",
    "\n",
    "cnt = 1\n",
    "# split()  method generate indices to split data into training and test set.\n",
    "for train_index, test_index in kf.split(X, y):\n",
    "    print(f'Fold:{cnt}, Train set: {len(train_index)}, Test set:{len(test_index)}')\n",
    "    cnt += 1\n"
   ]
  },
  {
   "cell_type": "code",
   "execution_count": 83,
   "metadata": {},
   "outputs": [
    {
     "name": "stdout",
     "output_type": "stream",
     "text": [
      "Scores for each fold are:\n",
      "[0.44827586 0.44827586 0.51724138 0.48275862]\n",
      "Model accuracy score for Logistic Regression: 47.4138%\n"
     ]
    }
   ],
   "source": [
    "score = cross_val_score(lr, X, y, cv= kf, scoring=\"accuracy\")\n",
    "print('Scores for each fold are:')\n",
    "print(score)\n",
    "print('Model accuracy score for Logistic Regression: {0:0.4f}%'.format(score.mean()*100))"
   ]
  },
  {
   "cell_type": "code",
   "execution_count": 84,
   "metadata": {},
   "outputs": [
    {
     "name": "stdout",
     "output_type": "stream",
     "text": [
      "Scores for each fold are:\n",
      "[0.37931034 0.5862069  0.37931034 0.37931034]\n",
      "Model accuracy score for Gaussian Naive Bayes: 43.1034%\n"
     ]
    }
   ],
   "source": [
    "score = cross_val_score(gnb, X, y, cv= kf, scoring=\"accuracy\")\n",
    "print('Scores for each fold are:')\n",
    "print(score)\n",
    "print('Model accuracy score for Gaussian Naive Bayes: {0:0.4f}%'.format(score.mean()*100))"
   ]
  }
 ],
 "metadata": {
  "kernelspec": {
   "display_name": "Python 3",
   "language": "python",
   "name": "python3"
  },
  "language_info": {
   "codemirror_mode": {
    "name": "ipython",
    "version": 3
   },
   "file_extension": ".py",
   "mimetype": "text/x-python",
   "name": "python",
   "nbconvert_exporter": "python",
   "pygments_lexer": "ipython3",
   "version": "3.7.3"
  }
 },
 "nbformat": 4,
 "nbformat_minor": 4
}
