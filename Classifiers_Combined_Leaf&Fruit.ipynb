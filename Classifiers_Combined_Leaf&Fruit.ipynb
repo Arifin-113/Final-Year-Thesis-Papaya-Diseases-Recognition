{
 "cells": [
  {
   "cell_type": "code",
   "execution_count": 1,
   "metadata": {},
   "outputs": [],
   "source": [
    "import numpy as np\n",
    "import pandas as pd\n",
    "import matplotlib.pyplot as plt\n",
    "import seaborn as sns\n",
    "from sklearn.metrics import accuracy_score\n",
    "from sklearn.metrics import plot_confusion_matrix\n",
    "from sklearn.model_selection import cross_val_score\n",
    "from sklearn.utils import shuffle"
   ]
  },
  {
   "cell_type": "code",
   "execution_count": 2,
   "metadata": {},
   "outputs": [
    {
     "data": {
      "text/html": [
       "<div>\n",
       "<style scoped>\n",
       "    .dataframe tbody tr th:only-of-type {\n",
       "        vertical-align: middle;\n",
       "    }\n",
       "\n",
       "    .dataframe tbody tr th {\n",
       "        vertical-align: top;\n",
       "    }\n",
       "\n",
       "    .dataframe thead th {\n",
       "        text-align: right;\n",
       "    }\n",
       "</style>\n",
       "<table border=\"1\" class=\"dataframe\">\n",
       "  <thead>\n",
       "    <tr style=\"text-align: right;\">\n",
       "      <th></th>\n",
       "      <th>Unnamed: 0</th>\n",
       "      <th>0</th>\n",
       "      <th>1</th>\n",
       "      <th>2</th>\n",
       "      <th>3</th>\n",
       "      <th>4</th>\n",
       "      <th>5</th>\n",
       "      <th>6</th>\n",
       "      <th>7</th>\n",
       "      <th>8</th>\n",
       "      <th>9</th>\n",
       "      <th>10</th>\n",
       "      <th>11</th>\n",
       "      <th>12</th>\n",
       "      <th>13</th>\n",
       "      <th>14</th>\n",
       "      <th>15</th>\n",
       "      <th>16</th>\n",
       "    </tr>\n",
       "  </thead>\n",
       "  <tbody>\n",
       "    <tr>\n",
       "      <th>100</th>\n",
       "      <td>100</td>\n",
       "      <td>2.886933</td>\n",
       "      <td>4.400415</td>\n",
       "      <td>2.758104</td>\n",
       "      <td>4.244306</td>\n",
       "      <td>0.644268</td>\n",
       "      <td>0.579012</td>\n",
       "      <td>0.639661</td>\n",
       "      <td>0.593431</td>\n",
       "      <td>0.182182</td>\n",
       "      <td>0.166673</td>\n",
       "      <td>0.179796</td>\n",
       "      <td>0.168091</td>\n",
       "      <td>0.905887</td>\n",
       "      <td>0.856556</td>\n",
       "      <td>0.910143</td>\n",
       "      <td>0.861650</td>\n",
       "      <td>Leaf Papaya Ringspot</td>\n",
       "    </tr>\n",
       "    <tr>\n",
       "      <th>138</th>\n",
       "      <td>138</td>\n",
       "      <td>4.261994</td>\n",
       "      <td>5.221945</td>\n",
       "      <td>4.025567</td>\n",
       "      <td>5.904760</td>\n",
       "      <td>0.596471</td>\n",
       "      <td>0.566428</td>\n",
       "      <td>0.606083</td>\n",
       "      <td>0.558320</td>\n",
       "      <td>0.162359</td>\n",
       "      <td>0.157156</td>\n",
       "      <td>0.164493</td>\n",
       "      <td>0.155654</td>\n",
       "      <td>0.887500</td>\n",
       "      <td>0.862098</td>\n",
       "      <td>0.893770</td>\n",
       "      <td>0.844057</td>\n",
       "      <td>Leaf Papaya Black Spot</td>\n",
       "    </tr>\n",
       "    <tr>\n",
       "      <th>223</th>\n",
       "      <td>223</td>\n",
       "      <td>2.491498</td>\n",
       "      <td>3.970150</td>\n",
       "      <td>3.005147</td>\n",
       "      <td>3.919785</td>\n",
       "      <td>0.884423</td>\n",
       "      <td>0.831520</td>\n",
       "      <td>0.866908</td>\n",
       "      <td>0.831144</td>\n",
       "      <td>0.516228</td>\n",
       "      <td>0.487783</td>\n",
       "      <td>0.506496</td>\n",
       "      <td>0.487582</td>\n",
       "      <td>0.895408</td>\n",
       "      <td>0.833099</td>\n",
       "      <td>0.873928</td>\n",
       "      <td>0.835217</td>\n",
       "      <td>Leaf Papaya Powdery Mildew</td>\n",
       "    </tr>\n",
       "    <tr>\n",
       "      <th>354</th>\n",
       "      <td>64</td>\n",
       "      <td>0.892601</td>\n",
       "      <td>1.433033</td>\n",
       "      <td>0.917647</td>\n",
       "      <td>1.409335</td>\n",
       "      <td>0.936143</td>\n",
       "      <td>0.893173</td>\n",
       "      <td>0.926871</td>\n",
       "      <td>0.896396</td>\n",
       "      <td>0.577802</td>\n",
       "      <td>0.548910</td>\n",
       "      <td>0.569811</td>\n",
       "      <td>0.551191</td>\n",
       "      <td>0.916347</td>\n",
       "      <td>0.865581</td>\n",
       "      <td>0.914585</td>\n",
       "      <td>0.867797</td>\n",
       "      <td>Fruit Ringspot</td>\n",
       "    </tr>\n",
       "    <tr>\n",
       "      <th>364</th>\n",
       "      <td>74</td>\n",
       "      <td>1.387010</td>\n",
       "      <td>2.575748</td>\n",
       "      <td>1.727451</td>\n",
       "      <td>2.331903</td>\n",
       "      <td>0.924672</td>\n",
       "      <td>0.861910</td>\n",
       "      <td>0.902388</td>\n",
       "      <td>0.871551</td>\n",
       "      <td>0.532846</td>\n",
       "      <td>0.498379</td>\n",
       "      <td>0.520315</td>\n",
       "      <td>0.503554</td>\n",
       "      <td>0.934209</td>\n",
       "      <td>0.877860</td>\n",
       "      <td>0.918077</td>\n",
       "      <td>0.889424</td>\n",
       "      <td>Fruit Powdery Mildew</td>\n",
       "    </tr>\n",
       "  </tbody>\n",
       "</table>\n",
       "</div>"
      ],
      "text/plain": [
       "     Unnamed: 0         0         1         2         3         4         5  \\\n",
       "100         100  2.886933  4.400415  2.758104  4.244306  0.644268  0.579012   \n",
       "138         138  4.261994  5.221945  4.025567  5.904760  0.596471  0.566428   \n",
       "223         223  2.491498  3.970150  3.005147  3.919785  0.884423  0.831520   \n",
       "354          64  0.892601  1.433033  0.917647  1.409335  0.936143  0.893173   \n",
       "364          74  1.387010  2.575748  1.727451  2.331903  0.924672  0.861910   \n",
       "\n",
       "            6         7         8         9        10        11        12  \\\n",
       "100  0.639661  0.593431  0.182182  0.166673  0.179796  0.168091  0.905887   \n",
       "138  0.606083  0.558320  0.162359  0.157156  0.164493  0.155654  0.887500   \n",
       "223  0.866908  0.831144  0.516228  0.487783  0.506496  0.487582  0.895408   \n",
       "354  0.926871  0.896396  0.577802  0.548910  0.569811  0.551191  0.916347   \n",
       "364  0.902388  0.871551  0.532846  0.498379  0.520315  0.503554  0.934209   \n",
       "\n",
       "           13        14        15                          16  \n",
       "100  0.856556  0.910143  0.861650        Leaf Papaya Ringspot  \n",
       "138  0.862098  0.893770  0.844057      Leaf Papaya Black Spot  \n",
       "223  0.833099  0.873928  0.835217  Leaf Papaya Powdery Mildew  \n",
       "354  0.865581  0.914585  0.867797              Fruit Ringspot  \n",
       "364  0.877860  0.918077  0.889424        Fruit Powdery Mildew  "
      ]
     },
     "execution_count": 2,
     "metadata": {},
     "output_type": "execute_result"
    }
   ],
   "source": [
    "path = r\"C:\\Users\\Arifin\\Downloads\\papaya\\Combined_Leaf&Fruit.csv\"\n",
    "df = pd.read_csv(path)\n",
    "df = shuffle(df)\n",
    "df.head()"
   ]
  },
  {
   "cell_type": "code",
   "execution_count": 3,
   "metadata": {},
   "outputs": [
    {
     "data": {
      "text/plain": [
       "(406, 18)"
      ]
     },
     "execution_count": 3,
     "metadata": {},
     "output_type": "execute_result"
    }
   ],
   "source": [
    "df.shape"
   ]
  },
  {
   "cell_type": "code",
   "execution_count": 4,
   "metadata": {},
   "outputs": [
    {
     "data": {
      "text/html": [
       "<div>\n",
       "<style scoped>\n",
       "    .dataframe tbody tr th:only-of-type {\n",
       "        vertical-align: middle;\n",
       "    }\n",
       "\n",
       "    .dataframe tbody tr th {\n",
       "        vertical-align: top;\n",
       "    }\n",
       "\n",
       "    .dataframe thead th {\n",
       "        text-align: right;\n",
       "    }\n",
       "</style>\n",
       "<table border=\"1\" class=\"dataframe\">\n",
       "  <thead>\n",
       "    <tr style=\"text-align: right;\">\n",
       "      <th></th>\n",
       "      <th>Unnamed: 0</th>\n",
       "      <th>0</th>\n",
       "      <th>1</th>\n",
       "      <th>2</th>\n",
       "      <th>3</th>\n",
       "      <th>4</th>\n",
       "      <th>5</th>\n",
       "      <th>6</th>\n",
       "      <th>7</th>\n",
       "      <th>8</th>\n",
       "      <th>9</th>\n",
       "      <th>10</th>\n",
       "      <th>11</th>\n",
       "      <th>12</th>\n",
       "      <th>13</th>\n",
       "      <th>14</th>\n",
       "      <th>15</th>\n",
       "    </tr>\n",
       "  </thead>\n",
       "  <tbody>\n",
       "    <tr>\n",
       "      <th>count</th>\n",
       "      <td>406.000000</td>\n",
       "      <td>406.000000</td>\n",
       "      <td>406.000000</td>\n",
       "      <td>406.000000</td>\n",
       "      <td>406.000000</td>\n",
       "      <td>406.000000</td>\n",
       "      <td>406.000000</td>\n",
       "      <td>406.000000</td>\n",
       "      <td>406.000000</td>\n",
       "      <td>406.000000</td>\n",
       "      <td>406.000000</td>\n",
       "      <td>406.000000</td>\n",
       "      <td>406.000000</td>\n",
       "      <td>406.000000</td>\n",
       "      <td>406.000000</td>\n",
       "      <td>406.000000</td>\n",
       "      <td>406.000000</td>\n",
       "    </tr>\n",
       "    <tr>\n",
       "      <th>mean</th>\n",
       "      <td>119.642857</td>\n",
       "      <td>2.280551</td>\n",
       "      <td>3.427080</td>\n",
       "      <td>2.308723</td>\n",
       "      <td>3.444539</td>\n",
       "      <td>0.783710</td>\n",
       "      <td>0.733924</td>\n",
       "      <td>0.782894</td>\n",
       "      <td>0.733448</td>\n",
       "      <td>0.380017</td>\n",
       "      <td>0.361710</td>\n",
       "      <td>0.378066</td>\n",
       "      <td>0.361796</td>\n",
       "      <td>0.901214</td>\n",
       "      <td>0.851756</td>\n",
       "      <td>0.900254</td>\n",
       "      <td>0.851090</td>\n",
       "    </tr>\n",
       "    <tr>\n",
       "      <th>std</th>\n",
       "      <td>82.993428</td>\n",
       "      <td>1.528579</td>\n",
       "      <td>1.997288</td>\n",
       "      <td>1.468656</td>\n",
       "      <td>2.012483</td>\n",
       "      <td>0.143051</td>\n",
       "      <td>0.152825</td>\n",
       "      <td>0.137752</td>\n",
       "      <td>0.153582</td>\n",
       "      <td>0.192999</td>\n",
       "      <td>0.189589</td>\n",
       "      <td>0.189943</td>\n",
       "      <td>0.189904</td>\n",
       "      <td>0.066530</td>\n",
       "      <td>0.086483</td>\n",
       "      <td>0.064781</td>\n",
       "      <td>0.087233</td>\n",
       "    </tr>\n",
       "    <tr>\n",
       "      <th>min</th>\n",
       "      <td>0.000000</td>\n",
       "      <td>0.237760</td>\n",
       "      <td>0.412626</td>\n",
       "      <td>0.263710</td>\n",
       "      <td>0.422268</td>\n",
       "      <td>0.443385</td>\n",
       "      <td>0.418674</td>\n",
       "      <td>0.441471</td>\n",
       "      <td>0.407525</td>\n",
       "      <td>0.108920</td>\n",
       "      <td>0.097947</td>\n",
       "      <td>0.100415</td>\n",
       "      <td>0.095287</td>\n",
       "      <td>0.613236</td>\n",
       "      <td>0.515019</td>\n",
       "      <td>0.635982</td>\n",
       "      <td>0.482207</td>\n",
       "    </tr>\n",
       "    <tr>\n",
       "      <th>25%</th>\n",
       "      <td>50.250000</td>\n",
       "      <td>1.116119</td>\n",
       "      <td>1.873495</td>\n",
       "      <td>1.175295</td>\n",
       "      <td>1.885855</td>\n",
       "      <td>0.652260</td>\n",
       "      <td>0.584210</td>\n",
       "      <td>0.648766</td>\n",
       "      <td>0.581552</td>\n",
       "      <td>0.161781</td>\n",
       "      <td>0.147753</td>\n",
       "      <td>0.164119</td>\n",
       "      <td>0.145248</td>\n",
       "      <td>0.859728</td>\n",
       "      <td>0.797126</td>\n",
       "      <td>0.866279</td>\n",
       "      <td>0.801508</td>\n",
       "    </tr>\n",
       "    <tr>\n",
       "      <th>50%</th>\n",
       "      <td>101.000000</td>\n",
       "      <td>1.926777</td>\n",
       "      <td>3.105852</td>\n",
       "      <td>1.875812</td>\n",
       "      <td>3.051050</td>\n",
       "      <td>0.818006</td>\n",
       "      <td>0.764929</td>\n",
       "      <td>0.816421</td>\n",
       "      <td>0.762033</td>\n",
       "      <td>0.448742</td>\n",
       "      <td>0.433658</td>\n",
       "      <td>0.458468</td>\n",
       "      <td>0.436694</td>\n",
       "      <td>0.918594</td>\n",
       "      <td>0.863575</td>\n",
       "      <td>0.909716</td>\n",
       "      <td>0.862553</td>\n",
       "    </tr>\n",
       "    <tr>\n",
       "      <th>75%</th>\n",
       "      <td>187.750000</td>\n",
       "      <td>3.266900</td>\n",
       "      <td>4.806163</td>\n",
       "      <td>3.245159</td>\n",
       "      <td>4.860173</td>\n",
       "      <td>0.924600</td>\n",
       "      <td>0.882448</td>\n",
       "      <td>0.912112</td>\n",
       "      <td>0.882361</td>\n",
       "      <td>0.548073</td>\n",
       "      <td>0.520619</td>\n",
       "      <td>0.539907</td>\n",
       "      <td>0.519355</td>\n",
       "      <td>0.948706</td>\n",
       "      <td>0.912885</td>\n",
       "      <td>0.947458</td>\n",
       "      <td>0.912323</td>\n",
       "    </tr>\n",
       "    <tr>\n",
       "      <th>max</th>\n",
       "      <td>289.000000</td>\n",
       "      <td>7.715732</td>\n",
       "      <td>10.384667</td>\n",
       "      <td>7.749449</td>\n",
       "      <td>10.185467</td>\n",
       "      <td>0.975367</td>\n",
       "      <td>0.953346</td>\n",
       "      <td>0.974582</td>\n",
       "      <td>0.951708</td>\n",
       "      <td>0.771433</td>\n",
       "      <td>0.765493</td>\n",
       "      <td>0.768943</td>\n",
       "      <td>0.765491</td>\n",
       "      <td>0.991926</td>\n",
       "      <td>0.986406</td>\n",
       "      <td>0.992110</td>\n",
       "      <td>0.988026</td>\n",
       "    </tr>\n",
       "  </tbody>\n",
       "</table>\n",
       "</div>"
      ],
      "text/plain": [
       "       Unnamed: 0           0           1           2           3           4  \\\n",
       "count  406.000000  406.000000  406.000000  406.000000  406.000000  406.000000   \n",
       "mean   119.642857    2.280551    3.427080    2.308723    3.444539    0.783710   \n",
       "std     82.993428    1.528579    1.997288    1.468656    2.012483    0.143051   \n",
       "min      0.000000    0.237760    0.412626    0.263710    0.422268    0.443385   \n",
       "25%     50.250000    1.116119    1.873495    1.175295    1.885855    0.652260   \n",
       "50%    101.000000    1.926777    3.105852    1.875812    3.051050    0.818006   \n",
       "75%    187.750000    3.266900    4.806163    3.245159    4.860173    0.924600   \n",
       "max    289.000000    7.715732   10.384667    7.749449   10.185467    0.975367   \n",
       "\n",
       "                5           6           7           8           9          10  \\\n",
       "count  406.000000  406.000000  406.000000  406.000000  406.000000  406.000000   \n",
       "mean     0.733924    0.782894    0.733448    0.380017    0.361710    0.378066   \n",
       "std      0.152825    0.137752    0.153582    0.192999    0.189589    0.189943   \n",
       "min      0.418674    0.441471    0.407525    0.108920    0.097947    0.100415   \n",
       "25%      0.584210    0.648766    0.581552    0.161781    0.147753    0.164119   \n",
       "50%      0.764929    0.816421    0.762033    0.448742    0.433658    0.458468   \n",
       "75%      0.882448    0.912112    0.882361    0.548073    0.520619    0.539907   \n",
       "max      0.953346    0.974582    0.951708    0.771433    0.765493    0.768943   \n",
       "\n",
       "               11          12          13          14          15  \n",
       "count  406.000000  406.000000  406.000000  406.000000  406.000000  \n",
       "mean     0.361796    0.901214    0.851756    0.900254    0.851090  \n",
       "std      0.189904    0.066530    0.086483    0.064781    0.087233  \n",
       "min      0.095287    0.613236    0.515019    0.635982    0.482207  \n",
       "25%      0.145248    0.859728    0.797126    0.866279    0.801508  \n",
       "50%      0.436694    0.918594    0.863575    0.909716    0.862553  \n",
       "75%      0.519355    0.948706    0.912885    0.947458    0.912323  \n",
       "max      0.765491    0.991926    0.986406    0.992110    0.988026  "
      ]
     },
     "execution_count": 4,
     "metadata": {},
     "output_type": "execute_result"
    }
   ],
   "source": [
    "df.describe()"
   ]
  },
  {
   "cell_type": "code",
   "execution_count": 5,
   "metadata": {},
   "outputs": [],
   "source": [
    "df = df.rename(columns={'16': 'Class'})\n",
    "X = df.drop('Class',axis=1)\n",
    "y = df['Class']"
   ]
  },
  {
   "cell_type": "code",
   "execution_count": 6,
   "metadata": {},
   "outputs": [
    {
     "name": "stdout",
     "output_type": "stream",
     "text": [
      "<class 'pandas.core.frame.DataFrame'>\n",
      "Int64Index: 406 entries, 100 to 367\n",
      "Data columns (total 18 columns):\n",
      " #   Column      Non-Null Count  Dtype  \n",
      "---  ------      --------------  -----  \n",
      " 0   Unnamed: 0  406 non-null    int64  \n",
      " 1   0           406 non-null    float64\n",
      " 2   1           406 non-null    float64\n",
      " 3   2           406 non-null    float64\n",
      " 4   3           406 non-null    float64\n",
      " 5   4           406 non-null    float64\n",
      " 6   5           406 non-null    float64\n",
      " 7   6           406 non-null    float64\n",
      " 8   7           406 non-null    float64\n",
      " 9   8           406 non-null    float64\n",
      " 10  9           406 non-null    float64\n",
      " 11  10          406 non-null    float64\n",
      " 12  11          406 non-null    float64\n",
      " 13  12          406 non-null    float64\n",
      " 14  13          406 non-null    float64\n",
      " 15  14          406 non-null    float64\n",
      " 16  15          406 non-null    float64\n",
      " 17  Class       406 non-null    object \n",
      "dtypes: float64(16), int64(1), object(1)\n",
      "memory usage: 60.3+ KB\n"
     ]
    }
   ],
   "source": [
    "df.info()"
   ]
  },
  {
   "cell_type": "code",
   "execution_count": 7,
   "metadata": {},
   "outputs": [
    {
     "data": {
      "text/plain": [
       "Text(0.5, 1.0, 'Correlation between different fearures')"
      ]
     },
     "execution_count": 7,
     "metadata": {},
     "output_type": "execute_result"
    },
    {
     "data": {
      "image/png": "[encoded data removed]",
      "text/plain": [
       "<Figure size 720x720 with 2 Axes>"
      ]
     },
     "metadata": {
      "needs_background": "light"
     },
     "output_type": "display_data"
    }
   ],
   "source": [
    "correlation = df.corr()\n",
    "plt.figure(figsize=(10,10))\n",
    "sns.heatmap(correlation, vmax=1, square=True,annot=True,cmap='viridis')\n",
    "\n",
    "plt.title('Correlation between different fearures')"
   ]
  },
  {
   "cell_type": "code",
   "execution_count": 8,
   "metadata": {},
   "outputs": [
    {
     "data": {
      "text/html": [
       "<div>\n",
       "<style scoped>\n",
       "    .dataframe tbody tr th:only-of-type {\n",
       "        vertical-align: middle;\n",
       "    }\n",
       "\n",
       "    .dataframe tbody tr th {\n",
       "        vertical-align: top;\n",
       "    }\n",
       "\n",
       "    .dataframe thead th {\n",
       "        text-align: right;\n",
       "    }\n",
       "</style>\n",
       "<table border=\"1\" class=\"dataframe\">\n",
       "  <thead>\n",
       "    <tr style=\"text-align: right;\">\n",
       "      <th></th>\n",
       "      <th>Unnamed: 0</th>\n",
       "      <th>0</th>\n",
       "      <th>1</th>\n",
       "      <th>2</th>\n",
       "      <th>3</th>\n",
       "      <th>4</th>\n",
       "      <th>5</th>\n",
       "      <th>6</th>\n",
       "      <th>7</th>\n",
       "      <th>8</th>\n",
       "      <th>9</th>\n",
       "      <th>10</th>\n",
       "      <th>11</th>\n",
       "      <th>12</th>\n",
       "      <th>13</th>\n",
       "      <th>14</th>\n",
       "      <th>15</th>\n",
       "    </tr>\n",
       "  </thead>\n",
       "  <tbody>\n",
       "    <tr>\n",
       "      <th>100</th>\n",
       "      <td>100</td>\n",
       "      <td>2.886933</td>\n",
       "      <td>4.400415</td>\n",
       "      <td>2.758104</td>\n",
       "      <td>4.244306</td>\n",
       "      <td>0.644268</td>\n",
       "      <td>0.579012</td>\n",
       "      <td>0.639661</td>\n",
       "      <td>0.593431</td>\n",
       "      <td>0.182182</td>\n",
       "      <td>0.166673</td>\n",
       "      <td>0.179796</td>\n",
       "      <td>0.168091</td>\n",
       "      <td>0.905887</td>\n",
       "      <td>0.856556</td>\n",
       "      <td>0.910143</td>\n",
       "      <td>0.861650</td>\n",
       "    </tr>\n",
       "    <tr>\n",
       "      <th>138</th>\n",
       "      <td>138</td>\n",
       "      <td>4.261994</td>\n",
       "      <td>5.221945</td>\n",
       "      <td>4.025567</td>\n",
       "      <td>5.904760</td>\n",
       "      <td>0.596471</td>\n",
       "      <td>0.566428</td>\n",
       "      <td>0.606083</td>\n",
       "      <td>0.558320</td>\n",
       "      <td>0.162359</td>\n",
       "      <td>0.157156</td>\n",
       "      <td>0.164493</td>\n",
       "      <td>0.155654</td>\n",
       "      <td>0.887500</td>\n",
       "      <td>0.862098</td>\n",
       "      <td>0.893770</td>\n",
       "      <td>0.844057</td>\n",
       "    </tr>\n",
       "    <tr>\n",
       "      <th>223</th>\n",
       "      <td>223</td>\n",
       "      <td>2.491498</td>\n",
       "      <td>3.970150</td>\n",
       "      <td>3.005147</td>\n",
       "      <td>3.919785</td>\n",
       "      <td>0.884423</td>\n",
       "      <td>0.831520</td>\n",
       "      <td>0.866908</td>\n",
       "      <td>0.831144</td>\n",
       "      <td>0.516228</td>\n",
       "      <td>0.487783</td>\n",
       "      <td>0.506496</td>\n",
       "      <td>0.487582</td>\n",
       "      <td>0.895408</td>\n",
       "      <td>0.833099</td>\n",
       "      <td>0.873928</td>\n",
       "      <td>0.835217</td>\n",
       "    </tr>\n",
       "    <tr>\n",
       "      <th>354</th>\n",
       "      <td>64</td>\n",
       "      <td>0.892601</td>\n",
       "      <td>1.433033</td>\n",
       "      <td>0.917647</td>\n",
       "      <td>1.409335</td>\n",
       "      <td>0.936143</td>\n",
       "      <td>0.893173</td>\n",
       "      <td>0.926871</td>\n",
       "      <td>0.896396</td>\n",
       "      <td>0.577802</td>\n",
       "      <td>0.548910</td>\n",
       "      <td>0.569811</td>\n",
       "      <td>0.551191</td>\n",
       "      <td>0.916347</td>\n",
       "      <td>0.865581</td>\n",
       "      <td>0.914585</td>\n",
       "      <td>0.867797</td>\n",
       "    </tr>\n",
       "    <tr>\n",
       "      <th>364</th>\n",
       "      <td>74</td>\n",
       "      <td>1.387010</td>\n",
       "      <td>2.575748</td>\n",
       "      <td>1.727451</td>\n",
       "      <td>2.331903</td>\n",
       "      <td>0.924672</td>\n",
       "      <td>0.861910</td>\n",
       "      <td>0.902388</td>\n",
       "      <td>0.871551</td>\n",
       "      <td>0.532846</td>\n",
       "      <td>0.498379</td>\n",
       "      <td>0.520315</td>\n",
       "      <td>0.503554</td>\n",
       "      <td>0.934209</td>\n",
       "      <td>0.877860</td>\n",
       "      <td>0.918077</td>\n",
       "      <td>0.889424</td>\n",
       "    </tr>\n",
       "  </tbody>\n",
       "</table>\n",
       "</div>"
      ],
      "text/plain": [
       "     Unnamed: 0         0         1         2         3         4         5  \\\n",
       "100         100  2.886933  4.400415  2.758104  4.244306  0.644268  0.579012   \n",
       "138         138  4.261994  5.221945  4.025567  5.904760  0.596471  0.566428   \n",
       "223         223  2.491498  3.970150  3.005147  3.919785  0.884423  0.831520   \n",
       "354          64  0.892601  1.433033  0.917647  1.409335  0.936143  0.893173   \n",
       "364          74  1.387010  2.575748  1.727451  2.331903  0.924672  0.861910   \n",
       "\n",
       "            6         7         8         9        10        11        12  \\\n",
       "100  0.639661  0.593431  0.182182  0.166673  0.179796  0.168091  0.905887   \n",
       "138  0.606083  0.558320  0.162359  0.157156  0.164493  0.155654  0.887500   \n",
       "223  0.866908  0.831144  0.516228  0.487783  0.506496  0.487582  0.895408   \n",
       "354  0.926871  0.896396  0.577802  0.548910  0.569811  0.551191  0.916347   \n",
       "364  0.902388  0.871551  0.532846  0.498379  0.520315  0.503554  0.934209   \n",
       "\n",
       "           13        14        15  \n",
       "100  0.856556  0.910143  0.861650  \n",
       "138  0.862098  0.893770  0.844057  \n",
       "223  0.833099  0.873928  0.835217  \n",
       "354  0.865581  0.914585  0.867797  \n",
       "364  0.877860  0.918077  0.889424  "
      ]
     },
     "execution_count": 8,
     "metadata": {},
     "output_type": "execute_result"
    }
   ],
   "source": [
    "X.head()"
   ]
  },
  {
   "cell_type": "code",
   "execution_count": 9,
   "metadata": {},
   "outputs": [
    {
     "data": {
      "text/plain": [
       "100          Leaf Papaya Ringspot\n",
       "138        Leaf Papaya Black Spot\n",
       "223    Leaf Papaya Powdery Mildew\n",
       "354                Fruit Ringspot\n",
       "364          Fruit Powdery Mildew\n",
       "Name: Class, dtype: object"
      ]
     },
     "execution_count": 9,
     "metadata": {},
     "output_type": "execute_result"
    }
   ],
   "source": [
    "y.head()"
   ]
  },
  {
   "cell_type": "markdown",
   "metadata": {},
   "source": [
    "# Feature Scaling"
   ]
  },
  {
   "cell_type": "code",
   "execution_count": 10,
   "metadata": {},
   "outputs": [],
   "source": [
    "from sklearn.preprocessing import StandardScaler,RobustScaler,MinMaxScaler,MaxAbsScaler\n",
    "  \n",
    "scaler = MaxAbsScaler()\n",
    "\n",
    "X = scaler.fit_transform(X)\n",
    "\n",
    "X = pd.DataFrame(X)"
   ]
  },
  {
   "cell_type": "code",
   "execution_count": 11,
   "metadata": {},
   "outputs": [
    {
     "data": {
      "text/html": [
       "<div>\n",
       "<style scoped>\n",
       "    .dataframe tbody tr th:only-of-type {\n",
       "        vertical-align: middle;\n",
       "    }\n",
       "\n",
       "    .dataframe tbody tr th {\n",
       "        vertical-align: top;\n",
       "    }\n",
       "\n",
       "    .dataframe thead th {\n",
       "        text-align: right;\n",
       "    }\n",
       "</style>\n",
       "<table border=\"1\" class=\"dataframe\">\n",
       "  <thead>\n",
       "    <tr style=\"text-align: right;\">\n",
       "      <th></th>\n",
       "      <th>0</th>\n",
       "      <th>1</th>\n",
       "      <th>2</th>\n",
       "      <th>3</th>\n",
       "      <th>4</th>\n",
       "      <th>5</th>\n",
       "      <th>6</th>\n",
       "      <th>7</th>\n",
       "      <th>8</th>\n",
       "      <th>9</th>\n",
       "      <th>10</th>\n",
       "      <th>11</th>\n",
       "      <th>12</th>\n",
       "      <th>13</th>\n",
       "      <th>14</th>\n",
       "      <th>15</th>\n",
       "      <th>16</th>\n",
       "    </tr>\n",
       "  </thead>\n",
       "  <tbody>\n",
       "    <tr>\n",
       "      <th>0</th>\n",
       "      <td>0.346021</td>\n",
       "      <td>0.374162</td>\n",
       "      <td>0.423742</td>\n",
       "      <td>0.355910</td>\n",
       "      <td>0.416702</td>\n",
       "      <td>0.660540</td>\n",
       "      <td>0.607347</td>\n",
       "      <td>0.656344</td>\n",
       "      <td>0.623543</td>\n",
       "      <td>0.236160</td>\n",
       "      <td>0.217732</td>\n",
       "      <td>0.233823</td>\n",
       "      <td>0.219585</td>\n",
       "      <td>0.913261</td>\n",
       "      <td>0.868360</td>\n",
       "      <td>0.917381</td>\n",
       "      <td>0.872092</td>\n",
       "    </tr>\n",
       "    <tr>\n",
       "      <th>1</th>\n",
       "      <td>0.477509</td>\n",
       "      <td>0.552377</td>\n",
       "      <td>0.502851</td>\n",
       "      <td>0.519465</td>\n",
       "      <td>0.579724</td>\n",
       "      <td>0.611536</td>\n",
       "      <td>0.594148</td>\n",
       "      <td>0.621891</td>\n",
       "      <td>0.586650</td>\n",
       "      <td>0.210465</td>\n",
       "      <td>0.205300</td>\n",
       "      <td>0.213921</td>\n",
       "      <td>0.203338</td>\n",
       "      <td>0.894724</td>\n",
       "      <td>0.873979</td>\n",
       "      <td>0.900878</td>\n",
       "      <td>0.854286</td>\n",
       "    </tr>\n",
       "    <tr>\n",
       "      <th>2</th>\n",
       "      <td>0.771626</td>\n",
       "      <td>0.322911</td>\n",
       "      <td>0.382309</td>\n",
       "      <td>0.387789</td>\n",
       "      <td>0.384841</td>\n",
       "      <td>0.906759</td>\n",
       "      <td>0.872212</td>\n",
       "      <td>0.889518</td>\n",
       "      <td>0.873318</td>\n",
       "      <td>0.669180</td>\n",
       "      <td>0.637214</td>\n",
       "      <td>0.658692</td>\n",
       "      <td>0.636954</td>\n",
       "      <td>0.902696</td>\n",
       "      <td>0.844580</td>\n",
       "      <td>0.880878</td>\n",
       "      <td>0.845339</td>\n",
       "    </tr>\n",
       "    <tr>\n",
       "      <th>3</th>\n",
       "      <td>0.221453</td>\n",
       "      <td>0.115686</td>\n",
       "      <td>0.137995</td>\n",
       "      <td>0.118414</td>\n",
       "      <td>0.138367</td>\n",
       "      <td>0.959786</td>\n",
       "      <td>0.936883</td>\n",
       "      <td>0.951045</td>\n",
       "      <td>0.941881</td>\n",
       "      <td>0.748998</td>\n",
       "      <td>0.717067</td>\n",
       "      <td>0.741031</td>\n",
       "      <td>0.720049</td>\n",
       "      <td>0.923806</td>\n",
       "      <td>0.877509</td>\n",
       "      <td>0.921859</td>\n",
       "      <td>0.878314</td>\n",
       "    </tr>\n",
       "    <tr>\n",
       "      <th>4</th>\n",
       "      <td>0.256055</td>\n",
       "      <td>0.179764</td>\n",
       "      <td>0.248034</td>\n",
       "      <td>0.222913</td>\n",
       "      <td>0.228944</td>\n",
       "      <td>0.948025</td>\n",
       "      <td>0.904090</td>\n",
       "      <td>0.925924</td>\n",
       "      <td>0.915775</td>\n",
       "      <td>0.690722</td>\n",
       "      <td>0.651056</td>\n",
       "      <td>0.676662</td>\n",
       "      <td>0.657818</td>\n",
       "      <td>0.941813</td>\n",
       "      <td>0.889958</td>\n",
       "      <td>0.925378</td>\n",
       "      <td>0.900202</td>\n",
       "    </tr>\n",
       "  </tbody>\n",
       "</table>\n",
       "</div>"
      ],
      "text/plain": [
       "         0         1         2         3         4         5         6   \\\n",
       "0  0.346021  0.374162  0.423742  0.355910  0.416702  0.660540  0.607347   \n",
       "1  0.477509  0.552377  0.502851  0.519465  0.579724  0.611536  0.594148   \n",
       "2  0.771626  0.322911  0.382309  0.387789  0.384841  0.906759  0.872212   \n",
       "3  0.221453  0.115686  0.137995  0.118414  0.138367  0.959786  0.936883   \n",
       "4  0.256055  0.179764  0.248034  0.222913  0.228944  0.948025  0.904090   \n",
       "\n",
       "         7         8         9         10        11        12        13  \\\n",
       "0  0.656344  0.623543  0.236160  0.217732  0.233823  0.219585  0.913261   \n",
       "1  0.621891  0.586650  0.210465  0.205300  0.213921  0.203338  0.894724   \n",
       "2  0.889518  0.873318  0.669180  0.637214  0.658692  0.636954  0.902696   \n",
       "3  0.951045  0.941881  0.748998  0.717067  0.741031  0.720049  0.923806   \n",
       "4  0.925924  0.915775  0.690722  0.651056  0.676662  0.657818  0.941813   \n",
       "\n",
       "         14        15        16  \n",
       "0  0.868360  0.917381  0.872092  \n",
       "1  0.873979  0.900878  0.854286  \n",
       "2  0.844580  0.880878  0.845339  \n",
       "3  0.877509  0.921859  0.878314  \n",
       "4  0.889958  0.925378  0.900202  "
      ]
     },
     "execution_count": 11,
     "metadata": {},
     "output_type": "execute_result"
    }
   ],
   "source": [
    "X.head()"
   ]
  },
  {
   "cell_type": "code",
   "execution_count": 12,
   "metadata": {},
   "outputs": [
    {
     "data": {
      "text/plain": [
       "((304, 17), (102, 17))"
      ]
     },
     "execution_count": 12,
     "metadata": {},
     "output_type": "execute_result"
    }
   ],
   "source": [
    "from sklearn.model_selection import train_test_split\n",
    "  \n",
    "X_train, X_test, y_train, y_test = train_test_split(\n",
    "      X, y , test_size = 0.25, random_state=None)\n",
    "\n",
    "X_train.shape, X_test.shape\n"
   ]
  },
  {
   "cell_type": "code",
   "execution_count": 13,
   "metadata": {},
   "outputs": [
    {
     "data": {
      "text/html": [
       "<div>\n",
       "<style scoped>\n",
       "    .dataframe tbody tr th:only-of-type {\n",
       "        vertical-align: middle;\n",
       "    }\n",
       "\n",
       "    .dataframe tbody tr th {\n",
       "        vertical-align: top;\n",
       "    }\n",
       "\n",
       "    .dataframe thead th {\n",
       "        text-align: right;\n",
       "    }\n",
       "</style>\n",
       "<table border=\"1\" class=\"dataframe\">\n",
       "  <thead>\n",
       "    <tr style=\"text-align: right;\">\n",
       "      <th></th>\n",
       "      <th>0</th>\n",
       "      <th>1</th>\n",
       "      <th>2</th>\n",
       "      <th>3</th>\n",
       "      <th>4</th>\n",
       "      <th>5</th>\n",
       "      <th>6</th>\n",
       "      <th>7</th>\n",
       "      <th>8</th>\n",
       "      <th>9</th>\n",
       "      <th>10</th>\n",
       "      <th>11</th>\n",
       "      <th>12</th>\n",
       "      <th>13</th>\n",
       "      <th>14</th>\n",
       "      <th>15</th>\n",
       "      <th>16</th>\n",
       "    </tr>\n",
       "  </thead>\n",
       "  <tbody>\n",
       "    <tr>\n",
       "      <th>134</th>\n",
       "      <td>0.605536</td>\n",
       "      <td>0.431337</td>\n",
       "      <td>0.401022</td>\n",
       "      <td>0.337117</td>\n",
       "      <td>0.403578</td>\n",
       "      <td>0.575824</td>\n",
       "      <td>0.551459</td>\n",
       "      <td>0.643417</td>\n",
       "      <td>0.557579</td>\n",
       "      <td>0.194051</td>\n",
       "      <td>0.185236</td>\n",
       "      <td>0.214675</td>\n",
       "      <td>0.187182</td>\n",
       "      <td>0.764397</td>\n",
       "      <td>0.706036</td>\n",
       "      <td>0.816589</td>\n",
       "      <td>0.708852</td>\n",
       "    </tr>\n",
       "    <tr>\n",
       "      <th>49</th>\n",
       "      <td>0.757785</td>\n",
       "      <td>0.264881</td>\n",
       "      <td>0.249906</td>\n",
       "      <td>0.199651</td>\n",
       "      <td>0.247799</td>\n",
       "      <td>0.946946</td>\n",
       "      <td>0.953897</td>\n",
       "      <td>0.963710</td>\n",
       "      <td>0.959360</td>\n",
       "      <td>0.805176</td>\n",
       "      <td>0.803108</td>\n",
       "      <td>0.815891</td>\n",
       "      <td>0.804514</td>\n",
       "      <td>0.949285</td>\n",
       "      <td>0.938729</td>\n",
       "      <td>0.963430</td>\n",
       "      <td>0.939246</td>\n",
       "    </tr>\n",
       "    <tr>\n",
       "      <th>316</th>\n",
       "      <td>0.269896</td>\n",
       "      <td>0.154828</td>\n",
       "      <td>0.208085</td>\n",
       "      <td>0.194574</td>\n",
       "      <td>0.198602</td>\n",
       "      <td>0.957620</td>\n",
       "      <td>0.925023</td>\n",
       "      <td>0.938042</td>\n",
       "      <td>0.932946</td>\n",
       "      <td>0.698553</td>\n",
       "      <td>0.666430</td>\n",
       "      <td>0.686351</td>\n",
       "      <td>0.670691</td>\n",
       "      <td>0.952217</td>\n",
       "      <td>0.912084</td>\n",
       "      <td>0.937386</td>\n",
       "      <td>0.917071</td>\n",
       "    </tr>\n",
       "    <tr>\n",
       "      <th>164</th>\n",
       "      <td>0.750865</td>\n",
       "      <td>0.633188</td>\n",
       "      <td>0.586435</td>\n",
       "      <td>0.584539</td>\n",
       "      <td>0.612645</td>\n",
       "      <td>0.811094</td>\n",
       "      <td>0.786932</td>\n",
       "      <td>0.826513</td>\n",
       "      <td>0.785360</td>\n",
       "      <td>0.609011</td>\n",
       "      <td>0.588051</td>\n",
       "      <td>0.620234</td>\n",
       "      <td>0.586495</td>\n",
       "      <td>0.794380</td>\n",
       "      <td>0.745675</td>\n",
       "      <td>0.810015</td>\n",
       "      <td>0.737851</td>\n",
       "    </tr>\n",
       "    <tr>\n",
       "      <th>241</th>\n",
       "      <td>0.096886</td>\n",
       "      <td>0.123062</td>\n",
       "      <td>0.148754</td>\n",
       "      <td>0.136063</td>\n",
       "      <td>0.152895</td>\n",
       "      <td>0.969214</td>\n",
       "      <td>0.954833</td>\n",
       "      <td>0.962439</td>\n",
       "      <td>0.956689</td>\n",
       "      <td>0.726791</td>\n",
       "      <td>0.704385</td>\n",
       "      <td>0.722899</td>\n",
       "      <td>0.704552</td>\n",
       "      <td>0.953902</td>\n",
       "      <td>0.925029</td>\n",
       "      <td>0.947724</td>\n",
       "      <td>0.922820</td>\n",
       "    </tr>\n",
       "  </tbody>\n",
       "</table>\n",
       "</div>"
      ],
      "text/plain": [
       "           0         1         2         3         4         5         6   \\\n",
       "134  0.605536  0.431337  0.401022  0.337117  0.403578  0.575824  0.551459   \n",
       "49   0.757785  0.264881  0.249906  0.199651  0.247799  0.946946  0.953897   \n",
       "316  0.269896  0.154828  0.208085  0.194574  0.198602  0.957620  0.925023   \n",
       "164  0.750865  0.633188  0.586435  0.584539  0.612645  0.811094  0.786932   \n",
       "241  0.096886  0.123062  0.148754  0.136063  0.152895  0.969214  0.954833   \n",
       "\n",
       "           7         8         9         10        11        12        13  \\\n",
       "134  0.643417  0.557579  0.194051  0.185236  0.214675  0.187182  0.764397   \n",
       "49   0.963710  0.959360  0.805176  0.803108  0.815891  0.804514  0.949285   \n",
       "316  0.938042  0.932946  0.698553  0.666430  0.686351  0.670691  0.952217   \n",
       "164  0.826513  0.785360  0.609011  0.588051  0.620234  0.586495  0.794380   \n",
       "241  0.962439  0.956689  0.726791  0.704385  0.722899  0.704552  0.953902   \n",
       "\n",
       "           14        15        16  \n",
       "134  0.706036  0.816589  0.708852  \n",
       "49   0.938729  0.963430  0.939246  \n",
       "316  0.912084  0.937386  0.917071  \n",
       "164  0.745675  0.810015  0.737851  \n",
       "241  0.925029  0.947724  0.922820  "
      ]
     },
     "execution_count": 13,
     "metadata": {},
     "output_type": "execute_result"
    }
   ],
   "source": [
    "X_train.head()"
   ]
  },
  {
   "cell_type": "markdown",
   "metadata": {},
   "source": [
    "# Model training"
   ]
  },
  {
   "cell_type": "markdown",
   "metadata": {},
   "source": [
    "## KNN"
   ]
  },
  {
   "cell_type": "code",
   "execution_count": 14,
   "metadata": {},
   "outputs": [
    {
     "data": {
      "image/png": "[encoded data removed]",
      "text/plain": [
       "<Figure size 432x288 with 2 Axes>"
      ]
     },
     "metadata": {
      "needs_background": "light"
     },
     "output_type": "display_data"
    }
   ],
   "source": [
    "# Remember that we are trying to come up\n",
    "# with a model to predict whether\n",
    "# someone will TARGET CLASS or not.\n",
    "# We'll start with k = 1.\n",
    "\n",
    "from sklearn.neighbors import KNeighborsClassifier\n",
    "  \n",
    "knn = KNeighborsClassifier(n_neighbors = 1)\n",
    "  \n",
    "knn.fit(X_train, y_train)\n",
    "pred = knn.predict(X_test)\n",
    "\n",
    "plot_confusion_matrix(knn, X_test, y_test)\n",
    "plt.xticks(rotation = 90)\n",
    "plt.show()\n",
    "\n",
    "# Predictions and Evaluations\n",
    "# Let's evaluate our KNN model ! \n"
   ]
  },
  {
   "cell_type": "code",
   "execution_count": 15,
   "metadata": {},
   "outputs": [
    {
     "name": "stdout",
     "output_type": "stream",
     "text": [
      "                            precision    recall  f1-score   support\n",
      "\n",
      "          Fruit Black Spot       0.62      0.62      0.62         8\n",
      "      Fruit Powdery Mildew       0.83      1.00      0.91        10\n",
      "            Fruit Ringspot       0.71      0.45      0.56        11\n",
      "    Leaf Papaya Black Spot       0.50      0.60      0.55         5\n",
      "Leaf Papaya Powdery Mildew       1.00      1.00      1.00        22\n",
      "      Leaf Papaya Ringspot       0.74      0.74      0.74        19\n",
      "         Papaya Fresh Leaf       0.81      0.85      0.83        20\n",
      "          Papaya Leaf Curl       1.00      1.00      1.00         7\n",
      "\n",
      "                  accuracy                           0.81       102\n",
      "                 macro avg       0.78      0.78      0.78       102\n",
      "              weighted avg       0.81      0.81      0.81       102\n",
      "\n"
     ]
    }
   ],
   "source": [
    "from sklearn.metrics import classification_report  \n",
    "print(classification_report(y_test, pred))\n"
   ]
  },
  {
   "cell_type": "code",
   "execution_count": 16,
   "metadata": {},
   "outputs": [],
   "source": [
    "from sklearn import metrics\n",
    "error_rate = []\n",
    "scores = []\n",
    "\n",
    "k=50\n",
    "max_accuracy=0\n",
    "best_k=1\n",
    "\n",
    "for i in range(1, k):\n",
    "      \n",
    "    knn = KNeighborsClassifier(n_neighbors = i)\n",
    "    knn.fit(X_train, y_train)\n",
    "    pred_i = knn.predict(X_test)\n",
    "    error_rate.append(np.mean(pred_i != y_test))\n",
    "    y_predict = knn.predict(X_test)\n",
    "    curr_accuracy=metrics.accuracy_score(y_test,y_predict)\n",
    "    if curr_accuracy>max_accuracy:\n",
    "        max_accuracy=curr_accuracy\n",
    "        best_k=i\n",
    "    scores.append(curr_accuracy)\n",
    "  \n"
   ]
  },
  {
   "cell_type": "code",
   "execution_count": 17,
   "metadata": {},
   "outputs": [
    {
     "data": {
      "text/plain": [
       "Text(0, 0.5, 'Error Rate')"
      ]
     },
     "execution_count": 17,
     "metadata": {},
     "output_type": "execute_result"
    },
    {
     "data": {
      "image/png": "[encoded data removed]",
      "text/plain": [
       "<Figure size 720x432 with 1 Axes>"
      ]
     },
     "metadata": {
      "needs_background": "light"
     },
     "output_type": "display_data"
    }
   ],
   "source": [
    "plt.figure(figsize =(10, 6))\n",
    "plt.plot(range(1, k), error_rate, color ='blue',\n",
    "                linestyle ='dashed', marker ='o',\n",
    "         markerfacecolor ='red', markersize = 10)\n",
    "  \n",
    "plt.title('Error Rate vs. K Value')\n",
    "plt.xlabel('K')\n",
    "plt.ylabel('Error Rate')"
   ]
  },
  {
   "cell_type": "code",
   "execution_count": 18,
   "metadata": {},
   "outputs": [
    {
     "data": {
      "text/plain": [
       "Text(0, 0.5, 'Accuracy')"
      ]
     },
     "execution_count": 18,
     "metadata": {},
     "output_type": "execute_result"
    },
    {
     "data": {
      "image/png": "[encoded data removed]",
      "text/plain": [
       "<Figure size 432x288 with 1 Axes>"
      ]
     },
     "metadata": {
      "needs_background": "light"
     },
     "output_type": "display_data"
    }
   ],
   "source": [
    "plt.plot(np.arange(1,k),scores)\n",
    "plt.title('Varition of accuracy with K value')\n",
    "plt.xlabel('K values')\n",
    "plt.ylabel('Accuracy')"
   ]
  },
  {
   "cell_type": "code",
   "execution_count": 19,
   "metadata": {},
   "outputs": [
    {
     "name": "stdout",
     "output_type": "stream",
     "text": [
      "                            precision    recall  f1-score   support\n",
      "\n",
      "          Fruit Black Spot       0.86      0.75      0.80         8\n",
      "      Fruit Powdery Mildew       0.82      0.90      0.86        10\n",
      "            Fruit Ringspot       0.70      0.64      0.67        11\n",
      "    Leaf Papaya Black Spot       0.80      0.80      0.80         5\n",
      "Leaf Papaya Powdery Mildew       1.00      1.00      1.00        22\n",
      "      Leaf Papaya Ringspot       0.78      0.95      0.86        19\n",
      "         Papaya Fresh Leaf       0.94      0.80      0.86        20\n",
      "          Papaya Leaf Curl       1.00      1.00      1.00         7\n",
      "\n",
      "                  accuracy                           0.87       102\n",
      "                 macro avg       0.86      0.85      0.86       102\n",
      "              weighted avg       0.88      0.87      0.87       102\n",
      "\n",
      "Accuracy for k = 7 is 87.25490196078431%\n"
     ]
    }
   ],
   "source": [
    "knn = KNeighborsClassifier(n_neighbors = best_k)\n",
    "  \n",
    "knn.fit(X_train, y_train)\n",
    "pred = knn.predict(X_test)\n",
    "from sklearn.metrics import classification_report  \n",
    "print(classification_report(y_test, pred))\n",
    "\n",
    "print(\"Accuracy for k = {} is {}%\".format(best_k,max_accuracy*100))"
   ]
  },
  {
   "cell_type": "markdown",
   "metadata": {},
   "source": [
    "## SVM"
   ]
  },
  {
   "cell_type": "code",
   "execution_count": 20,
   "metadata": {},
   "outputs": [
    {
     "name": "stdout",
     "output_type": "stream",
     "text": [
      "best hyperlink parameters\n",
      "{'C': 4, 'kernel': 'poly'}\n",
      "Accuracy Score:\n",
      "                            precision    recall  f1-score   support\n",
      "\n",
      "          Fruit Black Spot       1.00      0.88      0.93         8\n",
      "      Fruit Powdery Mildew       0.90      0.90      0.90        10\n",
      "            Fruit Ringspot       0.83      0.91      0.87        11\n",
      "    Leaf Papaya Black Spot       0.80      0.80      0.80         5\n",
      "Leaf Papaya Powdery Mildew       1.00      1.00      1.00        22\n",
      "      Leaf Papaya Ringspot       0.89      0.84      0.86        19\n",
      "         Papaya Fresh Leaf       0.90      0.95      0.93        20\n",
      "          Papaya Leaf Curl       1.00      1.00      1.00         7\n",
      "\n",
      "                  accuracy                           0.92       102\n",
      "                 macro avg       0.92      0.91      0.91       102\n",
      "              weighted avg       0.92      0.92      0.92       102\n",
      "\n"
     ]
    }
   ],
   "source": [
    "from sklearn.svm import SVC\n",
    "svm_model= SVC()\n",
    "tuned_parameters = {\n",
    " 'C': (np.arange(1,30)) , 'kernel': ['linear'],\n",
    " 'C': (np.arange(1,30)) ,  'kernel': ['rbf'],\n",
    " 'C':(np.arange(1,30)) , 'kernel':['poly']\n",
    "                   }\n",
    "from sklearn.model_selection import GridSearchCV\n",
    "\n",
    "model_svm = GridSearchCV(svm_model, tuned_parameters,cv=10,scoring='accuracy')\n",
    "\n",
    "model_svm.fit(X_train,y_train)\n",
    "print('best hyperlink parameters')\n",
    "print(model_svm.best_params_)\n",
    "y_pred= model_svm.predict(X_test)\n",
    "print('Accuracy Score:')\n",
    "\n",
    "print(classification_report(y_test, y_pred))"
   ]
  },
  {
   "cell_type": "code",
   "execution_count": 21,
   "metadata": {},
   "outputs": [
    {
     "name": "stdout",
     "output_type": "stream",
     "text": [
      "Model accuracy score: 92.1569%\n"
     ]
    }
   ],
   "source": [
    "print('Model accuracy score: {0:0.4f}%'. format(accuracy_score(y_pred,y_test)*100))"
   ]
  },
  {
   "cell_type": "markdown",
   "metadata": {},
   "source": [
    "## Naive Bayes"
   ]
  },
  {
   "cell_type": "code",
   "execution_count": 22,
   "metadata": {},
   "outputs": [
    {
     "name": "stdout",
     "output_type": "stream",
     "text": [
      "                            precision    recall  f1-score   support\n",
      "\n",
      "          Fruit Black Spot       0.67      0.50      0.57         8\n",
      "      Fruit Powdery Mildew       0.80      0.80      0.80        10\n",
      "            Fruit Ringspot       0.55      0.55      0.55        11\n",
      "    Leaf Papaya Black Spot       0.75      0.60      0.67         5\n",
      "Leaf Papaya Powdery Mildew       1.00      1.00      1.00        22\n",
      "      Leaf Papaya Ringspot       0.75      0.79      0.77        19\n",
      "         Papaya Fresh Leaf       0.68      0.75      0.71        20\n",
      "          Papaya Leaf Curl       1.00      1.00      1.00         7\n",
      "\n",
      "                  accuracy                           0.78       102\n",
      "                 macro avg       0.77      0.75      0.76       102\n",
      "              weighted avg       0.78      0.78      0.78       102\n",
      "\n"
     ]
    }
   ],
   "source": [
    "from sklearn.naive_bayes import GaussianNB,CategoricalNB\n",
    "\n",
    "# instantiate the model\n",
    "gnb = GaussianNB()\n",
    "\n",
    "# fit the model\n",
    "gnb.fit(X_train, y_train)\n",
    "y_pred = gnb.predict(X_test)\n",
    "print(classification_report(y_test, y_pred))\n",
    "\n"
   ]
  },
  {
   "cell_type": "code",
   "execution_count": 23,
   "metadata": {},
   "outputs": [
    {
     "name": "stdout",
     "output_type": "stream",
     "text": [
      "Model accuracy score: 78.4314%\n"
     ]
    }
   ],
   "source": [
    "print('Model accuracy score: {0:0.4f}%'. format(accuracy_score(y_test, y_pred)*100))"
   ]
  },
  {
   "cell_type": "markdown",
   "metadata": {},
   "source": [
    "## Logistic regression"
   ]
  },
  {
   "cell_type": "code",
   "execution_count": 24,
   "metadata": {},
   "outputs": [
    {
     "name": "stdout",
     "output_type": "stream",
     "text": [
      "                            precision    recall  f1-score   support\n",
      "\n",
      "          Fruit Black Spot       0.67      0.50      0.57         8\n",
      "      Fruit Powdery Mildew       0.80      0.80      0.80        10\n",
      "            Fruit Ringspot       0.55      0.55      0.55        11\n",
      "    Leaf Papaya Black Spot       0.75      0.60      0.67         5\n",
      "Leaf Papaya Powdery Mildew       1.00      1.00      1.00        22\n",
      "      Leaf Papaya Ringspot       0.75      0.79      0.77        19\n",
      "         Papaya Fresh Leaf       0.68      0.75      0.71        20\n",
      "          Papaya Leaf Curl       1.00      1.00      1.00         7\n",
      "\n",
      "                  accuracy                           0.78       102\n",
      "                 macro avg       0.77      0.75      0.76       102\n",
      "              weighted avg       0.78      0.78      0.78       102\n",
      "\n"
     ]
    }
   ],
   "source": [
    "from sklearn.linear_model import LogisticRegression\n",
    "\n",
    "lr = LogisticRegression(solver='lbfgs', max_iter=1000)\n",
    "\n",
    "# fit the model\n",
    "lr.fit(X_train, y_train)\n",
    "y_pred = gnb.predict(X_test)\n",
    "\n",
    "print(classification_report(y_test, y_pred))\n"
   ]
  },
  {
   "cell_type": "code",
   "execution_count": 25,
   "metadata": {},
   "outputs": [
    {
     "name": "stdout",
     "output_type": "stream",
     "text": [
      "Model accuracy score: 78.4314%\n"
     ]
    }
   ],
   "source": [
    "print('Model accuracy score: {0:0.4f}%'. format(accuracy_score(y_test, y_pred)*100))"
   ]
  },
  {
   "cell_type": "markdown",
   "metadata": {},
   "source": [
    "# K-Fold Cross Validation"
   ]
  },
  {
   "cell_type": "code",
   "execution_count": 26,
   "metadata": {},
   "outputs": [
    {
     "name": "stdout",
     "output_type": "stream",
     "text": [
      "Fold:1, Train set: 304, Test set:102\n",
      "Fold:2, Train set: 304, Test set:102\n",
      "Fold:3, Train set: 305, Test set:101\n",
      "Fold:4, Train set: 305, Test set:101\n"
     ]
    }
   ],
   "source": [
    "from sklearn.model_selection import KFold, StratifiedKFold\n",
    "\n",
    "kf = StratifiedKFold(n_splits=4, shuffle=True, random_state=42)\n",
    "\n",
    "cnt = 1\n",
    "# split()  method generate indices to split data into training and test set.\n",
    "for train_index, test_index in kf.split(X, y):\n",
    "    print(f'Fold:{cnt}, Train set: {len(train_index)}, Test set:{len(test_index)}')\n",
    "    cnt += 1\n"
   ]
  },
  {
   "cell_type": "code",
   "execution_count": 27,
   "metadata": {},
   "outputs": [
    {
     "name": "stdout",
     "output_type": "stream",
     "text": [
      "Scores for each fold are:\n",
      "[0.76470588 0.68627451 0.67326733 0.75247525]\n",
      "Model accuracy score for Logistic Regression: 71.9181%\n"
     ]
    }
   ],
   "source": [
    "score = cross_val_score(lr, X, y, cv= kf, scoring=\"accuracy\")\n",
    "print('Scores for each fold are:')\n",
    "print(score)\n",
    "print('Model accuracy score for Logistic Regression: {0:0.4f}%'.format(score.mean()*100))"
   ]
  },
  {
   "cell_type": "code",
   "execution_count": 28,
   "metadata": {},
   "outputs": [
    {
     "name": "stdout",
     "output_type": "stream",
     "text": [
      "Scores for each fold are:\n",
      "[0.80392157 0.83333333 0.83168317 0.83168317]\n",
      "Model accuracy score for Gaussian Naive Bayes: 82.5155%\n"
     ]
    }
   ],
   "source": [
    "score = cross_val_score(gnb, X, y, cv= kf, scoring=\"accuracy\")\n",
    "print('Scores for each fold are:')\n",
    "print(score)\n",
    "print('Model accuracy score for Gaussian Naive Bayes: {0:0.4f}%'.format(score.mean()*100))"
   ]
  }
 ],
 "metadata": {
  "kernelspec": {
   "display_name": "Python 3",
   "language": "python",
   "name": "python3"
  },
  "language_info": {
   "codemirror_mode": {
    "name": "ipython",
    "version": 3
   },
   "file_extension": ".py",
   "mimetype": "text/x-python",
   "name": "python",
   "nbconvert_exporter": "python",
   "pygments_lexer": "ipython3",
   "version": "3.7.3"
  }
 },
 "nbformat": 4,
 "nbformat_minor": 4
}
