{
 "cells": [
  {
   "cell_type": "code",
   "execution_count": 50,
   "metadata": {},
   "outputs": [],
   "source": [
    "import numpy as np\n",
    "import pandas as pd\n",
    "import matplotlib.pyplot as plt\n",
    "import seaborn as sns\n",
    "from sklearn.metrics import accuracy_score\n",
    "from sklearn.metrics import plot_confusion_matrix\n",
    "from sklearn.model_selection import cross_val_score\n",
    "from sklearn.utils import shuffle"
   ]
  },
  {
   "cell_type": "code",
   "execution_count": 51,
   "metadata": {},
   "outputs": [
    {
     "data": {
      "text/html": [
       "<div>\n",
       "<style scoped>\n",
       "    .dataframe tbody tr th:only-of-type {\n",
       "        vertical-align: middle;\n",
       "    }\n",
       "\n",
       "    .dataframe tbody tr th {\n",
       "        vertical-align: top;\n",
       "    }\n",
       "\n",
       "    .dataframe thead th {\n",
       "        text-align: right;\n",
       "    }\n",
       "</style>\n",
       "<table border=\"1\" class=\"dataframe\">\n",
       "  <thead>\n",
       "    <tr style=\"text-align: right;\">\n",
       "      <th></th>\n",
       "      <th>Unnamed: 0</th>\n",
       "      <th>0</th>\n",
       "      <th>1</th>\n",
       "      <th>2</th>\n",
       "      <th>3</th>\n",
       "      <th>4</th>\n",
       "      <th>5</th>\n",
       "      <th>6</th>\n",
       "      <th>7</th>\n",
       "      <th>8</th>\n",
       "      <th>9</th>\n",
       "      <th>10</th>\n",
       "      <th>11</th>\n",
       "      <th>12</th>\n",
       "      <th>13</th>\n",
       "      <th>14</th>\n",
       "      <th>15</th>\n",
       "      <th>16</th>\n",
       "    </tr>\n",
       "  </thead>\n",
       "  <tbody>\n",
       "    <tr>\n",
       "      <th>67</th>\n",
       "      <td>3</td>\n",
       "      <td>2.156127</td>\n",
       "      <td>3.455794</td>\n",
       "      <td>2.371661</td>\n",
       "      <td>3.623699</td>\n",
       "      <td>0.898994</td>\n",
       "      <td>0.837025</td>\n",
       "      <td>0.884491</td>\n",
       "      <td>0.832015</td>\n",
       "      <td>0.551475</td>\n",
       "      <td>0.516888</td>\n",
       "      <td>0.543387</td>\n",
       "      <td>0.514410</td>\n",
       "      <td>0.897164</td>\n",
       "      <td>0.834941</td>\n",
       "      <td>0.886925</td>\n",
       "      <td>0.826907</td>\n",
       "      <td>Papaya Black Spot</td>\n",
       "    </tr>\n",
       "    <tr>\n",
       "      <th>162</th>\n",
       "      <td>10</td>\n",
       "      <td>4.365931</td>\n",
       "      <td>6.370965</td>\n",
       "      <td>4.911275</td>\n",
       "      <td>6.028205</td>\n",
       "      <td>0.764815</td>\n",
       "      <td>0.692361</td>\n",
       "      <td>0.746193</td>\n",
       "      <td>0.703845</td>\n",
       "      <td>0.451335</td>\n",
       "      <td>0.418964</td>\n",
       "      <td>0.442486</td>\n",
       "      <td>0.423954</td>\n",
       "      <td>0.777343</td>\n",
       "      <td>0.675004</td>\n",
       "      <td>0.749468</td>\n",
       "      <td>0.692493</td>\n",
       "      <td>Papaya Ringspot</td>\n",
       "    </tr>\n",
       "    <tr>\n",
       "      <th>211</th>\n",
       "      <td>59</td>\n",
       "      <td>2.874923</td>\n",
       "      <td>3.655087</td>\n",
       "      <td>2.354948</td>\n",
       "      <td>3.425636</td>\n",
       "      <td>0.810160</td>\n",
       "      <td>0.776484</td>\n",
       "      <td>0.840345</td>\n",
       "      <td>0.782937</td>\n",
       "      <td>0.491415</td>\n",
       "      <td>0.474770</td>\n",
       "      <td>0.507638</td>\n",
       "      <td>0.477296</td>\n",
       "      <td>0.772577</td>\n",
       "      <td>0.711078</td>\n",
       "      <td>0.813825</td>\n",
       "      <td>0.729211</td>\n",
       "      <td>Papaya Ringspot</td>\n",
       "    </tr>\n",
       "    <tr>\n",
       "      <th>264</th>\n",
       "      <td>39</td>\n",
       "      <td>2.563588</td>\n",
       "      <td>3.928520</td>\n",
       "      <td>3.288664</td>\n",
       "      <td>3.930996</td>\n",
       "      <td>0.877886</td>\n",
       "      <td>0.821797</td>\n",
       "      <td>0.843872</td>\n",
       "      <td>0.818649</td>\n",
       "      <td>0.550717</td>\n",
       "      <td>0.520026</td>\n",
       "      <td>0.531096</td>\n",
       "      <td>0.518104</td>\n",
       "      <td>0.862733</td>\n",
       "      <td>0.789583</td>\n",
       "      <td>0.824200</td>\n",
       "      <td>0.789453</td>\n",
       "      <td>Powdery Mildew</td>\n",
       "    </tr>\n",
       "    <tr>\n",
       "      <th>18</th>\n",
       "      <td>18</td>\n",
       "      <td>0.483012</td>\n",
       "      <td>0.841461</td>\n",
       "      <td>0.600429</td>\n",
       "      <td>0.874064</td>\n",
       "      <td>0.985099</td>\n",
       "      <td>0.973304</td>\n",
       "      <td>0.979247</td>\n",
       "      <td>0.972464</td>\n",
       "      <td>0.627264</td>\n",
       "      <td>0.619364</td>\n",
       "      <td>0.623267</td>\n",
       "      <td>0.618596</td>\n",
       "      <td>0.979188</td>\n",
       "      <td>0.963845</td>\n",
       "      <td>0.974136</td>\n",
       "      <td>0.962445</td>\n",
       "      <td>Fresh Papaya Leaf</td>\n",
       "    </tr>\n",
       "  </tbody>\n",
       "</table>\n",
       "</div>"
      ],
      "text/plain": [
       "     Unnamed: 0         0         1         2         3         4         5  \\\n",
       "67            3  2.156127  3.455794  2.371661  3.623699  0.898994  0.837025   \n",
       "162          10  4.365931  6.370965  4.911275  6.028205  0.764815  0.692361   \n",
       "211          59  2.874923  3.655087  2.354948  3.425636  0.810160  0.776484   \n",
       "264          39  2.563588  3.928520  3.288664  3.930996  0.877886  0.821797   \n",
       "18           18  0.483012  0.841461  0.600429  0.874064  0.985099  0.973304   \n",
       "\n",
       "            6         7         8         9        10        11        12  \\\n",
       "67   0.884491  0.832015  0.551475  0.516888  0.543387  0.514410  0.897164   \n",
       "162  0.746193  0.703845  0.451335  0.418964  0.442486  0.423954  0.777343   \n",
       "211  0.840345  0.782937  0.491415  0.474770  0.507638  0.477296  0.772577   \n",
       "264  0.843872  0.818649  0.550717  0.520026  0.531096  0.518104  0.862733   \n",
       "18   0.979247  0.972464  0.627264  0.619364  0.623267  0.618596  0.979188   \n",
       "\n",
       "           13        14        15                 16  \n",
       "67   0.834941  0.886925  0.826907  Papaya Black Spot  \n",
       "162  0.675004  0.749468  0.692493    Papaya Ringspot  \n",
       "211  0.711078  0.813825  0.729211    Papaya Ringspot  \n",
       "264  0.789583  0.824200  0.789453     Powdery Mildew  \n",
       "18   0.963845  0.974136  0.962445  Fresh Papaya Leaf  "
      ]
     },
     "execution_count": 51,
     "metadata": {},
     "output_type": "execute_result"
    }
   ],
   "source": [
    "path = r\"C:\\Users\\Arifin\\Downloads\\papaya\\Combined_Leaf.csv\"\n",
    "df = pd.read_csv(path)\n",
    "df = shuffle(df)\n",
    "df.head()"
   ]
  },
  {
   "cell_type": "code",
   "execution_count": 52,
   "metadata": {},
   "outputs": [
    {
     "data": {
      "text/plain": [
       "(290, 18)"
      ]
     },
     "execution_count": 52,
     "metadata": {},
     "output_type": "execute_result"
    }
   ],
   "source": [
    "df.shape"
   ]
  },
  {
   "cell_type": "code",
   "execution_count": 53,
   "metadata": {},
   "outputs": [
    {
     "data": {
      "text/html": [
       "<div>\n",
       "<style scoped>\n",
       "    .dataframe tbody tr th:only-of-type {\n",
       "        vertical-align: middle;\n",
       "    }\n",
       "\n",
       "    .dataframe tbody tr th {\n",
       "        vertical-align: top;\n",
       "    }\n",
       "\n",
       "    .dataframe thead th {\n",
       "        text-align: right;\n",
       "    }\n",
       "</style>\n",
       "<table border=\"1\" class=\"dataframe\">\n",
       "  <thead>\n",
       "    <tr style=\"text-align: right;\">\n",
       "      <th></th>\n",
       "      <th>Unnamed: 0</th>\n",
       "      <th>0</th>\n",
       "      <th>1</th>\n",
       "      <th>2</th>\n",
       "      <th>3</th>\n",
       "      <th>4</th>\n",
       "      <th>5</th>\n",
       "      <th>6</th>\n",
       "      <th>7</th>\n",
       "      <th>8</th>\n",
       "      <th>9</th>\n",
       "      <th>10</th>\n",
       "      <th>11</th>\n",
       "      <th>12</th>\n",
       "      <th>13</th>\n",
       "      <th>14</th>\n",
       "      <th>15</th>\n",
       "    </tr>\n",
       "  </thead>\n",
       "  <tbody>\n",
       "    <tr>\n",
       "      <th>count</th>\n",
       "      <td>290.000000</td>\n",
       "      <td>290.000000</td>\n",
       "      <td>290.000000</td>\n",
       "      <td>290.000000</td>\n",
       "      <td>290.000000</td>\n",
       "      <td>290.000000</td>\n",
       "      <td>290.000000</td>\n",
       "      <td>290.000000</td>\n",
       "      <td>290.000000</td>\n",
       "      <td>290.000000</td>\n",
       "      <td>290.000000</td>\n",
       "      <td>290.000000</td>\n",
       "      <td>290.000000</td>\n",
       "      <td>290.000000</td>\n",
       "      <td>290.000000</td>\n",
       "      <td>290.000000</td>\n",
       "      <td>290.000000</td>\n",
       "    </tr>\n",
       "    <tr>\n",
       "      <th>mean</th>\n",
       "      <td>30.055172</td>\n",
       "      <td>2.860222</td>\n",
       "      <td>4.144736</td>\n",
       "      <td>2.996796</td>\n",
       "      <td>4.160764</td>\n",
       "      <td>0.864185</td>\n",
       "      <td>0.812605</td>\n",
       "      <td>0.855199</td>\n",
       "      <td>0.812221</td>\n",
       "      <td>0.544492</td>\n",
       "      <td>0.519304</td>\n",
       "      <td>0.539269</td>\n",
       "      <td>0.519143</td>\n",
       "      <td>0.864204</td>\n",
       "      <td>0.803904</td>\n",
       "      <td>0.858076</td>\n",
       "      <td>0.803259</td>\n",
       "    </tr>\n",
       "    <tr>\n",
       "      <th>std</th>\n",
       "      <td>18.916235</td>\n",
       "      <td>1.517617</td>\n",
       "      <td>1.912257</td>\n",
       "      <td>1.488843</td>\n",
       "      <td>1.936025</td>\n",
       "      <td>0.069528</td>\n",
       "      <td>0.081898</td>\n",
       "      <td>0.066046</td>\n",
       "      <td>0.081877</td>\n",
       "      <td>0.089408</td>\n",
       "      <td>0.097038</td>\n",
       "      <td>0.090155</td>\n",
       "      <td>0.097035</td>\n",
       "      <td>0.076587</td>\n",
       "      <td>0.101239</td>\n",
       "      <td>0.078039</td>\n",
       "      <td>0.101601</td>\n",
       "    </tr>\n",
       "    <tr>\n",
       "      <th>min</th>\n",
       "      <td>0.000000</td>\n",
       "      <td>0.345971</td>\n",
       "      <td>0.545529</td>\n",
       "      <td>0.304810</td>\n",
       "      <td>0.539146</td>\n",
       "      <td>0.537761</td>\n",
       "      <td>0.467737</td>\n",
       "      <td>0.670416</td>\n",
       "      <td>0.461763</td>\n",
       "      <td>0.420645</td>\n",
       "      <td>0.387545</td>\n",
       "      <td>0.400065</td>\n",
       "      <td>0.384455</td>\n",
       "      <td>0.645898</td>\n",
       "      <td>0.507461</td>\n",
       "      <td>0.621925</td>\n",
       "      <td>0.487453</td>\n",
       "    </tr>\n",
       "    <tr>\n",
       "      <th>25%</th>\n",
       "      <td>14.000000</td>\n",
       "      <td>1.780423</td>\n",
       "      <td>2.907874</td>\n",
       "      <td>1.942383</td>\n",
       "      <td>2.874679</td>\n",
       "      <td>0.820906</td>\n",
       "      <td>0.757347</td>\n",
       "      <td>0.812508</td>\n",
       "      <td>0.757834</td>\n",
       "      <td>0.489837</td>\n",
       "      <td>0.455658</td>\n",
       "      <td>0.482308</td>\n",
       "      <td>0.454216</td>\n",
       "      <td>0.810360</td>\n",
       "      <td>0.730175</td>\n",
       "      <td>0.802923</td>\n",
       "      <td>0.730423</td>\n",
       "    </tr>\n",
       "    <tr>\n",
       "      <th>50%</th>\n",
       "      <td>28.500000</td>\n",
       "      <td>2.745818</td>\n",
       "      <td>4.079493</td>\n",
       "      <td>2.937561</td>\n",
       "      <td>4.063968</td>\n",
       "      <td>0.860340</td>\n",
       "      <td>0.797348</td>\n",
       "      <td>0.843777</td>\n",
       "      <td>0.795867</td>\n",
       "      <td>0.513337</td>\n",
       "      <td>0.482950</td>\n",
       "      <td>0.506922</td>\n",
       "      <td>0.483014</td>\n",
       "      <td>0.862505</td>\n",
       "      <td>0.801383</td>\n",
       "      <td>0.858441</td>\n",
       "      <td>0.794535</td>\n",
       "    </tr>\n",
       "    <tr>\n",
       "      <th>75%</th>\n",
       "      <td>45.000000</td>\n",
       "      <td>3.599219</td>\n",
       "      <td>5.232049</td>\n",
       "      <td>3.867119</td>\n",
       "      <td>5.237528</td>\n",
       "      <td>0.906182</td>\n",
       "      <td>0.859599</td>\n",
       "      <td>0.901021</td>\n",
       "      <td>0.863101</td>\n",
       "      <td>0.567120</td>\n",
       "      <td>0.534797</td>\n",
       "      <td>0.558805</td>\n",
       "      <td>0.536831</td>\n",
       "      <td>0.920340</td>\n",
       "      <td>0.881992</td>\n",
       "      <td>0.920400</td>\n",
       "      <td>0.880770</td>\n",
       "    </tr>\n",
       "    <tr>\n",
       "      <th>max</th>\n",
       "      <td>72.000000</td>\n",
       "      <td>9.822687</td>\n",
       "      <td>11.045752</td>\n",
       "      <td>9.157659</td>\n",
       "      <td>10.722630</td>\n",
       "      <td>0.986145</td>\n",
       "      <td>0.974219</td>\n",
       "      <td>0.984145</td>\n",
       "      <td>0.974791</td>\n",
       "      <td>0.816482</td>\n",
       "      <td>0.809427</td>\n",
       "      <td>0.812717</td>\n",
       "      <td>0.809060</td>\n",
       "      <td>0.986962</td>\n",
       "      <td>0.978246</td>\n",
       "      <td>0.988925</td>\n",
       "      <td>0.981042</td>\n",
       "    </tr>\n",
       "  </tbody>\n",
       "</table>\n",
       "</div>"
      ],
      "text/plain": [
       "       Unnamed: 0           0           1           2           3           4  \\\n",
       "count  290.000000  290.000000  290.000000  290.000000  290.000000  290.000000   \n",
       "mean    30.055172    2.860222    4.144736    2.996796    4.160764    0.864185   \n",
       "std     18.916235    1.517617    1.912257    1.488843    1.936025    0.069528   \n",
       "min      0.000000    0.345971    0.545529    0.304810    0.539146    0.537761   \n",
       "25%     14.000000    1.780423    2.907874    1.942383    2.874679    0.820906   \n",
       "50%     28.500000    2.745818    4.079493    2.937561    4.063968    0.860340   \n",
       "75%     45.000000    3.599219    5.232049    3.867119    5.237528    0.906182   \n",
       "max     72.000000    9.822687   11.045752    9.157659   10.722630    0.986145   \n",
       "\n",
       "                5           6           7           8           9          10  \\\n",
       "count  290.000000  290.000000  290.000000  290.000000  290.000000  290.000000   \n",
       "mean     0.812605    0.855199    0.812221    0.544492    0.519304    0.539269   \n",
       "std      0.081898    0.066046    0.081877    0.089408    0.097038    0.090155   \n",
       "min      0.467737    0.670416    0.461763    0.420645    0.387545    0.400065   \n",
       "25%      0.757347    0.812508    0.757834    0.489837    0.455658    0.482308   \n",
       "50%      0.797348    0.843777    0.795867    0.513337    0.482950    0.506922   \n",
       "75%      0.859599    0.901021    0.863101    0.567120    0.534797    0.558805   \n",
       "max      0.974219    0.984145    0.974791    0.816482    0.809427    0.812717   \n",
       "\n",
       "               11          12          13          14          15  \n",
       "count  290.000000  290.000000  290.000000  290.000000  290.000000  \n",
       "mean     0.519143    0.864204    0.803904    0.858076    0.803259  \n",
       "std      0.097035    0.076587    0.101239    0.078039    0.101601  \n",
       "min      0.384455    0.645898    0.507461    0.621925    0.487453  \n",
       "25%      0.454216    0.810360    0.730175    0.802923    0.730423  \n",
       "50%      0.483014    0.862505    0.801383    0.858441    0.794535  \n",
       "75%      0.536831    0.920340    0.881992    0.920400    0.880770  \n",
       "max      0.809060    0.986962    0.978246    0.988925    0.981042  "
      ]
     },
     "execution_count": 53,
     "metadata": {},
     "output_type": "execute_result"
    }
   ],
   "source": [
    "df.describe()"
   ]
  },
  {
   "cell_type": "code",
   "execution_count": 54,
   "metadata": {},
   "outputs": [],
   "source": [
    "df = df.rename(columns={'16': 'Class'})\n",
    "X = df.drop('Class',axis=1)\n",
    "y = df['Class']"
   ]
  },
  {
   "cell_type": "code",
   "execution_count": 55,
   "metadata": {},
   "outputs": [
    {
     "name": "stdout",
     "output_type": "stream",
     "text": [
      "<class 'pandas.core.frame.DataFrame'>\n",
      "Int64Index: 290 entries, 67 to 19\n",
      "Data columns (total 18 columns):\n",
      " #   Column      Non-Null Count  Dtype  \n",
      "---  ------      --------------  -----  \n",
      " 0   Unnamed: 0  290 non-null    int64  \n",
      " 1   0           290 non-null    float64\n",
      " 2   1           290 non-null    float64\n",
      " 3   2           290 non-null    float64\n",
      " 4   3           290 non-null    float64\n",
      " 5   4           290 non-null    float64\n",
      " 6   5           290 non-null    float64\n",
      " 7   6           290 non-null    float64\n",
      " 8   7           290 non-null    float64\n",
      " 9   8           290 non-null    float64\n",
      " 10  9           290 non-null    float64\n",
      " 11  10          290 non-null    float64\n",
      " 12  11          290 non-null    float64\n",
      " 13  12          290 non-null    float64\n",
      " 14  13          290 non-null    float64\n",
      " 15  14          290 non-null    float64\n",
      " 16  15          290 non-null    float64\n",
      " 17  Class       290 non-null    object \n",
      "dtypes: float64(16), int64(1), object(1)\n",
      "memory usage: 43.0+ KB\n"
     ]
    }
   ],
   "source": [
    "df.info()"
   ]
  },
  {
   "cell_type": "code",
   "execution_count": 56,
   "metadata": {},
   "outputs": [
    {
     "data": {
      "text/plain": [
       "Text(0.5, 1.0, 'Correlation between different fearures')"
      ]
     },
     "execution_count": 56,
     "metadata": {},
     "output_type": "execute_result"
    },
    {
     "data": {
      "image/png": "[encoded data removed]",
      "text/plain": [
       "<Figure size 720x720 with 2 Axes>"
      ]
     },
     "metadata": {
      "needs_background": "light"
     },
     "output_type": "display_data"
    }
   ],
   "source": [
    "correlation = df.corr()\n",
    "plt.figure(figsize=(10,10))\n",
    "sns.heatmap(correlation, vmax=1, square=True,annot=True,cmap='viridis')\n",
    "\n",
    "plt.title('Correlation between different fearures')"
   ]
  },
  {
   "cell_type": "code",
   "execution_count": 57,
   "metadata": {},
   "outputs": [
    {
     "data": {
      "text/html": [
       "<div>\n",
       "<style scoped>\n",
       "    .dataframe tbody tr th:only-of-type {\n",
       "        vertical-align: middle;\n",
       "    }\n",
       "\n",
       "    .dataframe tbody tr th {\n",
       "        vertical-align: top;\n",
       "    }\n",
       "\n",
       "    .dataframe thead th {\n",
       "        text-align: right;\n",
       "    }\n",
       "</style>\n",
       "<table border=\"1\" class=\"dataframe\">\n",
       "  <thead>\n",
       "    <tr style=\"text-align: right;\">\n",
       "      <th></th>\n",
       "      <th>Unnamed: 0</th>\n",
       "      <th>0</th>\n",
       "      <th>1</th>\n",
       "      <th>2</th>\n",
       "      <th>3</th>\n",
       "      <th>4</th>\n",
       "      <th>5</th>\n",
       "      <th>6</th>\n",
       "      <th>7</th>\n",
       "      <th>8</th>\n",
       "      <th>9</th>\n",
       "      <th>10</th>\n",
       "      <th>11</th>\n",
       "      <th>12</th>\n",
       "      <th>13</th>\n",
       "      <th>14</th>\n",
       "      <th>15</th>\n",
       "    </tr>\n",
       "  </thead>\n",
       "  <tbody>\n",
       "    <tr>\n",
       "      <th>67</th>\n",
       "      <td>3</td>\n",
       "      <td>2.156127</td>\n",
       "      <td>3.455794</td>\n",
       "      <td>2.371661</td>\n",
       "      <td>3.623699</td>\n",
       "      <td>0.898994</td>\n",
       "      <td>0.837025</td>\n",
       "      <td>0.884491</td>\n",
       "      <td>0.832015</td>\n",
       "      <td>0.551475</td>\n",
       "      <td>0.516888</td>\n",
       "      <td>0.543387</td>\n",
       "      <td>0.514410</td>\n",
       "      <td>0.897164</td>\n",
       "      <td>0.834941</td>\n",
       "      <td>0.886925</td>\n",
       "      <td>0.826907</td>\n",
       "    </tr>\n",
       "    <tr>\n",
       "      <th>162</th>\n",
       "      <td>10</td>\n",
       "      <td>4.365931</td>\n",
       "      <td>6.370965</td>\n",
       "      <td>4.911275</td>\n",
       "      <td>6.028205</td>\n",
       "      <td>0.764815</td>\n",
       "      <td>0.692361</td>\n",
       "      <td>0.746193</td>\n",
       "      <td>0.703845</td>\n",
       "      <td>0.451335</td>\n",
       "      <td>0.418964</td>\n",
       "      <td>0.442486</td>\n",
       "      <td>0.423954</td>\n",
       "      <td>0.777343</td>\n",
       "      <td>0.675004</td>\n",
       "      <td>0.749468</td>\n",
       "      <td>0.692493</td>\n",
       "    </tr>\n",
       "    <tr>\n",
       "      <th>211</th>\n",
       "      <td>59</td>\n",
       "      <td>2.874923</td>\n",
       "      <td>3.655087</td>\n",
       "      <td>2.354948</td>\n",
       "      <td>3.425636</td>\n",
       "      <td>0.810160</td>\n",
       "      <td>0.776484</td>\n",
       "      <td>0.840345</td>\n",
       "      <td>0.782937</td>\n",
       "      <td>0.491415</td>\n",
       "      <td>0.474770</td>\n",
       "      <td>0.507638</td>\n",
       "      <td>0.477296</td>\n",
       "      <td>0.772577</td>\n",
       "      <td>0.711078</td>\n",
       "      <td>0.813825</td>\n",
       "      <td>0.729211</td>\n",
       "    </tr>\n",
       "    <tr>\n",
       "      <th>264</th>\n",
       "      <td>39</td>\n",
       "      <td>2.563588</td>\n",
       "      <td>3.928520</td>\n",
       "      <td>3.288664</td>\n",
       "      <td>3.930996</td>\n",
       "      <td>0.877886</td>\n",
       "      <td>0.821797</td>\n",
       "      <td>0.843872</td>\n",
       "      <td>0.818649</td>\n",
       "      <td>0.550717</td>\n",
       "      <td>0.520026</td>\n",
       "      <td>0.531096</td>\n",
       "      <td>0.518104</td>\n",
       "      <td>0.862733</td>\n",
       "      <td>0.789583</td>\n",
       "      <td>0.824200</td>\n",
       "      <td>0.789453</td>\n",
       "    </tr>\n",
       "    <tr>\n",
       "      <th>18</th>\n",
       "      <td>18</td>\n",
       "      <td>0.483012</td>\n",
       "      <td>0.841461</td>\n",
       "      <td>0.600429</td>\n",
       "      <td>0.874064</td>\n",
       "      <td>0.985099</td>\n",
       "      <td>0.973304</td>\n",
       "      <td>0.979247</td>\n",
       "      <td>0.972464</td>\n",
       "      <td>0.627264</td>\n",
       "      <td>0.619364</td>\n",
       "      <td>0.623267</td>\n",
       "      <td>0.618596</td>\n",
       "      <td>0.979188</td>\n",
       "      <td>0.963845</td>\n",
       "      <td>0.974136</td>\n",
       "      <td>0.962445</td>\n",
       "    </tr>\n",
       "  </tbody>\n",
       "</table>\n",
       "</div>"
      ],
      "text/plain": [
       "     Unnamed: 0         0         1         2         3         4         5  \\\n",
       "67            3  2.156127  3.455794  2.371661  3.623699  0.898994  0.837025   \n",
       "162          10  4.365931  6.370965  4.911275  6.028205  0.764815  0.692361   \n",
       "211          59  2.874923  3.655087  2.354948  3.425636  0.810160  0.776484   \n",
       "264          39  2.563588  3.928520  3.288664  3.930996  0.877886  0.821797   \n",
       "18           18  0.483012  0.841461  0.600429  0.874064  0.985099  0.973304   \n",
       "\n",
       "            6         7         8         9        10        11        12  \\\n",
       "67   0.884491  0.832015  0.551475  0.516888  0.543387  0.514410  0.897164   \n",
       "162  0.746193  0.703845  0.451335  0.418964  0.442486  0.423954  0.777343   \n",
       "211  0.840345  0.782937  0.491415  0.474770  0.507638  0.477296  0.772577   \n",
       "264  0.843872  0.818649  0.550717  0.520026  0.531096  0.518104  0.862733   \n",
       "18   0.979247  0.972464  0.627264  0.619364  0.623267  0.618596  0.979188   \n",
       "\n",
       "           13        14        15  \n",
       "67   0.834941  0.886925  0.826907  \n",
       "162  0.675004  0.749468  0.692493  \n",
       "211  0.711078  0.813825  0.729211  \n",
       "264  0.789583  0.824200  0.789453  \n",
       "18   0.963845  0.974136  0.962445  "
      ]
     },
     "execution_count": 57,
     "metadata": {},
     "output_type": "execute_result"
    }
   ],
   "source": [
    "X.head()"
   ]
  },
  {
   "cell_type": "code",
   "execution_count": 58,
   "metadata": {},
   "outputs": [
    {
     "data": {
      "text/plain": [
       "67     Papaya Black Spot\n",
       "162      Papaya Ringspot\n",
       "211      Papaya Ringspot\n",
       "264       Powdery Mildew\n",
       "18     Fresh Papaya Leaf\n",
       "Name: Class, dtype: object"
      ]
     },
     "execution_count": 58,
     "metadata": {},
     "output_type": "execute_result"
    }
   ],
   "source": [
    "y.head()"
   ]
  },
  {
   "cell_type": "markdown",
   "metadata": {},
   "source": [
    "# Feature Scaling"
   ]
  },
  {
   "cell_type": "code",
   "execution_count": 59,
   "metadata": {},
   "outputs": [],
   "source": [
    "from sklearn.preprocessing import StandardScaler,RobustScaler,MinMaxScaler,MaxAbsScaler\n",
    "  \n",
    "scaler = MaxAbsScaler()\n",
    "\n",
    "X = scaler.fit_transform(X)\n",
    "\n",
    "X = pd.DataFrame(X)"
   ]
  },
  {
   "cell_type": "code",
   "execution_count": 60,
   "metadata": {},
   "outputs": [
    {
     "data": {
      "text/html": [
       "<div>\n",
       "<style scoped>\n",
       "    .dataframe tbody tr th:only-of-type {\n",
       "        vertical-align: middle;\n",
       "    }\n",
       "\n",
       "    .dataframe tbody tr th {\n",
       "        vertical-align: top;\n",
       "    }\n",
       "\n",
       "    .dataframe thead th {\n",
       "        text-align: right;\n",
       "    }\n",
       "</style>\n",
       "<table border=\"1\" class=\"dataframe\">\n",
       "  <thead>\n",
       "    <tr style=\"text-align: right;\">\n",
       "      <th></th>\n",
       "      <th>0</th>\n",
       "      <th>1</th>\n",
       "      <th>2</th>\n",
       "      <th>3</th>\n",
       "      <th>4</th>\n",
       "      <th>5</th>\n",
       "      <th>6</th>\n",
       "      <th>7</th>\n",
       "      <th>8</th>\n",
       "      <th>9</th>\n",
       "      <th>10</th>\n",
       "      <th>11</th>\n",
       "      <th>12</th>\n",
       "      <th>13</th>\n",
       "      <th>14</th>\n",
       "      <th>15</th>\n",
       "      <th>16</th>\n",
       "    </tr>\n",
       "  </thead>\n",
       "  <tbody>\n",
       "    <tr>\n",
       "      <th>0</th>\n",
       "      <td>0.041667</td>\n",
       "      <td>0.219505</td>\n",
       "      <td>0.312862</td>\n",
       "      <td>0.258981</td>\n",
       "      <td>0.337949</td>\n",
       "      <td>0.911625</td>\n",
       "      <td>0.859176</td>\n",
       "      <td>0.898740</td>\n",
       "      <td>0.853532</td>\n",
       "      <td>0.675427</td>\n",
       "      <td>0.638585</td>\n",
       "      <td>0.668606</td>\n",
       "      <td>0.635813</td>\n",
       "      <td>0.909015</td>\n",
       "      <td>0.853509</td>\n",
       "      <td>0.896857</td>\n",
       "      <td>0.842887</td>\n",
       "    </tr>\n",
       "    <tr>\n",
       "      <th>1</th>\n",
       "      <td>0.138889</td>\n",
       "      <td>0.444474</td>\n",
       "      <td>0.576780</td>\n",
       "      <td>0.536302</td>\n",
       "      <td>0.562195</td>\n",
       "      <td>0.775560</td>\n",
       "      <td>0.710683</td>\n",
       "      <td>0.758215</td>\n",
       "      <td>0.722047</td>\n",
       "      <td>0.552780</td>\n",
       "      <td>0.517606</td>\n",
       "      <td>0.544453</td>\n",
       "      <td>0.524009</td>\n",
       "      <td>0.787612</td>\n",
       "      <td>0.690015</td>\n",
       "      <td>0.757861</td>\n",
       "      <td>0.705875</td>\n",
       "    </tr>\n",
       "    <tr>\n",
       "      <th>2</th>\n",
       "      <td>0.819444</td>\n",
       "      <td>0.292682</td>\n",
       "      <td>0.330904</td>\n",
       "      <td>0.257156</td>\n",
       "      <td>0.319477</td>\n",
       "      <td>0.821543</td>\n",
       "      <td>0.797032</td>\n",
       "      <td>0.853883</td>\n",
       "      <td>0.803184</td>\n",
       "      <td>0.601869</td>\n",
       "      <td>0.586551</td>\n",
       "      <td>0.624619</td>\n",
       "      <td>0.589939</td>\n",
       "      <td>0.782783</td>\n",
       "      <td>0.726891</td>\n",
       "      <td>0.822938</td>\n",
       "      <td>0.743302</td>\n",
       "    </tr>\n",
       "    <tr>\n",
       "      <th>3</th>\n",
       "      <td>0.541667</td>\n",
       "      <td>0.260986</td>\n",
       "      <td>0.355659</td>\n",
       "      <td>0.359116</td>\n",
       "      <td>0.366607</td>\n",
       "      <td>0.890220</td>\n",
       "      <td>0.843544</td>\n",
       "      <td>0.857467</td>\n",
       "      <td>0.839820</td>\n",
       "      <td>0.674499</td>\n",
       "      <td>0.642461</td>\n",
       "      <td>0.653483</td>\n",
       "      <td>0.640378</td>\n",
       "      <td>0.874130</td>\n",
       "      <td>0.807142</td>\n",
       "      <td>0.833430</td>\n",
       "      <td>0.804709</td>\n",
       "    </tr>\n",
       "    <tr>\n",
       "      <th>4</th>\n",
       "      <td>0.250000</td>\n",
       "      <td>0.049173</td>\n",
       "      <td>0.076180</td>\n",
       "      <td>0.065566</td>\n",
       "      <td>0.081516</td>\n",
       "      <td>0.998940</td>\n",
       "      <td>0.999060</td>\n",
       "      <td>0.995023</td>\n",
       "      <td>0.997613</td>\n",
       "      <td>0.768251</td>\n",
       "      <td>0.765189</td>\n",
       "      <td>0.766893</td>\n",
       "      <td>0.764586</td>\n",
       "      <td>0.992123</td>\n",
       "      <td>0.985279</td>\n",
       "      <td>0.985045</td>\n",
       "      <td>0.981043</td>\n",
       "    </tr>\n",
       "  </tbody>\n",
       "</table>\n",
       "</div>"
      ],
      "text/plain": [
       "         0         1         2         3         4         5         6   \\\n",
       "0  0.041667  0.219505  0.312862  0.258981  0.337949  0.911625  0.859176   \n",
       "1  0.138889  0.444474  0.576780  0.536302  0.562195  0.775560  0.710683   \n",
       "2  0.819444  0.292682  0.330904  0.257156  0.319477  0.821543  0.797032   \n",
       "3  0.541667  0.260986  0.355659  0.359116  0.366607  0.890220  0.843544   \n",
       "4  0.250000  0.049173  0.076180  0.065566  0.081516  0.998940  0.999060   \n",
       "\n",
       "         7         8         9         10        11        12        13  \\\n",
       "0  0.898740  0.853532  0.675427  0.638585  0.668606  0.635813  0.909015   \n",
       "1  0.758215  0.722047  0.552780  0.517606  0.544453  0.524009  0.787612   \n",
       "2  0.853883  0.803184  0.601869  0.586551  0.624619  0.589939  0.782783   \n",
       "3  0.857467  0.839820  0.674499  0.642461  0.653483  0.640378  0.874130   \n",
       "4  0.995023  0.997613  0.768251  0.765189  0.766893  0.764586  0.992123   \n",
       "\n",
       "         14        15        16  \n",
       "0  0.853509  0.896857  0.842887  \n",
       "1  0.690015  0.757861  0.705875  \n",
       "2  0.726891  0.822938  0.743302  \n",
       "3  0.807142  0.833430  0.804709  \n",
       "4  0.985279  0.985045  0.981043  "
      ]
     },
     "execution_count": 60,
     "metadata": {},
     "output_type": "execute_result"
    }
   ],
   "source": [
    "X.head()"
   ]
  },
  {
   "cell_type": "code",
   "execution_count": 61,
   "metadata": {},
   "outputs": [
    {
     "data": {
      "text/plain": [
       "((217, 17), (73, 17))"
      ]
     },
     "execution_count": 61,
     "metadata": {},
     "output_type": "execute_result"
    }
   ],
   "source": [
    "from sklearn.model_selection import train_test_split\n",
    "  \n",
    "X_train, X_test, y_train, y_test = train_test_split(\n",
    "      X, y , test_size = 0.25, random_state=None)\n",
    "\n",
    "X_train.shape, X_test.shape\n"
   ]
  },
  {
   "cell_type": "code",
   "execution_count": 62,
   "metadata": {},
   "outputs": [
    {
     "data": {
      "text/html": [
       "<div>\n",
       "<style scoped>\n",
       "    .dataframe tbody tr th:only-of-type {\n",
       "        vertical-align: middle;\n",
       "    }\n",
       "\n",
       "    .dataframe tbody tr th {\n",
       "        vertical-align: top;\n",
       "    }\n",
       "\n",
       "    .dataframe thead th {\n",
       "        text-align: right;\n",
       "    }\n",
       "</style>\n",
       "<table border=\"1\" class=\"dataframe\">\n",
       "  <thead>\n",
       "    <tr style=\"text-align: right;\">\n",
       "      <th></th>\n",
       "      <th>0</th>\n",
       "      <th>1</th>\n",
       "      <th>2</th>\n",
       "      <th>3</th>\n",
       "      <th>4</th>\n",
       "      <th>5</th>\n",
       "      <th>6</th>\n",
       "      <th>7</th>\n",
       "      <th>8</th>\n",
       "      <th>9</th>\n",
       "      <th>10</th>\n",
       "      <th>11</th>\n",
       "      <th>12</th>\n",
       "      <th>13</th>\n",
       "      <th>14</th>\n",
       "      <th>15</th>\n",
       "      <th>16</th>\n",
       "    </tr>\n",
       "  </thead>\n",
       "  <tbody>\n",
       "    <tr>\n",
       "      <th>221</th>\n",
       "      <td>0.763889</td>\n",
       "      <td>0.129507</td>\n",
       "      <td>0.210286</td>\n",
       "      <td>0.203633</td>\n",
       "      <td>0.195764</td>\n",
       "      <td>0.892234</td>\n",
       "      <td>0.832619</td>\n",
       "      <td>0.854105</td>\n",
       "      <td>0.843844</td>\n",
       "      <td>0.628507</td>\n",
       "      <td>0.587212</td>\n",
       "      <td>0.604330</td>\n",
       "      <td>0.594614</td>\n",
       "      <td>0.889088</td>\n",
       "      <td>0.793439</td>\n",
       "      <td>0.829334</td>\n",
       "      <td>0.813162</td>\n",
       "    </tr>\n",
       "    <tr>\n",
       "      <th>110</th>\n",
       "      <td>0.791667</td>\n",
       "      <td>0.207470</td>\n",
       "      <td>0.317955</td>\n",
       "      <td>0.316001</td>\n",
       "      <td>0.298259</td>\n",
       "      <td>0.876993</td>\n",
       "      <td>0.818863</td>\n",
       "      <td>0.838778</td>\n",
       "      <td>0.830429</td>\n",
       "      <td>0.620325</td>\n",
       "      <td>0.581842</td>\n",
       "      <td>0.597160</td>\n",
       "      <td>0.589233</td>\n",
       "      <td>0.867510</td>\n",
       "      <td>0.768917</td>\n",
       "      <td>0.804581</td>\n",
       "      <td>0.789322</td>\n",
       "    </tr>\n",
       "    <tr>\n",
       "      <th>121</th>\n",
       "      <td>0.250000</td>\n",
       "      <td>0.434643</td>\n",
       "      <td>0.485836</td>\n",
       "      <td>0.492335</td>\n",
       "      <td>0.582519</td>\n",
       "      <td>0.833076</td>\n",
       "      <td>0.810109</td>\n",
       "      <td>0.828133</td>\n",
       "      <td>0.783629</td>\n",
       "      <td>0.607935</td>\n",
       "      <td>0.592924</td>\n",
       "      <td>0.606625</td>\n",
       "      <td>0.578193</td>\n",
       "      <td>0.810639</td>\n",
       "      <td>0.765401</td>\n",
       "      <td>0.797769</td>\n",
       "      <td>0.721246</td>\n",
       "    </tr>\n",
       "    <tr>\n",
       "      <th>222</th>\n",
       "      <td>0.777778</td>\n",
       "      <td>0.261153</td>\n",
       "      <td>0.357707</td>\n",
       "      <td>0.343257</td>\n",
       "      <td>0.339564</td>\n",
       "      <td>0.834742</td>\n",
       "      <td>0.778378</td>\n",
       "      <td>0.805238</td>\n",
       "      <td>0.787760</td>\n",
       "      <td>0.601838</td>\n",
       "      <td>0.568354</td>\n",
       "      <td>0.586019</td>\n",
       "      <td>0.573010</td>\n",
       "      <td>0.822957</td>\n",
       "      <td>0.726696</td>\n",
       "      <td>0.778497</td>\n",
       "      <td>0.747764</td>\n",
       "    </tr>\n",
       "    <tr>\n",
       "      <th>182</th>\n",
       "      <td>0.486111</td>\n",
       "      <td>0.426021</td>\n",
       "      <td>0.456958</td>\n",
       "      <td>0.371757</td>\n",
       "      <td>0.485360</td>\n",
       "      <td>0.747637</td>\n",
       "      <td>0.716939</td>\n",
       "      <td>0.785404</td>\n",
       "      <td>0.708355</td>\n",
       "      <td>0.541946</td>\n",
       "      <td>0.525484</td>\n",
       "      <td>0.564998</td>\n",
       "      <td>0.521530</td>\n",
       "      <td>0.706055</td>\n",
       "      <td>0.648518</td>\n",
       "      <td>0.761963</td>\n",
       "      <td>0.635083</td>\n",
       "    </tr>\n",
       "  </tbody>\n",
       "</table>\n",
       "</div>"
      ],
      "text/plain": [
       "           0         1         2         3         4         5         6   \\\n",
       "221  0.763889  0.129507  0.210286  0.203633  0.195764  0.892234  0.832619   \n",
       "110  0.791667  0.207470  0.317955  0.316001  0.298259  0.876993  0.818863   \n",
       "121  0.250000  0.434643  0.485836  0.492335  0.582519  0.833076  0.810109   \n",
       "222  0.777778  0.261153  0.357707  0.343257  0.339564  0.834742  0.778378   \n",
       "182  0.486111  0.426021  0.456958  0.371757  0.485360  0.747637  0.716939   \n",
       "\n",
       "           7         8         9         10        11        12        13  \\\n",
       "221  0.854105  0.843844  0.628507  0.587212  0.604330  0.594614  0.889088   \n",
       "110  0.838778  0.830429  0.620325  0.581842  0.597160  0.589233  0.867510   \n",
       "121  0.828133  0.783629  0.607935  0.592924  0.606625  0.578193  0.810639   \n",
       "222  0.805238  0.787760  0.601838  0.568354  0.586019  0.573010  0.822957   \n",
       "182  0.785404  0.708355  0.541946  0.525484  0.564998  0.521530  0.706055   \n",
       "\n",
       "           14        15        16  \n",
       "221  0.793439  0.829334  0.813162  \n",
       "110  0.768917  0.804581  0.789322  \n",
       "121  0.765401  0.797769  0.721246  \n",
       "222  0.726696  0.778497  0.747764  \n",
       "182  0.648518  0.761963  0.635083  "
      ]
     },
     "execution_count": 62,
     "metadata": {},
     "output_type": "execute_result"
    }
   ],
   "source": [
    "X_train.head()"
   ]
  },
  {
   "cell_type": "markdown",
   "metadata": {},
   "source": [
    "# Model training"
   ]
  },
  {
   "cell_type": "markdown",
   "metadata": {},
   "source": [
    "## KNN"
   ]
  },
  {
   "cell_type": "code",
   "execution_count": 63,
   "metadata": {},
   "outputs": [
    {
     "data": {
      "image/png": "[encoded data removed]",
      "text/plain": [
       "<Figure size 432x288 with 2 Axes>"
      ]
     },
     "metadata": {
      "needs_background": "light"
     },
     "output_type": "display_data"
    }
   ],
   "source": [
    "# Remember that we are trying to come up\n",
    "# with a model to predict whether\n",
    "# someone will TARGET CLASS or not.\n",
    "# We'll start with k = 1.\n",
    "\n",
    "from sklearn.neighbors import KNeighborsClassifier\n",
    "  \n",
    "knn = KNeighborsClassifier(n_neighbors = 1)\n",
    "  \n",
    "knn.fit(X_train, y_train)\n",
    "pred = knn.predict(X_test)\n",
    "\n",
    "plot_confusion_matrix(knn, X_test, y_test)\n",
    "plt.xticks(rotation = 90)\n",
    "plt.show()\n",
    "\n",
    "# Predictions and Evaluations\n",
    "# Let's evaluate our KNN model ! \n"
   ]
  },
  {
   "cell_type": "code",
   "execution_count": 64,
   "metadata": {},
   "outputs": [
    {
     "name": "stdout",
     "output_type": "stream",
     "text": [
      "                   precision    recall  f1-score   support\n",
      "\n",
      "Fresh Papaya Leaf       0.92      0.75      0.83        16\n",
      "Papaya Black Spot       0.55      0.38      0.44        16\n",
      " Papaya Leaf Curl       0.20      0.20      0.20        10\n",
      "  Papaya Ringspot       0.50      0.50      0.50        18\n",
      "   Powdery Mildew       0.33      0.54      0.41        13\n",
      "\n",
      "         accuracy                           0.49        73\n",
      "        macro avg       0.50      0.47      0.48        73\n",
      "     weighted avg       0.53      0.49      0.50        73\n",
      "\n"
     ]
    }
   ],
   "source": [
    "from sklearn.metrics import classification_report  \n",
    "print(classification_report(y_test, pred))\n"
   ]
  },
  {
   "cell_type": "code",
   "execution_count": 65,
   "metadata": {},
   "outputs": [],
   "source": [
    "from sklearn import metrics\n",
    "error_rate = []\n",
    "scores = []\n",
    "\n",
    "k=50\n",
    "max_accuracy=0\n",
    "best_k=1\n",
    "\n",
    "for i in range(1, k):\n",
    "      \n",
    "    knn = KNeighborsClassifier(n_neighbors = i)\n",
    "    knn.fit(X_train, y_train)\n",
    "    pred_i = knn.predict(X_test)\n",
    "    error_rate.append(np.mean(pred_i != y_test))\n",
    "    y_predict = knn.predict(X_test)\n",
    "    curr_accuracy=metrics.accuracy_score(y_test,y_predict)\n",
    "    if curr_accuracy>max_accuracy:\n",
    "        max_accuracy=curr_accuracy\n",
    "        best_k=i\n",
    "    scores.append(curr_accuracy)\n",
    "  \n"
   ]
  },
  {
   "cell_type": "code",
   "execution_count": 66,
   "metadata": {},
   "outputs": [
    {
     "data": {
      "text/plain": [
       "Text(0, 0.5, 'Error Rate')"
      ]
     },
     "execution_count": 66,
     "metadata": {},
     "output_type": "execute_result"
    },
    {
     "data": {
      "image/png": "[encoded data removed]",
      "text/plain": [
       "<Figure size 720x432 with 1 Axes>"
      ]
     },
     "metadata": {
      "needs_background": "light"
     },
     "output_type": "display_data"
    }
   ],
   "source": [
    "plt.figure(figsize =(10, 6))\n",
    "plt.plot(range(1, k), error_rate, color ='blue',\n",
    "                linestyle ='dashed', marker ='o',\n",
    "         markerfacecolor ='red', markersize = 10)\n",
    "  \n",
    "plt.title('Error Rate vs. K Value')\n",
    "plt.xlabel('K')\n",
    "plt.ylabel('Error Rate')"
   ]
  },
  {
   "cell_type": "code",
   "execution_count": 67,
   "metadata": {},
   "outputs": [
    {
     "data": {
      "text/plain": [
       "Text(0, 0.5, 'Accuracy')"
      ]
     },
     "execution_count": 67,
     "metadata": {},
     "output_type": "execute_result"
    },
    {
     "data": {
      "image/png": "[encoded data removed]",
      "text/plain": [
       "<Figure size 432x288 with 1 Axes>"
      ]
     },
     "metadata": {
      "needs_background": "light"
     },
     "output_type": "display_data"
    }
   ],
   "source": [
    "plt.plot(np.arange(1,k),scores)\n",
    "plt.title('Varition of accuracy with K value')\n",
    "plt.xlabel('K values')\n",
    "plt.ylabel('Accuracy')"
   ]
  },
  {
   "cell_type": "code",
   "execution_count": 68,
   "metadata": {},
   "outputs": [
    {
     "name": "stdout",
     "output_type": "stream",
     "text": [
      "                   precision    recall  f1-score   support\n",
      "\n",
      "Fresh Papaya Leaf       0.74      0.88      0.80        16\n",
      "Papaya Black Spot       0.45      0.62      0.53        16\n",
      " Papaya Leaf Curl       0.50      0.40      0.44        10\n",
      "  Papaya Ringspot       0.44      0.39      0.41        18\n",
      "   Powdery Mildew       0.25      0.15      0.19        13\n",
      "\n",
      "         accuracy                           0.51        73\n",
      "        macro avg       0.48      0.49      0.47        73\n",
      "     weighted avg       0.48      0.51      0.49        73\n",
      "\n",
      "Accuracy for k = 2 is 50.68493150684932%\n"
     ]
    }
   ],
   "source": [
    "knn = KNeighborsClassifier(n_neighbors = best_k)\n",
    "  \n",
    "knn.fit(X_train, y_train)\n",
    "pred = knn.predict(X_test)\n",
    "from sklearn.metrics import classification_report  \n",
    "print(classification_report(y_test, pred))\n",
    "\n",
    "print(\"Accuracy for k = {} is {}%\".format(best_k,max_accuracy*100))"
   ]
  },
  {
   "cell_type": "markdown",
   "metadata": {},
   "source": [
    "## SVM"
   ]
  },
  {
   "cell_type": "code",
   "execution_count": 69,
   "metadata": {},
   "outputs": [
    {
     "name": "stdout",
     "output_type": "stream",
     "text": [
      "best hyperlink parameters\n",
      "{'C': 4, 'kernel': 'poly'}\n",
      "Accuracy Score:\n",
      "                   precision    recall  f1-score   support\n",
      "\n",
      "Fresh Papaya Leaf       1.00      0.81      0.90        16\n",
      "Papaya Black Spot       0.84      1.00      0.91        16\n",
      " Papaya Leaf Curl       0.86      0.60      0.71        10\n",
      "  Papaya Ringspot       0.59      0.56      0.57        18\n",
      "   Powdery Mildew       0.47      0.62      0.53        13\n",
      "\n",
      "         accuracy                           0.73        73\n",
      "        macro avg       0.75      0.72      0.72        73\n",
      "     weighted avg       0.75      0.73      0.73        73\n",
      "\n"
     ]
    }
   ],
   "source": [
    "from sklearn.svm import SVC\n",
    "svm_model= SVC()\n",
    "tuned_parameters = {\n",
    " 'C': (np.arange(1,30)) , 'kernel': ['linear'],\n",
    " 'C': (np.arange(1,30)) ,  'kernel': ['rbf'],\n",
    " 'C':(np.arange(1,30)) , 'kernel':['poly']\n",
    "                   }\n",
    "from sklearn.model_selection import GridSearchCV\n",
    "\n",
    "model_svm = GridSearchCV(svm_model, tuned_parameters,cv=10,scoring='accuracy')\n",
    "\n",
    "model_svm.fit(X_train,y_train)\n",
    "print('best hyperlink parameters')\n",
    "print(model_svm.best_params_)\n",
    "y_pred= model_svm.predict(X_test)\n",
    "print('Accuracy Score:')\n",
    "\n",
    "print(classification_report(y_test, y_pred))"
   ]
  },
  {
   "cell_type": "code",
   "execution_count": 70,
   "metadata": {},
   "outputs": [
    {
     "name": "stdout",
     "output_type": "stream",
     "text": [
      "Model accuracy score: 72.6027%\n"
     ]
    }
   ],
   "source": [
    "print('Model accuracy score: {0:0.4f}%'. format(accuracy_score(y_pred,y_test)*100))"
   ]
  },
  {
   "cell_type": "markdown",
   "metadata": {},
   "source": [
    "## Naive Bayes"
   ]
  },
  {
   "cell_type": "code",
   "execution_count": 71,
   "metadata": {},
   "outputs": [
    {
     "name": "stdout",
     "output_type": "stream",
     "text": [
      "                   precision    recall  f1-score   support\n",
      "\n",
      "Fresh Papaya Leaf       0.80      0.75      0.77        16\n",
      "Papaya Black Spot       0.60      0.19      0.29        16\n",
      " Papaya Leaf Curl       0.67      0.20      0.31        10\n",
      "  Papaya Ringspot       0.48      0.56      0.51        18\n",
      "   Powdery Mildew       0.31      0.69      0.43        13\n",
      "\n",
      "         accuracy                           0.49        73\n",
      "        macro avg       0.57      0.48      0.46        73\n",
      "     weighted avg       0.57      0.49      0.48        73\n",
      "\n"
     ]
    }
   ],
   "source": [
    "from sklearn.naive_bayes import GaussianNB,CategoricalNB\n",
    "\n",
    "# instantiate the model\n",
    "gnb = GaussianNB()\n",
    "\n",
    "# fit the model\n",
    "gnb.fit(X_train, y_train)\n",
    "y_pred = gnb.predict(X_test)\n",
    "print(classification_report(y_test, y_pred))\n",
    "\n"
   ]
  },
  {
   "cell_type": "code",
   "execution_count": 72,
   "metadata": {},
   "outputs": [
    {
     "name": "stdout",
     "output_type": "stream",
     "text": [
      "Model accuracy score: 49.3151%\n"
     ]
    }
   ],
   "source": [
    "print('Model accuracy score: {0:0.4f}%'. format(accuracy_score(y_test, y_pred)*100))"
   ]
  },
  {
   "cell_type": "markdown",
   "metadata": {},
   "source": [
    "## Logistic regression"
   ]
  },
  {
   "cell_type": "code",
   "execution_count": 73,
   "metadata": {},
   "outputs": [
    {
     "name": "stdout",
     "output_type": "stream",
     "text": [
      "                   precision    recall  f1-score   support\n",
      "\n",
      "Fresh Papaya Leaf       0.80      0.75      0.77        16\n",
      "Papaya Black Spot       0.60      0.19      0.29        16\n",
      " Papaya Leaf Curl       0.67      0.20      0.31        10\n",
      "  Papaya Ringspot       0.48      0.56      0.51        18\n",
      "   Powdery Mildew       0.31      0.69      0.43        13\n",
      "\n",
      "         accuracy                           0.49        73\n",
      "        macro avg       0.57      0.48      0.46        73\n",
      "     weighted avg       0.57      0.49      0.48        73\n",
      "\n"
     ]
    }
   ],
   "source": [
    "from sklearn.linear_model import LogisticRegression\n",
    "\n",
    "lr = LogisticRegression(solver='lbfgs', max_iter=1000)\n",
    "\n",
    "# fit the model\n",
    "lr.fit(X_train, y_train)\n",
    "y_pred = gnb.predict(X_test)\n",
    "\n",
    "print(classification_report(y_test, y_pred))\n"
   ]
  },
  {
   "cell_type": "code",
   "execution_count": 74,
   "metadata": {},
   "outputs": [
    {
     "name": "stdout",
     "output_type": "stream",
     "text": [
      "Model accuracy score: 49.3151%\n"
     ]
    }
   ],
   "source": [
    "print('Model accuracy score: {0:0.4f}%'. format(accuracy_score(y_test, y_pred)*100))"
   ]
  },
  {
   "cell_type": "markdown",
   "metadata": {},
   "source": [
    "# K-Fold Cross Validation"
   ]
  },
  {
   "cell_type": "code",
   "execution_count": 75,
   "metadata": {},
   "outputs": [
    {
     "name": "stdout",
     "output_type": "stream",
     "text": [
      "Fold:1, Train set: 217, Test set:73\n",
      "Fold:2, Train set: 217, Test set:73\n",
      "Fold:3, Train set: 218, Test set:72\n",
      "Fold:4, Train set: 218, Test set:72\n"
     ]
    }
   ],
   "source": [
    "from sklearn.model_selection import KFold, StratifiedKFold\n",
    "\n",
    "kf = StratifiedKFold(n_splits=4, shuffle=True, random_state=42)\n",
    "\n",
    "cnt = 1\n",
    "# split()  method generate indices to split data into training and test set.\n",
    "for train_index, test_index in kf.split(X, y):\n",
    "    print(f'Fold:{cnt}, Train set: {len(train_index)}, Test set:{len(test_index)}')\n",
    "    cnt += 1\n"
   ]
  },
  {
   "cell_type": "code",
   "execution_count": 76,
   "metadata": {},
   "outputs": [
    {
     "name": "stdout",
     "output_type": "stream",
     "text": [
      "Scores for each fold are:\n",
      "[0.57534247 0.46575342 0.5        0.61111111]\n",
      "Model accuracy score for Logistic Regression: 53.8052%\n"
     ]
    }
   ],
   "source": [
    "score = cross_val_score(lr, X, y, cv= kf, scoring=\"accuracy\")\n",
    "print('Scores for each fold are:')\n",
    "print(score)\n",
    "print('Model accuracy score for Logistic Regression: {0:0.4f}%'.format(score.mean()*100))"
   ]
  },
  {
   "cell_type": "code",
   "execution_count": 77,
   "metadata": {},
   "outputs": [
    {
     "name": "stdout",
     "output_type": "stream",
     "text": [
      "Scores for each fold are:\n",
      "[0.5890411  0.53424658 0.55555556 0.5       ]\n",
      "Model accuracy score for Gaussian Naive Bayes: 54.4711%\n"
     ]
    }
   ],
   "source": [
    "score = cross_val_score(gnb, X, y, cv= kf, scoring=\"accuracy\")\n",
    "print('Scores for each fold are:')\n",
    "print(score)\n",
    "print('Model accuracy score for Gaussian Naive Bayes: {0:0.4f}%'.format(score.mean()*100))"
   ]
  }
 ],
 "metadata": {
  "kernelspec": {
   "display_name": "Python 3",
   "language": "python",
   "name": "python3"
  },
  "language_info": {
   "codemirror_mode": {
    "name": "ipython",
    "version": 3
   },
   "file_extension": ".py",
   "mimetype": "text/x-python",
   "name": "python",
   "nbconvert_exporter": "python",
   "pygments_lexer": "ipython3",
   "version": "3.7.3"
  }
 },
 "nbformat": 4,
 "nbformat_minor": 4
}
