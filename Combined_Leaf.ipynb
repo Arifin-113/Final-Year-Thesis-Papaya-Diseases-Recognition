{
 "cells": [
  {
   "cell_type": "code",
   "execution_count": 3,
   "id": "automated-legislature",
   "metadata": {},
   "outputs": [],
   "source": [
    "import os\n",
    "import glob\n",
    "import pandas as pd\n",
    "\n",
    "df=pd.read_csv(r\"C:\\Users\\Arifin\\Downloads\\papaya\\Papaya Fresh Leaf.csv\") \n",
    "df=df.drop('Unnamed: 0',axis=1)\n",
    "df.columns\n",
    "\n",
    "df1=pd.read_csv(r\"C:\\Users\\Arifin\\Downloads\\papaya\\Leaf Papaya Ringspot.csv\")\n",
    "df1=df1.drop('Unnamed: 0',axis=1)\n",
    "df1\n",
    "\n",
    "df2=pd.read_csv(r\"C:\\Users\\Arifin\\Downloads\\papaya\\Leaf Papaya Black Spot.csv\")\n",
    "df2=df2.drop('Unnamed: 0',axis=1)\n",
    "df2\n",
    "\n",
    "df3=pd.read_csv(r\"C:\\Users\\Arifin\\Downloads\\papaya\\Leaf Papaya Powdery Mildew.csv\")\n",
    "df3=df3.drop('Unnamed: 0',axis=1)\n",
    "df3\n",
    "\n",
    "df4=pd.read_csv(r\"C:\\Users\\Arifin\\Downloads\\papaya\\Papaya Leaf Curl.csv\")\n",
    "df4=df4.drop('Unnamed: 0',axis=1)\n",
    "df4\n",
    "\n",
    "combined=pd.concat([df,df1,df2,df3,df4],axis=0)\n",
    "combined.to_csv(\"Combined_Leaf.csv\")"
   ]
  }
 ],
 "metadata": {
  "kernelspec": {
   "display_name": "Python 3",
   "language": "python",
   "name": "python3"
  },
  "language_info": {
   "codemirror_mode": {
    "name": "ipython",
    "version": 3
   },
   "file_extension": ".py",
   "mimetype": "text/x-python",
   "name": "python",
   "nbconvert_exporter": "python",
   "pygments_lexer": "ipython3",
   "version": "3.7.3"
  }
 },
 "nbformat": 4,
 "nbformat_minor": 5
}
